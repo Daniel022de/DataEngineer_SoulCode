{
  "nbformat": 4,
  "nbformat_minor": 0,
  "metadata": {
    "colab": {
      "provenance": [],
      "mount_file_id": "17HP0_kg-_TY6eRvyUbUWYcQA1N9qPkM_",
      "authorship_tag": "ABX9TyMz96C6Vne5N42wjhzAOmQN",
      "include_colab_link": true
    },
    "kernelspec": {
      "name": "python3",
      "display_name": "Python 3"
    },
    "language_info": {
      "name": "python"
    }
  },
  "cells": [
    {
      "cell_type": "markdown",
      "metadata": {
        "id": "view-in-github",
        "colab_type": "text"
      },
      "source": [
        "<a href=\"https://colab.research.google.com/github/Daniel022de/Bootcamp_SoulCode_EngenhariaDados/blob/main/Google%20Cloud/conex%C3%A3o_GoogleCloudStorage.ipynb\" target=\"_parent\"><img src=\"https://colab.research.google.com/assets/colab-badge.svg\" alt=\"Open In Colab\"/></a>"
      ]
    },
    {
      "cell_type": "markdown",
      "source": [
        "**SPARK - CONEXÃO DO COLAB AO GOOGLE CLOUD STORAGE**\n",
        "\n",
        "Esse Notebook é referente as instruções feitas pelo professor **Bismark William** no bootcamp **engenharia de dados** da **SoulCode** visando a consolidação dos conhecimentos sobre a conexão do colab a um bucket privado da **Google Cloud Storage** e a utilidade do Pyspark para criar um DataFrame originado desse processo. O principal propósito desse tipo de conexão é garantir a segurança na extração do Dataset.\n",
        "\n",
        "\n",
        "\n",
        "\n",
        "\n",
        "\n",
        "\n",
        "! **Você pode encontrar esse notebook no meu repositório** [GitHub](https://github.com/Daniel022de/Bootcamp_SoulCode_EngenhariaDados)\n",
        "\n",
        "! **Você pode entrar em contato comigo através do meu email** ddololiveira.pessoal@gmail.com **e** [Linkedin](https://www.linkedin.com/in/daniel-oliveira-503b0323b/).\n",
        "\n",
        "! **Toda dúvida,recomendações e feedbacks serão bem-vindas.**\n",
        "\n"
      ],
      "metadata": {
        "id": "jhw9TUIZRrZK"
      }
    },
    {
      "cell_type": "markdown",
      "source": [
        "# Instalação"
      ],
      "metadata": {
        "id": "PqTsbekQR1GB"
      }
    },
    {
      "cell_type": "code",
      "source": [
        "# Pyspark e Google Cloud Storage File System\n",
        "!pip install pyspark\n",
        "!pip intall gcsfs"
      ],
      "metadata": {
        "id": "9wgviHEZRt3F"
      },
      "execution_count": null,
      "outputs": []
    },
    {
      "cell_type": "markdown",
      "source": [
        "#Importação"
      ],
      "metadata": {
        "id": "2vHNu8mYSVvS"
      }
    },
    {
      "cell_type": "code",
      "source": [
        "from pyspark.sql import SparkSession\n",
        "from google.cloud import storage\n",
        "import os"
      ],
      "metadata": {
        "id": "H17gnSGBUXco"
      },
      "execution_count": 3,
      "outputs": []
    },
    {
      "cell_type": "markdown",
      "source": [
        "# Chave de segurança"
      ],
      "metadata": {
        "id": "wnIv52t_U01_"
      }
    },
    {
      "cell_type": "code",
      "source": [
        "ServiceAccount = '/content/drive/MyDrive/Colab Notebooks/bc26-aulas-7791d7a8a1e0.json'\n",
        "os.environ['GOOGLE_APPLICATION_CREDENTIALS'] = ServiceAccount"
      ],
      "metadata": {
        "id": "cblh9We6U3V7"
      },
      "execution_count": 4,
      "outputs": []
    },
    {
      "cell_type": "markdown",
      "source": [
        "#Setando a Bucket"
      ],
      "metadata": {
        "id": "01OshWVwWK9I"
      }
    },
    {
      "cell_type": "code",
      "source": [
        "storage.Client().get_bucket('ed7-datasets').blob('spotify.csv')\n",
        "path = 'gs://ed7-datasets/spotify.csv'"
      ],
      "metadata": {
        "id": "nzWhpTo3WKgw"
      },
      "execution_count": 6,
      "outputs": []
    },
    {
      "cell_type": "markdown",
      "source": [
        "# Configurando variável de ambiente (spark)"
      ],
      "metadata": {
        "id": "gwMztFEsW1g3"
      }
    },
    {
      "cell_type": "code",
      "source": [
        "spark =  (\n",
        "    SparkSession.builder\n",
        "                .master('local')\n",
        "                .appName('gcsfs2')\n",
        "                .config('spark.ui.port', '4050')\n",
        "                .config(\"spark.jars\", 'https://storage.googleapis.com/hadoop-lib/gcs/gcs-connector-hadoop2-latest.jar')\n",
        "                .getOrCreate()\n",
        ")"
      ],
      "metadata": {
        "id": "4q-TzM4eW3R7"
      },
      "execution_count": 7,
      "outputs": []
    },
    {
      "cell_type": "markdown",
      "source": [
        "# Lendo o path "
      ],
      "metadata": {
        "id": "d7_EMBWIWta1"
      }
    },
    {
      "cell_type": "code",
      "source": [
        "# Criando um DataFrame\n",
        "\n",
        "df = spark.read.format('csv').option('inferschema','true').option('header','true').load(path,sep=',')"
      ],
      "metadata": {
        "id": "ZpaCYfMaWxNQ"
      },
      "execution_count": 9,
      "outputs": []
    },
    {
      "cell_type": "code",
      "source": [
        "df.show()"
      ],
      "metadata": {
        "colab": {
          "base_uri": "https://localhost:8080/"
        },
        "id": "eoGtncx5WsnN",
        "outputId": "3fca4598-6ce1-4743-8fb2-95e90eb06eb6"
      },
      "execution_count": 10,
      "outputs": [
        {
          "output_type": "stream",
          "name": "stdout",
          "text": [
            "+---+--------------------+---------------+----------------+--------------------+--------------------+------------------+--------------------+----+-------------------+-------------------+----------+--------------------+-------+--------------+------------------+\n",
            "|_c0|           song_name|song_popularity|song_duration_ms|        acousticness|        danceability|            energy|    instrumentalness| key|           liveness|           loudness|audio_mode|         speechiness|  tempo|time_signature|     audio_valence|\n",
            "+---+--------------------+---------------+----------------+--------------------+--------------------+------------------+--------------------+----+-------------------+-------------------+----------+--------------------+-------+--------------+------------------+\n",
            "|  0|Boulevard of Brok...|             73|          262333|0.005520000000000...|          0.496mol/L|             0.682|            2.94e-05| 8.0|             0.0589|             -4.095|         1|              0.0294| 167.06|             4|             0.474|\n",
            "|  1|          In The End|             66|          216933|            0.0103kg|          0.542mol/L|             0.853|                 0.0| 3.0|              0.108|             -6.407|         0|              0.0498|105.256|             4|              0.37|\n",
            "|  2|   Seven Nation Army|             76|          231733|           0.00817kg|          0.737mol/L|             0.463|               0.447| 0.0|              0.255|-7.8279999999999985|         1|              0.0792|123.881|             4|             0.324|\n",
            "|  3|          By The Way|             74|          216933|            0.0264kg|          0.451mol/L|              0.97|             0.00355| 0.0|              0.102|             -4.938|         1|               0.107|122.444|             4|             0.198|\n",
            "|  4|   How You Remind Me|             56|          223826|          0.000954kg|          0.447mol/L|0.7659999999999999|                 0.0|10.0|              0.113|             -5.065|         1|              0.0313|172.011|             4|             0.574|\n",
            "|  5|    Bring Me To Life|             80|          235893|           0.00895kg|          0.316mol/L|             0.945|            1.85e-06| 4.0|              0.396|             -3.169|         0|               0.124|189.931|             4|              0.32|\n",
            "|  6|         Last Resort|             81|          199893|          0.000504kg|          0.581mol/L|             0.887|             0.00111| 4.0|              0.268|             -3.659|         0|              0.0624| 90.578|             4|0.7240000000000001|\n",
            "|  7|Are You Gonna Be ...|             76|          213800|           0.00148kg|          0.613mol/L|             0.953|            0.000582| 2.0|              0.152|             -3.435|         1|              0.0855|105.046|             4|             0.537|\n",
            "|  8|      Mr. Brightside|             80|          222586|           0.00108kg|           0.33mol/L|             0.936|                 0.0| 1.0|             0.0926|              -3.66|         1|              0.0917|148.112|             4|             0.234|\n",
            "|  9|         Sex on Fire|             81|          203346|           0.00172kg|          0.542mol/L|             0.905|              0.0104| 9.0|              0.136|             -5.653|         1|0.054000000000000006|153.398|             4|             0.374|\n",
            "| 10|          The Middle|             78|          168253|            0.0424kg|          0.629mol/L|             0.897|                 0.0| 2.0|              0.263|             -3.401|         1|              0.0483|161.944|             4|              0.93|\n",
            "| 11|                Numb|             63|          185586|            0.0046kg|          0.496mol/L|             0.863|                 0.0| 9.0|              0.639|-4.1530000000000005|         1|              0.0381|110.018|             4|             0.243|\n",
            "| 12|     Smooth Criminal|             75|          209266|           0.00434kg|          0.647mol/L|             0.964|              0.0036| 9.0|               0.15|             -4.225|         0|                0.06|126.942|             4|             0.875|\n",
            "| 13|          Can't Stop|             81|          269000|            0.0179kg|          0.618mol/L|             0.938|                 0.0| 9.0|0.16699999999999998|             -3.442|         1|              0.0456| 91.455|             4|             0.875|\n",
            "| 14|          Chop Suey!|             69|          210240|          0.000353kg|           0.42mol/L|             0.929|0.000746999999999...| 7.0|              0.122|             -3.899|         0|               0.121|127.204|             4|               0.3|\n",
            "| 15|         Take Me Out|             77|          237026|          0.000423kg|          0.278mol/L|0.6759999999999999|0.000899000000000...| 9.0|              0.136|             -8.821|         1|              0.0371|104.545|             4|             0.494|\n",
            "| 16|          I Miss You|             71|          227240|           0.00136kg|          0.659mol/L|             0.778|            6.79e-06|11.0|             0.0841| -6.422999999999999|         1|              0.0379|110.022|             4|             0.623|\n",
            "| 17|         Best of You|             62|          256600|           0.00701kg|           0.37mol/L|             0.944|             2.9e-06| 1.0|              0.135|             -4.979|         0|              0.0767|130.315|             4|             0.345|\n",
            "| 18|I Write Sins Not ...|             77|          187613|            0.0938kg|0.567000000000000...|             0.795|                 0.0| 9.0|              0.114|             -4.985|         0|               0.134| 170.06|             4|             0.635|\n",
            "| 19|          Kryptonite|             79|          233933|0.006640000000000...|          0.545mol/L|             0.865|            1.12e-05|11.0|              0.168| -5.707999999999998|         0|              0.0286|  99.01|             4|0.5429999999999999|\n",
            "+---+--------------------+---------------+----------------+--------------------+--------------------+------------------+--------------------+----+-------------------+-------------------+----------+--------------------+-------+--------------+------------------+\n",
            "only showing top 20 rows\n",
            "\n"
          ]
        }
      ]
    }
  ]
}