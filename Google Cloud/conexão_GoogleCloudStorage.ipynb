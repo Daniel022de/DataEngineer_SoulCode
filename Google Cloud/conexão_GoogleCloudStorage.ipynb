{
  "nbformat": 4,
  "nbformat_minor": 0,
  "metadata": {
    "colab": {
      "provenance": [],
      "toc_visible": true,
      "mount_file_id": "17HP0_kg-_TY6eRvyUbUWYcQA1N9qPkM_",
      "authorship_tag": "ABX9TyPVdIkb7Ly7qQjIhJ3TSVdp",
      "include_colab_link": true
    },
    "kernelspec": {
      "name": "python3",
      "display_name": "Python 3"
    },
    "language_info": {
      "name": "python"
    }
  },
  "cells": [
    {
      "cell_type": "markdown",
      "metadata": {
        "id": "view-in-github",
        "colab_type": "text"
      },
      "source": [
        "<a href=\"https://colab.research.google.com/github/Daniel022de/Bootcamp_SoulCode_EngenhariaDados/blob/main/Google%20Cloud/conex%C3%A3o_GoogleCloudStorage.ipynb\" target=\"_parent\"><img src=\"https://colab.research.google.com/assets/colab-badge.svg\" alt=\"Open In Colab\"/></a>"
      ]
    },
    {
      "cell_type": "markdown",
      "source": [
        "**SPARK - CONEXÃO DO COLAB AO GOOGLE CLOUD STORAGE**\n",
        "\n",
        "Esse Notebook é referente as instruções feitas pelo professor **Bismark William** no bootcamp **engenharia de dados** da **SoulCode** visando a consolidação dos conhecimentos sobre a conexão do colab a um bucket privado da **Google Cloud Storage** e a utilidade do Pyspark para criar um DataFrame originado desse processo. O principal propósito desse tipo de conexão é garantir a segurança na extração do Dataset.\n",
        "\n",
        "\n",
        "\n",
        "\n",
        "\n",
        "\n",
        "\n",
        "! **Você pode encontrar esse notebook no meu repositório** [GitHub](https://github.com/Daniel022de/Bootcamp_SoulCode_EngenhariaDados)\n",
        "\n",
        "! **Você pode entrar em contato comigo através do meu email** ddololiveira.pessoal@gmail.com **e** [Linkedin](https://www.linkedin.com/in/daniel-oliveira-503b0323b/).\n",
        "\n",
        "! **Toda dúvida,recomendações e feedbacks serão bem-vindas.**\n",
        "\n"
      ],
      "metadata": {
        "id": "jhw9TUIZRrZK"
      }
    },
    {
      "cell_type": "markdown",
      "source": [
        "# Instalação"
      ],
      "metadata": {
        "id": "PqTsbekQR1GB"
      }
    },
    {
      "cell_type": "code",
      "source": [
        "# Pyspark e Google Cloud Storage File System\n",
        "!pip install pyspark\n",
        "!pip install gcsfs"
      ],
      "metadata": {
        "id": "9wgviHEZRt3F",
        "colab": {
          "base_uri": "https://localhost:8080/"
        },
        "outputId": "9d2f902e-bff3-4aca-8851-90529292f53c"
      },
      "execution_count": 20,
      "outputs": [
        {
          "output_type": "stream",
          "name": "stdout",
          "text": [
            "Looking in indexes: https://pypi.org/simple, https://us-python.pkg.dev/colab-wheels/public/simple/\n",
            "Requirement already satisfied: pyspark in /usr/local/lib/python3.8/dist-packages (3.3.1)\n",
            "Requirement already satisfied: py4j==0.10.9.5 in /usr/local/lib/python3.8/dist-packages (from pyspark) (0.10.9.5)\n",
            "Looking in indexes: https://pypi.org/simple, https://us-python.pkg.dev/colab-wheels/public/simple/\n",
            "Requirement already satisfied: gcsfs in /usr/local/lib/python3.8/dist-packages (2022.11.0)\n",
            "Requirement already satisfied: google-auth>=1.2 in /usr/local/lib/python3.8/dist-packages (from gcsfs) (2.15.0)\n",
            "Requirement already satisfied: aiohttp!=4.0.0a0,!=4.0.0a1 in /usr/local/lib/python3.8/dist-packages (from gcsfs) (3.8.3)\n",
            "Requirement already satisfied: fsspec==2022.11.0 in /usr/local/lib/python3.8/dist-packages (from gcsfs) (2022.11.0)\n",
            "Requirement already satisfied: google-cloud-storage in /usr/local/lib/python3.8/dist-packages (from gcsfs) (2.5.0)\n",
            "Requirement already satisfied: decorator>4.1.2 in /usr/local/lib/python3.8/dist-packages (from gcsfs) (4.4.2)\n",
            "Requirement already satisfied: requests in /usr/local/lib/python3.8/dist-packages (from gcsfs) (2.23.0)\n",
            "Requirement already satisfied: google-auth-oauthlib in /usr/local/lib/python3.8/dist-packages (from gcsfs) (0.4.6)\n",
            "Requirement already satisfied: attrs>=17.3.0 in /usr/local/lib/python3.8/dist-packages (from aiohttp!=4.0.0a0,!=4.0.0a1->gcsfs) (22.1.0)\n",
            "Requirement already satisfied: yarl<2.0,>=1.0 in /usr/local/lib/python3.8/dist-packages (from aiohttp!=4.0.0a0,!=4.0.0a1->gcsfs) (1.8.2)\n",
            "Requirement already satisfied: charset-normalizer<3.0,>=2.0 in /usr/local/lib/python3.8/dist-packages (from aiohttp!=4.0.0a0,!=4.0.0a1->gcsfs) (2.1.1)\n",
            "Requirement already satisfied: frozenlist>=1.1.1 in /usr/local/lib/python3.8/dist-packages (from aiohttp!=4.0.0a0,!=4.0.0a1->gcsfs) (1.3.3)\n",
            "Requirement already satisfied: aiosignal>=1.1.2 in /usr/local/lib/python3.8/dist-packages (from aiohttp!=4.0.0a0,!=4.0.0a1->gcsfs) (1.3.1)\n",
            "Requirement already satisfied: async-timeout<5.0,>=4.0.0a3 in /usr/local/lib/python3.8/dist-packages (from aiohttp!=4.0.0a0,!=4.0.0a1->gcsfs) (4.0.2)\n",
            "Requirement already satisfied: multidict<7.0,>=4.5 in /usr/local/lib/python3.8/dist-packages (from aiohttp!=4.0.0a0,!=4.0.0a1->gcsfs) (6.0.3)\n",
            "Requirement already satisfied: pyasn1-modules>=0.2.1 in /usr/local/lib/python3.8/dist-packages (from google-auth>=1.2->gcsfs) (0.2.8)\n",
            "Requirement already satisfied: rsa<5,>=3.1.4 in /usr/local/lib/python3.8/dist-packages (from google-auth>=1.2->gcsfs) (4.9)\n",
            "Requirement already satisfied: cachetools<6.0,>=2.0.0 in /usr/local/lib/python3.8/dist-packages (from google-auth>=1.2->gcsfs) (5.2.0)\n",
            "Requirement already satisfied: six>=1.9.0 in /usr/local/lib/python3.8/dist-packages (from google-auth>=1.2->gcsfs) (1.15.0)\n",
            "Requirement already satisfied: pyasn1<0.5.0,>=0.4.6 in /usr/local/lib/python3.8/dist-packages (from pyasn1-modules>=0.2.1->google-auth>=1.2->gcsfs) (0.4.8)\n",
            "Requirement already satisfied: idna>=2.0 in /usr/local/lib/python3.8/dist-packages (from yarl<2.0,>=1.0->aiohttp!=4.0.0a0,!=4.0.0a1->gcsfs) (2.10)\n",
            "Requirement already satisfied: requests-oauthlib>=0.7.0 in /usr/local/lib/python3.8/dist-packages (from google-auth-oauthlib->gcsfs) (1.3.1)\n",
            "Requirement already satisfied: oauthlib>=3.0.0 in /usr/local/lib/python3.8/dist-packages (from requests-oauthlib>=0.7.0->google-auth-oauthlib->gcsfs) (3.2.2)\n",
            "Requirement already satisfied: certifi>=2017.4.17 in /usr/local/lib/python3.8/dist-packages (from requests->gcsfs) (2022.9.24)\n",
            "Requirement already satisfied: urllib3!=1.25.0,!=1.25.1,<1.26,>=1.21.1 in /usr/local/lib/python3.8/dist-packages (from requests->gcsfs) (1.24.3)\n",
            "Requirement already satisfied: chardet<4,>=3.0.2 in /usr/local/lib/python3.8/dist-packages (from requests->gcsfs) (3.0.4)\n",
            "Requirement already satisfied: google-api-core!=2.0.*,!=2.1.*,!=2.2.*,!=2.3.0,<3.0.0dev,>=1.31.5 in /usr/local/lib/python3.8/dist-packages (from google-cloud-storage->gcsfs) (2.8.2)\n",
            "Requirement already satisfied: google-cloud-core<3.0dev,>=2.3.0 in /usr/local/lib/python3.8/dist-packages (from google-cloud-storage->gcsfs) (2.3.2)\n",
            "Requirement already satisfied: google-resumable-media>=2.3.2 in /usr/local/lib/python3.8/dist-packages (from google-cloud-storage->gcsfs) (2.4.0)\n",
            "Requirement already satisfied: googleapis-common-protos<2.0dev,>=1.56.2 in /usr/local/lib/python3.8/dist-packages (from google-api-core!=2.0.*,!=2.1.*,!=2.2.*,!=2.3.0,<3.0.0dev,>=1.31.5->google-cloud-storage->gcsfs) (1.57.0)\n",
            "Requirement already satisfied: protobuf<5.0.0dev,>=3.15.0 in /usr/local/lib/python3.8/dist-packages (from google-api-core!=2.0.*,!=2.1.*,!=2.2.*,!=2.3.0,<3.0.0dev,>=1.31.5->google-cloud-storage->gcsfs) (3.19.6)\n",
            "Requirement already satisfied: google-crc32c<2.0dev,>=1.0 in /usr/local/lib/python3.8/dist-packages (from google-resumable-media>=2.3.2->google-cloud-storage->gcsfs) (1.5.0)\n"
          ]
        }
      ]
    },
    {
      "cell_type": "markdown",
      "source": [
        "#Importação"
      ],
      "metadata": {
        "id": "2vHNu8mYSVvS"
      }
    },
    {
      "cell_type": "code",
      "source": [
        "from pyspark.sql import SparkSession\n",
        "from google.cloud import storage\n",
        "import pandas as pd\n",
        "import os"
      ],
      "metadata": {
        "id": "H17gnSGBUXco"
      },
      "execution_count": 21,
      "outputs": []
    },
    {
      "cell_type": "markdown",
      "source": [
        "# Chave de segurança"
      ],
      "metadata": {
        "id": "wnIv52t_U01_"
      }
    },
    {
      "cell_type": "code",
      "source": [
        "ServiceAccount = '/content/drive/MyDrive/Colab Notebooks/bc26-aulas-7791d7a8a1e0.json'\n",
        "os.environ['GOOGLE_APPLICATION_CREDENTIALS'] = ServiceAccount"
      ],
      "metadata": {
        "id": "cblh9We6U3V7"
      },
      "execution_count": 22,
      "outputs": []
    },
    {
      "cell_type": "markdown",
      "source": [
        "#Setando a Bucket"
      ],
      "metadata": {
        "id": "01OshWVwWK9I"
      }
    },
    {
      "cell_type": "code",
      "source": [
        "storage.Client().get_bucket('ed7-datasets').blob('spotify.csv')\n",
        "path = 'gs://ed7-datasets/spotify.csv'"
      ],
      "metadata": {
        "id": "nzWhpTo3WKgw"
      },
      "execution_count": 23,
      "outputs": []
    },
    {
      "cell_type": "markdown",
      "source": [
        "# Configurando variável de ambiente (spark)"
      ],
      "metadata": {
        "id": "gwMztFEsW1g3"
      }
    },
    {
      "cell_type": "code",
      "source": [
        "spark =  (\n",
        "    SparkSession.builder\n",
        "                .master('local')\n",
        "                .appName('gcsfs2')\n",
        "                .config('spark.ui.port', '4050')\n",
        "                .config(\"spark.jars\", 'https://storage.googleapis.com/hadoop-lib/gcs/gcs-connector-hadoop2-latest.jar')\n",
        "                .getOrCreate()\n",
        ")"
      ],
      "metadata": {
        "id": "4q-TzM4eW3R7"
      },
      "execution_count": 24,
      "outputs": []
    },
    {
      "cell_type": "markdown",
      "source": [
        "# Lendo o path "
      ],
      "metadata": {
        "id": "d7_EMBWIWta1"
      }
    },
    {
      "cell_type": "markdown",
      "source": [
        "## Pandas"
      ],
      "metadata": {
        "id": "uDn3GD-Gpr04"
      }
    },
    {
      "cell_type": "code",
      "source": [
        "import pandas as pd\n",
        "df_pandas = pd.read_csv(path,sep=',')"
      ],
      "metadata": {
        "id": "l4wVB2Hrohi5"
      },
      "execution_count": 25,
      "outputs": []
    },
    {
      "cell_type": "code",
      "source": [
        "df_pandas"
      ],
      "metadata": {
        "colab": {
          "base_uri": "https://localhost:8080/",
          "height": 661
        },
        "id": "yr4S54X4pdZm",
        "outputId": "66ab30e7-167a-4222-effb-cb890749e954"
      },
      "execution_count": 26,
      "outputs": [
        {
          "output_type": "execute_result",
          "data": {
            "text/plain": [
              "       Unnamed: 0                   song_name song_popularity  \\\n",
              "0               0  Boulevard of Broken Dreams              73   \n",
              "1               1                  In The End              66   \n",
              "2               2           Seven Nation Army              76   \n",
              "3               3                  By The Way              74   \n",
              "4               4           How You Remind Me              56   \n",
              "...           ...                         ...             ...   \n",
              "18830       18830              Let It Breathe              60   \n",
              "18831       18831                     Answers              60   \n",
              "18832       18832      Sudden Love (Acoustic)              23   \n",
              "18833       18833           Gentle on My Mind              55   \n",
              "18834       18834                    Up to Me              60   \n",
              "\n",
              "      song_duration_ms            acousticness             danceability  \\\n",
              "0               262333  0.005520000000000001kg               0.496mol/L   \n",
              "1               216933                0.0103kg               0.542mol/L   \n",
              "2               231733               0.00817kg               0.737mol/L   \n",
              "3               216933                0.0264kg               0.451mol/L   \n",
              "4               223826              0.000954kg               0.447mol/L   \n",
              "...                ...                     ...                      ...   \n",
              "18830           159645                 0.893kg                 0.5mol/L   \n",
              "18831           205666                 0.765kg               0.495mol/L   \n",
              "18832           182211                 0.847kg  0.7190000000000001mol/L   \n",
              "18833           352280                 0.945kg               0.488mol/L   \n",
              "18834           193533                 0.911kg                0.64mol/L   \n",
              "\n",
              "                   energy instrumentalness   key liveness  \\\n",
              "0                   0.682         2.94e-05   8.0   0.0589   \n",
              "1                   0.853              0.0   3.0    0.108   \n",
              "2                   0.463            0.447   0.0    0.255   \n",
              "3                    0.97          0.00355   0.0    0.102   \n",
              "4      0.7659999999999999              0.0  10.0    0.113   \n",
              "...                   ...              ...   ...      ...   \n",
              "18830               0.151         6.54e-05  11.0    0.111   \n",
              "18831               0.161         1.33e-06  11.0    0.105   \n",
              "18832               0.325              0.0   0.0    0.125   \n",
              "18833               0.326           0.0157   3.0    0.119   \n",
              "18834               0.381         0.000254   4.0    0.104   \n",
              "\n",
              "                  loudness audio_mode speechiness    tempo time_signature  \\\n",
              "0                   -4.095          1      0.0294   167.06              4   \n",
              "1                   -6.407          0      0.0498  105.256              4   \n",
              "2      -7.8279999999999985          1      0.0792  123.881              4   \n",
              "3                   -4.938          1       0.107  122.444              4   \n",
              "4                   -5.065          1      0.0313  172.011              4   \n",
              "...                    ...        ...         ...      ...            ...   \n",
              "18830              -16.107          1      0.0348  113.969              4   \n",
              "18831              -14.078          0      0.0301   94.286              4   \n",
              "18832              -12.222          1      0.0355  130.534              4   \n",
              "18833               -12.02          1      0.0328  106.063              4   \n",
              "18834               -11.79          1      0.0302    91.49              4   \n",
              "\n",
              "       audio_valence  \n",
              "0              0.474  \n",
              "1              0.370  \n",
              "2              0.324  \n",
              "3              0.198  \n",
              "4              0.574  \n",
              "...              ...  \n",
              "18830          0.300  \n",
              "18831          0.265  \n",
              "18832          0.286  \n",
              "18833          0.323  \n",
              "18834          0.581  \n",
              "\n",
              "[18835 rows x 16 columns]"
            ],
            "text/html": [
              "\n",
              "  <div id=\"df-0c327e45-2787-41bb-adc3-b23ba4d49d3b\">\n",
              "    <div class=\"colab-df-container\">\n",
              "      <div>\n",
              "<style scoped>\n",
              "    .dataframe tbody tr th:only-of-type {\n",
              "        vertical-align: middle;\n",
              "    }\n",
              "\n",
              "    .dataframe tbody tr th {\n",
              "        vertical-align: top;\n",
              "    }\n",
              "\n",
              "    .dataframe thead th {\n",
              "        text-align: right;\n",
              "    }\n",
              "</style>\n",
              "<table border=\"1\" class=\"dataframe\">\n",
              "  <thead>\n",
              "    <tr style=\"text-align: right;\">\n",
              "      <th></th>\n",
              "      <th>Unnamed: 0</th>\n",
              "      <th>song_name</th>\n",
              "      <th>song_popularity</th>\n",
              "      <th>song_duration_ms</th>\n",
              "      <th>acousticness</th>\n",
              "      <th>danceability</th>\n",
              "      <th>energy</th>\n",
              "      <th>instrumentalness</th>\n",
              "      <th>key</th>\n",
              "      <th>liveness</th>\n",
              "      <th>loudness</th>\n",
              "      <th>audio_mode</th>\n",
              "      <th>speechiness</th>\n",
              "      <th>tempo</th>\n",
              "      <th>time_signature</th>\n",
              "      <th>audio_valence</th>\n",
              "    </tr>\n",
              "  </thead>\n",
              "  <tbody>\n",
              "    <tr>\n",
              "      <th>0</th>\n",
              "      <td>0</td>\n",
              "      <td>Boulevard of Broken Dreams</td>\n",
              "      <td>73</td>\n",
              "      <td>262333</td>\n",
              "      <td>0.005520000000000001kg</td>\n",
              "      <td>0.496mol/L</td>\n",
              "      <td>0.682</td>\n",
              "      <td>2.94e-05</td>\n",
              "      <td>8.0</td>\n",
              "      <td>0.0589</td>\n",
              "      <td>-4.095</td>\n",
              "      <td>1</td>\n",
              "      <td>0.0294</td>\n",
              "      <td>167.06</td>\n",
              "      <td>4</td>\n",
              "      <td>0.474</td>\n",
              "    </tr>\n",
              "    <tr>\n",
              "      <th>1</th>\n",
              "      <td>1</td>\n",
              "      <td>In The End</td>\n",
              "      <td>66</td>\n",
              "      <td>216933</td>\n",
              "      <td>0.0103kg</td>\n",
              "      <td>0.542mol/L</td>\n",
              "      <td>0.853</td>\n",
              "      <td>0.0</td>\n",
              "      <td>3.0</td>\n",
              "      <td>0.108</td>\n",
              "      <td>-6.407</td>\n",
              "      <td>0</td>\n",
              "      <td>0.0498</td>\n",
              "      <td>105.256</td>\n",
              "      <td>4</td>\n",
              "      <td>0.370</td>\n",
              "    </tr>\n",
              "    <tr>\n",
              "      <th>2</th>\n",
              "      <td>2</td>\n",
              "      <td>Seven Nation Army</td>\n",
              "      <td>76</td>\n",
              "      <td>231733</td>\n",
              "      <td>0.00817kg</td>\n",
              "      <td>0.737mol/L</td>\n",
              "      <td>0.463</td>\n",
              "      <td>0.447</td>\n",
              "      <td>0.0</td>\n",
              "      <td>0.255</td>\n",
              "      <td>-7.8279999999999985</td>\n",
              "      <td>1</td>\n",
              "      <td>0.0792</td>\n",
              "      <td>123.881</td>\n",
              "      <td>4</td>\n",
              "      <td>0.324</td>\n",
              "    </tr>\n",
              "    <tr>\n",
              "      <th>3</th>\n",
              "      <td>3</td>\n",
              "      <td>By The Way</td>\n",
              "      <td>74</td>\n",
              "      <td>216933</td>\n",
              "      <td>0.0264kg</td>\n",
              "      <td>0.451mol/L</td>\n",
              "      <td>0.97</td>\n",
              "      <td>0.00355</td>\n",
              "      <td>0.0</td>\n",
              "      <td>0.102</td>\n",
              "      <td>-4.938</td>\n",
              "      <td>1</td>\n",
              "      <td>0.107</td>\n",
              "      <td>122.444</td>\n",
              "      <td>4</td>\n",
              "      <td>0.198</td>\n",
              "    </tr>\n",
              "    <tr>\n",
              "      <th>4</th>\n",
              "      <td>4</td>\n",
              "      <td>How You Remind Me</td>\n",
              "      <td>56</td>\n",
              "      <td>223826</td>\n",
              "      <td>0.000954kg</td>\n",
              "      <td>0.447mol/L</td>\n",
              "      <td>0.7659999999999999</td>\n",
              "      <td>0.0</td>\n",
              "      <td>10.0</td>\n",
              "      <td>0.113</td>\n",
              "      <td>-5.065</td>\n",
              "      <td>1</td>\n",
              "      <td>0.0313</td>\n",
              "      <td>172.011</td>\n",
              "      <td>4</td>\n",
              "      <td>0.574</td>\n",
              "    </tr>\n",
              "    <tr>\n",
              "      <th>...</th>\n",
              "      <td>...</td>\n",
              "      <td>...</td>\n",
              "      <td>...</td>\n",
              "      <td>...</td>\n",
              "      <td>...</td>\n",
              "      <td>...</td>\n",
              "      <td>...</td>\n",
              "      <td>...</td>\n",
              "      <td>...</td>\n",
              "      <td>...</td>\n",
              "      <td>...</td>\n",
              "      <td>...</td>\n",
              "      <td>...</td>\n",
              "      <td>...</td>\n",
              "      <td>...</td>\n",
              "      <td>...</td>\n",
              "    </tr>\n",
              "    <tr>\n",
              "      <th>18830</th>\n",
              "      <td>18830</td>\n",
              "      <td>Let It Breathe</td>\n",
              "      <td>60</td>\n",
              "      <td>159645</td>\n",
              "      <td>0.893kg</td>\n",
              "      <td>0.5mol/L</td>\n",
              "      <td>0.151</td>\n",
              "      <td>6.54e-05</td>\n",
              "      <td>11.0</td>\n",
              "      <td>0.111</td>\n",
              "      <td>-16.107</td>\n",
              "      <td>1</td>\n",
              "      <td>0.0348</td>\n",
              "      <td>113.969</td>\n",
              "      <td>4</td>\n",
              "      <td>0.300</td>\n",
              "    </tr>\n",
              "    <tr>\n",
              "      <th>18831</th>\n",
              "      <td>18831</td>\n",
              "      <td>Answers</td>\n",
              "      <td>60</td>\n",
              "      <td>205666</td>\n",
              "      <td>0.765kg</td>\n",
              "      <td>0.495mol/L</td>\n",
              "      <td>0.161</td>\n",
              "      <td>1.33e-06</td>\n",
              "      <td>11.0</td>\n",
              "      <td>0.105</td>\n",
              "      <td>-14.078</td>\n",
              "      <td>0</td>\n",
              "      <td>0.0301</td>\n",
              "      <td>94.286</td>\n",
              "      <td>4</td>\n",
              "      <td>0.265</td>\n",
              "    </tr>\n",
              "    <tr>\n",
              "      <th>18832</th>\n",
              "      <td>18832</td>\n",
              "      <td>Sudden Love (Acoustic)</td>\n",
              "      <td>23</td>\n",
              "      <td>182211</td>\n",
              "      <td>0.847kg</td>\n",
              "      <td>0.7190000000000001mol/L</td>\n",
              "      <td>0.325</td>\n",
              "      <td>0.0</td>\n",
              "      <td>0.0</td>\n",
              "      <td>0.125</td>\n",
              "      <td>-12.222</td>\n",
              "      <td>1</td>\n",
              "      <td>0.0355</td>\n",
              "      <td>130.534</td>\n",
              "      <td>4</td>\n",
              "      <td>0.286</td>\n",
              "    </tr>\n",
              "    <tr>\n",
              "      <th>18833</th>\n",
              "      <td>18833</td>\n",
              "      <td>Gentle on My Mind</td>\n",
              "      <td>55</td>\n",
              "      <td>352280</td>\n",
              "      <td>0.945kg</td>\n",
              "      <td>0.488mol/L</td>\n",
              "      <td>0.326</td>\n",
              "      <td>0.0157</td>\n",
              "      <td>3.0</td>\n",
              "      <td>0.119</td>\n",
              "      <td>-12.02</td>\n",
              "      <td>1</td>\n",
              "      <td>0.0328</td>\n",
              "      <td>106.063</td>\n",
              "      <td>4</td>\n",
              "      <td>0.323</td>\n",
              "    </tr>\n",
              "    <tr>\n",
              "      <th>18834</th>\n",
              "      <td>18834</td>\n",
              "      <td>Up to Me</td>\n",
              "      <td>60</td>\n",
              "      <td>193533</td>\n",
              "      <td>0.911kg</td>\n",
              "      <td>0.64mol/L</td>\n",
              "      <td>0.381</td>\n",
              "      <td>0.000254</td>\n",
              "      <td>4.0</td>\n",
              "      <td>0.104</td>\n",
              "      <td>-11.79</td>\n",
              "      <td>1</td>\n",
              "      <td>0.0302</td>\n",
              "      <td>91.49</td>\n",
              "      <td>4</td>\n",
              "      <td>0.581</td>\n",
              "    </tr>\n",
              "  </tbody>\n",
              "</table>\n",
              "<p>18835 rows × 16 columns</p>\n",
              "</div>\n",
              "      <button class=\"colab-df-convert\" onclick=\"convertToInteractive('df-0c327e45-2787-41bb-adc3-b23ba4d49d3b')\"\n",
              "              title=\"Convert this dataframe to an interactive table.\"\n",
              "              style=\"display:none;\">\n",
              "        \n",
              "  <svg xmlns=\"http://www.w3.org/2000/svg\" height=\"24px\"viewBox=\"0 0 24 24\"\n",
              "       width=\"24px\">\n",
              "    <path d=\"M0 0h24v24H0V0z\" fill=\"none\"/>\n",
              "    <path d=\"M18.56 5.44l.94 2.06.94-2.06 2.06-.94-2.06-.94-.94-2.06-.94 2.06-2.06.94zm-11 1L8.5 8.5l.94-2.06 2.06-.94-2.06-.94L8.5 2.5l-.94 2.06-2.06.94zm10 10l.94 2.06.94-2.06 2.06-.94-2.06-.94-.94-2.06-.94 2.06-2.06.94z\"/><path d=\"M17.41 7.96l-1.37-1.37c-.4-.4-.92-.59-1.43-.59-.52 0-1.04.2-1.43.59L10.3 9.45l-7.72 7.72c-.78.78-.78 2.05 0 2.83L4 21.41c.39.39.9.59 1.41.59.51 0 1.02-.2 1.41-.59l7.78-7.78 2.81-2.81c.8-.78.8-2.07 0-2.86zM5.41 20L4 18.59l7.72-7.72 1.47 1.35L5.41 20z\"/>\n",
              "  </svg>\n",
              "      </button>\n",
              "      \n",
              "  <style>\n",
              "    .colab-df-container {\n",
              "      display:flex;\n",
              "      flex-wrap:wrap;\n",
              "      gap: 12px;\n",
              "    }\n",
              "\n",
              "    .colab-df-convert {\n",
              "      background-color: #E8F0FE;\n",
              "      border: none;\n",
              "      border-radius: 50%;\n",
              "      cursor: pointer;\n",
              "      display: none;\n",
              "      fill: #1967D2;\n",
              "      height: 32px;\n",
              "      padding: 0 0 0 0;\n",
              "      width: 32px;\n",
              "    }\n",
              "\n",
              "    .colab-df-convert:hover {\n",
              "      background-color: #E2EBFA;\n",
              "      box-shadow: 0px 1px 2px rgba(60, 64, 67, 0.3), 0px 1px 3px 1px rgba(60, 64, 67, 0.15);\n",
              "      fill: #174EA6;\n",
              "    }\n",
              "\n",
              "    [theme=dark] .colab-df-convert {\n",
              "      background-color: #3B4455;\n",
              "      fill: #D2E3FC;\n",
              "    }\n",
              "\n",
              "    [theme=dark] .colab-df-convert:hover {\n",
              "      background-color: #434B5C;\n",
              "      box-shadow: 0px 1px 3px 1px rgba(0, 0, 0, 0.15);\n",
              "      filter: drop-shadow(0px 1px 2px rgba(0, 0, 0, 0.3));\n",
              "      fill: #FFFFFF;\n",
              "    }\n",
              "  </style>\n",
              "\n",
              "      <script>\n",
              "        const buttonEl =\n",
              "          document.querySelector('#df-0c327e45-2787-41bb-adc3-b23ba4d49d3b button.colab-df-convert');\n",
              "        buttonEl.style.display =\n",
              "          google.colab.kernel.accessAllowed ? 'block' : 'none';\n",
              "\n",
              "        async function convertToInteractive(key) {\n",
              "          const element = document.querySelector('#df-0c327e45-2787-41bb-adc3-b23ba4d49d3b');\n",
              "          const dataTable =\n",
              "            await google.colab.kernel.invokeFunction('convertToInteractive',\n",
              "                                                     [key], {});\n",
              "          if (!dataTable) return;\n",
              "\n",
              "          const docLinkHtml = 'Like what you see? Visit the ' +\n",
              "            '<a target=\"_blank\" href=https://colab.research.google.com/notebooks/data_table.ipynb>data table notebook</a>'\n",
              "            + ' to learn more about interactive tables.';\n",
              "          element.innerHTML = '';\n",
              "          dataTable['output_type'] = 'display_data';\n",
              "          await google.colab.output.renderOutput(dataTable, element);\n",
              "          const docLink = document.createElement('div');\n",
              "          docLink.innerHTML = docLinkHtml;\n",
              "          element.appendChild(docLink);\n",
              "        }\n",
              "      </script>\n",
              "    </div>\n",
              "  </div>\n",
              "  "
            ]
          },
          "metadata": {},
          "execution_count": 26
        }
      ]
    },
    {
      "cell_type": "markdown",
      "source": [
        "## Pyspark"
      ],
      "metadata": {
        "id": "a4qN6mu4pysa"
      }
    },
    {
      "cell_type": "code",
      "source": [
        "df_pyspark = spark.read.format('csv').option('inferschema','true').option('header','true').load(path,sep=',')"
      ],
      "metadata": {
        "id": "ZpaCYfMaWxNQ"
      },
      "execution_count": 27,
      "outputs": []
    },
    {
      "cell_type": "code",
      "source": [
        "df_pyspark.show()"
      ],
      "metadata": {
        "colab": {
          "base_uri": "https://localhost:8080/"
        },
        "id": "eoGtncx5WsnN",
        "outputId": "04448eb8-4226-4b3e-f85c-1975b28fd607"
      },
      "execution_count": 28,
      "outputs": [
        {
          "output_type": "stream",
          "name": "stdout",
          "text": [
            "+---+--------------------+---------------+----------------+--------------------+--------------------+------------------+--------------------+----+-------------------+-------------------+----------+--------------------+-------+--------------+------------------+\n",
            "|_c0|           song_name|song_popularity|song_duration_ms|        acousticness|        danceability|            energy|    instrumentalness| key|           liveness|           loudness|audio_mode|         speechiness|  tempo|time_signature|     audio_valence|\n",
            "+---+--------------------+---------------+----------------+--------------------+--------------------+------------------+--------------------+----+-------------------+-------------------+----------+--------------------+-------+--------------+------------------+\n",
            "|  0|Boulevard of Brok...|             73|          262333|0.005520000000000...|          0.496mol/L|             0.682|            2.94e-05| 8.0|             0.0589|             -4.095|         1|              0.0294| 167.06|             4|             0.474|\n",
            "|  1|          In The End|             66|          216933|            0.0103kg|          0.542mol/L|             0.853|                 0.0| 3.0|              0.108|             -6.407|         0|              0.0498|105.256|             4|              0.37|\n",
            "|  2|   Seven Nation Army|             76|          231733|           0.00817kg|          0.737mol/L|             0.463|               0.447| 0.0|              0.255|-7.8279999999999985|         1|              0.0792|123.881|             4|             0.324|\n",
            "|  3|          By The Way|             74|          216933|            0.0264kg|          0.451mol/L|              0.97|             0.00355| 0.0|              0.102|             -4.938|         1|               0.107|122.444|             4|             0.198|\n",
            "|  4|   How You Remind Me|             56|          223826|          0.000954kg|          0.447mol/L|0.7659999999999999|                 0.0|10.0|              0.113|             -5.065|         1|              0.0313|172.011|             4|             0.574|\n",
            "|  5|    Bring Me To Life|             80|          235893|           0.00895kg|          0.316mol/L|             0.945|            1.85e-06| 4.0|              0.396|             -3.169|         0|               0.124|189.931|             4|              0.32|\n",
            "|  6|         Last Resort|             81|          199893|          0.000504kg|          0.581mol/L|             0.887|             0.00111| 4.0|              0.268|             -3.659|         0|              0.0624| 90.578|             4|0.7240000000000001|\n",
            "|  7|Are You Gonna Be ...|             76|          213800|           0.00148kg|          0.613mol/L|             0.953|            0.000582| 2.0|              0.152|             -3.435|         1|              0.0855|105.046|             4|             0.537|\n",
            "|  8|      Mr. Brightside|             80|          222586|           0.00108kg|           0.33mol/L|             0.936|                 0.0| 1.0|             0.0926|              -3.66|         1|              0.0917|148.112|             4|             0.234|\n",
            "|  9|         Sex on Fire|             81|          203346|           0.00172kg|          0.542mol/L|             0.905|              0.0104| 9.0|              0.136|             -5.653|         1|0.054000000000000006|153.398|             4|             0.374|\n",
            "| 10|          The Middle|             78|          168253|            0.0424kg|          0.629mol/L|             0.897|                 0.0| 2.0|              0.263|             -3.401|         1|              0.0483|161.944|             4|              0.93|\n",
            "| 11|                Numb|             63|          185586|            0.0046kg|          0.496mol/L|             0.863|                 0.0| 9.0|              0.639|-4.1530000000000005|         1|              0.0381|110.018|             4|             0.243|\n",
            "| 12|     Smooth Criminal|             75|          209266|           0.00434kg|          0.647mol/L|             0.964|              0.0036| 9.0|               0.15|             -4.225|         0|                0.06|126.942|             4|             0.875|\n",
            "| 13|          Can't Stop|             81|          269000|            0.0179kg|          0.618mol/L|             0.938|                 0.0| 9.0|0.16699999999999998|             -3.442|         1|              0.0456| 91.455|             4|             0.875|\n",
            "| 14|          Chop Suey!|             69|          210240|          0.000353kg|           0.42mol/L|             0.929|0.000746999999999...| 7.0|              0.122|             -3.899|         0|               0.121|127.204|             4|               0.3|\n",
            "| 15|         Take Me Out|             77|          237026|          0.000423kg|          0.278mol/L|0.6759999999999999|0.000899000000000...| 9.0|              0.136|             -8.821|         1|              0.0371|104.545|             4|             0.494|\n",
            "| 16|          I Miss You|             71|          227240|           0.00136kg|          0.659mol/L|             0.778|            6.79e-06|11.0|             0.0841| -6.422999999999999|         1|              0.0379|110.022|             4|             0.623|\n",
            "| 17|         Best of You|             62|          256600|           0.00701kg|           0.37mol/L|             0.944|             2.9e-06| 1.0|              0.135|             -4.979|         0|              0.0767|130.315|             4|             0.345|\n",
            "| 18|I Write Sins Not ...|             77|          187613|            0.0938kg|0.567000000000000...|             0.795|                 0.0| 9.0|              0.114|             -4.985|         0|               0.134| 170.06|             4|             0.635|\n",
            "| 19|          Kryptonite|             79|          233933|0.006640000000000...|          0.545mol/L|             0.865|            1.12e-05|11.0|              0.168| -5.707999999999998|         0|              0.0286|  99.01|             4|0.5429999999999999|\n",
            "+---+--------------------+---------------+----------------+--------------------+--------------------+------------------+--------------------+----+-------------------+-------------------+----------+--------------------+-------+--------------+------------------+\n",
            "only showing top 20 rows\n",
            "\n"
          ]
        }
      ]
    }
  ]
}