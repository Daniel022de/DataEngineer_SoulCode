{
  "nbformat": 4,
  "nbformat_minor": 0,
  "metadata": {
    "colab": {
      "provenance": [],
      "toc_visible": true,
      "mount_file_id": "1UR2YbNkOfwNZeMYUdb99MurEF0eC01lo",
      "authorship_tag": "ABX9TyMSP+zxi3Iyo7fx/a8xbCXt",
      "include_colab_link": true
    },
    "kernelspec": {
      "name": "python3",
      "display_name": "Python 3"
    },
    "language_info": {
      "name": "python"
    }
  },
  "cells": [
    {
      "cell_type": "markdown",
      "metadata": {
        "id": "view-in-github",
        "colab_type": "text"
      },
      "source": [
        "<a href=\"https://colab.research.google.com/github/Daniel022de/DataEnginner_SoulCode/blob/main/Study%20PySpark/Study_PySpark_StructType.ipynb\" target=\"_parent\"><img src=\"https://colab.research.google.com/assets/colab-badge.svg\" alt=\"Open In Colab\"/></a>"
      ]
    },
    {
      "cell_type": "markdown",
      "source": [
        "# **📗 SPARK - STRUCT TYPE**\n",
        "\n",
        "Esse Notebook é referente as instruções feitas pelo professor **Bismark William** no bootcamp **engenharia de dados** da **SoulCode** visando a consolidação dos conhecimentos sobre Struct Type Pyspark e sua utilização para renomear header de DataFrames e inferir tipo da coluna.\n",
        "\n",
        "\n",
        "\n",
        "\n",
        "\n",
        "\n",
        "\n",
        "! **Você pode encontrar esse notebook no meu repositório** [GitHub](https://github.com/Daniel022de/Bootcamp_SoulCode_EngenhariaDados)\n",
        "\n",
        "! **Você pode entrar em contato comigo através do meu email** ddololiveira.pessoal@gmail.com **e** [Linkedin](https://www.linkedin.com/in/daniel-oliveira-503b0323b/).\n",
        "\n",
        "! **Toda dúvida,recomendações e feedbacks serão bem-vindas.**\n",
        "\n"
      ],
      "metadata": {
        "id": "SzAJJ6z4cFRf"
      }
    },
    {
      "cell_type": "markdown",
      "source": [
        "#▶ 1 Instalação"
      ],
      "metadata": {
        "id": "S0EfBtJPeM7_"
      }
    },
    {
      "cell_type": "code",
      "source": [
        "!pip install pyspark"
      ],
      "metadata": {
        "id": "HDfHRfb9eOho"
      },
      "execution_count": null,
      "outputs": []
    },
    {
      "cell_type": "markdown",
      "source": [
        "#▶ 2 Biblioteca"
      ],
      "metadata": {
        "id": "MjPgXLUUoTBB"
      }
    },
    {
      "cell_type": "code",
      "source": [
        "from pyspark.sql import SparkSession\n",
        "import pyspark.sql.functions as F\n",
        "from pyspark.sql.types import *"
      ],
      "metadata": {
        "id": "qEHSpK6_oU2X"
      },
      "execution_count": null,
      "outputs": []
    },
    {
      "cell_type": "markdown",
      "source": [
        "#▶ 3 Configurando Spark"
      ],
      "metadata": {
        "id": "h0O8CIEboOl_"
      }
    },
    {
      "cell_type": "code",
      "source": [
        "spark = (\n",
        "    SparkSession.builder\n",
        "                .master('local')\n",
        "                .appName('structtype')\n",
        "                .config('spark.ui.port', '4050')\n",
        "                .getOrCreate()\n",
        ")"
      ],
      "metadata": {
        "id": "Ji-gRYwhofCw"
      },
      "execution_count": null,
      "outputs": []
    },
    {
      "cell_type": "markdown",
      "source": [
        "# ▶ 4 Criação DataFrame Pyspark"
      ],
      "metadata": {
        "id": "dpQUhoA7o88A"
      }
    },
    {
      "cell_type": "markdown",
      "source": [
        "Criando DataFrame inferindo o esquema com StructType e carregando dados de um Dataset alocado no driver."
      ],
      "metadata": {
        "id": "F2ovanFRc7Om"
      }
    },
    {
      "cell_type": "code",
      "source": [
        "#ESQUEMA DE COLUNAS CONTENDO OS TIPOS DE CADA COLUNA\n",
        "esquema = (\n",
        "    StructType([\n",
        "        StructField('id', IntegerType()),\n",
        "        StructField('nome_musica', StringType()),\n",
        "        StructField('popularidade', IntegerType()),\n",
        "        StructField('duracao_musica', IntegerType()),\n",
        "        StructField('acustica', StringType()),\n",
        "        StructField('danceabilidade', StringType()),\n",
        "        StructField('energia', FloatType()),\n",
        "        StructField('instrumentalidade', StringType()),\n",
        "        StructField('nota_musical', IntegerType()),\n",
        "        StructField('ao_vivo', FloatType()),\n",
        "        StructField('volume', FloatType()),\n",
        "        StructField('modo_de_audio', IntegerType()),\n",
        "        StructField('discurso', FloatType()),\n",
        "        StructField('ritmo', FloatType()),\n",
        "        StructField('assinatura de tempo', FloatType()),\n",
        "        StructField('valencia_de_audio', FloatType())\n",
        "    ])\n",
        ")"
      ],
      "metadata": {
        "id": "WQZYhFQDpBaQ"
      },
      "execution_count": null,
      "outputs": []
    },
    {
      "cell_type": "code",
      "source": [
        "df = (spark.read.format('csv')\n",
        "              .option('header', 'true')\n",
        "              .option('inferschema', 'false')\n",
        "              .load('/content/drive/MyDrive/spotify.csv', schema = esquema, sep = ','))"
      ],
      "metadata": {
        "id": "5Oyo2Os8vODt"
      },
      "execution_count": null,
      "outputs": []
    },
    {
      "cell_type": "code",
      "source": [
        "#VERIFICANDO O ESQUEMA DO DATAFRAME\n",
        "df.printSchema()"
      ],
      "metadata": {
        "colab": {
          "base_uri": "https://localhost:8080/"
        },
        "id": "seFZfjOzvrik",
        "outputId": "136bf8c3-6187-4b0e-bdc4-a046973f804f"
      },
      "execution_count": null,
      "outputs": [
        {
          "output_type": "stream",
          "name": "stdout",
          "text": [
            "root\n",
            " |-- id: integer (nullable = true)\n",
            " |-- nome_musica: string (nullable = true)\n",
            " |-- popularidade: integer (nullable = true)\n",
            " |-- duracao_musica: integer (nullable = true)\n",
            " |-- acustica: string (nullable = true)\n",
            " |-- danceabilidade: string (nullable = true)\n",
            " |-- energia: float (nullable = true)\n",
            " |-- instrumentalidade: string (nullable = true)\n",
            " |-- nota_musical: integer (nullable = true)\n",
            " |-- ao_vivo: float (nullable = true)\n",
            " |-- volume: float (nullable = true)\n",
            " |-- modo_de_audio: integer (nullable = true)\n",
            " |-- discurso: float (nullable = true)\n",
            " |-- ritmo: float (nullable = true)\n",
            " |-- assinatura de tempo: float (nullable = true)\n",
            " |-- valencia_de_audio: float (nullable = true)\n",
            "\n"
          ]
        }
      ]
    },
    {
      "cell_type": "code",
      "source": [
        "#VISUALIZANDO\n",
        "\n",
        "df.show(truncate=False)"
      ],
      "metadata": {
        "colab": {
          "base_uri": "https://localhost:8080/"
        },
        "id": "O7__ExFGwJFy",
        "outputId": "0860a5ed-e539-4d2a-c80f-436e2cb2d925"
      },
      "execution_count": null,
      "outputs": [
        {
          "output_type": "stream",
          "name": "stdout",
          "text": [
            "+---+--------------------------+------------+--------------+----------------------+-----------------------+-------+---------------------+------------+-------+------+-------------+--------+-------+-------------------+-----------------+\n",
            "|id |nome_musica               |popularidade|duracao_musica|acustica              |danceabilidade         |energia|instrumentalidade    |nota_musical|ao_vivo|volume|modo_de_audio|discurso|ritmo  |assinatura de tempo|valencia_de_audio|\n",
            "+---+--------------------------+------------+--------------+----------------------+-----------------------+-------+---------------------+------------+-------+------+-------------+--------+-------+-------------------+-----------------+\n",
            "|0  |Boulevard of Broken Dreams|73          |262333        |0.005520000000000001kg|0.496mol/L             |0.682  |2.94e-05             |8           |0.0589 |-4.095|1            |0.0294  |167.06 |4.0                |0.474            |\n",
            "|1  |In The End                |66          |216933        |0.0103kg              |0.542mol/L             |0.853  |0.0                  |3           |0.108  |-6.407|0            |0.0498  |105.256|4.0                |0.37             |\n",
            "|2  |Seven Nation Army         |76          |231733        |0.00817kg             |0.737mol/L             |0.463  |0.447                |0           |0.255  |-7.828|1            |0.0792  |123.881|4.0                |0.324            |\n",
            "|3  |By The Way                |74          |216933        |0.0264kg              |0.451mol/L             |0.97   |0.00355              |0           |0.102  |-4.938|1            |0.107   |122.444|4.0                |0.198            |\n",
            "|4  |How You Remind Me         |56          |223826        |0.000954kg            |0.447mol/L             |0.766  |0.0                  |10          |0.113  |-5.065|1            |0.0313  |172.011|4.0                |0.574            |\n",
            "|5  |Bring Me To Life          |80          |235893        |0.00895kg             |0.316mol/L             |0.945  |1.85e-06             |4           |0.396  |-3.169|0            |0.124   |189.931|4.0                |0.32             |\n",
            "|6  |Last Resort               |81          |199893        |0.000504kg            |0.581mol/L             |0.887  |0.00111              |4           |0.268  |-3.659|0            |0.0624  |90.578 |4.0                |0.724            |\n",
            "|7  |Are You Gonna Be My Girl  |76          |213800        |0.00148kg             |0.613mol/L             |0.953  |0.000582             |2           |0.152  |-3.435|1            |0.0855  |105.046|4.0                |0.537            |\n",
            "|8  |Mr. Brightside            |80          |222586        |0.00108kg             |0.33mol/L              |0.936  |0.0                  |1           |0.0926 |-3.66 |1            |0.0917  |148.112|4.0                |0.234            |\n",
            "|9  |Sex on Fire               |81          |203346        |0.00172kg             |0.542mol/L             |0.905  |0.0104               |9           |0.136  |-5.653|1            |0.054   |153.398|4.0                |0.374            |\n",
            "|10 |The Middle                |78          |168253        |0.0424kg              |0.629mol/L             |0.897  |0.0                  |2           |0.263  |-3.401|1            |0.0483  |161.944|4.0                |0.93             |\n",
            "|11 |Numb                      |63          |185586        |0.0046kg              |0.496mol/L             |0.863  |0.0                  |9           |0.639  |-4.153|1            |0.0381  |110.018|4.0                |0.243            |\n",
            "|12 |Smooth Criminal           |75          |209266        |0.00434kg             |0.647mol/L             |0.964  |0.0036               |9           |0.15   |-4.225|0            |0.06    |126.942|4.0                |0.875            |\n",
            "|13 |Can't Stop                |81          |269000        |0.0179kg              |0.618mol/L             |0.938  |0.0                  |9           |0.167  |-3.442|1            |0.0456  |91.455 |4.0                |0.875            |\n",
            "|14 |Chop Suey!                |69          |210240        |0.000353kg            |0.42mol/L              |0.929  |0.0007469999999999999|7           |0.122  |-3.899|0            |0.121   |127.204|4.0                |0.3              |\n",
            "|15 |Take Me Out               |77          |237026        |0.000423kg            |0.278mol/L             |0.676  |0.0008990000000000002|9           |0.136  |-8.821|1            |0.0371  |104.545|4.0                |0.494            |\n",
            "|16 |I Miss You                |71          |227240        |0.00136kg             |0.659mol/L             |0.778  |6.79e-06             |11          |0.0841 |-6.423|1            |0.0379  |110.022|4.0                |0.623            |\n",
            "|17 |Best of You               |62          |256600        |0.00701kg             |0.37mol/L              |0.944  |2.9e-06              |1           |0.135  |-4.979|0            |0.0767  |130.315|4.0                |0.345            |\n",
            "|18 |I Write Sins Not Tragedies|77          |187613        |0.0938kg              |0.5670000000000001mol/L|0.795  |0.0                  |9           |0.114  |-4.985|0            |0.134   |170.06 |4.0                |0.635            |\n",
            "|19 |Kryptonite                |79          |233933        |0.006640000000000001kg|0.545mol/L             |0.865  |1.12e-05             |11          |0.168  |-5.708|0            |0.0286  |99.01  |4.0                |0.543            |\n",
            "+---+--------------------------+------------+--------------+----------------------+-----------------------+-------+---------------------+------------+-------+------+-------------+--------+-------+-------------------+-----------------+\n",
            "only showing top 20 rows\n",
            "\n"
          ]
        }
      ]
    }
  ]
}
