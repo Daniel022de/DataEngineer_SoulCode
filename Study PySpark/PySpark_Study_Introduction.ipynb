{
  "nbformat": 4,
  "nbformat_minor": 0,
  "metadata": {
    "colab": {
      "provenance": [],
      "collapsed_sections": [
        "SE2NFn-eX59L",
        "kPBfBZr2YZ5p",
        "LQ23tC_eZUJV",
        "Cdq47zmFx1W_",
        "kQT5ftYVyq9W",
        "0t0hCWMi8eCv",
        "g5qxOJww84C0",
        "9TW5fDfwyx3x",
        "RwYd3JWe9mJ9",
        "f5qjc1PR0zqo",
        "lzxyWFH87oD8",
        "5JoCLkU__rjh",
        "LLKWdTMt3Rhl",
        "NdrXCx-3AupO",
        "HK996rulHnb3",
        "17Rue8wkIdxr",
        "yjJBaw3pImij",
        "FVZZfAxwFpfv",
        "s30P4r8aLIvQ"
      ],
      "toc_visible": true,
      "mount_file_id": "1T0HxIrLdJOVUp3btJ_t3GhEXqiTm8Hym",
      "authorship_tag": "ABX9TyOXXd6B+rK12oRhJVEj23c7",
      "include_colab_link": true
    },
    "kernelspec": {
      "name": "python3",
      "display_name": "Python 3"
    },
    "language_info": {
      "name": "python"
    }
  },
  "cells": [
    {
      "cell_type": "markdown",
      "metadata": {
        "id": "view-in-github",
        "colab_type": "text"
      },
      "source": [
        "<a href=\"https://colab.research.google.com/github/Daniel022de/DataEnginner_SoulCode/blob/main/Study%20PySpark/PySpark_Study_Introduction.ipynb\" target=\"_parent\"><img src=\"https://colab.research.google.com/assets/colab-badge.svg\" alt=\"Open In Colab\"/></a>"
      ]
    },
    {
      "cell_type": "markdown",
      "source": [
        "# **📗 PYSPARK - INTRODUCTION**\n",
        "\n",
        "Esse Notebook é referente as instruções feitas pelo professor **Bismark William** no bootcamp **engenharia de dados** da **SoulCode** visando a consolidação dos conhecimentos sobre o PySpark e sua utilização no processo de extração, carregamento, tratamento e normalização de dados.\n",
        "\n",
        "\n",
        "\n",
        "\n",
        "\n",
        "\n",
        "\n",
        "! **Você pode encontrar esse notebook no meu repositório** [GitHub](https://github.com/Daniel022de/Bootcamp_SoulCode_EngenhariaDados)\n",
        "\n",
        "! **Você pode entrar em contato comigo através do meu email** ddololiveira.pessoal@gmail.com **e** [Linkedin](https://www.linkedin.com/in/daniel-oliveira-503b0323b/).\n",
        "\n",
        "! **Toda dúvida,recomendações e feedbacks serão bem-vindas.**\n",
        "\n"
      ],
      "metadata": {
        "id": "7w_la9C38BWz"
      }
    },
    {
      "cell_type": "markdown",
      "source": [
        "#▶ 1 Instalação"
      ],
      "metadata": {
        "id": "GGufCOAlS6Xx"
      }
    },
    {
      "cell_type": "code",
      "execution_count": null,
      "metadata": {
        "colab": {
          "base_uri": "https://localhost:8080/"
        },
        "id": "jhMM0RqwSA-D",
        "outputId": "d57f9917-2689-4917-9855-7e9bfc09d587"
      },
      "outputs": [
        {
          "output_type": "stream",
          "name": "stdout",
          "text": [
            "Looking in indexes: https://pypi.org/simple, https://us-python.pkg.dev/colab-wheels/public/simple/\n",
            "Collecting pyspark\n",
            "  Downloading pyspark-3.3.1.tar.gz (281.4 MB)\n",
            "\u001b[K     |████████████████████████████████| 281.4 MB 34 kB/s \n",
            "\u001b[?25hCollecting py4j==0.10.9.5\n",
            "  Downloading py4j-0.10.9.5-py2.py3-none-any.whl (199 kB)\n",
            "\u001b[K     |████████████████████████████████| 199 kB 56.8 MB/s \n",
            "\u001b[?25hBuilding wheels for collected packages: pyspark\n",
            "  Building wheel for pyspark (setup.py) ... \u001b[?25l\u001b[?25hdone\n",
            "  Created wheel for pyspark: filename=pyspark-3.3.1-py2.py3-none-any.whl size=281845512 sha256=1117ea3bfc9c65e77746274ef77d42ededea4d419da412f7faf3ebdc62cee1c4\n",
            "  Stored in directory: /root/.cache/pip/wheels/43/dc/11/ec201cd671da62fa9c5cc77078235e40722170ceba231d7598\n",
            "Successfully built pyspark\n",
            "Installing collected packages: py4j, pyspark\n",
            "Successfully installed py4j-0.10.9.5 pyspark-3.3.1\n"
          ]
        }
      ],
      "source": [
        "pip install pyspark"
      ]
    },
    {
      "cell_type": "markdown",
      "source": [
        "#▶ 2 Importando bibliotecas"
      ],
      "metadata": {
        "id": "H86HHL7dTVvL"
      }
    },
    {
      "cell_type": "code",
      "source": [
        "# Session do spark\n",
        "\n",
        "from pyspark.sql import SparkSession\n",
        "\n",
        "# functions\n",
        "\n",
        "import pyspark.sql.functions as F\n"
      ],
      "metadata": {
        "id": "uMdnj5psTYXJ"
      },
      "execution_count": null,
      "outputs": []
    },
    {
      "cell_type": "markdown",
      "source": [
        "#▶ 3 Configurando variável de ambiente (session) Spark"
      ],
      "metadata": {
        "id": "Ik-FCsf0UYA7"
      }
    },
    {
      "cell_type": "code",
      "source": [
        "spark = SparkSession.builder.master('local').appName('Intro-pyspark').config('spark.ui.port','4050').getOrCreate()"
      ],
      "metadata": {
        "id": "GQI2QI5aUexA"
      },
      "execution_count": null,
      "outputs": []
    },
    {
      "cell_type": "markdown",
      "source": [
        "# ▶ 4 Criando DataFrames"
      ],
      "metadata": {
        "id": "vIEAL-1-VPXR"
      }
    },
    {
      "cell_type": "markdown",
      "source": [
        "\n",
        "\n",
        "*   Antes de extrair um DataSet e carregá-lo em um DataFrame Pyspark é importante conhecer o comportamento,algumas funções e filtros básicos relacionados a um DataFrame. As instruções abaixo é sobre isso.\n",
        "\n"
      ],
      "metadata": {
        "id": "uHftG0O5t2jL"
      }
    },
    {
      "cell_type": "code",
      "source": [
        "schema = 'id INT, nome STRING, cpf STRING, celular STRING, cidade STRING'\n",
        "\n",
        "dados = [\n",
        "    \n",
        "    (1, 'Oswaldo da Silva', '999.999.999-99', '(99)9.9999-9999', 'Sobral'),\n",
        "    (2, 'Maria dos Santos', '888.888.888-88', '(88)8.8888-8888', 'Fortaleza'),\n",
        "    (3, 'Priscila Medeiros', '777.777.777-77', '(77)7.7777-7777', 'Rio de Janeiro'),\n",
        "    (4, 'Roberto Diniz', '666.666.666-66', '(66)6.6666-6666', 'Sobral')\n",
        "]\n",
        "\n",
        "\n",
        "df = spark.createDataFrame(dados,schema)"
      ],
      "metadata": {
        "id": "QTe4es1iVRzL"
      },
      "execution_count": null,
      "outputs": []
    },
    {
      "cell_type": "markdown",
      "source": [
        "##◼ 4.1 Backup"
      ],
      "metadata": {
        "id": "FWkd0kMrXhdD"
      }
    },
    {
      "cell_type": "code",
      "source": [
        "# Realizando backup\n",
        "\n",
        "df_backup = df"
      ],
      "metadata": {
        "id": "M6GAuuAVXjGh"
      },
      "execution_count": null,
      "outputs": []
    },
    {
      "cell_type": "code",
      "source": [
        "# Resgatando o backup\n",
        "\n",
        "#df = df_backup"
      ],
      "metadata": {
        "id": "pPMdPQEzXmdj"
      },
      "execution_count": null,
      "outputs": []
    },
    {
      "cell_type": "markdown",
      "source": [
        "## ◼ 4.2  Visualizando DataFrame"
      ],
      "metadata": {
        "id": "p9kWvng8WXKj"
      }
    },
    {
      "cell_type": "code",
      "source": [
        "df.show()"
      ],
      "metadata": {
        "id": "zzNeoJq2WZbX",
        "colab": {
          "base_uri": "https://localhost:8080/"
        },
        "outputId": "91776649-a6b2-40e8-a939-2e289200863a"
      },
      "execution_count": null,
      "outputs": [
        {
          "output_type": "stream",
          "name": "stdout",
          "text": [
            "+---+-----------------+--------------+---------------+--------------+\n",
            "| id|             nome|           cpf|        celular|        cidade|\n",
            "+---+-----------------+--------------+---------------+--------------+\n",
            "|  1| Oswaldo da Silva|999.999.999-99|(99)9.9999-9999|        Sobral|\n",
            "|  2| Maria dos Santos|888.888.888-88|(88)8.8888-8888|     Fortaleza|\n",
            "|  3|Priscila Medeiros|777.777.777-77|(77)7.7777-7777|Rio de Janeiro|\n",
            "|  4|    Roberto Diniz|666.666.666-66|(66)6.6666-6666|        Sobral|\n",
            "+---+-----------------+--------------+---------------+--------------+\n",
            "\n"
          ]
        }
      ]
    },
    {
      "cell_type": "code",
      "source": [
        "#Visualizando schema\n",
        "df.printSchema()"
      ],
      "metadata": {
        "id": "q1_IKy7TWwXO",
        "colab": {
          "base_uri": "https://localhost:8080/"
        },
        "outputId": "f7057841-3997-429b-800c-d8e76c33bc62"
      },
      "execution_count": null,
      "outputs": [
        {
          "output_type": "stream",
          "name": "stdout",
          "text": [
            "root\n",
            " |-- id: integer (nullable = true)\n",
            " |-- nome: string (nullable = true)\n",
            " |-- cpf: string (nullable = true)\n",
            " |-- celular: string (nullable = true)\n",
            " |-- cidade: string (nullable = true)\n",
            "\n"
          ]
        }
      ]
    },
    {
      "cell_type": "markdown",
      "source": [
        "## ◼ 4.3 Funções"
      ],
      "metadata": {
        "id": "nDCprE4bW_sj"
      }
    },
    {
      "cell_type": "code",
      "source": [
        "# Quantidade de linhas\n",
        "\n",
        "df.count()"
      ],
      "metadata": {
        "colab": {
          "base_uri": "https://localhost:8080/"
        },
        "id": "7GdCQ2ybXBAm",
        "outputId": "d10db7bd-7c9a-49f8-8153-b8d3833daa8f"
      },
      "execution_count": null,
      "outputs": [
        {
          "output_type": "execute_result",
          "data": {
            "text/plain": [
              "4"
            ]
          },
          "metadata": {},
          "execution_count": 9
        }
      ]
    },
    {
      "cell_type": "code",
      "source": [
        "# Verificar colunas\n",
        "\n",
        "df.columns"
      ],
      "metadata": {
        "colab": {
          "base_uri": "https://localhost:8080/"
        },
        "id": "qreSTFreXGOy",
        "outputId": "877c879f-3be9-475b-98d7-56d502015655"
      },
      "execution_count": null,
      "outputs": [
        {
          "output_type": "execute_result",
          "data": {
            "text/plain": [
              "['id', 'nome', 'cpf', 'celular', 'cidade']"
            ]
          },
          "metadata": {},
          "execution_count": 10
        }
      ]
    },
    {
      "cell_type": "markdown",
      "source": [
        "#▶ 5 Select"
      ],
      "metadata": {
        "id": "SE2NFn-eX59L"
      }
    },
    {
      "cell_type": "code",
      "source": [
        "df.select('id','nome').show()"
      ],
      "metadata": {
        "id": "g-XM-eNiX5Hc",
        "colab": {
          "base_uri": "https://localhost:8080/"
        },
        "outputId": "4d94c5e1-d0e8-4cdc-dc5a-6f2f0965c13e"
      },
      "execution_count": null,
      "outputs": [
        {
          "output_type": "stream",
          "name": "stdout",
          "text": [
            "+---+-----------------+\n",
            "| id|             nome|\n",
            "+---+-----------------+\n",
            "|  1| Oswaldo da Silva|\n",
            "|  2| Maria dos Santos|\n",
            "|  3|Priscila Medeiros|\n",
            "|  4|    Roberto Diniz|\n",
            "+---+-----------------+\n",
            "\n"
          ]
        }
      ]
    },
    {
      "cell_type": "code",
      "source": [
        "# Outra forma\n",
        "\n",
        "df.select(F.col('id'),F.col('nome')).show()"
      ],
      "metadata": {
        "colab": {
          "base_uri": "https://localhost:8080/"
        },
        "id": "G5WVWGFRYLZQ",
        "outputId": "0adc8213-40d1-4802-f709-4548009b33a1"
      },
      "execution_count": null,
      "outputs": [
        {
          "output_type": "stream",
          "name": "stdout",
          "text": [
            "+---+-----------------+\n",
            "| id|             nome|\n",
            "+---+-----------------+\n",
            "|  1| Oswaldo da Silva|\n",
            "|  2| Maria dos Santos|\n",
            "|  3|Priscila Medeiros|\n",
            "|  4|    Roberto Diniz|\n",
            "+---+-----------------+\n",
            "\n"
          ]
        }
      ]
    },
    {
      "cell_type": "markdown",
      "source": [
        "#▶ 6 Filter"
      ],
      "metadata": {
        "id": "kPBfBZr2YZ5p"
      }
    },
    {
      "cell_type": "code",
      "source": [
        "df.filter(F.col('nome') == 'Priscila Medeiros').show()"
      ],
      "metadata": {
        "colab": {
          "base_uri": "https://localhost:8080/"
        },
        "id": "4I6zd1RNYmlX",
        "outputId": "43fcb3f3-e36c-4e44-bdea-3701b0a909e2"
      },
      "execution_count": null,
      "outputs": [
        {
          "output_type": "stream",
          "name": "stdout",
          "text": [
            "+---+-----------------+--------------+---------------+--------------+\n",
            "| id|             nome|           cpf|        celular|        cidade|\n",
            "+---+-----------------+--------------+---------------+--------------+\n",
            "|  3|Priscila Medeiros|777.777.777-77|(77)7.7777-7777|Rio de Janeiro|\n",
            "+---+-----------------+--------------+---------------+--------------+\n",
            "\n"
          ]
        }
      ]
    },
    {
      "cell_type": "code",
      "source": [
        "# Outra forma\n",
        "\n",
        "df.filter(df.nome == 'Priscila Medeiros').show()"
      ],
      "metadata": {
        "colab": {
          "base_uri": "https://localhost:8080/"
        },
        "id": "sBcldrjRY4G9",
        "outputId": "a6acb4d1-c01a-49a4-fae2-259d563bc1c3"
      },
      "execution_count": null,
      "outputs": [
        {
          "output_type": "stream",
          "name": "stdout",
          "text": [
            "+---+-----------------+--------------+---------------+--------------+\n",
            "| id|             nome|           cpf|        celular|        cidade|\n",
            "+---+-----------------+--------------+---------------+--------------+\n",
            "|  3|Priscila Medeiros|777.777.777-77|(77)7.7777-7777|Rio de Janeiro|\n",
            "+---+-----------------+--------------+---------------+--------------+\n",
            "\n"
          ]
        }
      ]
    },
    {
      "cell_type": "code",
      "source": [
        "# Outra forma\n",
        "\n",
        "df.filter(\"nome = 'Priscila Medeiros'\").show()"
      ],
      "metadata": {
        "colab": {
          "base_uri": "https://localhost:8080/"
        },
        "id": "TGvjhl3eZDd-",
        "outputId": "ecb2f608-fbab-4355-cfaf-49e2d5841cc7"
      },
      "execution_count": null,
      "outputs": [
        {
          "output_type": "stream",
          "name": "stdout",
          "text": [
            "+---+-----------------+--------------+---------------+--------------+\n",
            "| id|             nome|           cpf|        celular|        cidade|\n",
            "+---+-----------------+--------------+---------------+--------------+\n",
            "|  3|Priscila Medeiros|777.777.777-77|(77)7.7777-7777|Rio de Janeiro|\n",
            "+---+-----------------+--------------+---------------+--------------+\n",
            "\n"
          ]
        }
      ]
    },
    {
      "cell_type": "code",
      "source": [
        "# Filtrando duas cidades\n",
        "\n",
        "df.filter((F.col('cidade') == 'Rio de Janeiro') | (F.col('cidade') == 'Sobral')).show()"
      ],
      "metadata": {
        "colab": {
          "base_uri": "https://localhost:8080/"
        },
        "id": "GgHd1E9wbHcl",
        "outputId": "6a101057-537f-4aab-92ad-9394ec00a8dc"
      },
      "execution_count": null,
      "outputs": [
        {
          "output_type": "stream",
          "name": "stdout",
          "text": [
            "+---+-----------------+--------------+---------------+--------------+\n",
            "| id|             nome|           cpf|        celular|        cidade|\n",
            "+---+-----------------+--------------+---------------+--------------+\n",
            "|  1| Oswaldo da Silva|999.999.999-99|(99)9.9999-9999|        Sobral|\n",
            "|  3|Priscila Medeiros|777.777.777-77|(77)7.7777-7777|Rio de Janeiro|\n",
            "|  4|    Roberto Diniz|666.666.666-66|(66)6.6666-6666|        Sobral|\n",
            "+---+-----------------+--------------+---------------+--------------+\n",
            "\n"
          ]
        }
      ]
    },
    {
      "cell_type": "code",
      "source": [
        "# Outra forma\n",
        "df.filter(\" cidade = 'Rio de Janeiro' or cidade = 'Sobral' \").show()"
      ],
      "metadata": {
        "colab": {
          "base_uri": "https://localhost:8080/"
        },
        "id": "KmttfAt7bjhp",
        "outputId": "ce2c0d82-f353-498c-a51d-d1dfc671b105"
      },
      "execution_count": null,
      "outputs": [
        {
          "output_type": "stream",
          "name": "stdout",
          "text": [
            "+---+-----------------+--------------+---------------+--------------+\n",
            "| id|             nome|           cpf|        celular|        cidade|\n",
            "+---+-----------------+--------------+---------------+--------------+\n",
            "|  1| Oswaldo da Silva|999.999.999-99|(99)9.9999-9999|        Sobral|\n",
            "|  3|Priscila Medeiros|777.777.777-77|(77)7.7777-7777|Rio de Janeiro|\n",
            "|  4|    Roberto Diniz|666.666.666-66|(66)6.6666-6666|        Sobral|\n",
            "+---+-----------------+--------------+---------------+--------------+\n",
            "\n"
          ]
        }
      ]
    },
    {
      "cell_type": "markdown",
      "source": [
        "#▶ 7 Select and Filter"
      ],
      "metadata": {
        "id": "LQ23tC_eZUJV"
      }
    },
    {
      "cell_type": "code",
      "source": [
        "# Mostrando nome, cpf e cidade daqueles que são do 'Rio de Janeiro' ou 'Sobral'\n",
        "\n",
        "(df.select(F.col('nome'),F.col('cpf'),F.col('cidade')).filter((F.col('cidade')=='Rio de Janeiro') | (F.col('cidade')=='Sobral')).show())\n"
      ],
      "metadata": {
        "id": "79ihu-5VZXWu",
        "colab": {
          "base_uri": "https://localhost:8080/"
        },
        "outputId": "c63eaf50-89e5-4a15-baee-dc69db3f0204"
      },
      "execution_count": null,
      "outputs": [
        {
          "output_type": "stream",
          "name": "stdout",
          "text": [
            "+-----------------+--------------+--------------+\n",
            "|             nome|           cpf|        cidade|\n",
            "+-----------------+--------------+--------------+\n",
            "| Oswaldo da Silva|999.999.999-99|        Sobral|\n",
            "|Priscila Medeiros|777.777.777-77|Rio de Janeiro|\n",
            "|    Roberto Diniz|666.666.666-66|        Sobral|\n",
            "+-----------------+--------------+--------------+\n",
            "\n"
          ]
        }
      ]
    },
    {
      "cell_type": "markdown",
      "source": [
        "# ▶ 8 Extração DataSet "
      ],
      "metadata": {
        "id": "9aMlA2wcufPC"
      }
    },
    {
      "cell_type": "code",
      "source": [
        "df = (spark.read.format('csv').option('header','true')\n",
        "                              .option('inferschema','true')\n",
        "                              .load('/content/drive/MyDrive/Colab Notebooks/compras.csv',sep=';'))"
      ],
      "metadata": {
        "id": "EyTdLVQYujPV"
      },
      "execution_count": null,
      "outputs": []
    },
    {
      "cell_type": "markdown",
      "source": [
        "## ◼ 8.1 Pré-análise"
      ],
      "metadata": {
        "id": "OXAl3k6wv39w"
      }
    },
    {
      "cell_type": "markdown",
      "source": [
        "***Esse DataFrame é referente a uma pequena quantidade de dados que será utilizado apenas para consolidação de conhecimentos sobre a biblioteca Pyspark.***"
      ],
      "metadata": {
        "id": "4cvbfL4twQzG"
      }
    },
    {
      "cell_type": "markdown",
      "source": [
        "**Observações:**\n",
        "\n",
        "\n",
        "1.   Nome dos schemas sem padrão. Renomear **|>**\n",
        "2.   Data_Nascimento e Assinatura são datas **|>**\n",
        "\n"
      ],
      "metadata": {
        "id": "H_FwWQ7Kw60B"
      }
    },
    {
      "cell_type": "code",
      "source": [
        "#Visualizando os schemas\n",
        "df.printSchema()"
      ],
      "metadata": {
        "colab": {
          "base_uri": "https://localhost:8080/"
        },
        "id": "MbQ8XHq3v1uC",
        "outputId": "9873342d-d503-4798-8c86-1e364025bb44"
      },
      "execution_count": null,
      "outputs": [
        {
          "output_type": "stream",
          "name": "stdout",
          "text": [
            "root\n",
            " |-- Username: string (nullable = true)\n",
            " |-- Nome: string (nullable = true)\n",
            " |-- Sexo: string (nullable = true)\n",
            " |-- Data_Nascimento: string (nullable = true)\n",
            " |-- Ocupação: string (nullable = true)\n",
            " |-- Assinatura: string (nullable = true)\n",
            " |-- Total_Gasto : double (nullable = true)\n",
            "\n"
          ]
        }
      ]
    },
    {
      "cell_type": "code",
      "source": [
        "#Visualização do DataFrame\n",
        "df.show(truncate=False)"
      ],
      "metadata": {
        "colab": {
          "base_uri": "https://localhost:8080/"
        },
        "id": "vYAAZfA9xozt",
        "outputId": "346e5feb-bac5-43d7-a147-61fe5886f8b0"
      },
      "execution_count": null,
      "outputs": [
        {
          "output_type": "stream",
          "name": "stdout",
          "text": [
            "+-------------+-------------------------+---------+---------------+-----------------------------------+----------+------------+\n",
            "|Username     |Nome                     |Sexo     |Data_Nascimento|Ocupação                           |Assinatura|Total_Gasto |\n",
            "+-------------+-------------------------+---------+---------------+-----------------------------------+----------+------------+\n",
            "|Neaude1978   |  Mr \\tbailey Glover     |masculino|01/12/1979     |Analista de Inteligência de Mercado|01/10/2021|1257.45     |\n",
            "|Maress39     |Mrs  \\t isabella   Fowler|feminino |04/08/1960     |Arquiteto de Dados                 |24/03/2020|771.99      |\n",
            "|Kehonell     | Mrs Chloe \\tKirby       |feminino |28/06/1949     |Analista de RH                     |07/06/2020|1021.77     |\n",
            "|Thimpay      | Mrs louise \\tClark      |feminino |07/01/1995     |Arquiteto de Dados                 |03/11/2020|234.76      |\n",
            "|Giall1985    |Mr Harrison \\t Bowen     |feminino |04/04/1987     |Engenheiro de Dados                |25/03/2020|628.07      |\n",
            "|Neave1959    |Mrs anna \\t     Sharp    |feminino |02/02/1970     |Engenheiro de Dados                |18/09/2020|140.04      |\n",
            "|Nicterims1993|  Mrs \\tDaisy Anderson   |masculino|05/07/1985     |Engenheiro de Dados                |29/01/2021|2417.81     |\n",
            "|Fouldlairity |Ms zoe \\tPeacock         |masculino|03/06/1964     |Analista Financeiro                |04/12/2020|51.95       |\n",
            "|Ancomettiody | Mrs Libby \\tWilliams    |feminino |04/09/1974     |Estatístico                        |21/11/2020|130.73      |\n",
            "|Onswis       |Ms Katie \\tMmtcalfe      |feminino |01/07/1983     |Engenheiro de Machine Learning     |27/02/2021|1778.72     |\n",
            "|Majeappre    |Mr Luca \\tVaughan        |feminino |03/01/1971     |Gerente de Tecnologia              |15/07/2022|1034.74     |\n",
            "|Theired      |Mr Henry \\tHaynes        |masculino|06/09/1951     |Analista de Inteligência de Mercado|23/12/2022|1320.04     |\n",
            "|Botter       |Mr Noah \\tWalton         |feminino |09/03/1991     |Web Designer                       |26/07/2022|3464.72     |\n",
            "+-------------+-------------------------+---------+---------------+-----------------------------------+----------+------------+\n",
            "\n"
          ]
        }
      ]
    },
    {
      "cell_type": "markdown",
      "source": [
        "### ◼ 8.1.1 Filtros"
      ],
      "metadata": {
        "id": "Cdq47zmFx1W_"
      }
    },
    {
      "cell_type": "markdown",
      "source": [
        "**Filtros propostos em sala pelo professor.**"
      ],
      "metadata": {
        "id": "8cReOj-cx4Nm"
      }
    },
    {
      "cell_type": "code",
      "source": [
        "#Mostrar apenas Username, Sexo, Ocupação e Total Gasto\n",
        "df.select(F.col('Username'),F.col('Sexo'),F.col('Ocupação'),F.col('Total_Gasto ')).show(truncate=False)"
      ],
      "metadata": {
        "colab": {
          "base_uri": "https://localhost:8080/"
        },
        "id": "yxWV0QNOyIG-",
        "outputId": "d83d0910-c28a-48b8-d773-53402b3c4646"
      },
      "execution_count": null,
      "outputs": [
        {
          "output_type": "stream",
          "name": "stdout",
          "text": [
            "+-------------+---------+-----------------------------------+------------+\n",
            "|Username     |Sexo     |Ocupação                           |Total_Gasto |\n",
            "+-------------+---------+-----------------------------------+------------+\n",
            "|Neaude1978   |masculino|Analista de Inteligência de Mercado|1257.45     |\n",
            "|Maress39     |feminino |Arquiteto de Dados                 |771.99      |\n",
            "|Kehonell     |feminino |Analista de RH                     |1021.77     |\n",
            "|Thimpay      |feminino |Arquiteto de Dados                 |234.76      |\n",
            "|Giall1985    |feminino |Engenheiro de Dados                |628.07      |\n",
            "|Neave1959    |feminino |Engenheiro de Dados                |140.04      |\n",
            "|Nicterims1993|masculino|Engenheiro de Dados                |2417.81     |\n",
            "|Fouldlairity |masculino|Analista Financeiro                |51.95       |\n",
            "|Ancomettiody |feminino |Estatístico                        |130.73      |\n",
            "|Onswis       |feminino |Engenheiro de Machine Learning     |1778.72     |\n",
            "|Majeappre    |feminino |Gerente de Tecnologia              |1034.74     |\n",
            "|Theired      |masculino|Analista de Inteligência de Mercado|1320.04     |\n",
            "|Botter       |feminino |Web Designer                       |3464.72     |\n",
            "+-------------+---------+-----------------------------------+------------+\n",
            "\n"
          ]
        }
      ]
    },
    {
      "cell_type": "code",
      "source": [
        "#Mostrar apenas Username, Sexo, Ocupação e Total Gasto apenas quando o total for maior que 1000\n",
        "\n",
        "df.select(F.col('Username'),F.col('Sexo'),F.col('Ocupação'),F.col('Total_Gasto ')).filter(F.col('Total_Gasto ') > 1000).show(truncate=False)"
      ],
      "metadata": {
        "colab": {
          "base_uri": "https://localhost:8080/"
        },
        "id": "cTFE68Rtx3vw",
        "outputId": "c74a748d-b155-4716-e8cf-da0493ab04d5"
      },
      "execution_count": null,
      "outputs": [
        {
          "output_type": "stream",
          "name": "stdout",
          "text": [
            "+-------------+---------+-----------------------------------+------------+\n",
            "|Username     |Sexo     |Ocupação                           |Total_Gasto |\n",
            "+-------------+---------+-----------------------------------+------------+\n",
            "|Neaude1978   |masculino|Analista de Inteligência de Mercado|1257.45     |\n",
            "|Kehonell     |feminino |Analista de RH                     |1021.77     |\n",
            "|Nicterims1993|masculino|Engenheiro de Dados                |2417.81     |\n",
            "|Onswis       |feminino |Engenheiro de Machine Learning     |1778.72     |\n",
            "|Majeappre    |feminino |Gerente de Tecnologia              |1034.74     |\n",
            "|Theired      |masculino|Analista de Inteligência de Mercado|1320.04     |\n",
            "|Botter       |feminino |Web Designer                       |3464.72     |\n",
            "+-------------+---------+-----------------------------------+------------+\n",
            "\n"
          ]
        }
      ]
    },
    {
      "cell_type": "code",
      "source": [
        "#Mostrar apenas Username, Sexo, Ocupação e Total Gasto apenas quando o total for maior que 1000 e menor que 2000\n",
        "\n",
        "(df.select(F.col('Username'),F.col('Sexo'),F.col('Ocupação'),F.col('Total_Gasto '))\n",
        "    .filter((F.col('Total_Gasto ') > 1000) & (F.col('Total_Gasto ') < 2000)).show(truncate=False))"
      ],
      "metadata": {
        "colab": {
          "base_uri": "https://localhost:8080/"
        },
        "id": "EdzQu9llyAW7",
        "outputId": "ccb7517a-3f28-4b3c-c1af-2473d5b641ec"
      },
      "execution_count": null,
      "outputs": [
        {
          "output_type": "stream",
          "name": "stdout",
          "text": [
            "+----------+---------+-----------------------------------+------------+\n",
            "|Username  |Sexo     |Ocupação                           |Total_Gasto |\n",
            "+----------+---------+-----------------------------------+------------+\n",
            "|Neaude1978|masculino|Analista de Inteligência de Mercado|1257.45     |\n",
            "|Kehonell  |feminino |Analista de RH                     |1021.77     |\n",
            "|Onswis    |feminino |Engenheiro de Machine Learning     |1778.72     |\n",
            "|Majeappre |feminino |Gerente de Tecnologia              |1034.74     |\n",
            "|Theired   |masculino|Analista de Inteligência de Mercado|1320.04     |\n",
            "+----------+---------+-----------------------------------+------------+\n",
            "\n"
          ]
        }
      ]
    },
    {
      "cell_type": "markdown",
      "source": [
        "## ◼ 8.2 Tratamento | Limpeza"
      ],
      "metadata": {
        "id": "bWUZCgq8ym2h"
      }
    },
    {
      "cell_type": "markdown",
      "source": [
        "### ◼ 8.2.2 Backup"
      ],
      "metadata": {
        "id": "kQT5ftYVyq9W"
      }
    },
    {
      "cell_type": "code",
      "source": [
        "df_backup = df"
      ],
      "metadata": {
        "id": "5lGKHH7fysRT"
      },
      "execution_count": null,
      "outputs": []
    },
    {
      "cell_type": "markdown",
      "source": [
        "### ◼ 8.2.3 sumary"
      ],
      "metadata": {
        "id": "0t0hCWMi8eCv"
      }
    },
    {
      "cell_type": "code",
      "source": [
        "df.summary().show()"
      ],
      "metadata": {
        "colab": {
          "base_uri": "https://localhost:8080/"
        },
        "id": "JaDlVhmR8fbF",
        "outputId": "92aaf47c-7f6a-486d-e07d-c6e221299373"
      },
      "execution_count": null,
      "outputs": [
        {
          "output_type": "stream",
          "name": "stdout",
          "text": [
            "+-------+------------+--------------------+---------+---------------+-------------------+----------+------------------+\n",
            "|summary|    Username|                Nome|     Sexo|Data_Nascimento|           Ocupação|Assinatura|      Total_Gasto |\n",
            "+-------+------------+--------------------+---------+---------------+-------------------+----------+------------------+\n",
            "|  count|          13|                  13|       13|             13|                 13|        13|                13|\n",
            "|   mean|        null|                null|     null|           null|               null|      null|1096.3684615384614|\n",
            "| stddev|        null|                null|     null|           null|               null|      null| 996.2833119553741|\n",
            "|    min|Ancomettiody|  Mr \\tbailey Glo...| feminino|     01/07/1983|Analista Financeiro|01/10/2021|             51.95|\n",
            "|    25%|        null|                null|     null|           null|               null|      null|            234.76|\n",
            "|    50%|        null|                null|     null|           null|               null|      null|           1021.77|\n",
            "|    75%|        null|                null|     null|           null|               null|      null|           1320.04|\n",
            "|    max|     Thimpay|    Ms zoe \\tPeacock|masculino|     28/06/1949|       Web Designer|29/01/2021|           3464.72|\n",
            "+-------+------------+--------------------+---------+---------------+-------------------+----------+------------------+\n",
            "\n"
          ]
        }
      ]
    },
    {
      "cell_type": "markdown",
      "source": [
        "### ◼ 8.2.4 Verificando quantidade valores nulos"
      ],
      "metadata": {
        "id": "g5qxOJww84C0"
      }
    },
    {
      "cell_type": "code",
      "source": [
        "total = df.count()\n",
        "distintos = df.distinct().count()\n",
        "nulos = total - distintos\n",
        "print(nulos)"
      ],
      "metadata": {
        "colab": {
          "base_uri": "https://localhost:8080/"
        },
        "id": "yodFLjFD9Jl4",
        "outputId": "bcfe3881-e754-4821-e1a2-69ab2e54badd"
      },
      "execution_count": null,
      "outputs": [
        {
          "output_type": "stream",
          "name": "stdout",
          "text": [
            "0\n"
          ]
        }
      ]
    },
    {
      "cell_type": "markdown",
      "source": [
        "### ◼ 8.2.5 Renomeando colunas"
      ],
      "metadata": {
        "id": "9TW5fDfwyx3x"
      }
    },
    {
      "cell_type": "code",
      "source": [
        "df = (df.withColumnRenamed('username','usuario')\n",
        "        .withColumnRenamed('Nome','nome')\n",
        "        .withColumnRenamed('Sexo','sexo')\n",
        "        .withColumnRenamed('Data_Nascimento','data_nascimento')\n",
        "        .withColumnRenamed('Ocupação','ocupacao')\n",
        "        .withColumnRenamed('Assinatura','data_assinatura')\n",
        "        .withColumnRenamed('Total_Gasto ','total_gasto'))"
      ],
      "metadata": {
        "id": "12Gy75VNy2Az"
      },
      "execution_count": null,
      "outputs": []
    },
    {
      "cell_type": "markdown",
      "source": [
        "###◼ 8.2.6 Substuindo valores nulos"
      ],
      "metadata": {
        "id": "RwYd3JWe9mJ9"
      }
    },
    {
      "cell_type": "markdown",
      "source": [
        "**Essa DataFrame não tem valores nulos, mas caso tivessem eu poderia utilizar o código abaixo.**\n",
        "\n",
        "**observação:**\n",
        "\n",
        "**.fillna** -> Substituir os valores nulos\n",
        "\n",
        "**'NA'** -> valor substituto\n",
        "\n",
        "**subsets** -> colunas que receberão mudanças"
      ],
      "metadata": {
        "id": "7CzUbDuh9pA6"
      }
    },
    {
      "cell_type": "code",
      "source": [
        "df.fillna('NA',subset=['usuario','nome','sexo'])"
      ],
      "metadata": {
        "id": "JhnhsDfY9omN",
        "colab": {
          "base_uri": "https://localhost:8080/"
        },
        "outputId": "8fbf70da-a7e0-492d-c36a-1f22e7f232a2"
      },
      "execution_count": null,
      "outputs": [
        {
          "output_type": "execute_result",
          "data": {
            "text/plain": [
              "DataFrame[usuario: string, nome: string, sexo: string, data_nascimento: string, ocupacao: string, data_assinatura: string, total_gasto: double]"
            ]
          },
          "metadata": {},
          "execution_count": 29
        }
      ]
    },
    {
      "cell_type": "markdown",
      "source": [
        "###◼ 8.2.7 Separando coluna data_nascimento"
      ],
      "metadata": {
        "id": "f5qjc1PR0zqo"
      }
    },
    {
      "cell_type": "code",
      "source": [
        "df.select('data_nascimento').show()"
      ],
      "metadata": {
        "colab": {
          "base_uri": "https://localhost:8080/"
        },
        "id": "YfwjbeuK1gYW",
        "outputId": "10fc92e5-b80e-4e33-fef8-656476eb4325"
      },
      "execution_count": null,
      "outputs": [
        {
          "output_type": "stream",
          "name": "stdout",
          "text": [
            "+---------------+\n",
            "|data_nascimento|\n",
            "+---------------+\n",
            "|     01/12/1979|\n",
            "|     04/08/1960|\n",
            "|     28/06/1949|\n",
            "|     07/01/1995|\n",
            "|     04/04/1987|\n",
            "|     02/02/1970|\n",
            "|     05/07/1985|\n",
            "|     03/06/1964|\n",
            "|     04/09/1974|\n",
            "|     01/07/1983|\n",
            "|     03/01/1971|\n",
            "|     06/09/1951|\n",
            "|     09/03/1991|\n",
            "+---------------+\n",
            "\n"
          ]
        }
      ]
    },
    {
      "cell_type": "code",
      "source": [
        "#Criando colunas dia, mes e ano\n",
        "\n",
        "df_data_separada = (df.select('data_nascimento')\n",
        "                      .withColumn('dia',F.substring('data_nascimento',1,2))\n",
        "                      .withColumn('mes',F.substring('data_nascimento',4,2))\n",
        "                      .withColumn('ano',F.substring('data_nascimento',7,4)))"
      ],
      "metadata": {
        "id": "DvqwQU_q1-8p"
      },
      "execution_count": null,
      "outputs": []
    },
    {
      "cell_type": "code",
      "source": [
        "df_data_separada.show()"
      ],
      "metadata": {
        "colab": {
          "base_uri": "https://localhost:8080/"
        },
        "id": "3H5xfANV3C1M",
        "outputId": "ced5b641-db6e-4ed0-f648-65334639ff27"
      },
      "execution_count": null,
      "outputs": [
        {
          "output_type": "stream",
          "name": "stdout",
          "text": [
            "+---------------+---+---+----+\n",
            "|data_nascimento|dia|mes| ano|\n",
            "+---------------+---+---+----+\n",
            "|     01/12/1979| 01| 12|1979|\n",
            "|     04/08/1960| 04| 08|1960|\n",
            "|     28/06/1949| 28| 06|1949|\n",
            "|     07/01/1995| 07| 01|1995|\n",
            "|     04/04/1987| 04| 04|1987|\n",
            "|     02/02/1970| 02| 02|1970|\n",
            "|     05/07/1985| 05| 07|1985|\n",
            "|     03/06/1964| 03| 06|1964|\n",
            "|     04/09/1974| 04| 09|1974|\n",
            "|     01/07/1983| 01| 07|1983|\n",
            "|     03/01/1971| 03| 01|1971|\n",
            "|     06/09/1951| 06| 09|1951|\n",
            "|     09/03/1991| 09| 03|1991|\n",
            "+---------------+---+---+----+\n",
            "\n"
          ]
        }
      ]
    },
    {
      "cell_type": "code",
      "source": [
        "df"
      ],
      "metadata": {
        "colab": {
          "base_uri": "https://localhost:8080/"
        },
        "id": "eXX6OB6Ir0uW",
        "outputId": "14636fba-ff2f-4af1-e3bb-62662bea7f88"
      },
      "execution_count": null,
      "outputs": [
        {
          "output_type": "execute_result",
          "data": {
            "text/plain": [
              "DataFrame[usuario: string, nome: string, sexo: string, data_nascimento: string, ocupacao: string, data_assinatura: string, total_gasto: double]"
            ]
          },
          "metadata": {},
          "execution_count": 33
        }
      ]
    },
    {
      "cell_type": "markdown",
      "source": [
        "###◼ 8.2.8 Removendo duplicados"
      ],
      "metadata": {
        "id": "lzxyWFH87oD8"
      }
    },
    {
      "cell_type": "markdown",
      "source": [
        "**Existem duas formas:**\n",
        "1. .dropDuplicates( )\n",
        "2. .distinct( )"
      ],
      "metadata": {
        "id": "jE2iDFRY8A-4"
      }
    },
    {
      "cell_type": "code",
      "source": [
        "df.dropDuplicates()"
      ],
      "metadata": {
        "id": "yp9xQ4WS76c-",
        "colab": {
          "base_uri": "https://localhost:8080/"
        },
        "outputId": "09848615-244b-43ec-9ca7-53ef71d204f8"
      },
      "execution_count": null,
      "outputs": [
        {
          "output_type": "execute_result",
          "data": {
            "text/plain": [
              "DataFrame[usuario: string, nome: string, sexo: string, data_nascimento: string, ocupacao: string, data_assinatura: string, total_gasto: double]"
            ]
          },
          "metadata": {},
          "execution_count": 34
        }
      ]
    },
    {
      "cell_type": "code",
      "source": [
        "df.distinct()"
      ],
      "metadata": {
        "id": "56QbIPqN8P2m",
        "colab": {
          "base_uri": "https://localhost:8080/"
        },
        "outputId": "93850291-3ae3-42f4-a849-7ae377eb43bf"
      },
      "execution_count": null,
      "outputs": [
        {
          "output_type": "execute_result",
          "data": {
            "text/plain": [
              "DataFrame[usuario: string, nome: string, sexo: string, data_nascimento: string, ocupacao: string, data_assinatura: string, total_gasto: double]"
            ]
          },
          "metadata": {},
          "execution_count": 35
        }
      ]
    },
    {
      "cell_type": "markdown",
      "source": [
        "### ◼ 8.2.9 Exemplo: removendo coluna"
      ],
      "metadata": {
        "id": "5JoCLkU__rjh"
      }
    },
    {
      "cell_type": "markdown",
      "source": [
        "***Nessa DataFrame não será necessário remover nenhuma coluna, mas caso precisasse utilizaria a função abaixo:***"
      ],
      "metadata": {
        "id": "bswm_KKL_7i2"
      }
    },
    {
      "cell_type": "code",
      "source": [
        "df.drop('data_assinatura').show()"
      ],
      "metadata": {
        "id": "NhWAKWgt_utZ",
        "colab": {
          "base_uri": "https://localhost:8080/"
        },
        "outputId": "e571d1c3-b3a1-4325-b6ad-9f16ac4d83b9"
      },
      "execution_count": null,
      "outputs": [
        {
          "output_type": "stream",
          "name": "stdout",
          "text": [
            "+-------------+--------------------+---------+---------------+--------------------+-----------+\n",
            "|      usuario|                nome|     sexo|data_nascimento|            ocupacao|total_gasto|\n",
            "+-------------+--------------------+---------+---------------+--------------------+-----------+\n",
            "|   Neaude1978|  Mr \\tbailey Glo...|masculino|     01/12/1979|Analista de Intel...|    1257.45|\n",
            "|     Maress39|Mrs  \\t isabella ...| feminino|     04/08/1960|  Arquiteto de Dados|     771.99|\n",
            "|     Kehonell| Mrs Chloe \\tKirby  | feminino|     28/06/1949|      Analista de RH|    1021.77|\n",
            "|      Thimpay| Mrs louise \\tCla...| feminino|     07/01/1995|  Arquiteto de Dados|     234.76|\n",
            "|    Giall1985|Mr Harrison \\t Bowen| feminino|     04/04/1987| Engenheiro de Dados|     628.07|\n",
            "|    Neave1959|Mrs anna \\t     S...| feminino|     02/02/1970| Engenheiro de Dados|     140.04|\n",
            "|Nicterims1993|  Mrs \\tDaisy And...|masculino|     05/07/1985| Engenheiro de Dados|    2417.81|\n",
            "| Fouldlairity|    Ms zoe \\tPeacock|masculino|     03/06/1964| Analista Financeiro|      51.95|\n",
            "| Ancomettiody| Mrs Libby \\tWill...| feminino|     04/09/1974|         Estatístico|     130.73|\n",
            "|       Onswis| Ms Katie \\tMmtcalfe| feminino|     01/07/1983|Engenheiro de Mac...|    1778.72|\n",
            "|    Majeappre|   Mr Luca \\tVaughan| feminino|     03/01/1971|Gerente de Tecnol...|    1034.74|\n",
            "|      Theired|   Mr Henry \\tHaynes|masculino|     06/09/1951|Analista de Intel...|    1320.04|\n",
            "|       Botter|    Mr Noah \\tWalton| feminino|     09/03/1991|        Web Designer|    3464.72|\n",
            "+-------------+--------------------+---------+---------------+--------------------+-----------+\n",
            "\n"
          ]
        }
      ]
    },
    {
      "cell_type": "markdown",
      "source": [
        "###◼ 8.2.10 Alterando coluna sexo"
      ],
      "metadata": {
        "id": "LLKWdTMt3Rhl"
      }
    },
    {
      "cell_type": "markdown",
      "source": [
        "**Praticando o comando when e otherwise**"
      ],
      "metadata": {
        "id": "Ff9eQxORDsdX"
      }
    },
    {
      "cell_type": "code",
      "source": [
        "# ALTERAR VALORES DENTRO DA COLUNA. f - feminino & m - masculino\n",
        "\n",
        "df2 = (df.withColumn('sexo',F.when(F.col('sexo') == 'feminino',F.regexp_replace('sexo','feminino','f'))\n",
        "                             .when(F.col('sexo') == 'masculino',F.regexp_replace('sexo','masculino','m'))\n",
        "                             .otherwise('Não definido')))"
      ],
      "metadata": {
        "id": "NITVdYw-3Vt2"
      },
      "execution_count": null,
      "outputs": []
    },
    {
      "cell_type": "code",
      "source": [
        "df2.show()"
      ],
      "metadata": {
        "colab": {
          "base_uri": "https://localhost:8080/"
        },
        "id": "-fMe9k3U5uBy",
        "outputId": "9aa4c8ca-bc6d-4e2e-ac7d-b2de23ba85fa"
      },
      "execution_count": null,
      "outputs": [
        {
          "output_type": "stream",
          "name": "stdout",
          "text": [
            "+-------------+--------------------+----+---------------+--------------------+---------------+-----------+\n",
            "|      usuario|                nome|sexo|data_nascimento|            ocupacao|data_assinatura|total_gasto|\n",
            "+-------------+--------------------+----+---------------+--------------------+---------------+-----------+\n",
            "|   Neaude1978|  Mr \\tbailey Glo...|   m|     01/12/1979|Analista de Intel...|     01/10/2021|    1257.45|\n",
            "|     Maress39|Mrs  \\t isabella ...|   f|     04/08/1960|  Arquiteto de Dados|     24/03/2020|     771.99|\n",
            "|     Kehonell| Mrs Chloe \\tKirby  |   f|     28/06/1949|      Analista de RH|     07/06/2020|    1021.77|\n",
            "|      Thimpay| Mrs louise \\tCla...|   f|     07/01/1995|  Arquiteto de Dados|     03/11/2020|     234.76|\n",
            "|    Giall1985|Mr Harrison \\t Bowen|   f|     04/04/1987| Engenheiro de Dados|     25/03/2020|     628.07|\n",
            "|    Neave1959|Mrs anna \\t     S...|   f|     02/02/1970| Engenheiro de Dados|     18/09/2020|     140.04|\n",
            "|Nicterims1993|  Mrs \\tDaisy And...|   m|     05/07/1985| Engenheiro de Dados|     29/01/2021|    2417.81|\n",
            "| Fouldlairity|    Ms zoe \\tPeacock|   m|     03/06/1964| Analista Financeiro|     04/12/2020|      51.95|\n",
            "| Ancomettiody| Mrs Libby \\tWill...|   f|     04/09/1974|         Estatístico|     21/11/2020|     130.73|\n",
            "|       Onswis| Ms Katie \\tMmtcalfe|   f|     01/07/1983|Engenheiro de Mac...|     27/02/2021|    1778.72|\n",
            "|    Majeappre|   Mr Luca \\tVaughan|   f|     03/01/1971|Gerente de Tecnol...|     15/07/2022|    1034.74|\n",
            "|      Theired|   Mr Henry \\tHaynes|   m|     06/09/1951|Analista de Intel...|     23/12/2022|    1320.04|\n",
            "|       Botter|    Mr Noah \\tWalton|   f|     09/03/1991|        Web Designer|     26/07/2022|    3464.72|\n",
            "+-------------+--------------------+----+---------------+--------------------+---------------+-----------+\n",
            "\n"
          ]
        }
      ]
    },
    {
      "cell_type": "markdown",
      "source": [
        "###◼ 8.2.11 Convertendo colunas Strings para Date"
      ],
      "metadata": {
        "id": "ISJ0PZurrtL0"
      }
    },
    {
      "cell_type": "code",
      "source": [
        "#Conversão da coluna data_nascimento e data_assinatura para Date\n",
        "\n",
        "df2 = df2.withColumn('data_nascimento',F.to_date('data_nascimento','dd/MM/yyyy')).withColumn('data_assinatura',F.to_date('data_assinatura','dd/MM/yyyy'))\n",
        "df2.show()"
      ],
      "metadata": {
        "id": "saIcIdMssU-p",
        "colab": {
          "base_uri": "https://localhost:8080/"
        },
        "outputId": "846884dc-458b-4664-88db-5cb20094f776"
      },
      "execution_count": null,
      "outputs": [
        {
          "output_type": "stream",
          "name": "stdout",
          "text": [
            "+-------------+--------------------+----+---------------+--------------------+---------------+-----------+\n",
            "|      usuario|                nome|sexo|data_nascimento|            ocupacao|data_assinatura|total_gasto|\n",
            "+-------------+--------------------+----+---------------+--------------------+---------------+-----------+\n",
            "|   Neaude1978|  Mr \\tbailey Glo...|   m|     1979-12-01|Analista de Intel...|     2021-10-01|    1257.45|\n",
            "|     Maress39|Mrs  \\t isabella ...|   f|     1960-08-04|  Arquiteto de Dados|     2020-03-24|     771.99|\n",
            "|     Kehonell| Mrs Chloe \\tKirby  |   f|     1949-06-28|      Analista de RH|     2020-06-07|    1021.77|\n",
            "|      Thimpay| Mrs louise \\tCla...|   f|     1995-01-07|  Arquiteto de Dados|     2020-11-03|     234.76|\n",
            "|    Giall1985|Mr Harrison \\t Bowen|   f|     1987-04-04| Engenheiro de Dados|     2020-03-25|     628.07|\n",
            "|    Neave1959|Mrs anna \\t     S...|   f|     1970-02-02| Engenheiro de Dados|     2020-09-18|     140.04|\n",
            "|Nicterims1993|  Mrs \\tDaisy And...|   m|     1985-07-05| Engenheiro de Dados|     2021-01-29|    2417.81|\n",
            "| Fouldlairity|    Ms zoe \\tPeacock|   m|     1964-06-03| Analista Financeiro|     2020-12-04|      51.95|\n",
            "| Ancomettiody| Mrs Libby \\tWill...|   f|     1974-09-04|         Estatístico|     2020-11-21|     130.73|\n",
            "|       Onswis| Ms Katie \\tMmtcalfe|   f|     1983-07-01|Engenheiro de Mac...|     2021-02-27|    1778.72|\n",
            "|    Majeappre|   Mr Luca \\tVaughan|   f|     1971-01-03|Gerente de Tecnol...|     2022-07-15|    1034.74|\n",
            "|      Theired|   Mr Henry \\tHaynes|   m|     1951-09-06|Analista de Intel...|     2022-12-23|    1320.04|\n",
            "|       Botter|    Mr Noah \\tWalton|   f|     1991-03-09|        Web Designer|     2022-07-26|    3464.72|\n",
            "+-------------+--------------------+----+---------------+--------------------+---------------+-----------+\n",
            "\n"
          ]
        }
      ]
    },
    {
      "cell_type": "code",
      "source": [
        "# Verificando o tipo\n",
        "df2.dtypes"
      ],
      "metadata": {
        "colab": {
          "base_uri": "https://localhost:8080/"
        },
        "id": "j_ARdFBGteIJ",
        "outputId": "58c758e2-ffed-46ae-88da-a98a00a892b0"
      },
      "execution_count": null,
      "outputs": [
        {
          "output_type": "execute_result",
          "data": {
            "text/plain": [
              "[('usuario', 'string'),\n",
              " ('nome', 'string'),\n",
              " ('sexo', 'string'),\n",
              " ('data_nascimento', 'date'),\n",
              " ('ocupacao', 'string'),\n",
              " ('data_assinatura', 'date'),\n",
              " ('total_gasto', 'double')]"
            ]
          },
          "metadata": {},
          "execution_count": 40
        }
      ]
    },
    {
      "cell_type": "markdown",
      "source": [
        "###◼ 8.2.12 Criando uma coluna data tipo Br"
      ],
      "metadata": {
        "id": "ib9NYogWsxMs"
      }
    },
    {
      "cell_type": "markdown",
      "source": [
        "**Poderia ser criado uma nova coluna de data no formato utilizado no Brasil, caso houvesse necessidade.**"
      ],
      "metadata": {
        "id": "pmKrVf4Gs46E"
      }
    },
    {
      "cell_type": "code",
      "source": [
        "df2 = df2.withColumn('data_br',F.date_format('data_nascimento','dd/MM/yyyy'))\n",
        "df2.show()"
      ],
      "metadata": {
        "id": "b5XC7h4Ss1tz",
        "colab": {
          "base_uri": "https://localhost:8080/"
        },
        "outputId": "8c9ce7a2-332e-4500-d803-e35c9cd57bb5"
      },
      "execution_count": null,
      "outputs": [
        {
          "output_type": "stream",
          "name": "stdout",
          "text": [
            "+-------------+--------------------+----+---------------+--------------------+---------------+-----------+----------+\n",
            "|      usuario|                nome|sexo|data_nascimento|            ocupacao|data_assinatura|total_gasto|   data_br|\n",
            "+-------------+--------------------+----+---------------+--------------------+---------------+-----------+----------+\n",
            "|   Neaude1978|  Mr \\tbailey Glo...|   m|     1979-12-01|Analista de Intel...|     2021-10-01|    1257.45|01/12/1979|\n",
            "|     Maress39|Mrs  \\t isabella ...|   f|     1960-08-04|  Arquiteto de Dados|     2020-03-24|     771.99|04/08/1960|\n",
            "|     Kehonell| Mrs Chloe \\tKirby  |   f|     1949-06-28|      Analista de RH|     2020-06-07|    1021.77|28/06/1949|\n",
            "|      Thimpay| Mrs louise \\tCla...|   f|     1995-01-07|  Arquiteto de Dados|     2020-11-03|     234.76|07/01/1995|\n",
            "|    Giall1985|Mr Harrison \\t Bowen|   f|     1987-04-04| Engenheiro de Dados|     2020-03-25|     628.07|04/04/1987|\n",
            "|    Neave1959|Mrs anna \\t     S...|   f|     1970-02-02| Engenheiro de Dados|     2020-09-18|     140.04|02/02/1970|\n",
            "|Nicterims1993|  Mrs \\tDaisy And...|   m|     1985-07-05| Engenheiro de Dados|     2021-01-29|    2417.81|05/07/1985|\n",
            "| Fouldlairity|    Ms zoe \\tPeacock|   m|     1964-06-03| Analista Financeiro|     2020-12-04|      51.95|03/06/1964|\n",
            "| Ancomettiody| Mrs Libby \\tWill...|   f|     1974-09-04|         Estatístico|     2020-11-21|     130.73|04/09/1974|\n",
            "|       Onswis| Ms Katie \\tMmtcalfe|   f|     1983-07-01|Engenheiro de Mac...|     2021-02-27|    1778.72|01/07/1983|\n",
            "|    Majeappre|   Mr Luca \\tVaughan|   f|     1971-01-03|Gerente de Tecnol...|     2022-07-15|    1034.74|03/01/1971|\n",
            "|      Theired|   Mr Henry \\tHaynes|   m|     1951-09-06|Analista de Intel...|     2022-12-23|    1320.04|06/09/1951|\n",
            "|       Botter|    Mr Noah \\tWalton|   f|     1991-03-09|        Web Designer|     2022-07-26|    3464.72|09/03/1991|\n",
            "+-------------+--------------------+----+---------------+--------------------+---------------+-----------+----------+\n",
            "\n"
          ]
        }
      ]
    },
    {
      "cell_type": "markdown",
      "source": [
        "##▶ 8.3 Outros comandos | filtros"
      ],
      "metadata": {
        "id": "sMqWOdRAAdBI"
      }
    },
    {
      "cell_type": "markdown",
      "source": [
        "### ◼ 8.3.1 Funções DATE"
      ],
      "metadata": {
        "id": "40YwLClzuHCo"
      }
    },
    {
      "cell_type": "markdown",
      "source": [
        "1. F.datediff (data_final, data_inicial) - Retorna a diferença em dias entre duas datas\n",
        "\n",
        "2. F.months_between (data_final, data_inicial) - Retorna a diferença em meses entre duas datas\n",
        "\n",
        "3. F.year( ), F.month( ), F.next_day( ), F.weekofyear\n",
        "\n",
        "4. dayofweek, dayofmonth(), dayofyear\n"
      ],
      "metadata": {
        "id": "Bv99GTfRuKzd"
      }
    },
    {
      "cell_type": "code",
      "source": [
        "#Exemplo 1 \n",
        "\n",
        "df2.withColumn('dif_DataNasc_DataAss_dias',F.datediff('data_assinatura','data_nascimento')).show()\n"
      ],
      "metadata": {
        "colab": {
          "base_uri": "https://localhost:8080/"
        },
        "id": "izND1oBzuKRl",
        "outputId": "9a2d1760-d75d-4b4b-c0f5-ab870bd9d60b"
      },
      "execution_count": null,
      "outputs": [
        {
          "output_type": "stream",
          "name": "stdout",
          "text": [
            "+-------------+--------------------+----+---------------+--------------------+---------------+-----------+----------+-------------------------+\n",
            "|      usuario|                nome|sexo|data_nascimento|            ocupacao|data_assinatura|total_gasto|   data_br|dif_DataNasc_DataAss_dias|\n",
            "+-------------+--------------------+----+---------------+--------------------+---------------+-----------+----------+-------------------------+\n",
            "|   Neaude1978|  Mr \\tbailey Glo...|   m|     1979-12-01|Analista de Intel...|     2021-10-01|    1257.45|01/12/1979|                    15280|\n",
            "|     Maress39|Mrs  \\t isabella ...|   f|     1960-08-04|  Arquiteto de Dados|     2020-03-24|     771.99|04/08/1960|                    21782|\n",
            "|     Kehonell| Mrs Chloe \\tKirby  |   f|     1949-06-28|      Analista de RH|     2020-06-07|    1021.77|28/06/1949|                    25912|\n",
            "|      Thimpay| Mrs louise \\tCla...|   f|     1995-01-07|  Arquiteto de Dados|     2020-11-03|     234.76|07/01/1995|                     9432|\n",
            "|    Giall1985|Mr Harrison \\t Bowen|   f|     1987-04-04| Engenheiro de Dados|     2020-03-25|     628.07|04/04/1987|                    12044|\n",
            "|    Neave1959|Mrs anna \\t     S...|   f|     1970-02-02| Engenheiro de Dados|     2020-09-18|     140.04|02/02/1970|                    18491|\n",
            "|Nicterims1993|  Mrs \\tDaisy And...|   m|     1985-07-05| Engenheiro de Dados|     2021-01-29|    2417.81|05/07/1985|                    12992|\n",
            "| Fouldlairity|    Ms zoe \\tPeacock|   m|     1964-06-03| Analista Financeiro|     2020-12-04|      51.95|03/06/1964|                    20638|\n",
            "| Ancomettiody| Mrs Libby \\tWill...|   f|     1974-09-04|         Estatístico|     2020-11-21|     130.73|04/09/1974|                    16880|\n",
            "|       Onswis| Ms Katie \\tMmtcalfe|   f|     1983-07-01|Engenheiro de Mac...|     2021-02-27|    1778.72|01/07/1983|                    13756|\n",
            "|    Majeappre|   Mr Luca \\tVaughan|   f|     1971-01-03|Gerente de Tecnol...|     2022-07-15|    1034.74|03/01/1971|                    18821|\n",
            "|      Theired|   Mr Henry \\tHaynes|   m|     1951-09-06|Analista de Intel...|     2022-12-23|    1320.04|06/09/1951|                    26041|\n",
            "|       Botter|    Mr Noah \\tWalton|   f|     1991-03-09|        Web Designer|     2022-07-26|    3464.72|09/03/1991|                    11462|\n",
            "+-------------+--------------------+----+---------------+--------------------+---------------+-----------+----------+-------------------------+\n",
            "\n"
          ]
        }
      ]
    },
    {
      "cell_type": "code",
      "source": [
        "# Exemplo 2\n",
        "\n",
        "df2.withColumn('dif_DataNasc_DataAss_mes',F.months_between('data_assinatura','data_nascimento')).show()"
      ],
      "metadata": {
        "id": "ieWLJ9PJuxL7",
        "colab": {
          "base_uri": "https://localhost:8080/"
        },
        "outputId": "5550a9ee-9673-45e2-ea75-5cc710d4b6f5"
      },
      "execution_count": null,
      "outputs": [
        {
          "output_type": "stream",
          "name": "stdout",
          "text": [
            "+-------------+--------------------+----+---------------+--------------------+---------------+-----------+----------+------------------------+\n",
            "|      usuario|                nome|sexo|data_nascimento|            ocupacao|data_assinatura|total_gasto|   data_br|dif_DataNasc_DataAss_mes|\n",
            "+-------------+--------------------+----+---------------+--------------------+---------------+-----------+----------+------------------------+\n",
            "|   Neaude1978|  Mr \\tbailey Glo...|   m|     1979-12-01|Analista de Intel...|     2021-10-01|    1257.45|01/12/1979|                   502.0|\n",
            "|     Maress39|Mrs  \\t isabella ...|   f|     1960-08-04|  Arquiteto de Dados|     2020-03-24|     771.99|04/08/1960|            715.64516129|\n",
            "|     Kehonell| Mrs Chloe \\tKirby  |   f|     1949-06-28|      Analista de RH|     2020-06-07|    1021.77|28/06/1949|            851.32258065|\n",
            "|      Thimpay| Mrs louise \\tCla...|   f|     1995-01-07|  Arquiteto de Dados|     2020-11-03|     234.76|07/01/1995|            309.87096774|\n",
            "|    Giall1985|Mr Harrison \\t Bowen|   f|     1987-04-04| Engenheiro de Dados|     2020-03-25|     628.07|04/04/1987|            395.67741935|\n",
            "|    Neave1959|Mrs anna \\t     S...|   f|     1970-02-02| Engenheiro de Dados|     2020-09-18|     140.04|02/02/1970|            607.51612903|\n",
            "|Nicterims1993|  Mrs \\tDaisy And...|   m|     1985-07-05| Engenheiro de Dados|     2021-01-29|    2417.81|05/07/1985|            426.77419355|\n",
            "| Fouldlairity|    Ms zoe \\tPeacock|   m|     1964-06-03| Analista Financeiro|     2020-12-04|      51.95|03/06/1964|            678.03225806|\n",
            "| Ancomettiody| Mrs Libby \\tWill...|   f|     1974-09-04|         Estatístico|     2020-11-21|     130.73|04/09/1974|             554.5483871|\n",
            "|       Onswis| Ms Katie \\tMmtcalfe|   f|     1983-07-01|Engenheiro de Mac...|     2021-02-27|    1778.72|01/07/1983|            451.83870968|\n",
            "|    Majeappre|   Mr Luca \\tVaughan|   f|     1971-01-03|Gerente de Tecnol...|     2022-07-15|    1034.74|03/01/1971|            618.38709677|\n",
            "|      Theired|   Mr Henry \\tHaynes|   m|     1951-09-06|Analista de Intel...|     2022-12-23|    1320.04|06/09/1951|             855.5483871|\n",
            "|       Botter|    Mr Noah \\tWalton|   f|     1991-03-09|        Web Designer|     2022-07-26|    3464.72|09/03/1991|             376.5483871|\n",
            "+-------------+--------------------+----+---------------+--------------------+---------------+-----------+----------+------------------------+\n",
            "\n"
          ]
        }
      ]
    },
    {
      "cell_type": "markdown",
      "source": [
        "### ◼ 8.3.2 Where"
      ],
      "metadata": {
        "id": "NdrXCx-3AupO"
      }
    },
    {
      "cell_type": "code",
      "source": [
        "df.where(F.col('total_gasto') > 1000).show()"
      ],
      "metadata": {
        "colab": {
          "base_uri": "https://localhost:8080/"
        },
        "id": "v2PUKJP2AfpQ",
        "outputId": "edccae0d-f006-489d-b12d-5d8dd942f27b"
      },
      "execution_count": null,
      "outputs": [
        {
          "output_type": "stream",
          "name": "stdout",
          "text": [
            "+-------------+--------------------+---------+---------------+--------------------+---------------+-----------+\n",
            "|      usuario|                nome|     sexo|data_nascimento|            ocupacao|data_assinatura|total_gasto|\n",
            "+-------------+--------------------+---------+---------------+--------------------+---------------+-----------+\n",
            "|   Neaude1978|  Mr \\tbailey Glo...|masculino|     01/12/1979|Analista de Intel...|     01/10/2021|    1257.45|\n",
            "|     Kehonell| Mrs Chloe \\tKirby  | feminino|     28/06/1949|      Analista de RH|     07/06/2020|    1021.77|\n",
            "|Nicterims1993|  Mrs \\tDaisy And...|masculino|     05/07/1985| Engenheiro de Dados|     29/01/2021|    2417.81|\n",
            "|       Onswis| Ms Katie \\tMmtcalfe| feminino|     01/07/1983|Engenheiro de Mac...|     27/02/2021|    1778.72|\n",
            "|    Majeappre|   Mr Luca \\tVaughan| feminino|     03/01/1971|Gerente de Tecnol...|     15/07/2022|    1034.74|\n",
            "|      Theired|   Mr Henry \\tHaynes|masculino|     06/09/1951|Analista de Intel...|     23/12/2022|    1320.04|\n",
            "|       Botter|    Mr Noah \\tWalton| feminino|     09/03/1991|        Web Designer|     26/07/2022|    3464.72|\n",
            "+-------------+--------------------+---------+---------------+--------------------+---------------+-----------+\n",
            "\n"
          ]
        }
      ]
    },
    {
      "cell_type": "markdown",
      "source": [
        "### ◼ 8.3.3 filter"
      ],
      "metadata": {
        "id": "HK996rulHnb3"
      }
    },
    {
      "cell_type": "code",
      "source": [
        "#Faça um filtro por ocupação que comece com analista\n",
        "\n",
        "df.filter(\"ocupacao LIKE 'Analista%'\").show(truncate=False)"
      ],
      "metadata": {
        "colab": {
          "base_uri": "https://localhost:8080/"
        },
        "id": "yCtEAU3-BEG6",
        "outputId": "d62fb256-342e-43cb-cb0d-eac7d2221dd5"
      },
      "execution_count": null,
      "outputs": [
        {
          "output_type": "stream",
          "name": "stdout",
          "text": [
            "+------------+----------------------+---------+---------------+-----------------------------------+---------------+-----------+\n",
            "|usuario     |nome                  |sexo     |data_nascimento|ocupacao                           |data_assinatura|total_gasto|\n",
            "+------------+----------------------+---------+---------------+-----------------------------------+---------------+-----------+\n",
            "|Neaude1978  |  Mr \\tbailey Glover  |masculino|01/12/1979     |Analista de Inteligência de Mercado|01/10/2021     |1257.45    |\n",
            "|Kehonell    | Mrs Chloe \\tKirby    |feminino |28/06/1949     |Analista de RH                     |07/06/2020     |1021.77    |\n",
            "|Fouldlairity|Ms zoe \\tPeacock      |masculino|03/06/1964     |Analista Financeiro                |04/12/2020     |51.95      |\n",
            "|Theired     |Mr Henry \\tHaynes     |masculino|06/09/1951     |Analista de Inteligência de Mercado|23/12/2022     |1320.04    |\n",
            "+------------+----------------------+---------+---------------+-----------------------------------+---------------+-----------+\n",
            "\n"
          ]
        }
      ]
    },
    {
      "cell_type": "code",
      "source": [
        "#Usando a função startwith\n",
        "\n",
        "df.filter(F.col('ocupacao').startswith('Analista')).show(truncate=False)"
      ],
      "metadata": {
        "colab": {
          "base_uri": "https://localhost:8080/"
        },
        "id": "Ik-oHMYYBb0H",
        "outputId": "4483164d-ddbc-4f85-b21f-c0ddd2762f10"
      },
      "execution_count": null,
      "outputs": [
        {
          "output_type": "stream",
          "name": "stdout",
          "text": [
            "+------------+----------------------+---------+---------------+-----------------------------------+---------------+-----------+\n",
            "|usuario     |nome                  |sexo     |data_nascimento|ocupacao                           |data_assinatura|total_gasto|\n",
            "+------------+----------------------+---------+---------------+-----------------------------------+---------------+-----------+\n",
            "|Neaude1978  |  Mr \\tbailey Glover  |masculino|01/12/1979     |Analista de Inteligência de Mercado|01/10/2021     |1257.45    |\n",
            "|Kehonell    | Mrs Chloe \\tKirby    |feminino |28/06/1949     |Analista de RH                     |07/06/2020     |1021.77    |\n",
            "|Fouldlairity|Ms zoe \\tPeacock      |masculino|03/06/1964     |Analista Financeiro                |04/12/2020     |51.95      |\n",
            "|Theired     |Mr Henry \\tHaynes     |masculino|06/09/1951     |Analista de Inteligência de Mercado|23/12/2022     |1320.04    |\n",
            "+------------+----------------------+---------+---------------+-----------------------------------+---------------+-----------+\n",
            "\n"
          ]
        }
      ]
    },
    {
      "cell_type": "code",
      "source": [
        "#Usando a função Like\n",
        "\n",
        "df.filter(F.col('ocupacao').like('Analista%')).show(truncate=False)"
      ],
      "metadata": {
        "colab": {
          "base_uri": "https://localhost:8080/"
        },
        "id": "uefd45OKCcoa",
        "outputId": "a7fe50d7-3461-4afe-fc15-fc1d2a9797a3"
      },
      "execution_count": null,
      "outputs": [
        {
          "output_type": "stream",
          "name": "stdout",
          "text": [
            "+------------+----------------------+---------+---------------+-----------------------------------+---------------+-----------+\n",
            "|usuario     |nome                  |sexo     |data_nascimento|ocupacao                           |data_assinatura|total_gasto|\n",
            "+------------+----------------------+---------+---------------+-----------------------------------+---------------+-----------+\n",
            "|Neaude1978  |  Mr \\tbailey Glover  |masculino|01/12/1979     |Analista de Inteligência de Mercado|01/10/2021     |1257.45    |\n",
            "|Kehonell    | Mrs Chloe \\tKirby    |feminino |28/06/1949     |Analista de RH                     |07/06/2020     |1021.77    |\n",
            "|Fouldlairity|Ms zoe \\tPeacock      |masculino|03/06/1964     |Analista Financeiro                |04/12/2020     |51.95      |\n",
            "|Theired     |Mr Henry \\tHaynes     |masculino|06/09/1951     |Analista de Inteligência de Mercado|23/12/2022     |1320.04    |\n",
            "+------------+----------------------+---------+---------------+-----------------------------------+---------------+-----------+\n",
            "\n"
          ]
        }
      ]
    },
    {
      "cell_type": "code",
      "source": [
        "#Faça um filtro por ocupação que termine com Mercado\n",
        "\n",
        "df.filter(F.col('ocupacao').endswith('Mercado')).show(truncate=False)"
      ],
      "metadata": {
        "colab": {
          "base_uri": "https://localhost:8080/"
        },
        "id": "-D-uIltVC3DU",
        "outputId": "85064fcd-76f2-4449-bdc7-ed6914c3711f"
      },
      "execution_count": null,
      "outputs": [
        {
          "output_type": "stream",
          "name": "stdout",
          "text": [
            "+----------+----------------------+---------+---------------+-----------------------------------+---------------+-----------+\n",
            "|usuario   |nome                  |sexo     |data_nascimento|ocupacao                           |data_assinatura|total_gasto|\n",
            "+----------+----------------------+---------+---------------+-----------------------------------+---------------+-----------+\n",
            "|Neaude1978|  Mr \\tbailey Glover  |masculino|01/12/1979     |Analista de Inteligência de Mercado|01/10/2021     |1257.45    |\n",
            "|Theired   |Mr Henry \\tHaynes     |masculino|06/09/1951     |Analista de Inteligência de Mercado|23/12/2022     |1320.04    |\n",
            "+----------+----------------------+---------+---------------+-----------------------------------+---------------+-----------+\n",
            "\n"
          ]
        }
      ]
    },
    {
      "cell_type": "code",
      "source": [
        "#Faça um filto que contenha a palavra inteligência em qualquer parte da ocupação\n",
        "\n",
        "df.filter(F.col('ocupacao').contains('Inteligência')).show(truncate=False)"
      ],
      "metadata": {
        "colab": {
          "base_uri": "https://localhost:8080/"
        },
        "id": "fGUFZLAkDSjv",
        "outputId": "5d7be592-8769-4755-a809-c8684e7e69f0"
      },
      "execution_count": null,
      "outputs": [
        {
          "output_type": "stream",
          "name": "stdout",
          "text": [
            "+----------+----------------------+---------+---------------+-----------------------------------+---------------+-----------+\n",
            "|usuario   |nome                  |sexo     |data_nascimento|ocupacao                           |data_assinatura|total_gasto|\n",
            "+----------+----------------------+---------+---------------+-----------------------------------+---------------+-----------+\n",
            "|Neaude1978|  Mr \\tbailey Glover  |masculino|01/12/1979     |Analista de Inteligência de Mercado|01/10/2021     |1257.45    |\n",
            "|Theired   |Mr Henry \\tHaynes     |masculino|06/09/1951     |Analista de Inteligência de Mercado|23/12/2022     |1320.04    |\n",
            "+----------+----------------------+---------+---------------+-----------------------------------+---------------+-----------+\n",
            "\n"
          ]
        }
      ]
    },
    {
      "cell_type": "markdown",
      "source": [
        "###◼ 8.3.4 distinct"
      ],
      "metadata": {
        "id": "17Rue8wkIdxr"
      }
    },
    {
      "cell_type": "code",
      "source": [
        "#Retornar todas as ocupações existentes,cada um aparecendo uma única vez\n",
        "\n",
        "df.select('ocupacao').distinct().show(truncate=False)"
      ],
      "metadata": {
        "colab": {
          "base_uri": "https://localhost:8080/"
        },
        "id": "eW2YLKe2HEEe",
        "outputId": "352f8cd3-0d84-4aed-c00f-b22cd0d1d2f1"
      },
      "execution_count": null,
      "outputs": [
        {
          "output_type": "stream",
          "name": "stdout",
          "text": [
            "+-----------------------------------+\n",
            "|ocupacao                           |\n",
            "+-----------------------------------+\n",
            "|Engenheiro de Machine Learning     |\n",
            "|Arquiteto de Dados                 |\n",
            "|Estatístico                        |\n",
            "|Analista de RH                     |\n",
            "|Engenheiro de Dados                |\n",
            "|Analista Financeiro                |\n",
            "|Gerente de Tecnologia              |\n",
            "|Web Designer                       |\n",
            "|Analista de Inteligência de Mercado|\n",
            "+-----------------------------------+\n",
            "\n"
          ]
        }
      ]
    },
    {
      "cell_type": "markdown",
      "source": [
        "###◼ 8.3.5 orderBy"
      ],
      "metadata": {
        "id": "yjJBaw3pImij"
      }
    },
    {
      "cell_type": "code",
      "source": [
        "#Ordenar o DataFrame de maneira decrescente pela coluna usuário\n",
        "\n",
        "df2.orderBy(F.col('usuario').desc()).show()"
      ],
      "metadata": {
        "colab": {
          "base_uri": "https://localhost:8080/"
        },
        "id": "OPoWoAN7KfEI",
        "outputId": "f7f90045-cbf8-4f01-f18a-70a6df1be851"
      },
      "execution_count": null,
      "outputs": [
        {
          "output_type": "stream",
          "name": "stdout",
          "text": [
            "+-------------+--------------------+----+---------------+--------------------+---------------+-----------+----------+\n",
            "|      usuario|                nome|sexo|data_nascimento|            ocupacao|data_assinatura|total_gasto|   data_br|\n",
            "+-------------+--------------------+----+---------------+--------------------+---------------+-----------+----------+\n",
            "|      Thimpay| Mrs louise \\tCla...|   f|     1995-01-07|  Arquiteto de Dados|     2020-11-03|     234.76|07/01/1995|\n",
            "|      Theired|   Mr Henry \\tHaynes|   m|     1951-09-06|Analista de Intel...|     2022-12-23|    1320.04|06/09/1951|\n",
            "|       Onswis| Ms Katie \\tMmtcalfe|   f|     1983-07-01|Engenheiro de Mac...|     2021-02-27|    1778.72|01/07/1983|\n",
            "|Nicterims1993|  Mrs \\tDaisy And...|   m|     1985-07-05| Engenheiro de Dados|     2021-01-29|    2417.81|05/07/1985|\n",
            "|    Neave1959|Mrs anna \\t     S...|   f|     1970-02-02| Engenheiro de Dados|     2020-09-18|     140.04|02/02/1970|\n",
            "|   Neaude1978|  Mr \\tbailey Glo...|   m|     1979-12-01|Analista de Intel...|     2021-10-01|    1257.45|01/12/1979|\n",
            "|     Maress39|Mrs  \\t isabella ...|   f|     1960-08-04|  Arquiteto de Dados|     2020-03-24|     771.99|04/08/1960|\n",
            "|    Majeappre|   Mr Luca \\tVaughan|   f|     1971-01-03|Gerente de Tecnol...|     2022-07-15|    1034.74|03/01/1971|\n",
            "|     Kehonell| Mrs Chloe \\tKirby  |   f|     1949-06-28|      Analista de RH|     2020-06-07|    1021.77|28/06/1949|\n",
            "|    Giall1985|Mr Harrison \\t Bowen|   f|     1987-04-04| Engenheiro de Dados|     2020-03-25|     628.07|04/04/1987|\n",
            "| Fouldlairity|    Ms zoe \\tPeacock|   m|     1964-06-03| Analista Financeiro|     2020-12-04|      51.95|03/06/1964|\n",
            "|       Botter|    Mr Noah \\tWalton|   f|     1991-03-09|        Web Designer|     2022-07-26|    3464.72|09/03/1991|\n",
            "| Ancomettiody| Mrs Libby \\tWill...|   f|     1974-09-04|         Estatístico|     2020-11-21|     130.73|04/09/1974|\n",
            "+-------------+--------------------+----+---------------+--------------------+---------------+-----------+----------+\n",
            "\n"
          ]
        }
      ]
    },
    {
      "cell_type": "code",
      "source": [
        "#RETORNAR usuário, data de nascimento e ocupação ordenado pelo usuário em ordem crescente (A-Z)\n",
        "\n",
        "df2.select('usuario','data_nascimento','ocupacao').orderBy(F.col('ocupacao').asc()).show(truncate=False)"
      ],
      "metadata": {
        "colab": {
          "base_uri": "https://localhost:8080/"
        },
        "id": "UFYt06ZjIxxG",
        "outputId": "78db5180-b9f4-4e5b-ac81-4d3e5e87a4ad"
      },
      "execution_count": null,
      "outputs": [
        {
          "output_type": "stream",
          "name": "stdout",
          "text": [
            "+-------------+---------------+-----------------------------------+\n",
            "|usuario      |data_nascimento|ocupacao                           |\n",
            "+-------------+---------------+-----------------------------------+\n",
            "|Fouldlairity |1964-06-03     |Analista Financeiro                |\n",
            "|Neaude1978   |1979-12-01     |Analista de Inteligência de Mercado|\n",
            "|Theired      |1951-09-06     |Analista de Inteligência de Mercado|\n",
            "|Kehonell     |1949-06-28     |Analista de RH                     |\n",
            "|Thimpay      |1995-01-07     |Arquiteto de Dados                 |\n",
            "|Maress39     |1960-08-04     |Arquiteto de Dados                 |\n",
            "|Nicterims1993|1985-07-05     |Engenheiro de Dados                |\n",
            "|Giall1985    |1987-04-04     |Engenheiro de Dados                |\n",
            "|Neave1959    |1970-02-02     |Engenheiro de Dados                |\n",
            "|Onswis       |1983-07-01     |Engenheiro de Machine Learning     |\n",
            "|Ancomettiody |1974-09-04     |Estatístico                        |\n",
            "|Majeappre    |1971-01-03     |Gerente de Tecnologia              |\n",
            "|Botter       |1991-03-09     |Web Designer                       |\n",
            "+-------------+---------------+-----------------------------------+\n",
            "\n"
          ]
        }
      ]
    },
    {
      "cell_type": "code",
      "source": [
        "#RETORNAR usuário, data de nascimento e ocupação ordenado pelo usuário em ordem descrescente\n",
        "\n",
        "df2.select('usuario','data_nascimento','ocupacao').orderBy(F.col('ocupacao').desc()).show(truncate=False)"
      ],
      "metadata": {
        "colab": {
          "base_uri": "https://localhost:8080/"
        },
        "id": "czwoC-syJpm6",
        "outputId": "d76c6508-6dbd-494a-e851-1d2c2dbd1897"
      },
      "execution_count": null,
      "outputs": [
        {
          "output_type": "stream",
          "name": "stdout",
          "text": [
            "+-------------+---------------+-----------------------------------+\n",
            "|usuario      |data_nascimento|ocupacao                           |\n",
            "+-------------+---------------+-----------------------------------+\n",
            "|Botter       |1991-03-09     |Web Designer                       |\n",
            "|Majeappre    |1971-01-03     |Gerente de Tecnologia              |\n",
            "|Ancomettiody |1974-09-04     |Estatístico                        |\n",
            "|Onswis       |1983-07-01     |Engenheiro de Machine Learning     |\n",
            "|Giall1985    |1987-04-04     |Engenheiro de Dados                |\n",
            "|Nicterims1993|1985-07-05     |Engenheiro de Dados                |\n",
            "|Neave1959    |1970-02-02     |Engenheiro de Dados                |\n",
            "|Maress39     |1960-08-04     |Arquiteto de Dados                 |\n",
            "|Thimpay      |1995-01-07     |Arquiteto de Dados                 |\n",
            "|Kehonell     |1949-06-28     |Analista de RH                     |\n",
            "|Neaude1978   |1979-12-01     |Analista de Inteligência de Mercado|\n",
            "|Theired      |1951-09-06     |Analista de Inteligência de Mercado|\n",
            "|Fouldlairity |1964-06-03     |Analista Financeiro                |\n",
            "+-------------+---------------+-----------------------------------+\n",
            "\n"
          ]
        }
      ]
    },
    {
      "cell_type": "code",
      "source": [
        "# Retorne em ordem decrescente com ascending\n",
        "\n",
        "df2.select('usuario','data_nascimento','ocupacao').orderBy(F.col('ocupacao'),ascending=False).show(truncate=False)"
      ],
      "metadata": {
        "colab": {
          "base_uri": "https://localhost:8080/"
        },
        "id": "RCCJqWmjJPdd",
        "outputId": "33f36600-45d0-44c0-a669-857dfa4e808d"
      },
      "execution_count": null,
      "outputs": [
        {
          "output_type": "stream",
          "name": "stdout",
          "text": [
            "+-------------+---------------+-----------------------------------+\n",
            "|usuario      |data_nascimento|ocupacao                           |\n",
            "+-------------+---------------+-----------------------------------+\n",
            "|Botter       |1991-03-09     |Web Designer                       |\n",
            "|Majeappre    |1971-01-03     |Gerente de Tecnologia              |\n",
            "|Ancomettiody |1974-09-04     |Estatístico                        |\n",
            "|Onswis       |1983-07-01     |Engenheiro de Machine Learning     |\n",
            "|Giall1985    |1987-04-04     |Engenheiro de Dados                |\n",
            "|Nicterims1993|1985-07-05     |Engenheiro de Dados                |\n",
            "|Neave1959    |1970-02-02     |Engenheiro de Dados                |\n",
            "|Maress39     |1960-08-04     |Arquiteto de Dados                 |\n",
            "|Thimpay      |1995-01-07     |Arquiteto de Dados                 |\n",
            "|Kehonell     |1949-06-28     |Analista de RH                     |\n",
            "|Neaude1978   |1979-12-01     |Analista de Inteligência de Mercado|\n",
            "|Theired      |1951-09-06     |Analista de Inteligência de Mercado|\n",
            "|Fouldlairity |1964-06-03     |Analista Financeiro                |\n",
            "+-------------+---------------+-----------------------------------+\n",
            "\n"
          ]
        }
      ]
    },
    {
      "cell_type": "code",
      "source": [
        "#Retornar nome, ocupação e total gasto ordenado pelo total gasto do menor para o maior\n",
        "\n",
        "df2.select('nome','ocupacao','total_gasto').orderBy(F.col('total_Gasto')).show()"
      ],
      "metadata": {
        "colab": {
          "base_uri": "https://localhost:8080/"
        },
        "id": "Elbd08OWJ8ZN",
        "outputId": "f8436401-69bf-4224-b390-a6338afdae29"
      },
      "execution_count": null,
      "outputs": [
        {
          "output_type": "stream",
          "name": "stdout",
          "text": [
            "+--------------------+--------------------+-----------+\n",
            "|                nome|            ocupacao|total_gasto|\n",
            "+--------------------+--------------------+-----------+\n",
            "|    Ms zoe \\tPeacock| Analista Financeiro|      51.95|\n",
            "| Mrs Libby \\tWill...|         Estatístico|     130.73|\n",
            "|Mrs anna \\t     S...| Engenheiro de Dados|     140.04|\n",
            "| Mrs louise \\tCla...|  Arquiteto de Dados|     234.76|\n",
            "|Mr Harrison \\t Bowen| Engenheiro de Dados|     628.07|\n",
            "|Mrs  \\t isabella ...|  Arquiteto de Dados|     771.99|\n",
            "| Mrs Chloe \\tKirby  |      Analista de RH|    1021.77|\n",
            "|   Mr Luca \\tVaughan|Gerente de Tecnol...|    1034.74|\n",
            "|  Mr \\tbailey Glo...|Analista de Intel...|    1257.45|\n",
            "|   Mr Henry \\tHaynes|Analista de Intel...|    1320.04|\n",
            "| Ms Katie \\tMmtcalfe|Engenheiro de Mac...|    1778.72|\n",
            "|  Mrs \\tDaisy And...| Engenheiro de Dados|    2417.81|\n",
            "|    Mr Noah \\tWalton|        Web Designer|    3464.72|\n",
            "+--------------------+--------------------+-----------+\n",
            "\n"
          ]
        }
      ]
    },
    {
      "cell_type": "code",
      "source": [
        "#Retornar nome, ocupação e total gasto ordenado pelo total gasto do maior para o menor\n",
        "\n",
        "df2.select('Nome','ocupacao','total_gasto').orderBy(F.col('total_gasto').desc()).show()"
      ],
      "metadata": {
        "colab": {
          "base_uri": "https://localhost:8080/"
        },
        "id": "1UgzxGrlKLXC",
        "outputId": "34dd6178-0bec-453d-a0e2-a71c0cc348be"
      },
      "execution_count": null,
      "outputs": [
        {
          "output_type": "stream",
          "name": "stdout",
          "text": [
            "+--------------------+--------------------+-----------+\n",
            "|                Nome|            ocupacao|total_gasto|\n",
            "+--------------------+--------------------+-----------+\n",
            "|    Mr Noah \\tWalton|        Web Designer|    3464.72|\n",
            "|  Mrs \\tDaisy And...| Engenheiro de Dados|    2417.81|\n",
            "| Ms Katie \\tMmtcalfe|Engenheiro de Mac...|    1778.72|\n",
            "|   Mr Henry \\tHaynes|Analista de Intel...|    1320.04|\n",
            "|  Mr \\tbailey Glo...|Analista de Intel...|    1257.45|\n",
            "|   Mr Luca \\tVaughan|Gerente de Tecnol...|    1034.74|\n",
            "| Mrs Chloe \\tKirby  |      Analista de RH|    1021.77|\n",
            "|Mrs  \\t isabella ...|  Arquiteto de Dados|     771.99|\n",
            "|Mr Harrison \\t Bowen| Engenheiro de Dados|     628.07|\n",
            "| Mrs louise \\tCla...|  Arquiteto de Dados|     234.76|\n",
            "|Mrs anna \\t     S...| Engenheiro de Dados|     140.04|\n",
            "| Mrs Libby \\tWill...|         Estatístico|     130.73|\n",
            "|    Ms zoe \\tPeacock| Analista Financeiro|      51.95|\n",
            "+--------------------+--------------------+-----------+\n",
            "\n"
          ]
        }
      ]
    },
    {
      "cell_type": "markdown",
      "source": [
        "###◼ 8.3.6 Sort"
      ],
      "metadata": {
        "id": "FVZZfAxwFpfv"
      }
    },
    {
      "cell_type": "code",
      "source": [
        "#Ordenar o DataFrame de maneira decrescente pela coluna usuário\n",
        "df2.sort(F.col('usuario').desc()).show()"
      ],
      "metadata": {
        "id": "4fLH_WPnFsBT",
        "colab": {
          "base_uri": "https://localhost:8080/"
        },
        "outputId": "9570b0bd-b714-4743-aba3-58fe29d86875"
      },
      "execution_count": null,
      "outputs": [
        {
          "output_type": "stream",
          "name": "stdout",
          "text": [
            "+-------------+--------------------+----+---------------+--------------------+---------------+-----------+----------+\n",
            "|      usuario|                nome|sexo|data_nascimento|            ocupacao|data_assinatura|total_gasto|   data_br|\n",
            "+-------------+--------------------+----+---------------+--------------------+---------------+-----------+----------+\n",
            "|      Thimpay| Mrs louise \\tCla...|   f|     1995-01-07|  Arquiteto de Dados|     2020-11-03|     234.76|07/01/1995|\n",
            "|      Theired|   Mr Henry \\tHaynes|   m|     1951-09-06|Analista de Intel...|     2022-12-23|    1320.04|06/09/1951|\n",
            "|       Onswis| Ms Katie \\tMmtcalfe|   f|     1983-07-01|Engenheiro de Mac...|     2021-02-27|    1778.72|01/07/1983|\n",
            "|Nicterims1993|  Mrs \\tDaisy And...|   m|     1985-07-05| Engenheiro de Dados|     2021-01-29|    2417.81|05/07/1985|\n",
            "|    Neave1959|Mrs anna \\t     S...|   f|     1970-02-02| Engenheiro de Dados|     2020-09-18|     140.04|02/02/1970|\n",
            "|   Neaude1978|  Mr \\tbailey Glo...|   m|     1979-12-01|Analista de Intel...|     2021-10-01|    1257.45|01/12/1979|\n",
            "|     Maress39|Mrs  \\t isabella ...|   f|     1960-08-04|  Arquiteto de Dados|     2020-03-24|     771.99|04/08/1960|\n",
            "|    Majeappre|   Mr Luca \\tVaughan|   f|     1971-01-03|Gerente de Tecnol...|     2022-07-15|    1034.74|03/01/1971|\n",
            "|     Kehonell| Mrs Chloe \\tKirby  |   f|     1949-06-28|      Analista de RH|     2020-06-07|    1021.77|28/06/1949|\n",
            "|    Giall1985|Mr Harrison \\t Bowen|   f|     1987-04-04| Engenheiro de Dados|     2020-03-25|     628.07|04/04/1987|\n",
            "| Fouldlairity|    Ms zoe \\tPeacock|   m|     1964-06-03| Analista Financeiro|     2020-12-04|      51.95|03/06/1964|\n",
            "|       Botter|    Mr Noah \\tWalton|   f|     1991-03-09|        Web Designer|     2022-07-26|    3464.72|09/03/1991|\n",
            "| Ancomettiody| Mrs Libby \\tWill...|   f|     1974-09-04|         Estatístico|     2020-11-21|     130.73|04/09/1974|\n",
            "+-------------+--------------------+----+---------------+--------------------+---------------+-----------+----------+\n",
            "\n"
          ]
        }
      ]
    },
    {
      "cell_type": "markdown",
      "source": [
        "###◼ 8.3.7 groupBy"
      ],
      "metadata": {
        "id": "s30P4r8aLIvQ"
      }
    },
    {
      "cell_type": "code",
      "source": [
        "#Retornar a quantidade de pessoas por sexo\n",
        "\n",
        "df2.groupBy('sexo').count().show()"
      ],
      "metadata": {
        "colab": {
          "base_uri": "https://localhost:8080/"
        },
        "id": "LE8YuB9PLM6l",
        "outputId": "5ef3b104-3e85-4af4-dfb4-bc55b8f26f23"
      },
      "execution_count": null,
      "outputs": [
        {
          "output_type": "stream",
          "name": "stdout",
          "text": [
            "+----+-----+\n",
            "|sexo|count|\n",
            "+----+-----+\n",
            "|   m|    4|\n",
            "|   f|    9|\n",
            "+----+-----+\n",
            "\n"
          ]
        }
      ]
    },
    {
      "cell_type": "code",
      "source": [
        "#Retornar a quantidade de pessoas por ocupação\n",
        "\n",
        "df2.groupBy('ocupacao').count().show(truncate=False)"
      ],
      "metadata": {
        "colab": {
          "base_uri": "https://localhost:8080/"
        },
        "id": "Hh2vrtmdLc0h",
        "outputId": "3bbe8af1-dc01-4555-b962-daa761d3b6ed"
      },
      "execution_count": null,
      "outputs": [
        {
          "output_type": "stream",
          "name": "stdout",
          "text": [
            "+-----------------------------------+-----+\n",
            "|ocupacao                           |count|\n",
            "+-----------------------------------+-----+\n",
            "|Engenheiro de Machine Learning     |1    |\n",
            "|Arquiteto de Dados                 |2    |\n",
            "|Estatístico                        |1    |\n",
            "|Analista de RH                     |1    |\n",
            "|Engenheiro de Dados                |3    |\n",
            "|Analista Financeiro                |1    |\n",
            "|Gerente de Tecnologia              |1    |\n",
            "|Web Designer                       |1    |\n",
            "|Analista de Inteligência de Mercado|2    |\n",
            "+-----------------------------------+-----+\n",
            "\n"
          ]
        }
      ]
    },
    {
      "cell_type": "code",
      "source": [
        "#RETORNAR O VALOR TOTAL GASTO POR SEXO \n",
        "\n",
        "df2.groupBy('sexo').agg(F.round(F.sum('total_gasto'),2).alias('tota_gasto')).show()"
      ],
      "metadata": {
        "colab": {
          "base_uri": "https://localhost:8080/"
        },
        "id": "lr4zjMVmLkGN",
        "outputId": "f9fbd191-44ff-4b17-af32-4acf069707a1"
      },
      "execution_count": null,
      "outputs": [
        {
          "output_type": "stream",
          "name": "stdout",
          "text": [
            "+----+----------+\n",
            "|sexo|tota_gasto|\n",
            "+----+----------+\n",
            "|   m|   5047.25|\n",
            "|   f|   9205.54|\n",
            "+----+----------+\n",
            "\n"
          ]
        }
      ]
    },
    {
      "cell_type": "code",
      "source": [
        "#RETORNAR O VALOR TOTAL GASTO POR OCUPAÇÃO\n",
        "\n",
        "df2.groupBy('ocupacao').sum('total_gasto').show(truncate=False)"
      ],
      "metadata": {
        "colab": {
          "base_uri": "https://localhost:8080/"
        },
        "id": "eV9FC2x9MTVc",
        "outputId": "ca6c1e82-3e9d-4b55-8a67-c2f81094e863"
      },
      "execution_count": null,
      "outputs": [
        {
          "output_type": "stream",
          "name": "stdout",
          "text": [
            "+-----------------------------------+----------------+\n",
            "|ocupacao                           |sum(total_gasto)|\n",
            "+-----------------------------------+----------------+\n",
            "|Engenheiro de Machine Learning     |1778.72         |\n",
            "|Arquiteto de Dados                 |1006.75         |\n",
            "|Estatístico                        |130.73          |\n",
            "|Analista de RH                     |1021.77         |\n",
            "|Engenheiro de Dados                |3185.92         |\n",
            "|Analista Financeiro                |51.95           |\n",
            "|Gerente de Tecnologia              |1034.74         |\n",
            "|Web Designer                       |3464.72         |\n",
            "|Analista de Inteligência de Mercado|2577.49         |\n",
            "+-----------------------------------+----------------+\n",
            "\n"
          ]
        }
      ]
    },
    {
      "cell_type": "markdown",
      "source": [
        "###◼ 8.3.8 Função de agregação"
      ],
      "metadata": {
        "id": "pQ-jcPnbOD8w"
      }
    },
    {
      "cell_type": "code",
      "source": [
        "#RETORNAR O VALOR TOTAL GASTO POR SEXO E O VALOR MÍNIMO E MÁXIMO GASTOS POR CADA SEXO\n",
        "\n",
        "df3 = (df2.groupBy('sexo').agg(F.round(F.sum('total_gasto'),2).alias('total_gasto'),\n",
        "                                F.min('total_gasto').alias('minimo_gasto'),\n",
        "                                F.max('total_gasto').alias('maximo_gasto'))) \n",
        "                                \n",
        "df3.show()\n",
        "    \n",
        "\n",
        "\n",
        "\n",
        "                                            "
      ],
      "metadata": {
        "colab": {
          "base_uri": "https://localhost:8080/"
        },
        "id": "48g29gS7OV38",
        "outputId": "8622b24a-1d84-4dff-a631-55d494bb0658"
      },
      "execution_count": null,
      "outputs": [
        {
          "output_type": "stream",
          "name": "stdout",
          "text": [
            "+----+-----------+------------+------------+\n",
            "|sexo|total_gasto|minimo_gasto|maximo_gasto|\n",
            "+----+-----------+------------+------------+\n",
            "|   m|    5047.25|       51.95|     2417.81|\n",
            "|   f|    9205.54|      130.73|     3464.72|\n",
            "+----+-----------+------------+------------+\n",
            "\n"
          ]
        }
      ]
    },
    {
      "cell_type": "markdown",
      "source": [
        "###◼ 8.3.9 Criando novas colunas"
      ],
      "metadata": {
        "id": "v6TUGpKgD_z9"
      }
    },
    {
      "cell_type": "markdown",
      "source": [
        "**Praticando o comando de crianção de colunas e a função de arredondamento**"
      ],
      "metadata": {
        "id": "V6Xzrms2EX2d"
      }
    },
    {
      "cell_type": "code",
      "source": [
        "#Coluna contendo 10% de desconto sobre o valor total gasto\n",
        "df3 = df2.withColumn('desconto',F.round(F.col('total_gasto')*0.1,2))\n",
        "df3.show()"
      ],
      "metadata": {
        "id": "ksIMhH8aEBfX",
        "colab": {
          "base_uri": "https://localhost:8080/"
        },
        "outputId": "dacdf95f-e17b-4227-e8e5-d95a644b8501"
      },
      "execution_count": null,
      "outputs": [
        {
          "output_type": "stream",
          "name": "stdout",
          "text": [
            "+-------------+--------------------+----+---------------+--------------------+---------------+-----------+----------+--------+\n",
            "|      usuario|                nome|sexo|data_nascimento|            ocupacao|data_assinatura|total_gasto|   data_br|desconto|\n",
            "+-------------+--------------------+----+---------------+--------------------+---------------+-----------+----------+--------+\n",
            "|   Neaude1978|  Mr \\tbailey Glo...|   m|     1979-12-01|Analista de Intel...|     2021-10-01|    1257.45|01/12/1979|  125.75|\n",
            "|     Maress39|Mrs  \\t isabella ...|   f|     1960-08-04|  Arquiteto de Dados|     2020-03-24|     771.99|04/08/1960|    77.2|\n",
            "|     Kehonell| Mrs Chloe \\tKirby  |   f|     1949-06-28|      Analista de RH|     2020-06-07|    1021.77|28/06/1949|  102.18|\n",
            "|      Thimpay| Mrs louise \\tCla...|   f|     1995-01-07|  Arquiteto de Dados|     2020-11-03|     234.76|07/01/1995|   23.48|\n",
            "|    Giall1985|Mr Harrison \\t Bowen|   f|     1987-04-04| Engenheiro de Dados|     2020-03-25|     628.07|04/04/1987|   62.81|\n",
            "|    Neave1959|Mrs anna \\t     S...|   f|     1970-02-02| Engenheiro de Dados|     2020-09-18|     140.04|02/02/1970|    14.0|\n",
            "|Nicterims1993|  Mrs \\tDaisy And...|   m|     1985-07-05| Engenheiro de Dados|     2021-01-29|    2417.81|05/07/1985|  241.78|\n",
            "| Fouldlairity|    Ms zoe \\tPeacock|   m|     1964-06-03| Analista Financeiro|     2020-12-04|      51.95|03/06/1964|     5.2|\n",
            "| Ancomettiody| Mrs Libby \\tWill...|   f|     1974-09-04|         Estatístico|     2020-11-21|     130.73|04/09/1974|   13.07|\n",
            "|       Onswis| Ms Katie \\tMmtcalfe|   f|     1983-07-01|Engenheiro de Mac...|     2021-02-27|    1778.72|01/07/1983|  177.87|\n",
            "|    Majeappre|   Mr Luca \\tVaughan|   f|     1971-01-03|Gerente de Tecnol...|     2022-07-15|    1034.74|03/01/1971|  103.47|\n",
            "|      Theired|   Mr Henry \\tHaynes|   m|     1951-09-06|Analista de Intel...|     2022-12-23|    1320.04|06/09/1951|   132.0|\n",
            "|       Botter|    Mr Noah \\tWalton|   f|     1991-03-09|        Web Designer|     2022-07-26|    3464.72|09/03/1991|  346.47|\n",
            "+-------------+--------------------+----+---------------+--------------------+---------------+-----------+----------+--------+\n",
            "\n"
          ]
        }
      ]
    },
    {
      "cell_type": "code",
      "source": [
        "#Coluna contendo o valor total gasto menos o desconto\n",
        "df4 = df3.withColumn('valor_com_desconto',F.round(F.col('total_gasto')-F.col('desconto'),2))\n",
        "df4.show()"
      ],
      "metadata": {
        "colab": {
          "base_uri": "https://localhost:8080/"
        },
        "id": "JAis0Ip-EMIK",
        "outputId": "8ba977b7-7f87-4a54-d254-29f2970d5711"
      },
      "execution_count": null,
      "outputs": [
        {
          "output_type": "stream",
          "name": "stdout",
          "text": [
            "+-------------+--------------------+----+---------------+--------------------+---------------+-----------+----------+--------+------------------+\n",
            "|      usuario|                nome|sexo|data_nascimento|            ocupacao|data_assinatura|total_gasto|   data_br|desconto|valor_com_desconto|\n",
            "+-------------+--------------------+----+---------------+--------------------+---------------+-----------+----------+--------+------------------+\n",
            "|   Neaude1978|  Mr \\tbailey Glo...|   m|     1979-12-01|Analista de Intel...|     2021-10-01|    1257.45|01/12/1979|  125.75|            1131.7|\n",
            "|     Maress39|Mrs  \\t isabella ...|   f|     1960-08-04|  Arquiteto de Dados|     2020-03-24|     771.99|04/08/1960|    77.2|            694.79|\n",
            "|     Kehonell| Mrs Chloe \\tKirby  |   f|     1949-06-28|      Analista de RH|     2020-06-07|    1021.77|28/06/1949|  102.18|            919.59|\n",
            "|      Thimpay| Mrs louise \\tCla...|   f|     1995-01-07|  Arquiteto de Dados|     2020-11-03|     234.76|07/01/1995|   23.48|            211.28|\n",
            "|    Giall1985|Mr Harrison \\t Bowen|   f|     1987-04-04| Engenheiro de Dados|     2020-03-25|     628.07|04/04/1987|   62.81|            565.26|\n",
            "|    Neave1959|Mrs anna \\t     S...|   f|     1970-02-02| Engenheiro de Dados|     2020-09-18|     140.04|02/02/1970|    14.0|            126.04|\n",
            "|Nicterims1993|  Mrs \\tDaisy And...|   m|     1985-07-05| Engenheiro de Dados|     2021-01-29|    2417.81|05/07/1985|  241.78|           2176.03|\n",
            "| Fouldlairity|    Ms zoe \\tPeacock|   m|     1964-06-03| Analista Financeiro|     2020-12-04|      51.95|03/06/1964|     5.2|             46.75|\n",
            "| Ancomettiody| Mrs Libby \\tWill...|   f|     1974-09-04|         Estatístico|     2020-11-21|     130.73|04/09/1974|   13.07|            117.66|\n",
            "|       Onswis| Ms Katie \\tMmtcalfe|   f|     1983-07-01|Engenheiro de Mac...|     2021-02-27|    1778.72|01/07/1983|  177.87|           1600.85|\n",
            "|    Majeappre|   Mr Luca \\tVaughan|   f|     1971-01-03|Gerente de Tecnol...|     2022-07-15|    1034.74|03/01/1971|  103.47|            931.27|\n",
            "|      Theired|   Mr Henry \\tHaynes|   m|     1951-09-06|Analista de Intel...|     2022-12-23|    1320.04|06/09/1951|   132.0|           1188.04|\n",
            "|       Botter|    Mr Noah \\tWalton|   f|     1991-03-09|        Web Designer|     2022-07-26|    3464.72|09/03/1991|  346.47|           3118.25|\n",
            "+-------------+--------------------+----+---------------+--------------------+---------------+-----------+----------+--------+------------------+\n",
            "\n"
          ]
        }
      ]
    },
    {
      "cell_type": "code",
      "source": [
        "# Coluna contendo o valor total menos 10% de desconto sobre o valor total gasto\n",
        "df5 = df2.withColumn('valor_com_desconto',F.round(F.col('total_gasto')*0.9,2))\n",
        "df5.show(truncate=False)"
      ],
      "metadata": {
        "colab": {
          "base_uri": "https://localhost:8080/"
        },
        "id": "-9DdUTxYElG1",
        "outputId": "5e34e4fc-5d6f-456e-e9fb-91ec7bea394b"
      },
      "execution_count": null,
      "outputs": [
        {
          "output_type": "stream",
          "name": "stdout",
          "text": [
            "+-------------+-------------------------+----+---------------+-----------------------------------+---------------+-----------+----------+------------------+\n",
            "|usuario      |nome                     |sexo|data_nascimento|ocupacao                           |data_assinatura|total_gasto|data_br   |valor_com_desconto|\n",
            "+-------------+-------------------------+----+---------------+-----------------------------------+---------------+-----------+----------+------------------+\n",
            "|Neaude1978   |  Mr \\tbailey Glover     |m   |1979-12-01     |Analista de Inteligência de Mercado|2021-10-01     |1257.45    |01/12/1979|1131.71           |\n",
            "|Maress39     |Mrs  \\t isabella   Fowler|f   |1960-08-04     |Arquiteto de Dados                 |2020-03-24     |771.99     |04/08/1960|694.79            |\n",
            "|Kehonell     | Mrs Chloe \\tKirby       |f   |1949-06-28     |Analista de RH                     |2020-06-07     |1021.77    |28/06/1949|919.59            |\n",
            "|Thimpay      | Mrs louise \\tClark      |f   |1995-01-07     |Arquiteto de Dados                 |2020-11-03     |234.76     |07/01/1995|211.28            |\n",
            "|Giall1985    |Mr Harrison \\t Bowen     |f   |1987-04-04     |Engenheiro de Dados                |2020-03-25     |628.07     |04/04/1987|565.26            |\n",
            "|Neave1959    |Mrs anna \\t     Sharp    |f   |1970-02-02     |Engenheiro de Dados                |2020-09-18     |140.04     |02/02/1970|126.04            |\n",
            "|Nicterims1993|  Mrs \\tDaisy Anderson   |m   |1985-07-05     |Engenheiro de Dados                |2021-01-29     |2417.81    |05/07/1985|2176.03           |\n",
            "|Fouldlairity |Ms zoe \\tPeacock         |m   |1964-06-03     |Analista Financeiro                |2020-12-04     |51.95      |03/06/1964|46.76             |\n",
            "|Ancomettiody | Mrs Libby \\tWilliams    |f   |1974-09-04     |Estatístico                        |2020-11-21     |130.73     |04/09/1974|117.66            |\n",
            "|Onswis       |Ms Katie \\tMmtcalfe      |f   |1983-07-01     |Engenheiro de Machine Learning     |2021-02-27     |1778.72    |01/07/1983|1600.85           |\n",
            "|Majeappre    |Mr Luca \\tVaughan        |f   |1971-01-03     |Gerente de Tecnologia              |2022-07-15     |1034.74    |03/01/1971|931.27            |\n",
            "|Theired      |Mr Henry \\tHaynes        |m   |1951-09-06     |Analista de Inteligência de Mercado|2022-12-23     |1320.04    |06/09/1951|1188.04           |\n",
            "|Botter       |Mr Noah \\tWalton         |f   |1991-03-09     |Web Designer                       |2022-07-26     |3464.72    |09/03/1991|3118.25           |\n",
            "+-------------+-------------------------+----+---------------+-----------------------------------+---------------+-----------+----------+------------------+\n",
            "\n"
          ]
        }
      ]
    },
    {
      "cell_type": "code",
      "source": [
        "#CRIAR UMA NOVA COLUNA CONTENDO O NÚMERO 1 PARA O SEXO MASCULINO E 2 PARA O SEXO FEMININO\n",
        "\n",
        "df2.select('sexo').withColumn('id_sexo',F.when(F.col('sexo')=='m',1).otherwise(2)).show()\n"
      ],
      "metadata": {
        "id": "YudPXUlMQUqv",
        "colab": {
          "base_uri": "https://localhost:8080/"
        },
        "outputId": "226e1337-25de-40ee-d272-03483d22ac14"
      },
      "execution_count": null,
      "outputs": [
        {
          "output_type": "stream",
          "name": "stdout",
          "text": [
            "+----+-------+\n",
            "|sexo|id_sexo|\n",
            "+----+-------+\n",
            "|   m|      1|\n",
            "|   f|      2|\n",
            "|   f|      2|\n",
            "|   f|      2|\n",
            "|   f|      2|\n",
            "|   f|      2|\n",
            "|   m|      1|\n",
            "|   m|      1|\n",
            "|   f|      2|\n",
            "|   f|      2|\n",
            "|   f|      2|\n",
            "|   m|      1|\n",
            "|   f|      2|\n",
            "+----+-------+\n",
            "\n"
          ]
        }
      ]
    },
    {
      "cell_type": "markdown",
      "source": [
        "###◼ 8.3.10 converter pra DataFrame pandas"
      ],
      "metadata": {
        "id": "qGZVTuRzTEu9"
      }
    },
    {
      "cell_type": "code",
      "source": [
        "df_pandas = df2.toPandas()"
      ],
      "metadata": {
        "id": "vsc5pWL9TIDG"
      },
      "execution_count": null,
      "outputs": []
    },
    {
      "cell_type": "code",
      "source": [
        "df_pandas"
      ],
      "metadata": {
        "id": "2R5-EZUyTUWm",
        "colab": {
          "base_uri": "https://localhost:8080/"
        },
        "outputId": "71c82ff6-33fc-43e1-e3d7-987cf98839c9"
      },
      "execution_count": null,
      "outputs": [
        {
          "output_type": "execute_result",
          "data": {
            "text/plain": [
              "          usuario                       nome sexo data_nascimento  \\\n",
              "0      Neaude1978       Mr \\tbailey Glover      m      1979-12-01   \n",
              "1        Maress39  Mrs  \\t isabella   Fowler    f      1960-08-04   \n",
              "2        Kehonell        Mrs Chloe \\tKirby      f      1949-06-28   \n",
              "3         Thimpay       Mrs louise \\tClark      f      1995-01-07   \n",
              "4       Giall1985       Mr Harrison \\t Bowen    f      1987-04-04   \n",
              "5       Neave1959      Mrs anna \\t     Sharp    f      1970-02-02   \n",
              "6   Nicterims1993     Mrs \\tDaisy Anderson      m      1985-07-05   \n",
              "7    Fouldlairity           Ms zoe \\tPeacock    m      1964-06-03   \n",
              "8    Ancomettiody     Mrs Libby \\tWilliams      f      1974-09-04   \n",
              "9          Onswis        Ms Katie \\tMmtcalfe    f      1983-07-01   \n",
              "10      Majeappre          Mr Luca \\tVaughan    f      1971-01-03   \n",
              "11        Theired          Mr Henry \\tHaynes    m      1951-09-06   \n",
              "12         Botter           Mr Noah \\tWalton    f      1991-03-09   \n",
              "\n",
              "                               ocupacao data_assinatura  total_gasto  \\\n",
              "0   Analista de Inteligência de Mercado      2021-10-01      1257.45   \n",
              "1                    Arquiteto de Dados      2020-03-24       771.99   \n",
              "2                        Analista de RH      2020-06-07      1021.77   \n",
              "3                    Arquiteto de Dados      2020-11-03       234.76   \n",
              "4                   Engenheiro de Dados      2020-03-25       628.07   \n",
              "5                   Engenheiro de Dados      2020-09-18       140.04   \n",
              "6                   Engenheiro de Dados      2021-01-29      2417.81   \n",
              "7                   Analista Financeiro      2020-12-04        51.95   \n",
              "8                           Estatístico      2020-11-21       130.73   \n",
              "9        Engenheiro de Machine Learning      2021-02-27      1778.72   \n",
              "10                Gerente de Tecnologia      2022-07-15      1034.74   \n",
              "11  Analista de Inteligência de Mercado      2022-12-23      1320.04   \n",
              "12                         Web Designer      2022-07-26      3464.72   \n",
              "\n",
              "       data_br  \n",
              "0   01/12/1979  \n",
              "1   04/08/1960  \n",
              "2   28/06/1949  \n",
              "3   07/01/1995  \n",
              "4   04/04/1987  \n",
              "5   02/02/1970  \n",
              "6   05/07/1985  \n",
              "7   03/06/1964  \n",
              "8   04/09/1974  \n",
              "9   01/07/1983  \n",
              "10  03/01/1971  \n",
              "11  06/09/1951  \n",
              "12  09/03/1991  "
            ],
            "text/html": [
              "\n",
              "  <div id=\"df-1abcd28a-f542-4da1-8cfe-f28152fda8a3\">\n",
              "    <div class=\"colab-df-container\">\n",
              "      <div>\n",
              "<style scoped>\n",
              "    .dataframe tbody tr th:only-of-type {\n",
              "        vertical-align: middle;\n",
              "    }\n",
              "\n",
              "    .dataframe tbody tr th {\n",
              "        vertical-align: top;\n",
              "    }\n",
              "\n",
              "    .dataframe thead th {\n",
              "        text-align: right;\n",
              "    }\n",
              "</style>\n",
              "<table border=\"1\" class=\"dataframe\">\n",
              "  <thead>\n",
              "    <tr style=\"text-align: right;\">\n",
              "      <th></th>\n",
              "      <th>usuario</th>\n",
              "      <th>nome</th>\n",
              "      <th>sexo</th>\n",
              "      <th>data_nascimento</th>\n",
              "      <th>ocupacao</th>\n",
              "      <th>data_assinatura</th>\n",
              "      <th>total_gasto</th>\n",
              "      <th>data_br</th>\n",
              "    </tr>\n",
              "  </thead>\n",
              "  <tbody>\n",
              "    <tr>\n",
              "      <th>0</th>\n",
              "      <td>Neaude1978</td>\n",
              "      <td>Mr \\tbailey Glover</td>\n",
              "      <td>m</td>\n",
              "      <td>1979-12-01</td>\n",
              "      <td>Analista de Inteligência de Mercado</td>\n",
              "      <td>2021-10-01</td>\n",
              "      <td>1257.45</td>\n",
              "      <td>01/12/1979</td>\n",
              "    </tr>\n",
              "    <tr>\n",
              "      <th>1</th>\n",
              "      <td>Maress39</td>\n",
              "      <td>Mrs  \\t isabella   Fowler</td>\n",
              "      <td>f</td>\n",
              "      <td>1960-08-04</td>\n",
              "      <td>Arquiteto de Dados</td>\n",
              "      <td>2020-03-24</td>\n",
              "      <td>771.99</td>\n",
              "      <td>04/08/1960</td>\n",
              "    </tr>\n",
              "    <tr>\n",
              "      <th>2</th>\n",
              "      <td>Kehonell</td>\n",
              "      <td>Mrs Chloe \\tKirby</td>\n",
              "      <td>f</td>\n",
              "      <td>1949-06-28</td>\n",
              "      <td>Analista de RH</td>\n",
              "      <td>2020-06-07</td>\n",
              "      <td>1021.77</td>\n",
              "      <td>28/06/1949</td>\n",
              "    </tr>\n",
              "    <tr>\n",
              "      <th>3</th>\n",
              "      <td>Thimpay</td>\n",
              "      <td>Mrs louise \\tClark</td>\n",
              "      <td>f</td>\n",
              "      <td>1995-01-07</td>\n",
              "      <td>Arquiteto de Dados</td>\n",
              "      <td>2020-11-03</td>\n",
              "      <td>234.76</td>\n",
              "      <td>07/01/1995</td>\n",
              "    </tr>\n",
              "    <tr>\n",
              "      <th>4</th>\n",
              "      <td>Giall1985</td>\n",
              "      <td>Mr Harrison \\t Bowen</td>\n",
              "      <td>f</td>\n",
              "      <td>1987-04-04</td>\n",
              "      <td>Engenheiro de Dados</td>\n",
              "      <td>2020-03-25</td>\n",
              "      <td>628.07</td>\n",
              "      <td>04/04/1987</td>\n",
              "    </tr>\n",
              "    <tr>\n",
              "      <th>5</th>\n",
              "      <td>Neave1959</td>\n",
              "      <td>Mrs anna \\t     Sharp</td>\n",
              "      <td>f</td>\n",
              "      <td>1970-02-02</td>\n",
              "      <td>Engenheiro de Dados</td>\n",
              "      <td>2020-09-18</td>\n",
              "      <td>140.04</td>\n",
              "      <td>02/02/1970</td>\n",
              "    </tr>\n",
              "    <tr>\n",
              "      <th>6</th>\n",
              "      <td>Nicterims1993</td>\n",
              "      <td>Mrs \\tDaisy Anderson</td>\n",
              "      <td>m</td>\n",
              "      <td>1985-07-05</td>\n",
              "      <td>Engenheiro de Dados</td>\n",
              "      <td>2021-01-29</td>\n",
              "      <td>2417.81</td>\n",
              "      <td>05/07/1985</td>\n",
              "    </tr>\n",
              "    <tr>\n",
              "      <th>7</th>\n",
              "      <td>Fouldlairity</td>\n",
              "      <td>Ms zoe \\tPeacock</td>\n",
              "      <td>m</td>\n",
              "      <td>1964-06-03</td>\n",
              "      <td>Analista Financeiro</td>\n",
              "      <td>2020-12-04</td>\n",
              "      <td>51.95</td>\n",
              "      <td>03/06/1964</td>\n",
              "    </tr>\n",
              "    <tr>\n",
              "      <th>8</th>\n",
              "      <td>Ancomettiody</td>\n",
              "      <td>Mrs Libby \\tWilliams</td>\n",
              "      <td>f</td>\n",
              "      <td>1974-09-04</td>\n",
              "      <td>Estatístico</td>\n",
              "      <td>2020-11-21</td>\n",
              "      <td>130.73</td>\n",
              "      <td>04/09/1974</td>\n",
              "    </tr>\n",
              "    <tr>\n",
              "      <th>9</th>\n",
              "      <td>Onswis</td>\n",
              "      <td>Ms Katie \\tMmtcalfe</td>\n",
              "      <td>f</td>\n",
              "      <td>1983-07-01</td>\n",
              "      <td>Engenheiro de Machine Learning</td>\n",
              "      <td>2021-02-27</td>\n",
              "      <td>1778.72</td>\n",
              "      <td>01/07/1983</td>\n",
              "    </tr>\n",
              "    <tr>\n",
              "      <th>10</th>\n",
              "      <td>Majeappre</td>\n",
              "      <td>Mr Luca \\tVaughan</td>\n",
              "      <td>f</td>\n",
              "      <td>1971-01-03</td>\n",
              "      <td>Gerente de Tecnologia</td>\n",
              "      <td>2022-07-15</td>\n",
              "      <td>1034.74</td>\n",
              "      <td>03/01/1971</td>\n",
              "    </tr>\n",
              "    <tr>\n",
              "      <th>11</th>\n",
              "      <td>Theired</td>\n",
              "      <td>Mr Henry \\tHaynes</td>\n",
              "      <td>m</td>\n",
              "      <td>1951-09-06</td>\n",
              "      <td>Analista de Inteligência de Mercado</td>\n",
              "      <td>2022-12-23</td>\n",
              "      <td>1320.04</td>\n",
              "      <td>06/09/1951</td>\n",
              "    </tr>\n",
              "    <tr>\n",
              "      <th>12</th>\n",
              "      <td>Botter</td>\n",
              "      <td>Mr Noah \\tWalton</td>\n",
              "      <td>f</td>\n",
              "      <td>1991-03-09</td>\n",
              "      <td>Web Designer</td>\n",
              "      <td>2022-07-26</td>\n",
              "      <td>3464.72</td>\n",
              "      <td>09/03/1991</td>\n",
              "    </tr>\n",
              "  </tbody>\n",
              "</table>\n",
              "</div>\n",
              "      <button class=\"colab-df-convert\" onclick=\"convertToInteractive('df-1abcd28a-f542-4da1-8cfe-f28152fda8a3')\"\n",
              "              title=\"Convert this dataframe to an interactive table.\"\n",
              "              style=\"display:none;\">\n",
              "        \n",
              "  <svg xmlns=\"http://www.w3.org/2000/svg\" height=\"24px\"viewBox=\"0 0 24 24\"\n",
              "       width=\"24px\">\n",
              "    <path d=\"M0 0h24v24H0V0z\" fill=\"none\"/>\n",
              "    <path d=\"M18.56 5.44l.94 2.06.94-2.06 2.06-.94-2.06-.94-.94-2.06-.94 2.06-2.06.94zm-11 1L8.5 8.5l.94-2.06 2.06-.94-2.06-.94L8.5 2.5l-.94 2.06-2.06.94zm10 10l.94 2.06.94-2.06 2.06-.94-2.06-.94-.94-2.06-.94 2.06-2.06.94z\"/><path d=\"M17.41 7.96l-1.37-1.37c-.4-.4-.92-.59-1.43-.59-.52 0-1.04.2-1.43.59L10.3 9.45l-7.72 7.72c-.78.78-.78 2.05 0 2.83L4 21.41c.39.39.9.59 1.41.59.51 0 1.02-.2 1.41-.59l7.78-7.78 2.81-2.81c.8-.78.8-2.07 0-2.86zM5.41 20L4 18.59l7.72-7.72 1.47 1.35L5.41 20z\"/>\n",
              "  </svg>\n",
              "      </button>\n",
              "      \n",
              "  <style>\n",
              "    .colab-df-container {\n",
              "      display:flex;\n",
              "      flex-wrap:wrap;\n",
              "      gap: 12px;\n",
              "    }\n",
              "\n",
              "    .colab-df-convert {\n",
              "      background-color: #E8F0FE;\n",
              "      border: none;\n",
              "      border-radius: 50%;\n",
              "      cursor: pointer;\n",
              "      display: none;\n",
              "      fill: #1967D2;\n",
              "      height: 32px;\n",
              "      padding: 0 0 0 0;\n",
              "      width: 32px;\n",
              "    }\n",
              "\n",
              "    .colab-df-convert:hover {\n",
              "      background-color: #E2EBFA;\n",
              "      box-shadow: 0px 1px 2px rgba(60, 64, 67, 0.3), 0px 1px 3px 1px rgba(60, 64, 67, 0.15);\n",
              "      fill: #174EA6;\n",
              "    }\n",
              "\n",
              "    [theme=dark] .colab-df-convert {\n",
              "      background-color: #3B4455;\n",
              "      fill: #D2E3FC;\n",
              "    }\n",
              "\n",
              "    [theme=dark] .colab-df-convert:hover {\n",
              "      background-color: #434B5C;\n",
              "      box-shadow: 0px 1px 3px 1px rgba(0, 0, 0, 0.15);\n",
              "      filter: drop-shadow(0px 1px 2px rgba(0, 0, 0, 0.3));\n",
              "      fill: #FFFFFF;\n",
              "    }\n",
              "  </style>\n",
              "\n",
              "      <script>\n",
              "        const buttonEl =\n",
              "          document.querySelector('#df-1abcd28a-f542-4da1-8cfe-f28152fda8a3 button.colab-df-convert');\n",
              "        buttonEl.style.display =\n",
              "          google.colab.kernel.accessAllowed ? 'block' : 'none';\n",
              "\n",
              "        async function convertToInteractive(key) {\n",
              "          const element = document.querySelector('#df-1abcd28a-f542-4da1-8cfe-f28152fda8a3');\n",
              "          const dataTable =\n",
              "            await google.colab.kernel.invokeFunction('convertToInteractive',\n",
              "                                                     [key], {});\n",
              "          if (!dataTable) return;\n",
              "\n",
              "          const docLinkHtml = 'Like what you see? Visit the ' +\n",
              "            '<a target=\"_blank\" href=https://colab.research.google.com/notebooks/data_table.ipynb>data table notebook</a>'\n",
              "            + ' to learn more about interactive tables.';\n",
              "          element.innerHTML = '';\n",
              "          dataTable['output_type'] = 'display_data';\n",
              "          await google.colab.output.renderOutput(dataTable, element);\n",
              "          const docLink = document.createElement('div');\n",
              "          docLink.innerHTML = docLinkHtml;\n",
              "          element.appendChild(docLink);\n",
              "        }\n",
              "      </script>\n",
              "    </div>\n",
              "  </div>\n",
              "  "
            ]
          },
          "metadata": {},
          "execution_count": 68
        }
      ]
    },
    {
      "cell_type": "markdown",
      "source": [
        "###◼ 8.3.11 Salvar DataFrame"
      ],
      "metadata": {
        "id": "Fo4y5xpDvb6C"
      }
    },
    {
      "cell_type": "markdown",
      "source": [
        "**Diferentes formatos.**"
      ],
      "metadata": {
        "id": "wOfYZAhBAsu7"
      }
    },
    {
      "cell_type": "code",
      "source": [
        "\n",
        "# df2.write.format('csv').mode('overwrite').save('caminho')\n",
        "# df2.write.format('parquet').mode('overwrite').save('caminho')\n",
        "# df9.write.format('json').save('caminho')\n",
        "# df9.write.format('orc').save('caminho')"
      ],
      "metadata": {
        "id": "SLi4UVBRvdid"
      },
      "execution_count": null,
      "outputs": []
    },
    {
      "cell_type": "markdown",
      "source": [
        "###◼ 8.3.12  Joins"
      ],
      "metadata": {
        "id": "l9Zc2XM7wMq_"
      }
    },
    {
      "cell_type": "markdown",
      "source": [
        "**Vou criar dois DataFrames para consolidar o conhecimento do comando Join.**"
      ],
      "metadata": {
        "id": "sEB2oQ3xwQQk"
      }
    },
    {
      "cell_type": "code",
      "source": [
        "# Primeiro DataFrame\n",
        "\n",
        "schema = ['id', 'nome', 'salario']\n",
        "\n",
        "dados = [\n",
        "         (1, 'João', 2000), \n",
        "         (2, 'Maria', 5000), \n",
        "         (3, 'Pedro', 8300),\n",
        "         (4, 'Gustavo', 1200),\n",
        "         (5, 'Ana', 10000),\n",
        "         (6, 'Vitoria', 7500),\n",
        "         (7, 'Carlos', 4800),\n",
        "         (8, 'Claudia', 4300),\n",
        "         (9, 'Andre', 2400),\n",
        "]\n",
        "df10 = spark.createDataFrame(dados,schema)"
      ],
      "metadata": {
        "id": "BQx9e2d5wO4z"
      },
      "execution_count": null,
      "outputs": []
    },
    {
      "cell_type": "code",
      "source": [
        "# Segundo DataFrame\n",
        "\n",
        "schema2 = ['id', 'cidade', 'estado']\n",
        "\n",
        "dados2 = [\n",
        "         (1, 'São Paulo', 'SP'),\n",
        "         (2, 'Curitiba', 'PR'),\n",
        "         (3, 'Fortaleza', 'CE'),\n",
        "         (4, 'Ribeirão Preto', 'SP'),\n",
        "         (8, 'Belo Horizonte', 'MG'),\n",
        "         (9, 'Goiania', 'GO'),\n",
        "         (10, 'Sobral', 'CE'),\n",
        "         (11, 'Salvador', 'BA'),\n",
        "         (12, 'São Luis', 'MA'),\n",
        "]\n",
        "\n",
        "df11 = spark.createDataFrame(dados2,schema2)"
      ],
      "metadata": {
        "id": "TCRzt0smweZ2"
      },
      "execution_count": null,
      "outputs": []
    },
    {
      "cell_type": "markdown",
      "source": [
        "####◼ 8.3.12.1  inner join"
      ],
      "metadata": {
        "id": "N1Le1jZfwpah"
      }
    },
    {
      "cell_type": "markdown",
      "source": [
        "**Une apenas aquilo que possui equivalência nos dois DataFrames.**"
      ],
      "metadata": {
        "id": "Siv-mwgYw_G7"
      }
    },
    {
      "cell_type": "code",
      "source": [
        "df_inner_join = df10.join(df11,on=['id'],how='inner')\n",
        "df_inner_join.show()"
      ],
      "metadata": {
        "colab": {
          "base_uri": "https://localhost:8080/"
        },
        "id": "fw7RJJVowtfZ",
        "outputId": "ab9c737f-2597-4349-cdd2-f393617ed676"
      },
      "execution_count": null,
      "outputs": [
        {
          "output_type": "stream",
          "name": "stdout",
          "text": [
            "+---+-------+-------+--------------+------+\n",
            "| id|   nome|salario|        cidade|estado|\n",
            "+---+-------+-------+--------------+------+\n",
            "|  1|   João|   2000|     São Paulo|    SP|\n",
            "|  2|  Maria|   5000|      Curitiba|    PR|\n",
            "|  3|  Pedro|   8300|     Fortaleza|    CE|\n",
            "|  4|Gustavo|   1200|Ribeirão Preto|    SP|\n",
            "|  8|Claudia|   4300|Belo Horizonte|    MG|\n",
            "|  9|  Andre|   2400|       Goiania|    GO|\n",
            "+---+-------+-------+--------------+------+\n",
            "\n"
          ]
        }
      ]
    },
    {
      "cell_type": "markdown",
      "source": [
        "####◼ 8.3.12.2 left join"
      ],
      "metadata": {
        "id": "p3WcpEUexHA6"
      }
    },
    {
      "cell_type": "code",
      "source": [
        "df_left_join = df10.join(df11,on = ['id'],how='left')\n",
        "df_left_join.orderBy('id').show()"
      ],
      "metadata": {
        "colab": {
          "base_uri": "https://localhost:8080/"
        },
        "id": "LU4OPm4ExJTA",
        "outputId": "002a5aec-ec6d-48db-c733-09c8b1acc168"
      },
      "execution_count": null,
      "outputs": [
        {
          "output_type": "stream",
          "name": "stdout",
          "text": [
            "+---+-------+-------+--------------+------+\n",
            "| id|   nome|salario|        cidade|estado|\n",
            "+---+-------+-------+--------------+------+\n",
            "|  1|   João|   2000|     São Paulo|    SP|\n",
            "|  2|  Maria|   5000|      Curitiba|    PR|\n",
            "|  3|  Pedro|   8300|     Fortaleza|    CE|\n",
            "|  4|Gustavo|   1200|Ribeirão Preto|    SP|\n",
            "|  5|    Ana|  10000|          null|  null|\n",
            "|  6|Vitoria|   7500|          null|  null|\n",
            "|  7| Carlos|   4800|          null|  null|\n",
            "|  8|Claudia|   4300|Belo Horizonte|    MG|\n",
            "|  9|  Andre|   2400|       Goiania|    GO|\n",
            "+---+-------+-------+--------------+------+\n",
            "\n"
          ]
        }
      ]
    },
    {
      "cell_type": "markdown",
      "source": [
        "####◼ 8.3.12.3 right join"
      ],
      "metadata": {
        "id": "aop44l2Nx5B4"
      }
    },
    {
      "cell_type": "code",
      "source": [
        "df_right_join = df10.join(df11,on = ['id'],how = 'right')\n",
        "df_right_join.orderBy('id').show()"
      ],
      "metadata": {
        "colab": {
          "base_uri": "https://localhost:8080/"
        },
        "id": "recQIee9x6a6",
        "outputId": "f9635e8b-4af2-4c79-81c0-e52974721e14"
      },
      "execution_count": null,
      "outputs": [
        {
          "output_type": "stream",
          "name": "stdout",
          "text": [
            "+---+-------+-------+--------------+------+\n",
            "| id|   nome|salario|        cidade|estado|\n",
            "+---+-------+-------+--------------+------+\n",
            "|  1|   João|   2000|     São Paulo|    SP|\n",
            "|  2|  Maria|   5000|      Curitiba|    PR|\n",
            "|  3|  Pedro|   8300|     Fortaleza|    CE|\n",
            "|  4|Gustavo|   1200|Ribeirão Preto|    SP|\n",
            "|  8|Claudia|   4300|Belo Horizonte|    MG|\n",
            "|  9|  Andre|   2400|       Goiania|    GO|\n",
            "| 10|   null|   null|        Sobral|    CE|\n",
            "| 11|   null|   null|      Salvador|    BA|\n",
            "| 12|   null|   null|      São Luis|    MA|\n",
            "+---+-------+-------+--------------+------+\n",
            "\n"
          ]
        }
      ]
    }
  ]
}