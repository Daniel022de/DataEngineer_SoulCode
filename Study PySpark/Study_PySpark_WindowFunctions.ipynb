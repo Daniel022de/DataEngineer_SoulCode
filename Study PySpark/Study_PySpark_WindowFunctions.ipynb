{
  "nbformat": 4,
  "nbformat_minor": 0,
  "metadata": {
    "colab": {
      "provenance": [],
      "toc_visible": true,
      "authorship_tag": "ABX9TyN7uvF1Y/TE+sy/jGImtVRr",
      "include_colab_link": true
    },
    "kernelspec": {
      "name": "python3",
      "display_name": "Python 3"
    },
    "language_info": {
      "name": "python"
    }
  },
  "cells": [
    {
      "cell_type": "markdown",
      "metadata": {
        "id": "view-in-github",
        "colab_type": "text"
      },
      "source": [
        "<a href=\"https://colab.research.google.com/github/Daniel022de/DataEnginner_SoulCode/blob/main/Study%20PySpark/Study_PySpark_WindowFunctions.ipynb\" target=\"_parent\"><img src=\"https://colab.research.google.com/assets/colab-badge.svg\" alt=\"Open In Colab\"/></a>"
      ]
    },
    {
      "cell_type": "markdown",
      "source": [
        "# 📗 **SPARK - WINDOW FUNCTIONS**\n",
        "\n",
        "Esse Notebook é referente as instruções feitas pelo professor **Bismark William** no bootcamp **engenharia de dados** da **SoulCode** visando a consolidação dos conhecimentos sobre Window Functions.\n",
        "\n",
        "\n",
        "\n",
        "\n",
        "\n",
        "\n",
        "\n",
        "! **Você pode encontrar esse notebook no meu repositório** [GitHub](https://github.com/Daniel022de/Bootcamp_SoulCode_EngenhariaDados)\n",
        "\n",
        "! **Você pode entrar em contato comigo através do meu email** ddololiveira.pessoal@gmail.com **e** [Linkedin](https://www.linkedin.com/in/daniel-oliveira-503b0323b/).\n",
        "\n",
        "! **Toda dúvida,recomendações e feedbacks serão bem-vindas.**\n",
        "\n"
      ],
      "metadata": {
        "id": "M4KZGatMe69j"
      }
    },
    {
      "cell_type": "markdown",
      "source": [
        "# ▶ 1 Instalação"
      ],
      "metadata": {
        "id": "gq6mijOkfMCb"
      }
    },
    {
      "cell_type": "code",
      "source": [
        "!pip install pyspark"
      ],
      "metadata": {
        "id": "W-VsmmwefOXm"
      },
      "execution_count": null,
      "outputs": []
    },
    {
      "cell_type": "markdown",
      "source": [
        "#▶ 2 Importação bibliotecas"
      ],
      "metadata": {
        "id": "r1DS6Da-fRmC"
      }
    },
    {
      "cell_type": "code",
      "source": [
        "from pyspark.sql import SparkSession\n",
        "from pyspark.sql.window import Window\n",
        "import pyspark.sql.functions as F"
      ],
      "metadata": {
        "id": "PZVxODQmfRNw"
      },
      "execution_count": null,
      "outputs": []
    },
    {
      "cell_type": "markdown",
      "source": [
        "# ▶ 3 Configurando variável ambiente"
      ],
      "metadata": {
        "id": "xAeSwrbsflR9"
      }
    },
    {
      "cell_type": "code",
      "source": [
        "spark = (\n",
        "    SparkSession.builder\n",
        "                .master('local')\n",
        "                .appName('window')\n",
        "                .config('spark.ui.port', '4050')\n",
        "                .getOrCreate()\n",
        ")"
      ],
      "metadata": {
        "id": "ogcb9w7BfpJ6"
      },
      "execution_count": null,
      "outputs": []
    },
    {
      "cell_type": "markdown",
      "source": [
        "#▶ 4 Criando DataFrame Spark"
      ],
      "metadata": {
        "id": "NsGHZK6Hf0aN"
      }
    },
    {
      "cell_type": "code",
      "source": [
        "#esquemas\n",
        "\n",
        "schema = ['nome', 'departamento', 'estado', 'salario']"
      ],
      "metadata": {
        "id": "mDJopUSuf3Rw"
      },
      "execution_count": null,
      "outputs": []
    },
    {
      "cell_type": "code",
      "source": [
        "#dados\n",
        "\n",
        "dados = [('Anderson', 'vendas', 'SP', 9000),\n",
        "         ('Kennedy', 'vendas', 'RJ', 4500),\n",
        "         ('Luciana', 'vendas', 'SP', 4500),\n",
        "         ('Marta', 'vendas', 'SP', 4500),\n",
        "         ('João', 'vendas', 'SP', 4500),\n",
        "         ('Diego', 'vendas', 'SP', 4500),\n",
        "         ('Marilia', 'vendas', 'SP', 1200),\n",
        "         ('Gustavo', 'financeiro', 'AM', 8000),\n",
        "         ('Pedro', 'financeiro', 'AM', 2750),\n",
        "         ('Juliana', 'financeiro', 'MG', 3000),\n",
        "         ('Leticia', 'financeiro', 'RJ', 7500),\n",
        "('Oswaldo', 'marketing', 'RJ', 2450),\n",
        "         ('Denis', 'marketing', 'MG', 1300)\n",
        "         \n",
        "        ]"
      ],
      "metadata": {
        "id": "q0X-2OxQf7zr"
      },
      "execution_count": null,
      "outputs": []
    },
    {
      "cell_type": "code",
      "source": [
        "df = spark.createDataFrame(dados,schema)\n",
        "df.show()"
      ],
      "metadata": {
        "colab": {
          "base_uri": "https://localhost:8080/"
        },
        "id": "KDCLe6pdgAaW",
        "outputId": "a370d8d4-7bbc-497e-c24b-752389a08efb"
      },
      "execution_count": null,
      "outputs": [
        {
          "output_type": "stream",
          "name": "stdout",
          "text": [
            "+--------+------------+------+-------+\n",
            "|    nome|departamento|estado|salario|\n",
            "+--------+------------+------+-------+\n",
            "|Anderson|      vendas|    SP|   9000|\n",
            "| Kennedy|      vendas|    RJ|   4500|\n",
            "| Luciana|      vendas|    SP|   4500|\n",
            "|   Marta|      vendas|    SP|   4500|\n",
            "|    João|      vendas|    SP|   4500|\n",
            "|   Diego|      vendas|    SP|   4500|\n",
            "| Marilia|      vendas|    SP|   1200|\n",
            "| Gustavo|  financeiro|    AM|   8000|\n",
            "|   Pedro|  financeiro|    AM|   2750|\n",
            "| Juliana|  financeiro|    MG|   3000|\n",
            "| Leticia|  financeiro|    RJ|   7500|\n",
            "| Oswaldo|   marketing|    RJ|   2450|\n",
            "|   Denis|   marketing|    MG|   1300|\n",
            "+--------+------------+------+-------+\n",
            "\n"
          ]
        }
      ]
    },
    {
      "cell_type": "markdown",
      "source": [
        "# ▶ 5 Window Functions"
      ],
      "metadata": {
        "id": "1L_gq4cXgf9R"
      }
    },
    {
      "cell_type": "code",
      "source": [
        "#Criando partição\n",
        "\n",
        "w0 = Window.partitionBy(F.col('estado')).orderBy(F.col('salario').desc())"
      ],
      "metadata": {
        "id": "njYli_PSgiY6"
      },
      "execution_count": null,
      "outputs": []
    },
    {
      "cell_type": "markdown",
      "source": [
        "##  ◼ 5.1 row_number"
      ],
      "metadata": {
        "id": "hHFV09sshkj7"
      }
    },
    {
      "cell_type": "markdown",
      "source": [
        "**Usa-se pra saber quantas linhas há em uma determinada partição.**"
      ],
      "metadata": {
        "id": "1pBZauMRj_0X"
      }
    },
    {
      "cell_type": "code",
      "source": [
        "df.withColumn('numero_linha',F.row_number().over(w0)).show()"
      ],
      "metadata": {
        "colab": {
          "base_uri": "https://localhost:8080/"
        },
        "id": "y1tvgQGehdoJ",
        "outputId": "0595720f-191a-4e24-e1f2-21da55ff5c93"
      },
      "execution_count": null,
      "outputs": [
        {
          "output_type": "stream",
          "name": "stdout",
          "text": [
            "+--------+------------+------+-------+------------+\n",
            "|    nome|departamento|estado|salario|numero_linha|\n",
            "+--------+------------+------+-------+------------+\n",
            "| Gustavo|  financeiro|    AM|   8000|           1|\n",
            "|   Pedro|  financeiro|    AM|   2750|           2|\n",
            "| Juliana|  financeiro|    MG|   3000|           1|\n",
            "|   Denis|   marketing|    MG|   1300|           2|\n",
            "| Leticia|  financeiro|    RJ|   7500|           1|\n",
            "| Kennedy|      vendas|    RJ|   4500|           2|\n",
            "| Oswaldo|   marketing|    RJ|   2450|           3|\n",
            "|Anderson|      vendas|    SP|   9000|           1|\n",
            "| Luciana|      vendas|    SP|   4500|           2|\n",
            "|   Marta|      vendas|    SP|   4500|           3|\n",
            "|    João|      vendas|    SP|   4500|           4|\n",
            "|   Diego|      vendas|    SP|   4500|           5|\n",
            "| Marilia|      vendas|    SP|   1200|           6|\n",
            "+--------+------------+------+-------+------------+\n",
            "\n"
          ]
        }
      ]
    },
    {
      "cell_type": "markdown",
      "source": [
        "## ◼ 5.2 rank"
      ],
      "metadata": {
        "id": "ibydUy3viadG"
      }
    },
    {
      "cell_type": "markdown",
      "source": [
        "**Ranquear partição.**"
      ],
      "metadata": {
        "id": "JGMfHSEbkM02"
      }
    },
    {
      "cell_type": "code",
      "source": [
        "df.withColumn('rank',F.rank().over(w0)).show()"
      ],
      "metadata": {
        "colab": {
          "base_uri": "https://localhost:8080/"
        },
        "id": "t9rYxQQKiddF",
        "outputId": "210fe617-b8ac-49eb-d345-5691374cef12"
      },
      "execution_count": null,
      "outputs": [
        {
          "output_type": "stream",
          "name": "stdout",
          "text": [
            "+--------+------------+------+-------+----+\n",
            "|    nome|departamento|estado|salario|rank|\n",
            "+--------+------------+------+-------+----+\n",
            "| Gustavo|  financeiro|    AM|   8000|   1|\n",
            "|   Pedro|  financeiro|    AM|   2750|   2|\n",
            "| Juliana|  financeiro|    MG|   3000|   1|\n",
            "|   Denis|   marketing|    MG|   1300|   2|\n",
            "| Leticia|  financeiro|    RJ|   7500|   1|\n",
            "| Kennedy|      vendas|    RJ|   4500|   2|\n",
            "| Oswaldo|   marketing|    RJ|   2450|   3|\n",
            "|Anderson|      vendas|    SP|   9000|   1|\n",
            "| Luciana|      vendas|    SP|   4500|   2|\n",
            "|   Marta|      vendas|    SP|   4500|   2|\n",
            "|    João|      vendas|    SP|   4500|   2|\n",
            "|   Diego|      vendas|    SP|   4500|   2|\n",
            "| Marilia|      vendas|    SP|   1200|   6|\n",
            "+--------+------------+------+-------+----+\n",
            "\n"
          ]
        }
      ]
    },
    {
      "cell_type": "markdown",
      "source": [
        "## ◼ 5.3 dense_rank"
      ],
      "metadata": {
        "id": "Zxku6FdSir4I"
      }
    },
    {
      "cell_type": "markdown",
      "source": [
        "**Ranquear partição. Desconsiderando para uma determinada classificação os empates anteriores**"
      ],
      "metadata": {
        "id": "ZhDsjbEwkWMw"
      }
    },
    {
      "cell_type": "code",
      "source": [
        "df.withColumn('rank',F.dense_rank().over(w0)).show()"
      ],
      "metadata": {
        "colab": {
          "base_uri": "https://localhost:8080/"
        },
        "id": "N3FUppU-iyO9",
        "outputId": "f9ef260d-9e35-4477-83bc-807da06c63ef"
      },
      "execution_count": null,
      "outputs": [
        {
          "output_type": "stream",
          "name": "stdout",
          "text": [
            "+--------+------------+------+-------+----+\n",
            "|    nome|departamento|estado|salario|rank|\n",
            "+--------+------------+------+-------+----+\n",
            "| Gustavo|  financeiro|    AM|   8000|   1|\n",
            "|   Pedro|  financeiro|    AM|   2750|   2|\n",
            "| Juliana|  financeiro|    MG|   3000|   1|\n",
            "|   Denis|   marketing|    MG|   1300|   2|\n",
            "| Leticia|  financeiro|    RJ|   7500|   1|\n",
            "| Kennedy|      vendas|    RJ|   4500|   2|\n",
            "| Oswaldo|   marketing|    RJ|   2450|   3|\n",
            "|Anderson|      vendas|    SP|   9000|   1|\n",
            "| Luciana|      vendas|    SP|   4500|   2|\n",
            "|   Marta|      vendas|    SP|   4500|   2|\n",
            "|    João|      vendas|    SP|   4500|   2|\n",
            "|   Diego|      vendas|    SP|   4500|   2|\n",
            "| Marilia|      vendas|    SP|   1200|   3|\n",
            "+--------+------------+------+-------+----+\n",
            "\n"
          ]
        }
      ]
    },
    {
      "cell_type": "markdown",
      "source": [
        "#▶ 6 lag"
      ],
      "metadata": {
        "id": "tFjTdIINjByC"
      }
    },
    {
      "cell_type": "markdown",
      "source": [
        "**Pegar o X valor N acima.**"
      ],
      "metadata": {
        "id": "RK2NGkEAkhXb"
      }
    },
    {
      "cell_type": "code",
      "source": [
        "df.withColumn('lag',F.lag('nome',1).over(w0)).show()"
      ],
      "metadata": {
        "colab": {
          "base_uri": "https://localhost:8080/"
        },
        "id": "5NUowF6LjFDM",
        "outputId": "f5772f89-3017-468a-f1df-965fdc0bca40"
      },
      "execution_count": null,
      "outputs": [
        {
          "output_type": "stream",
          "name": "stdout",
          "text": [
            "+--------+------------+------+-------+--------+\n",
            "|    nome|departamento|estado|salario|     lag|\n",
            "+--------+------------+------+-------+--------+\n",
            "| Gustavo|  financeiro|    AM|   8000|    null|\n",
            "|   Pedro|  financeiro|    AM|   2750| Gustavo|\n",
            "| Juliana|  financeiro|    MG|   3000|    null|\n",
            "|   Denis|   marketing|    MG|   1300| Juliana|\n",
            "| Leticia|  financeiro|    RJ|   7500|    null|\n",
            "| Kennedy|      vendas|    RJ|   4500| Leticia|\n",
            "| Oswaldo|   marketing|    RJ|   2450| Kennedy|\n",
            "|Anderson|      vendas|    SP|   9000|    null|\n",
            "| Luciana|      vendas|    SP|   4500|Anderson|\n",
            "|   Marta|      vendas|    SP|   4500| Luciana|\n",
            "|    João|      vendas|    SP|   4500|   Marta|\n",
            "|   Diego|      vendas|    SP|   4500|    João|\n",
            "| Marilia|      vendas|    SP|   1200|   Diego|\n",
            "+--------+------------+------+-------+--------+\n",
            "\n"
          ]
        }
      ]
    },
    {
      "cell_type": "markdown",
      "source": [
        "# ▶ 7 lead"
      ],
      "metadata": {
        "id": "bijocYCSjo8s"
      }
    },
    {
      "cell_type": "markdown",
      "source": [
        "**Pegar o X valor N abaixo.**"
      ],
      "metadata": {
        "id": "seXngSF_ks6X"
      }
    },
    {
      "cell_type": "code",
      "source": [
        "df.withColumn('lead',F.lead('nome',1).over(w0)).show()"
      ],
      "metadata": {
        "colab": {
          "base_uri": "https://localhost:8080/"
        },
        "id": "0NQu-Bw2jqH4",
        "outputId": "54d13bac-b008-492d-df20-7a0e7f2d925c"
      },
      "execution_count": null,
      "outputs": [
        {
          "output_type": "stream",
          "name": "stdout",
          "text": [
            "+--------+------------+------+-------+-------+\n",
            "|    nome|departamento|estado|salario|   lead|\n",
            "+--------+------------+------+-------+-------+\n",
            "| Gustavo|  financeiro|    AM|   8000|  Pedro|\n",
            "|   Pedro|  financeiro|    AM|   2750|   null|\n",
            "| Juliana|  financeiro|    MG|   3000|  Denis|\n",
            "|   Denis|   marketing|    MG|   1300|   null|\n",
            "| Leticia|  financeiro|    RJ|   7500|Kennedy|\n",
            "| Kennedy|      vendas|    RJ|   4500|Oswaldo|\n",
            "| Oswaldo|   marketing|    RJ|   2450|   null|\n",
            "|Anderson|      vendas|    SP|   9000|Luciana|\n",
            "| Luciana|      vendas|    SP|   4500|  Marta|\n",
            "|   Marta|      vendas|    SP|   4500|   João|\n",
            "|    João|      vendas|    SP|   4500|  Diego|\n",
            "|   Diego|      vendas|    SP|   4500|Marilia|\n",
            "| Marilia|      vendas|    SP|   1200|   null|\n",
            "+--------+------------+------+-------+-------+\n",
            "\n"
          ]
        }
      ]
    },
    {
      "cell_type": "code",
      "source": [],
      "metadata": {
        "id": "tRjpDe3ijnh_"
      },
      "execution_count": null,
      "outputs": []
    }
  ]
}