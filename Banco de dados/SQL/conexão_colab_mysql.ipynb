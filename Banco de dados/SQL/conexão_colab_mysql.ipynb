{
  "nbformat": 4,
  "nbformat_minor": 0,
  "metadata": {
    "colab": {
      "provenance": [],
      "toc_visible": true,
      "authorship_tag": "ABX9TyNKXfI9n++2pwbWt4XBuhNs",
      "include_colab_link": true
    },
    "kernelspec": {
      "name": "python3",
      "display_name": "Python 3"
    },
    "language_info": {
      "name": "python"
    }
  },
  "cells": [
    {
      "cell_type": "markdown",
      "metadata": {
        "id": "view-in-github",
        "colab_type": "text"
      },
      "source": [
        "<a href=\"https://colab.research.google.com/github/Daniel022de/DataEnginner_SoulCode/blob/main/Banco%20de%20dados/SQL/conex%C3%A3o_colab_mysql.ipynb\" target=\"_parent\"><img src=\"https://colab.research.google.com/assets/colab-badge.svg\" alt=\"Open In Colab\"/></a>"
      ]
    },
    {
      "cell_type": "markdown",
      "source": [
        "#📗 **CONECTANDO COLAB AO MYSQL GOOGLE CLOUD**\n",
        "\n",
        "Esse Notebook é referente as instruções feitas pelo professor **Bismark William** no bootcamp **engenharia de dados** da **SoulCode** visando a conexão entre o colab e uma instância mysql criada em nuvem na google cloud.\n",
        "\n",
        "**Observação:** Esse colab é meramente educativo, pois em um mundo corporativo não é seguro compartilhar um código de acesso a banco de dados para todas as pessoas.\n",
        "\n",
        "\n",
        "\n",
        "\n",
        "\n",
        "\n",
        "\n",
        "! **Você pode encontrar esse notebook no meu repositório** [GitHub](https://github.com/Daniel022de/Bootcamp_SoulCode_EngenhariaDados)\n",
        "\n",
        "! **Você pode entrar em contato comigo através do meu email** ddololiveira.pessoal@gmail.com **e** [Linkedin](https://www.linkedin.com/in/daniel-oliveira-503b0323b/).\n",
        "\n",
        "! **Toda dúvida,recomendações e feedbacks serão bem-vindas.**\n",
        "\n"
      ],
      "metadata": {
        "id": "lf6hXk2dmF11"
      }
    },
    {
      "cell_type": "markdown",
      "source": [
        "# ▶ 1 Instalação"
      ],
      "metadata": {
        "id": "vyazFd1wnhbC"
      }
    },
    {
      "cell_type": "code",
      "source": [
        "!pip install pyspark\n",
        "!pip install mysql-connector-python"
      ],
      "metadata": {
        "id": "WVq2gHCMnkrs"
      },
      "execution_count": null,
      "outputs": []
    },
    {
      "cell_type": "markdown",
      "source": [
        "# ▶ 2 Importando bibliotecas"
      ],
      "metadata": {
        "id": "YR6RFh06oVo5"
      }
    },
    {
      "cell_type": "code",
      "source": [
        "import mysql.connector\n",
        "from mysql.connector import Error"
      ],
      "metadata": {
        "id": "z6vgIHVloZGH"
      },
      "execution_count": null,
      "outputs": []
    },
    {
      "cell_type": "markdown",
      "source": [
        "# ▶ 3 Funções"
      ],
      "metadata": {
        "id": "J_pvTEG_o4tc"
      }
    },
    {
      "cell_type": "markdown",
      "source": [
        "##   ◼    3.1  Função conexão ao banco"
      ],
      "metadata": {
        "id": "eVmXo3ogo6kg"
      }
    },
    {
      "cell_type": "code",
      "source": [
        "def conexao_db(servidor,usuario,senha,nome_database):\n",
        "  conexao = None\n",
        "  try:\n",
        "    conexao = mysql.connector.connect(host=servidor,user=usuario,passwd=senha,database=nome_database)\n",
        "    print(f'Conexão ao banco {nome_database} efetuada com sucesso!')\n",
        "  except:\n",
        "    print(f'Erro ao conectar ao banco {nome_database}')\n",
        "  \n",
        "  return conexao"
      ],
      "metadata": {
        "id": "Z_7IBW7zo8l6"
      },
      "execution_count": null,
      "outputs": []
    },
    {
      "cell_type": "code",
      "source": [
        "#Conectando\n",
        "\n",
        "connect = conexao_db('ip','usuario','senha','nome_database')"
      ],
      "metadata": {
        "id": "su9w6HPvo6Ba"
      },
      "execution_count": null,
      "outputs": []
    },
    {
      "cell_type": "markdown",
      "source": [
        "##  ◼  3.2 Função ler tabelas"
      ],
      "metadata": {
        "id": "JAvKWYLlp6_x"
      }
    },
    {
      "cell_type": "code",
      "source": [
        "def leitura_de_tabelas(conexao,sql):\n",
        "  cursor = conexao.cursor()\n",
        "  retorno = None\n",
        "  try:\n",
        "    cursor.execute(sql)\n",
        "    retorno = cursor.fetchall() \n",
        "    return retorno\n",
        "  except:\n",
        "    print('Erro ao listar os dados da tabela')"
      ],
      "metadata": {
        "id": "wTXwgvlgp84R"
      },
      "execution_count": null,
      "outputs": []
    },
    {
      "cell_type": "code",
      "source": [
        "sql_exemplo = 'SELECT * FROM table'"
      ],
      "metadata": {
        "id": "oqW5DmBYqF4v"
      },
      "execution_count": null,
      "outputs": []
    },
    {
      "cell_type": "code",
      "source": [
        "table = leitura_de_tabelas(connect,sql_exemplo)"
      ],
      "metadata": {
        "id": "E4pcjcGIqp9w"
      },
      "execution_count": null,
      "outputs": []
    },
    {
      "cell_type": "code",
      "source": [
        "#lendo table\n",
        "for i in table:\n",
        "  print(i)"
      ],
      "metadata": {
        "id": "m2KaRyLBrGRs"
      },
      "execution_count": null,
      "outputs": []
    },
    {
      "cell_type": "markdown",
      "source": [
        "# ▶ 4 Função query"
      ],
      "metadata": {
        "id": "tYwtfLcfrgxX"
      }
    },
    {
      "cell_type": "markdown",
      "source": [
        "**Para executar comandos SQL como INSERT, DELETE e UPDATE**"
      ],
      "metadata": {
        "id": "62J0_npurlgv"
      }
    },
    {
      "cell_type": "code",
      "source": [
        "def executar_query(conexao, sql):\n",
        "  cursor = conexao.cursor()\n",
        "  try:\n",
        "    cursor.execute(sql)\n",
        "    conexao.commit()\n",
        "    print('Query executada com sucesso!')\n",
        "  except:\n",
        "    print('Não foi possível executar a Query')"
      ],
      "metadata": {
        "id": "Y98Q9a_urjFl"
      },
      "execution_count": null,
      "outputs": []
    },
    {
      "cell_type": "code",
      "source": [
        "sql_exemplo = 'DELETE FROM table WHERE condição'\n",
        "executar_query(connect,sql_exemplo)"
      ],
      "metadata": {
        "id": "PnDQoAgWsJWC"
      },
      "execution_count": null,
      "outputs": []
    },
    {
      "cell_type": "markdown",
      "source": [
        "#▶ 5 Convertendo pra tabela pra DataFrame"
      ],
      "metadata": {
        "id": "RJxAg12gtZkV"
      }
    },
    {
      "cell_type": "markdown",
      "source": [
        "## ◼    5.1 DataFrame Pandas"
      ],
      "metadata": {
        "id": "pqDPuAe6tfzD"
      }
    },
    {
      "cell_type": "code",
      "source": [
        "import pandas as pd\n",
        "schema = []\n",
        "df_pandas = pd.DataFrame(table, columns = schema)"
      ],
      "metadata": {
        "id": "fnrho4syth0i"
      },
      "execution_count": null,
      "outputs": []
    },
    {
      "cell_type": "markdown",
      "source": [
        "##  ◼    5.2 DataFrame Pyspark"
      ],
      "metadata": {
        "id": "necAzN38uAHT"
      }
    },
    {
      "cell_type": "code",
      "source": [
        "!pip install pyspark"
      ],
      "metadata": {
        "id": "exqpkapuuCmo"
      },
      "execution_count": null,
      "outputs": []
    },
    {
      "cell_type": "code",
      "source": [
        "from pyspark.sql import SparkSession"
      ],
      "metadata": {
        "id": "QnC5HAAFuLCX"
      },
      "execution_count": null,
      "outputs": []
    },
    {
      "cell_type": "code",
      "source": [
        "#Configurando variável de ambiente\n",
        "\n",
        "spark = (\n",
        "    SparkSession.builder\n",
        "                .master('local')\n",
        "                .appName('sparkSQL')\n",
        "                .config('spark.ui.port', '4050')\n",
        "                .getOrCreate()\n",
        ")"
      ],
      "metadata": {
        "id": "7pGUVKmiuY6O"
      },
      "execution_count": null,
      "outputs": []
    },
    {
      "cell_type": "code",
      "source": [
        "#Criando DataFrame\n",
        "\n",
        "schema = []\n",
        "df_spark = spark.createDataFrame(table,schema)"
      ],
      "metadata": {
        "id": "Z8ZnXJQPugLS"
      },
      "execution_count": null,
      "outputs": []
    }
  ]
}