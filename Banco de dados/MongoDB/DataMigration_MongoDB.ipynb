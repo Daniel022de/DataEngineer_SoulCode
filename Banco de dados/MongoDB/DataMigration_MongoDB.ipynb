{
  "nbformat": 4,
  "nbformat_minor": 0,
  "metadata": {
    "colab": {
      "provenance": [],
      "collapsed_sections": [
        "fMVOjkj1SftG",
        "huftL5w4S_MJ"
      ],
      "mount_file_id": "1ayOx4CfpOPnMMW24Hfy6frm011nzxWTW",
      "authorship_tag": "ABX9TyPoNHEJff3RfQBTX5DOpE9E",
      "include_colab_link": true
    },
    "kernelspec": {
      "name": "python3",
      "display_name": "Python 3"
    },
    "language_info": {
      "name": "python"
    }
  },
  "cells": [
    {
      "cell_type": "markdown",
      "metadata": {
        "id": "view-in-github",
        "colab_type": "text"
      },
      "source": [
        "<a href=\"https://colab.research.google.com/github/Daniel022de/Bootcamp_SoulCode_EngenhariaDados/blob/main/Banco%20de%20dados/MongoDB/DataMigration_MongoDB.ipynb\" target=\"_parent\"><img src=\"https://colab.research.google.com/assets/colab-badge.svg\" alt=\"Open In Colab\"/></a>"
      ]
    },
    {
      "cell_type": "markdown",
      "source": [
        "#Data Migration MongoDB\n",
        "\n",
        "Esse Notebook é referente a uma atividade de migração de dados proposta pelo professor **Igor Gondim** no bootcamp **engenharia de dados** *da SoulCode. ***A proposta foi a seguinte:**\n",
        "\n",
        "* Faça uma migração de dados de um DataSet em formato csv para uma Data Base do MongoDB;\n",
        "* Essa migração deverá ser feita em três DataSets disponivéis nos seguintes buckets: \n",
        "1. [Alesp despesas](https://storage.googleapis.com/bucket-pratica-s3/alesp_desp.csv);\n",
        "2. [Alesp cadastros](https://storage.googleapis.com/bucket-pratica-s3/cadastro_alesp.csv);\n",
        "3. [Cenipa](https://storage.googleapis.com/bucket-pratica-s3/ocorrencia%20(1).csv)\n",
        "\n",
        "\n",
        "\n",
        "\n",
        "\n",
        "\n",
        "! **Você pode encontrar esse notebook no meu repositório** [GitHub](https://github.com/Daniel022de/Bootcamp_SoulCode_EngenhariaDados)\n",
        "\n",
        "! **Você pode entrar em contato comigo através do meu email** ddololiveira.pessoal@gmail.com **e** [Linkedin](https://www.linkedin.com/in/daniel-oliveira-503b0323b/).\n",
        "\n",
        "! **Toda dúvida,recomendações e feedbacks serão bem-vindas.**\n",
        "\n"
      ],
      "metadata": {
        "id": "Rw6odc7LkGY4"
      }
    },
    {
      "cell_type": "markdown",
      "source": [
        "#Importando bibliotecas"
      ],
      "metadata": {
        "id": "Mq5-u6OIRDgq"
      }
    },
    {
      "cell_type": "code",
      "source": [
        "import pandas as pd\n",
        "import numpy as np\n",
        "from pymongo import MongoClient"
      ],
      "metadata": {
        "id": "038uFO6ERGA8"
      },
      "execution_count": null,
      "outputs": []
    },
    {
      "cell_type": "markdown",
      "source": [
        "#Extração DataSet"
      ],
      "metadata": {
        "id": "y1EInTXGRWML"
      }
    },
    {
      "cell_type": "markdown",
      "source": [
        "***Todos eles estão em csv.***"
      ],
      "metadata": {
        "id": "Tl_KPsPPRdnj"
      }
    },
    {
      "cell_type": "code",
      "execution_count": null,
      "metadata": {
        "id": "K2CBec3HQ6ib"
      },
      "outputs": [],
      "source": [
        "df_alesp_desp = pd.read_csv(\"https://storage.googleapis.com/bucket-pratica-s3/alesp_desp.csv\")\n",
        "df_alesp_cad = pd.read_csv(\"https://storage.googleapis.com/bucket-pratica-s3/cadastro_alesp.csv\")\n",
        "df_cenipa = pd.read_csv('https://storage.googleapis.com/bucket-pratica-s3/ocorrencia%20(1).csv',sep=';',encoding = 'ISO-8859-1',parse_dates=['ocorrencia_dia'],dayfirst=True)"
      ]
    },
    {
      "cell_type": "markdown",
      "source": [
        "#Tratamento Migration"
      ],
      "metadata": {
        "id": "fMVOjkj1SftG"
      }
    },
    {
      "cell_type": "code",
      "source": [
        "df_alesp_desp.replace([pd.NA,'NaN','nan'],np.NaN,inplace=True)\n",
        "df_alesp_cad.replace([pd.NA,'NaN','nan'],np.NaN,inplace=True)\n",
        "df_cenipa.replace([pd.NA,'NaN','nan'],np.NaN,inplace=True)"
      ],
      "metadata": {
        "id": "aTScl1gLSeQ2"
      },
      "execution_count": null,
      "outputs": []
    },
    {
      "cell_type": "markdown",
      "source": [
        "#Conectando MongoDB"
      ],
      "metadata": {
        "id": "9Q-hBFofTIxe"
      }
    },
    {
      "cell_type": "code",
      "source": [
        "uri = \"mongodb+srv://daniel-soulcode.v9iencb.mongodb.net/?authSource=%24external&authMechanism=MONGODB-X509&retryWrites=true&w=majority\"\n",
        "client = MongoClient(uri,tls=True,tlsCertificateKeyFile='/content/drive/MyDrive/Colab Notebooks/X509-cert-1388842986422460516.pem')\n"
      ],
      "metadata": {
        "id": "ekWIkvKfTKtb"
      },
      "execution_count": null,
      "outputs": []
    },
    {
      "cell_type": "markdown",
      "source": [
        "##Apontando DataBases e Coleções"
      ],
      "metadata": {
        "id": "huftL5w4S_MJ"
      }
    },
    {
      "cell_type": "code",
      "source": [
        "colecao_alesp = client['database_alesp']['despesa']\n",
        "colecao_alesp2 = client['database_alesp']['cadastro']\n",
        "colecao_cenipa = client['database_cenipa']['cenipa']"
      ],
      "metadata": {
        "id": "iOGPUyUpTFoc"
      },
      "execution_count": null,
      "outputs": []
    },
    {
      "cell_type": "markdown",
      "source": [
        "#Enviando os DF's para o MongoDB"
      ],
      "metadata": {
        "id": "zb6tMbCtT3Vw"
      }
    },
    {
      "cell_type": "code",
      "source": [
        "df_alesp_d_dict = df_alesp_desp.to_dict('records')\n",
        "df_alesp_c_dict = df_alesp_cad.to_dict('records')\n",
        "df_cenipa_dict = df_cenipa.to_dict('records')\n",
        "\n",
        "colecao_alesp.insert_many(df_alesp_d_dict)\n",
        "colecao_alesp2.insert_many(df_alesp_c_dict) \n",
        "colecao_cenipa.insert_many(df_cenipa_dict)"
      ],
      "metadata": {
        "id": "hl38-mrtT7kg"
      },
      "execution_count": null,
      "outputs": []
    }
  ]
}