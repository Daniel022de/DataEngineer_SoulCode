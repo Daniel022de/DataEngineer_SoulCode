{
  "nbformat": 4,
  "nbformat_minor": 0,
  "metadata": {
    "colab": {
      "provenance": [],
      "mount_file_id": "1RFALkFii22OPT0PRjau8MInY6yyWWVxQ",
      "authorship_tag": "ABX9TyNfLZtV/VuJNQ60aYyrADY1",
      "include_colab_link": true
    },
    "kernelspec": {
      "name": "python3",
      "display_name": "Python 3"
    },
    "language_info": {
      "name": "python"
    }
  },
  "cells": [
    {
      "cell_type": "markdown",
      "metadata": {
        "id": "view-in-github",
        "colab_type": "text"
      },
      "source": [
        "<a href=\"https://colab.research.google.com/github/Daniel022de/Bootcamp_SoulCode_EngenhariaDados/blob/main/Banco%20de%20dados/MongoDB/MongoDB_study_introduction.ipynb\" target=\"_parent\"><img src=\"https://colab.research.google.com/assets/colab-badge.svg\" alt=\"Open In Colab\"/></a>"
      ]
    },
    {
      "cell_type": "markdown",
      "source": [
        "#Introdução ao MongoDB\n",
        "\n",
        "Esse Notebook é referente as instruções feitas pelo professor **Igor Gondim** no bootcamp **engenharia de dados** **da SoulCode** na aula de apresentação ao MongoDB.\n",
        "\n",
        "**Os aprendizados forão os seguintes:**\n",
        "\n",
        "1. Conceito geral de banco de dados NoSQL (não somente relacional) e MongoDB;\n",
        "2. Como realizar conexão ao Data Base através de um certificado emitido no MongoDB;\n",
        "3. Como realizar a criação de datasets e collections utilizando a biblioteca pandas no colab;\n",
        "4. Automatizar a inserção de dados na collection;\n",
        "5. Filtrar os dados;\n",
        "6. Realizar update e delete dos dados;\n",
        "7. Extrair collections do MongoDB;\n",
        "8. Carregar DataFrames no MongoDB;\n",
        "\n",
        "\n",
        "\n",
        "\n",
        "\n",
        "! **Você pode encontrar esse notebook no meu repositório** [GitHub](https://github.com/Daniel022de/Bootcamp_SoulCode_EngenhariaDados)\n",
        "\n",
        "! **Você pode entrar em contato comigo através do meu email** ddololiveira.pessoal@gmail.com **e** [Linkedin](https://www.linkedin.com/in/daniel-oliveira-503b0323b/).\n",
        "\n",
        "! **Toda dúvida,recomendações e feedbacks serão bem-vindas.**\n",
        "\n"
      ],
      "metadata": {
        "id": "5h6yCX05c-NI"
      }
    },
    {
      "cell_type": "markdown",
      "source": [
        "#Importando biblioteca"
      ],
      "metadata": {
        "id": "Ic5kfdpUzF3N"
      }
    },
    {
      "cell_type": "code",
      "source": [
        "from pymongo import MongoClient"
      ],
      "metadata": {
        "id": "r0E2tucRzFWp"
      },
      "execution_count": 65,
      "outputs": []
    },
    {
      "cell_type": "markdown",
      "source": [
        "#Conexão MongoDB"
      ],
      "metadata": {
        "id": "lVEogisWzLVx"
      }
    },
    {
      "cell_type": "code",
      "execution_count": 66,
      "metadata": {
        "id": "3hdD2XrbxF8T"
      },
      "outputs": [],
      "source": [
        "uri = \"mongodb+srv://daniel-soulcode.v9iencb.mongodb.net/?authSource=%24external&authMechanism=MONGODB-X509&retryWrites=true&w=majority\"\n",
        "client = MongoClient(uri,tls=True,tlsCertificateKeyFile='/content/drive/MyDrive/Colab Notebooks/X509-cert-1388842986422460516.pem')"
      ]
    },
    {
      "cell_type": "markdown",
      "source": [
        "#Criando DataBase e uma coleção"
      ],
      "metadata": {
        "id": "Ca1JnSutz6M1"
      }
    },
    {
      "cell_type": "markdown",
      "source": [
        "- Vou inserir dados aleatórios para popular a minha colecao"
      ],
      "metadata": {
        "id": "pkq3DPUu0qSD"
      }
    },
    {
      "cell_type": "code",
      "source": [
        "#Apontando DataBase e coleção\n",
        "colecao_study = client['DataBase_study']['study']"
      ],
      "metadata": {
        "id": "PBrNh7Vazs5a"
      },
      "execution_count": 67,
      "outputs": []
    },
    {
      "cell_type": "code",
      "source": [
        "#Inserindo dados aleatórios\n",
        "n = 1\n",
        "i = 15\n",
        "while i<50:\n",
        "  inf = colecao_study.insert_one({'nome':'nome'+str(n),'idade':i})\n",
        "  n+=1\n",
        "  i+=1\n",
        "  \n",
        "  print(inf.inserted_id)"
      ],
      "metadata": {
        "id": "fY8o9C7e05VY"
      },
      "execution_count": 68,
      "outputs": []
    },
    {
      "cell_type": "markdown",
      "source": [
        "# Visualizando os dados"
      ],
      "metadata": {
        "id": "bLR7Knlb5Thp"
      }
    },
    {
      "cell_type": "code",
      "source": [
        "for x in colecao_study.find():\n",
        "  print(x)"
      ],
      "metadata": {
        "colab": {
          "base_uri": "https://localhost:8080/"
        },
        "id": "1cAJh8gU5P56",
        "outputId": "c67b42a3-eea0-44e0-fd87-1472d6fb259a"
      },
      "execution_count": 69,
      "outputs": [
        {
          "output_type": "stream",
          "name": "stdout",
          "text": [
            "{'_id': ObjectId('638b99205f8803ecfbe46b5d'), 'nome': 'nome1', 'idade': 15, 'faixa_etaria': 'Adolescente'}\n",
            "{'_id': ObjectId('638b99205f8803ecfbe46b5e'), 'nome': 'nome2', 'idade': 16, 'faixa_etaria': 'Adolescente'}\n",
            "{'_id': ObjectId('638b99215f8803ecfbe46b5f'), 'nome': 'nome3', 'idade': 17, 'faixa_etaria': 'Adolescente'}\n",
            "{'_id': ObjectId('638b99215f8803ecfbe46b60'), 'nome': 'nome4', 'idade': 18, 'faixa_etaria': 'Jovem'}\n",
            "{'_id': ObjectId('638b99215f8803ecfbe46b61'), 'nome': 'nome5', 'idade': 19, 'faixa_etaria': 'Jovem'}\n",
            "{'_id': ObjectId('638b99215f8803ecfbe46b62'), 'nome': 'nome6', 'idade': 20, 'faixa_etaria': 'Jovem'}\n",
            "{'_id': ObjectId('638b99225f8803ecfbe46b63'), 'nome': 'nome7', 'idade': 21, 'faixa_etaria': 'Jovem'}\n",
            "{'_id': ObjectId('638b99225f8803ecfbe46b64'), 'nome': 'nome8', 'idade': 22, 'faixa_etaria': 'Jovem'}\n",
            "{'_id': ObjectId('638b99225f8803ecfbe46b65'), 'nome': 'nome9', 'idade': 23, 'faixa_etaria': 'Jovem'}\n",
            "{'_id': ObjectId('638b99235f8803ecfbe46b66'), 'nome': 'nome10', 'idade': 24, 'faixa_etaria': 'Jovem'}\n",
            "{'_id': ObjectId('638b99235f8803ecfbe46b67'), 'nome': 'nome11', 'idade': 25, 'faixa_etaria': 'Jovem'}\n",
            "{'_id': ObjectId('638b99235f8803ecfbe46b68'), 'nome': 'nome12', 'idade': 26, 'faixa_etaria': 'Jovem'}\n",
            "{'_id': ObjectId('638b99245f8803ecfbe46b69'), 'nome': 'nome13', 'idade': 27, 'faixa_etaria': 'Jovem'}\n",
            "{'_id': ObjectId('638b99245f8803ecfbe46b6a'), 'nome': 'nome14', 'idade': 28, 'faixa_etaria': 'Jovem'}\n",
            "{'_id': ObjectId('638b99245f8803ecfbe46b6b'), 'nome': 'nome15', 'idade': 29, 'faixa_etaria': 'Jovem'}\n",
            "{'_id': ObjectId('638b99245f8803ecfbe46b6c'), 'nome': 'nome16', 'idade': 30, 'faixa_etaria': 'Adulto'}\n",
            "{'_id': ObjectId('638b99255f8803ecfbe46b6d'), 'nome': 'nome17', 'idade': 31, 'faixa_etaria': 'Adulto'}\n",
            "{'_id': ObjectId('638b99255f8803ecfbe46b6e'), 'nome': 'nome18', 'idade': 32, 'faixa_etaria': 'Adulto'}\n",
            "{'_id': ObjectId('638b99255f8803ecfbe46b6f'), 'nome': 'nome19', 'idade': 33, 'faixa_etaria': 'Adulto'}\n",
            "{'_id': ObjectId('638b99265f8803ecfbe46b70'), 'nome': 'nome20', 'idade': 34, 'faixa_etaria': 'Adulto'}\n",
            "{'_id': ObjectId('638b99265f8803ecfbe46b71'), 'nome': 'nome21', 'idade': 35, 'faixa_etaria': 'Adulto'}\n",
            "{'_id': ObjectId('638b99265f8803ecfbe46b72'), 'nome': 'nome22', 'idade': 36, 'faixa_etaria': 'Adulto'}\n",
            "{'_id': ObjectId('638b99275f8803ecfbe46b73'), 'nome': 'nome23', 'idade': 37, 'faixa_etaria': 'Adulto'}\n",
            "{'_id': ObjectId('638b99275f8803ecfbe46b74'), 'nome': 'nome24', 'idade': 38, 'faixa_etaria': 'Adulto'}\n",
            "{'_id': ObjectId('638b99275f8803ecfbe46b75'), 'nome': 'nome25', 'idade': 39, 'faixa_etaria': 'Adulto'}\n",
            "{'_id': ObjectId('638b99275f8803ecfbe46b76'), 'nome': 'nome26', 'idade': 40, 'faixa_etaria': 'Adulto'}\n",
            "{'_id': ObjectId('638b99285f8803ecfbe46b77'), 'nome': 'nome27', 'idade': 41, 'faixa_etaria': 'Adulto'}\n",
            "{'_id': ObjectId('638b99285f8803ecfbe46b78'), 'nome': 'nome28', 'idade': 42, 'faixa_etaria': 'Adulto'}\n",
            "{'_id': ObjectId('638b99285f8803ecfbe46b79'), 'nome': 'nome29', 'idade': 43, 'faixa_etaria': 'Adulto'}\n",
            "{'_id': ObjectId('638b99295f8803ecfbe46b7a'), 'nome': 'nome30', 'idade': 44, 'faixa_etaria': 'Adulto'}\n",
            "{'_id': ObjectId('638b99295f8803ecfbe46b7b'), 'nome': 'nome31', 'idade': 45, 'faixa_etaria': 'Adulto'}\n",
            "{'_id': ObjectId('638b99295f8803ecfbe46b7c'), 'nome': 'nome32', 'idade': 46, 'faixa_etaria': 'Adulto'}\n",
            "{'_id': ObjectId('638b99295f8803ecfbe46b7d'), 'nome': 'nome33', 'idade': 47, 'faixa_etaria': 'Adulto'}\n",
            "{'_id': ObjectId('638b992a5f8803ecfbe46b7e'), 'nome': 'nome34', 'idade': 48, 'faixa_etaria': 'Adulto'}\n",
            "{'_id': ObjectId('638b992a5f8803ecfbe46b7f'), 'nome': 'nome35', 'idade': 49, 'faixa_etaria': 'Adulto'}\n"
          ]
        }
      ]
    },
    {
      "cell_type": "markdown",
      "source": [
        "#Filtrando dados"
      ],
      "metadata": {
        "id": "Ke_4NI7-6UWw"
      }
    },
    {
      "cell_type": "markdown",
      "source": [
        "## Por comparação"
      ],
      "metadata": {
        "id": "gJrKORp8LOW8"
      }
    },
    {
      "cell_type": "markdown",
      "source": [
        "`$lt = Menor que | $gt = maior que | $lte = Menor igual | $gte = Maior e igual | $ne = Diferente`"
      ],
      "metadata": {
        "id": "D-hqAK9mLJle"
      }
    },
    {
      "cell_type": "code",
      "source": [
        "# Localizando por parametros numéricos\n",
        "\n",
        "filtro = {'idade':{'$gt':47}}\n",
        "\n",
        "\n",
        "for x in colecao_study.find(filtro):\n",
        "  print(x)"
      ],
      "metadata": {
        "colab": {
          "base_uri": "https://localhost:8080/"
        },
        "id": "9mE_mzkq6WxW",
        "outputId": "f9050e20-2a23-463d-821f-3f0b083eaf3e"
      },
      "execution_count": 70,
      "outputs": [
        {
          "output_type": "stream",
          "name": "stdout",
          "text": [
            "{'_id': ObjectId('638b992a5f8803ecfbe46b7e'), 'nome': 'nome34', 'idade': 48, 'faixa_etaria': 'Adulto'}\n",
            "{'_id': ObjectId('638b992a5f8803ecfbe46b7f'), 'nome': 'nome35', 'idade': 49, 'faixa_etaria': 'Adulto'}\n"
          ]
        }
      ]
    },
    {
      "cell_type": "markdown",
      "source": [
        "## Parâmetros exatos"
      ],
      "metadata": {
        "id": "Bo4bfXiFLUCf"
      }
    },
    {
      "cell_type": "code",
      "source": [
        "filtro = {'nome':'nome30'}\n",
        "\n",
        "for x in colecao_study.find(filtro):\n",
        "  print(x)"
      ],
      "metadata": {
        "colab": {
          "base_uri": "https://localhost:8080/"
        },
        "id": "m6_udaIwKyQH",
        "outputId": "d4383cdc-3151-43f5-8f1b-64a9d56be7b6"
      },
      "execution_count": 71,
      "outputs": [
        {
          "output_type": "stream",
          "name": "stdout",
          "text": [
            "{'_id': ObjectId('638b99295f8803ecfbe46b7a'), 'nome': 'nome30', 'idade': 44, 'faixa_etaria': 'Adulto'}\n"
          ]
        }
      ]
    },
    {
      "cell_type": "code",
      "source": [
        "filtro = {'idade':20}\n",
        "\n",
        "for x in colecao_study.find(filtro):\n",
        "  print(x)"
      ],
      "metadata": {
        "colab": {
          "base_uri": "https://localhost:8080/"
        },
        "id": "-LWguupsLbgs",
        "outputId": "1cc2b76b-7509-4929-a838-78199646028f"
      },
      "execution_count": 72,
      "outputs": [
        {
          "output_type": "stream",
          "name": "stdout",
          "text": [
            "{'_id': ObjectId('638b99215f8803ecfbe46b62'), 'nome': 'nome6', 'idade': 20, 'faixa_etaria': 'Jovem'}\n"
          ]
        }
      ]
    },
    {
      "cell_type": "code",
      "source": [
        "filtro = {'nome':'nome30','idade':44}\n",
        "\n",
        "for x in colecao_study.find(filtro):\n",
        "  print(x)"
      ],
      "metadata": {
        "colab": {
          "base_uri": "https://localhost:8080/"
        },
        "id": "CcT1CAgWMQX4",
        "outputId": "9002f681-29b0-4595-8c83-ee81d54d67d5"
      },
      "execution_count": 73,
      "outputs": [
        {
          "output_type": "stream",
          "name": "stdout",
          "text": [
            "{'_id': ObjectId('638b99295f8803ecfbe46b7a'), 'nome': 'nome30', 'idade': 44, 'faixa_etaria': 'Adulto'}\n"
          ]
        }
      ]
    },
    {
      "cell_type": "markdown",
      "source": [
        "##Por lista"
      ],
      "metadata": {
        "id": "5tuWmxE7Lny-"
      }
    },
    {
      "cell_type": "code",
      "source": [
        "filtro = {'idade': {'$in':[20,22,35]}}\n",
        "\n",
        "for x in colecao_study.find(filtro):\n",
        "  print(x)"
      ],
      "metadata": {
        "colab": {
          "base_uri": "https://localhost:8080/"
        },
        "id": "MHw7b5flLqTb",
        "outputId": "c2c520d6-6768-4a6c-f883-8ca3ee20fad8"
      },
      "execution_count": 74,
      "outputs": [
        {
          "output_type": "stream",
          "name": "stdout",
          "text": [
            "{'_id': ObjectId('638b99215f8803ecfbe46b62'), 'nome': 'nome6', 'idade': 20, 'faixa_etaria': 'Jovem'}\n",
            "{'_id': ObjectId('638b99225f8803ecfbe46b64'), 'nome': 'nome8', 'idade': 22, 'faixa_etaria': 'Jovem'}\n",
            "{'_id': ObjectId('638b99265f8803ecfbe46b71'), 'nome': 'nome21', 'idade': 35, 'faixa_etaria': 'Adulto'}\n"
          ]
        }
      ]
    },
    {
      "cell_type": "code",
      "source": [
        "filtro = {'nome': {'$in':['nome21','nome22','nome30']}}\n",
        "\n",
        "for x in colecao_study.find(filtro):\n",
        "  print(x)"
      ],
      "metadata": {
        "colab": {
          "base_uri": "https://localhost:8080/"
        },
        "id": "uZmzlxBzL5yr",
        "outputId": "1075118f-da14-427e-c5e2-9917b2c42bd7"
      },
      "execution_count": 75,
      "outputs": [
        {
          "output_type": "stream",
          "name": "stdout",
          "text": [
            "{'_id': ObjectId('638b99265f8803ecfbe46b71'), 'nome': 'nome21', 'idade': 35, 'faixa_etaria': 'Adulto'}\n",
            "{'_id': ObjectId('638b99265f8803ecfbe46b72'), 'nome': 'nome22', 'idade': 36, 'faixa_etaria': 'Adulto'}\n",
            "{'_id': ObjectId('638b99295f8803ecfbe46b7a'), 'nome': 'nome30', 'idade': 44, 'faixa_etaria': 'Adulto'}\n"
          ]
        }
      ]
    },
    {
      "cell_type": "markdown",
      "source": [
        "## Usando or\n",
        "\n"
      ],
      "metadata": {
        "id": "IrrDvBVbMlPs"
      }
    },
    {
      "cell_type": "code",
      "source": [
        "filtro = {'$or':[{'nome':'nome22'},{'idade':40}]}\n",
        "\n",
        "for x in colecao_study.find(filtro):\n",
        "  print(x)"
      ],
      "metadata": {
        "colab": {
          "base_uri": "https://localhost:8080/"
        },
        "id": "Y2bmfJQ2MmuH",
        "outputId": "dfb4f919-211c-4eb9-d406-6eada4a8ab78"
      },
      "execution_count": 76,
      "outputs": [
        {
          "output_type": "stream",
          "name": "stdout",
          "text": [
            "{'_id': ObjectId('638b99265f8803ecfbe46b72'), 'nome': 'nome22', 'idade': 36, 'faixa_etaria': 'Adulto'}\n",
            "{'_id': ObjectId('638b99275f8803ecfbe46b76'), 'nome': 'nome26', 'idade': 40, 'faixa_etaria': 'Adulto'}\n"
          ]
        }
      ]
    },
    {
      "cell_type": "code",
      "source": [
        "filtro = {'$or':[{'idade':{'$gt':35}},{'idade':{'$lt':45}}]}\n",
        "\n",
        "for x in colecao_study.find(filtro):\n",
        "  print(x)"
      ],
      "metadata": {
        "colab": {
          "base_uri": "https://localhost:8080/"
        },
        "id": "nBRsOoMuNHb1",
        "outputId": "b7ea4956-8179-470c-fb12-2ea13770084e"
      },
      "execution_count": 77,
      "outputs": [
        {
          "output_type": "stream",
          "name": "stdout",
          "text": [
            "{'_id': ObjectId('638b99205f8803ecfbe46b5d'), 'nome': 'nome1', 'idade': 15, 'faixa_etaria': 'Adolescente'}\n",
            "{'_id': ObjectId('638b99205f8803ecfbe46b5e'), 'nome': 'nome2', 'idade': 16, 'faixa_etaria': 'Adolescente'}\n",
            "{'_id': ObjectId('638b99215f8803ecfbe46b5f'), 'nome': 'nome3', 'idade': 17, 'faixa_etaria': 'Adolescente'}\n",
            "{'_id': ObjectId('638b99215f8803ecfbe46b60'), 'nome': 'nome4', 'idade': 18, 'faixa_etaria': 'Jovem'}\n",
            "{'_id': ObjectId('638b99215f8803ecfbe46b61'), 'nome': 'nome5', 'idade': 19, 'faixa_etaria': 'Jovem'}\n",
            "{'_id': ObjectId('638b99215f8803ecfbe46b62'), 'nome': 'nome6', 'idade': 20, 'faixa_etaria': 'Jovem'}\n",
            "{'_id': ObjectId('638b99225f8803ecfbe46b63'), 'nome': 'nome7', 'idade': 21, 'faixa_etaria': 'Jovem'}\n",
            "{'_id': ObjectId('638b99225f8803ecfbe46b64'), 'nome': 'nome8', 'idade': 22, 'faixa_etaria': 'Jovem'}\n",
            "{'_id': ObjectId('638b99225f8803ecfbe46b65'), 'nome': 'nome9', 'idade': 23, 'faixa_etaria': 'Jovem'}\n",
            "{'_id': ObjectId('638b99235f8803ecfbe46b66'), 'nome': 'nome10', 'idade': 24, 'faixa_etaria': 'Jovem'}\n",
            "{'_id': ObjectId('638b99235f8803ecfbe46b67'), 'nome': 'nome11', 'idade': 25, 'faixa_etaria': 'Jovem'}\n",
            "{'_id': ObjectId('638b99235f8803ecfbe46b68'), 'nome': 'nome12', 'idade': 26, 'faixa_etaria': 'Jovem'}\n",
            "{'_id': ObjectId('638b99245f8803ecfbe46b69'), 'nome': 'nome13', 'idade': 27, 'faixa_etaria': 'Jovem'}\n",
            "{'_id': ObjectId('638b99245f8803ecfbe46b6a'), 'nome': 'nome14', 'idade': 28, 'faixa_etaria': 'Jovem'}\n",
            "{'_id': ObjectId('638b99245f8803ecfbe46b6b'), 'nome': 'nome15', 'idade': 29, 'faixa_etaria': 'Jovem'}\n",
            "{'_id': ObjectId('638b99245f8803ecfbe46b6c'), 'nome': 'nome16', 'idade': 30, 'faixa_etaria': 'Adulto'}\n",
            "{'_id': ObjectId('638b99255f8803ecfbe46b6d'), 'nome': 'nome17', 'idade': 31, 'faixa_etaria': 'Adulto'}\n",
            "{'_id': ObjectId('638b99255f8803ecfbe46b6e'), 'nome': 'nome18', 'idade': 32, 'faixa_etaria': 'Adulto'}\n",
            "{'_id': ObjectId('638b99255f8803ecfbe46b6f'), 'nome': 'nome19', 'idade': 33, 'faixa_etaria': 'Adulto'}\n",
            "{'_id': ObjectId('638b99265f8803ecfbe46b70'), 'nome': 'nome20', 'idade': 34, 'faixa_etaria': 'Adulto'}\n",
            "{'_id': ObjectId('638b99265f8803ecfbe46b71'), 'nome': 'nome21', 'idade': 35, 'faixa_etaria': 'Adulto'}\n",
            "{'_id': ObjectId('638b99265f8803ecfbe46b72'), 'nome': 'nome22', 'idade': 36, 'faixa_etaria': 'Adulto'}\n",
            "{'_id': ObjectId('638b99275f8803ecfbe46b73'), 'nome': 'nome23', 'idade': 37, 'faixa_etaria': 'Adulto'}\n",
            "{'_id': ObjectId('638b99275f8803ecfbe46b74'), 'nome': 'nome24', 'idade': 38, 'faixa_etaria': 'Adulto'}\n",
            "{'_id': ObjectId('638b99275f8803ecfbe46b75'), 'nome': 'nome25', 'idade': 39, 'faixa_etaria': 'Adulto'}\n",
            "{'_id': ObjectId('638b99275f8803ecfbe46b76'), 'nome': 'nome26', 'idade': 40, 'faixa_etaria': 'Adulto'}\n",
            "{'_id': ObjectId('638b99285f8803ecfbe46b77'), 'nome': 'nome27', 'idade': 41, 'faixa_etaria': 'Adulto'}\n",
            "{'_id': ObjectId('638b99285f8803ecfbe46b78'), 'nome': 'nome28', 'idade': 42, 'faixa_etaria': 'Adulto'}\n",
            "{'_id': ObjectId('638b99285f8803ecfbe46b79'), 'nome': 'nome29', 'idade': 43, 'faixa_etaria': 'Adulto'}\n",
            "{'_id': ObjectId('638b99295f8803ecfbe46b7a'), 'nome': 'nome30', 'idade': 44, 'faixa_etaria': 'Adulto'}\n",
            "{'_id': ObjectId('638b99295f8803ecfbe46b7b'), 'nome': 'nome31', 'idade': 45, 'faixa_etaria': 'Adulto'}\n",
            "{'_id': ObjectId('638b99295f8803ecfbe46b7c'), 'nome': 'nome32', 'idade': 46, 'faixa_etaria': 'Adulto'}\n",
            "{'_id': ObjectId('638b99295f8803ecfbe46b7d'), 'nome': 'nome33', 'idade': 47, 'faixa_etaria': 'Adulto'}\n",
            "{'_id': ObjectId('638b992a5f8803ecfbe46b7e'), 'nome': 'nome34', 'idade': 48, 'faixa_etaria': 'Adulto'}\n",
            "{'_id': ObjectId('638b992a5f8803ecfbe46b7f'), 'nome': 'nome35', 'idade': 49, 'faixa_etaria': 'Adulto'}\n"
          ]
        }
      ]
    },
    {
      "cell_type": "markdown",
      "source": [
        "##Usando and"
      ],
      "metadata": {
        "id": "H9XFlQRgN-C7"
      }
    },
    {
      "cell_type": "code",
      "source": [
        "filtro = {'$and':[{'idade':{'$gt':35}},{'idade':{'$lt':45}}]}\n",
        "\n",
        "for x in colecao_study.find(filtro):\n",
        "  print(x)"
      ],
      "metadata": {
        "colab": {
          "base_uri": "https://localhost:8080/"
        },
        "id": "8DV-Vl1tOBf5",
        "outputId": "8d08ec7d-0ed8-490a-eac5-0d92d4eef6a6"
      },
      "execution_count": 78,
      "outputs": [
        {
          "output_type": "stream",
          "name": "stdout",
          "text": [
            "{'_id': ObjectId('638b99265f8803ecfbe46b72'), 'nome': 'nome22', 'idade': 36, 'faixa_etaria': 'Adulto'}\n",
            "{'_id': ObjectId('638b99275f8803ecfbe46b73'), 'nome': 'nome23', 'idade': 37, 'faixa_etaria': 'Adulto'}\n",
            "{'_id': ObjectId('638b99275f8803ecfbe46b74'), 'nome': 'nome24', 'idade': 38, 'faixa_etaria': 'Adulto'}\n",
            "{'_id': ObjectId('638b99275f8803ecfbe46b75'), 'nome': 'nome25', 'idade': 39, 'faixa_etaria': 'Adulto'}\n",
            "{'_id': ObjectId('638b99275f8803ecfbe46b76'), 'nome': 'nome26', 'idade': 40, 'faixa_etaria': 'Adulto'}\n",
            "{'_id': ObjectId('638b99285f8803ecfbe46b77'), 'nome': 'nome27', 'idade': 41, 'faixa_etaria': 'Adulto'}\n",
            "{'_id': ObjectId('638b99285f8803ecfbe46b78'), 'nome': 'nome28', 'idade': 42, 'faixa_etaria': 'Adulto'}\n",
            "{'_id': ObjectId('638b99285f8803ecfbe46b79'), 'nome': 'nome29', 'idade': 43, 'faixa_etaria': 'Adulto'}\n",
            "{'_id': ObjectId('638b99295f8803ecfbe46b7a'), 'nome': 'nome30', 'idade': 44, 'faixa_etaria': 'Adulto'}\n"
          ]
        }
      ]
    },
    {
      "cell_type": "markdown",
      "source": [
        "# Update de dados"
      ],
      "metadata": {
        "id": "oFxeKu4xOLvw"
      }
    },
    {
      "cell_type": "code",
      "source": [
        "#Update exemplo 1\n",
        "\n",
        "filtro = {'idade':{'$gte':30}}\n",
        "\n",
        "modifica = {'$set':{'faixa_etaria':'Adulto'}}\n",
        "\n",
        "colecao_study.update_many(filtro,modifica)"
      ],
      "metadata": {
        "id": "wecoAuXCONb7"
      },
      "execution_count": null,
      "outputs": []
    },
    {
      "cell_type": "code",
      "source": [
        "#Update exemplo 2\n",
        "\n",
        "filtro = {'$and':[{'idade':{'$lt':30}},{'idade':{'$gte':18}}]}\n",
        "modifica = {'$set':{'faixa_etaria':'Jovem'}}\n",
        "\n",
        "colecao_study.update_many(filtro,modifica)"
      ],
      "metadata": {
        "id": "ukxU80D5O6Zr"
      },
      "execution_count": null,
      "outputs": []
    },
    {
      "cell_type": "code",
      "source": [
        "#Update exemplo 3\n",
        "\n",
        "filtro = {'idade':{'$lt':18}}\n",
        "\n",
        "modifica = {'$set':{'faixa_etaria':'Adolescente'}}\n",
        "\n",
        "colecao_study.update_many(filtro,modifica)"
      ],
      "metadata": {
        "id": "SHEoJhFxPXP4"
      },
      "execution_count": null,
      "outputs": []
    },
    {
      "cell_type": "code",
      "source": [
        "#Verificando updates\n",
        "\n",
        "for x in colecao_study.find():\n",
        "  print(x)"
      ],
      "metadata": {
        "colab": {
          "base_uri": "https://localhost:8080/"
        },
        "id": "k6h-yR61QGPR",
        "outputId": "8e834ade-d89f-4664-ee66-66f3d254270c"
      },
      "execution_count": 82,
      "outputs": [
        {
          "output_type": "stream",
          "name": "stdout",
          "text": [
            "{'_id': ObjectId('638b99205f8803ecfbe46b5d'), 'nome': 'nome1', 'idade': 15, 'faixa_etaria': 'Adolescente'}\n",
            "{'_id': ObjectId('638b99205f8803ecfbe46b5e'), 'nome': 'nome2', 'idade': 16, 'faixa_etaria': 'Adolescente'}\n",
            "{'_id': ObjectId('638b99215f8803ecfbe46b5f'), 'nome': 'nome3', 'idade': 17, 'faixa_etaria': 'Adolescente'}\n",
            "{'_id': ObjectId('638b99215f8803ecfbe46b60'), 'nome': 'nome4', 'idade': 18, 'faixa_etaria': 'Jovem'}\n",
            "{'_id': ObjectId('638b99215f8803ecfbe46b61'), 'nome': 'nome5', 'idade': 19, 'faixa_etaria': 'Jovem'}\n",
            "{'_id': ObjectId('638b99215f8803ecfbe46b62'), 'nome': 'nome6', 'idade': 20, 'faixa_etaria': 'Jovem'}\n",
            "{'_id': ObjectId('638b99225f8803ecfbe46b63'), 'nome': 'nome7', 'idade': 21, 'faixa_etaria': 'Jovem'}\n",
            "{'_id': ObjectId('638b99225f8803ecfbe46b64'), 'nome': 'nome8', 'idade': 22, 'faixa_etaria': 'Jovem'}\n",
            "{'_id': ObjectId('638b99225f8803ecfbe46b65'), 'nome': 'nome9', 'idade': 23, 'faixa_etaria': 'Jovem'}\n",
            "{'_id': ObjectId('638b99235f8803ecfbe46b66'), 'nome': 'nome10', 'idade': 24, 'faixa_etaria': 'Jovem'}\n",
            "{'_id': ObjectId('638b99235f8803ecfbe46b67'), 'nome': 'nome11', 'idade': 25, 'faixa_etaria': 'Jovem'}\n",
            "{'_id': ObjectId('638b99235f8803ecfbe46b68'), 'nome': 'nome12', 'idade': 26, 'faixa_etaria': 'Jovem'}\n",
            "{'_id': ObjectId('638b99245f8803ecfbe46b69'), 'nome': 'nome13', 'idade': 27, 'faixa_etaria': 'Jovem'}\n",
            "{'_id': ObjectId('638b99245f8803ecfbe46b6a'), 'nome': 'nome14', 'idade': 28, 'faixa_etaria': 'Jovem'}\n",
            "{'_id': ObjectId('638b99245f8803ecfbe46b6b'), 'nome': 'nome15', 'idade': 29, 'faixa_etaria': 'Jovem'}\n",
            "{'_id': ObjectId('638b99245f8803ecfbe46b6c'), 'nome': 'nome16', 'idade': 30, 'faixa_etaria': 'Adulto'}\n",
            "{'_id': ObjectId('638b99255f8803ecfbe46b6d'), 'nome': 'nome17', 'idade': 31, 'faixa_etaria': 'Adulto'}\n",
            "{'_id': ObjectId('638b99255f8803ecfbe46b6e'), 'nome': 'nome18', 'idade': 32, 'faixa_etaria': 'Adulto'}\n",
            "{'_id': ObjectId('638b99255f8803ecfbe46b6f'), 'nome': 'nome19', 'idade': 33, 'faixa_etaria': 'Adulto'}\n",
            "{'_id': ObjectId('638b99265f8803ecfbe46b70'), 'nome': 'nome20', 'idade': 34, 'faixa_etaria': 'Adulto'}\n",
            "{'_id': ObjectId('638b99265f8803ecfbe46b71'), 'nome': 'nome21', 'idade': 35, 'faixa_etaria': 'Adulto'}\n",
            "{'_id': ObjectId('638b99265f8803ecfbe46b72'), 'nome': 'nome22', 'idade': 36, 'faixa_etaria': 'Adulto'}\n",
            "{'_id': ObjectId('638b99275f8803ecfbe46b73'), 'nome': 'nome23', 'idade': 37, 'faixa_etaria': 'Adulto'}\n",
            "{'_id': ObjectId('638b99275f8803ecfbe46b74'), 'nome': 'nome24', 'idade': 38, 'faixa_etaria': 'Adulto'}\n",
            "{'_id': ObjectId('638b99275f8803ecfbe46b75'), 'nome': 'nome25', 'idade': 39, 'faixa_etaria': 'Adulto'}\n",
            "{'_id': ObjectId('638b99275f8803ecfbe46b76'), 'nome': 'nome26', 'idade': 40, 'faixa_etaria': 'Adulto'}\n",
            "{'_id': ObjectId('638b99285f8803ecfbe46b77'), 'nome': 'nome27', 'idade': 41, 'faixa_etaria': 'Adulto'}\n",
            "{'_id': ObjectId('638b99285f8803ecfbe46b78'), 'nome': 'nome28', 'idade': 42, 'faixa_etaria': 'Adulto'}\n",
            "{'_id': ObjectId('638b99285f8803ecfbe46b79'), 'nome': 'nome29', 'idade': 43, 'faixa_etaria': 'Adulto'}\n",
            "{'_id': ObjectId('638b99295f8803ecfbe46b7a'), 'nome': 'nome30', 'idade': 44, 'faixa_etaria': 'Adulto'}\n",
            "{'_id': ObjectId('638b99295f8803ecfbe46b7b'), 'nome': 'nome31', 'idade': 45, 'faixa_etaria': 'Adulto'}\n",
            "{'_id': ObjectId('638b99295f8803ecfbe46b7c'), 'nome': 'nome32', 'idade': 46, 'faixa_etaria': 'Adulto'}\n",
            "{'_id': ObjectId('638b99295f8803ecfbe46b7d'), 'nome': 'nome33', 'idade': 47, 'faixa_etaria': 'Adulto'}\n",
            "{'_id': ObjectId('638b992a5f8803ecfbe46b7e'), 'nome': 'nome34', 'idade': 48, 'faixa_etaria': 'Adulto'}\n",
            "{'_id': ObjectId('638b992a5f8803ecfbe46b7f'), 'nome': 'nome35', 'idade': 49, 'faixa_etaria': 'Adulto'}\n"
          ]
        }
      ]
    },
    {
      "cell_type": "markdown",
      "source": [
        "#Delete de dados"
      ],
      "metadata": {
        "id": "g5LIN1wlQiTb"
      }
    },
    {
      "cell_type": "code",
      "source": [
        "# colecao_study.delete_one()\n",
        "# Onde ele encontra a primeira ocorrência, vai deletar o documento.\n",
        "\n",
        "# colecao_study.delete_many()\n",
        "# Onde ele encontrar a ocorrência, ele deleta o documento todo.\n",
        "\n",
        "# colecao_study.delete_many({})\n",
        "# Deleta toda coleção"
      ],
      "metadata": {
        "id": "XYvAzTnrQloj"
      },
      "execution_count": 83,
      "outputs": []
    },
    {
      "cell_type": "markdown",
      "source": [
        "#Extração de Collections "
      ],
      "metadata": {
        "id": "FMZjISyxVoU2"
      }
    },
    {
      "cell_type": "markdown",
      "source": [
        "***Extraindo uma coleção de um Dataset público do MongoDB para o colab utilizando a biblioteca pandas.***"
      ],
      "metadata": {
        "id": "smneiCeGWjB7"
      }
    },
    {
      "cell_type": "markdown",
      "source": [
        "## Importação biblioteca"
      ],
      "metadata": {
        "id": "mC3L8WejWrJT"
      }
    },
    {
      "cell_type": "code",
      "source": [
        "import pandas as pd"
      ],
      "metadata": {
        "id": "SWTUxnZtWeFw"
      },
      "execution_count": 84,
      "outputs": []
    },
    {
      "cell_type": "markdown",
      "source": [
        "## Extraindo coleção e convertendo em um DataFrame"
      ],
      "metadata": {
        "id": "2pWvj3dDWuoc"
      }
    },
    {
      "cell_type": "code",
      "source": [
        "cursor = client['sample_airbnb']['listingsAndReviews'].find()\n",
        "df = pd.DataFrame(list(cursor))"
      ],
      "metadata": {
        "id": "QoAFtY_6VrvH"
      },
      "execution_count": 96,
      "outputs": []
    },
    {
      "cell_type": "markdown",
      "source": [
        "## Visualizando DataFrame"
      ],
      "metadata": {
        "id": "JtQZ6IvyXD1E"
      }
    },
    {
      "cell_type": "code",
      "source": [
        "df.head(4)"
      ],
      "metadata": {
        "colab": {
          "base_uri": "https://localhost:8080/",
          "height": 667
        },
        "id": "DfP5jdBXXF1-",
        "outputId": "531ac79e-d7af-43d0-e948-2624ac47f322"
      },
      "execution_count": 97,
      "outputs": [
        {
          "output_type": "execute_result",
          "data": {
            "text/plain": [
              "        _id                            listing_url  \\\n",
              "0  10006546  https://www.airbnb.com/rooms/10006546   \n",
              "1  10009999  https://www.airbnb.com/rooms/10009999   \n",
              "2   1001265   https://www.airbnb.com/rooms/1001265   \n",
              "3  10021707  https://www.airbnb.com/rooms/10021707   \n",
              "\n",
              "                               name  \\\n",
              "0           Ribeira Charming Duplex   \n",
              "1      Horto flat with small garden   \n",
              "2  Ocean View Waikiki Marina w/prkg   \n",
              "3          Private Room in Bushwick   \n",
              "\n",
              "                                             summary  \\\n",
              "0  Fantastic duplex apartment with three bedrooms...   \n",
              "1  One bedroom + sofa-bed in quiet and bucolic ne...   \n",
              "2  A short distance from Honolulu's billion dolla...   \n",
              "3  Here exists a very cozy room for rent in a sha...   \n",
              "\n",
              "                                               space  \\\n",
              "0  Privileged views of the Douro River and Ribeir...   \n",
              "1  Lovely one bedroom + sofa-bed in the living ro...   \n",
              "2  Great studio located on Ala Moana across the s...   \n",
              "3                                                      \n",
              "\n",
              "                                         description  \\\n",
              "0  Fantastic duplex apartment with three bedrooms...   \n",
              "1  One bedroom + sofa-bed in quiet and bucolic ne...   \n",
              "2  A short distance from Honolulu's billion dolla...   \n",
              "3  Here exists a very cozy room for rent in a sha...   \n",
              "\n",
              "                               neighborhood_overview  \\\n",
              "0  In the neighborhood of the river, you can find...   \n",
              "1  This charming ground floor flat is located in ...   \n",
              "2             You can breath ocean as well as aloha.   \n",
              "3                                                      \n",
              "\n",
              "                                               notes  \\\n",
              "0  Lose yourself in the narrow streets and stairc...   \n",
              "1  There´s a table in the living room now, that d...   \n",
              "2                                                      \n",
              "3                                                      \n",
              "\n",
              "                                             transit  \\\n",
              "0  Transport: • Metro station and S. Bento railwa...   \n",
              "1  Easy access to transport (bus, taxi, car) and ...   \n",
              "2  Honolulu does have a very good air conditioned...   \n",
              "3                                                      \n",
              "\n",
              "                                              access  ... guests_included  \\\n",
              "0  We are always available to help guests. The ho...  ...               6   \n",
              "1                                                     ...               1   \n",
              "2                           Pool, hot tub and tennis  ...               1   \n",
              "3                                                     ...               1   \n",
              "\n",
              "                                              images  \\\n",
              "0  {'thumbnail_url': '', 'medium_url': '', 'pictu...   \n",
              "1  {'thumbnail_url': '', 'medium_url': '', 'pictu...   \n",
              "2  {'thumbnail_url': '', 'medium_url': '', 'pictu...   \n",
              "3  {'thumbnail_url': '', 'medium_url': '', 'pictu...   \n",
              "\n",
              "                                                host  \\\n",
              "0  {'host_id': '51399391', 'host_url': 'https://w...   \n",
              "1  {'host_id': '1282196', 'host_url': 'https://ww...   \n",
              "2  {'host_id': '5448114', 'host_url': 'https://ww...   \n",
              "3  {'host_id': '11275734', 'host_url': 'https://w...   \n",
              "\n",
              "                                             address  \\\n",
              "0  {'street': 'Porto, Porto, Portugal', 'suburb':...   \n",
              "1  {'street': 'Rio de Janeiro, Rio de Janeiro, Br...   \n",
              "2  {'street': 'Honolulu, HI, United States', 'sub...   \n",
              "3  {'street': 'Brooklyn, NY, United States', 'sub...   \n",
              "\n",
              "                                        availability  \\\n",
              "0  {'availability_30': 28, 'availability_60': 47,...   \n",
              "1  {'availability_30': 0, 'availability_60': 0, '...   \n",
              "2  {'availability_30': 16, 'availability_60': 46,...   \n",
              "3  {'availability_30': 0, 'availability_60': 0, '...   \n",
              "\n",
              "                                       review_scores  \\\n",
              "0  {'review_scores_accuracy': 9, 'review_scores_c...   \n",
              "1                                                 {}   \n",
              "2  {'review_scores_accuracy': 9, 'review_scores_c...   \n",
              "3  {'review_scores_accuracy': 10, 'review_scores_...   \n",
              "\n",
              "                                             reviews weekly_price  \\\n",
              "0  [{'_id': '58663741', 'date': 2016-01-03 05:00:...          NaN   \n",
              "1                                                 []      1492.00   \n",
              "2  [{'_id': '4765259', 'date': 2013-05-24 04:00:0...       650.00   \n",
              "3  [{'_id': '61050713', 'date': 2016-01-31 05:00:...          NaN   \n",
              "\n",
              "  monthly_price reviews_per_month  \n",
              "0           NaN               NaN  \n",
              "1       4849.00               NaN  \n",
              "2       2150.00               NaN  \n",
              "3           NaN               NaN  \n",
              "\n",
              "[4 rows x 42 columns]"
            ],
            "text/html": [
              "\n",
              "  <div id=\"df-187e6105-561f-43ed-9836-094902bfecdf\">\n",
              "    <div class=\"colab-df-container\">\n",
              "      <div>\n",
              "<style scoped>\n",
              "    .dataframe tbody tr th:only-of-type {\n",
              "        vertical-align: middle;\n",
              "    }\n",
              "\n",
              "    .dataframe tbody tr th {\n",
              "        vertical-align: top;\n",
              "    }\n",
              "\n",
              "    .dataframe thead th {\n",
              "        text-align: right;\n",
              "    }\n",
              "</style>\n",
              "<table border=\"1\" class=\"dataframe\">\n",
              "  <thead>\n",
              "    <tr style=\"text-align: right;\">\n",
              "      <th></th>\n",
              "      <th>_id</th>\n",
              "      <th>listing_url</th>\n",
              "      <th>name</th>\n",
              "      <th>summary</th>\n",
              "      <th>space</th>\n",
              "      <th>description</th>\n",
              "      <th>neighborhood_overview</th>\n",
              "      <th>notes</th>\n",
              "      <th>transit</th>\n",
              "      <th>access</th>\n",
              "      <th>...</th>\n",
              "      <th>guests_included</th>\n",
              "      <th>images</th>\n",
              "      <th>host</th>\n",
              "      <th>address</th>\n",
              "      <th>availability</th>\n",
              "      <th>review_scores</th>\n",
              "      <th>reviews</th>\n",
              "      <th>weekly_price</th>\n",
              "      <th>monthly_price</th>\n",
              "      <th>reviews_per_month</th>\n",
              "    </tr>\n",
              "  </thead>\n",
              "  <tbody>\n",
              "    <tr>\n",
              "      <th>0</th>\n",
              "      <td>10006546</td>\n",
              "      <td>https://www.airbnb.com/rooms/10006546</td>\n",
              "      <td>Ribeira Charming Duplex</td>\n",
              "      <td>Fantastic duplex apartment with three bedrooms...</td>\n",
              "      <td>Privileged views of the Douro River and Ribeir...</td>\n",
              "      <td>Fantastic duplex apartment with three bedrooms...</td>\n",
              "      <td>In the neighborhood of the river, you can find...</td>\n",
              "      <td>Lose yourself in the narrow streets and stairc...</td>\n",
              "      <td>Transport: • Metro station and S. Bento railwa...</td>\n",
              "      <td>We are always available to help guests. The ho...</td>\n",
              "      <td>...</td>\n",
              "      <td>6</td>\n",
              "      <td>{'thumbnail_url': '', 'medium_url': '', 'pictu...</td>\n",
              "      <td>{'host_id': '51399391', 'host_url': 'https://w...</td>\n",
              "      <td>{'street': 'Porto, Porto, Portugal', 'suburb':...</td>\n",
              "      <td>{'availability_30': 28, 'availability_60': 47,...</td>\n",
              "      <td>{'review_scores_accuracy': 9, 'review_scores_c...</td>\n",
              "      <td>[{'_id': '58663741', 'date': 2016-01-03 05:00:...</td>\n",
              "      <td>NaN</td>\n",
              "      <td>NaN</td>\n",
              "      <td>NaN</td>\n",
              "    </tr>\n",
              "    <tr>\n",
              "      <th>1</th>\n",
              "      <td>10009999</td>\n",
              "      <td>https://www.airbnb.com/rooms/10009999</td>\n",
              "      <td>Horto flat with small garden</td>\n",
              "      <td>One bedroom + sofa-bed in quiet and bucolic ne...</td>\n",
              "      <td>Lovely one bedroom + sofa-bed in the living ro...</td>\n",
              "      <td>One bedroom + sofa-bed in quiet and bucolic ne...</td>\n",
              "      <td>This charming ground floor flat is located in ...</td>\n",
              "      <td>There´s a table in the living room now, that d...</td>\n",
              "      <td>Easy access to transport (bus, taxi, car) and ...</td>\n",
              "      <td></td>\n",
              "      <td>...</td>\n",
              "      <td>1</td>\n",
              "      <td>{'thumbnail_url': '', 'medium_url': '', 'pictu...</td>\n",
              "      <td>{'host_id': '1282196', 'host_url': 'https://ww...</td>\n",
              "      <td>{'street': 'Rio de Janeiro, Rio de Janeiro, Br...</td>\n",
              "      <td>{'availability_30': 0, 'availability_60': 0, '...</td>\n",
              "      <td>{}</td>\n",
              "      <td>[]</td>\n",
              "      <td>1492.00</td>\n",
              "      <td>4849.00</td>\n",
              "      <td>NaN</td>\n",
              "    </tr>\n",
              "    <tr>\n",
              "      <th>2</th>\n",
              "      <td>1001265</td>\n",
              "      <td>https://www.airbnb.com/rooms/1001265</td>\n",
              "      <td>Ocean View Waikiki Marina w/prkg</td>\n",
              "      <td>A short distance from Honolulu's billion dolla...</td>\n",
              "      <td>Great studio located on Ala Moana across the s...</td>\n",
              "      <td>A short distance from Honolulu's billion dolla...</td>\n",
              "      <td>You can breath ocean as well as aloha.</td>\n",
              "      <td></td>\n",
              "      <td>Honolulu does have a very good air conditioned...</td>\n",
              "      <td>Pool, hot tub and tennis</td>\n",
              "      <td>...</td>\n",
              "      <td>1</td>\n",
              "      <td>{'thumbnail_url': '', 'medium_url': '', 'pictu...</td>\n",
              "      <td>{'host_id': '5448114', 'host_url': 'https://ww...</td>\n",
              "      <td>{'street': 'Honolulu, HI, United States', 'sub...</td>\n",
              "      <td>{'availability_30': 16, 'availability_60': 46,...</td>\n",
              "      <td>{'review_scores_accuracy': 9, 'review_scores_c...</td>\n",
              "      <td>[{'_id': '4765259', 'date': 2013-05-24 04:00:0...</td>\n",
              "      <td>650.00</td>\n",
              "      <td>2150.00</td>\n",
              "      <td>NaN</td>\n",
              "    </tr>\n",
              "    <tr>\n",
              "      <th>3</th>\n",
              "      <td>10021707</td>\n",
              "      <td>https://www.airbnb.com/rooms/10021707</td>\n",
              "      <td>Private Room in Bushwick</td>\n",
              "      <td>Here exists a very cozy room for rent in a sha...</td>\n",
              "      <td></td>\n",
              "      <td>Here exists a very cozy room for rent in a sha...</td>\n",
              "      <td></td>\n",
              "      <td></td>\n",
              "      <td></td>\n",
              "      <td></td>\n",
              "      <td>...</td>\n",
              "      <td>1</td>\n",
              "      <td>{'thumbnail_url': '', 'medium_url': '', 'pictu...</td>\n",
              "      <td>{'host_id': '11275734', 'host_url': 'https://w...</td>\n",
              "      <td>{'street': 'Brooklyn, NY, United States', 'sub...</td>\n",
              "      <td>{'availability_30': 0, 'availability_60': 0, '...</td>\n",
              "      <td>{'review_scores_accuracy': 10, 'review_scores_...</td>\n",
              "      <td>[{'_id': '61050713', 'date': 2016-01-31 05:00:...</td>\n",
              "      <td>NaN</td>\n",
              "      <td>NaN</td>\n",
              "      <td>NaN</td>\n",
              "    </tr>\n",
              "  </tbody>\n",
              "</table>\n",
              "<p>4 rows × 42 columns</p>\n",
              "</div>\n",
              "      <button class=\"colab-df-convert\" onclick=\"convertToInteractive('df-187e6105-561f-43ed-9836-094902bfecdf')\"\n",
              "              title=\"Convert this dataframe to an interactive table.\"\n",
              "              style=\"display:none;\">\n",
              "        \n",
              "  <svg xmlns=\"http://www.w3.org/2000/svg\" height=\"24px\"viewBox=\"0 0 24 24\"\n",
              "       width=\"24px\">\n",
              "    <path d=\"M0 0h24v24H0V0z\" fill=\"none\"/>\n",
              "    <path d=\"M18.56 5.44l.94 2.06.94-2.06 2.06-.94-2.06-.94-.94-2.06-.94 2.06-2.06.94zm-11 1L8.5 8.5l.94-2.06 2.06-.94-2.06-.94L8.5 2.5l-.94 2.06-2.06.94zm10 10l.94 2.06.94-2.06 2.06-.94-2.06-.94-.94-2.06-.94 2.06-2.06.94z\"/><path d=\"M17.41 7.96l-1.37-1.37c-.4-.4-.92-.59-1.43-.59-.52 0-1.04.2-1.43.59L10.3 9.45l-7.72 7.72c-.78.78-.78 2.05 0 2.83L4 21.41c.39.39.9.59 1.41.59.51 0 1.02-.2 1.41-.59l7.78-7.78 2.81-2.81c.8-.78.8-2.07 0-2.86zM5.41 20L4 18.59l7.72-7.72 1.47 1.35L5.41 20z\"/>\n",
              "  </svg>\n",
              "      </button>\n",
              "      \n",
              "  <style>\n",
              "    .colab-df-container {\n",
              "      display:flex;\n",
              "      flex-wrap:wrap;\n",
              "      gap: 12px;\n",
              "    }\n",
              "\n",
              "    .colab-df-convert {\n",
              "      background-color: #E8F0FE;\n",
              "      border: none;\n",
              "      border-radius: 50%;\n",
              "      cursor: pointer;\n",
              "      display: none;\n",
              "      fill: #1967D2;\n",
              "      height: 32px;\n",
              "      padding: 0 0 0 0;\n",
              "      width: 32px;\n",
              "    }\n",
              "\n",
              "    .colab-df-convert:hover {\n",
              "      background-color: #E2EBFA;\n",
              "      box-shadow: 0px 1px 2px rgba(60, 64, 67, 0.3), 0px 1px 3px 1px rgba(60, 64, 67, 0.15);\n",
              "      fill: #174EA6;\n",
              "    }\n",
              "\n",
              "    [theme=dark] .colab-df-convert {\n",
              "      background-color: #3B4455;\n",
              "      fill: #D2E3FC;\n",
              "    }\n",
              "\n",
              "    [theme=dark] .colab-df-convert:hover {\n",
              "      background-color: #434B5C;\n",
              "      box-shadow: 0px 1px 3px 1px rgba(0, 0, 0, 0.15);\n",
              "      filter: drop-shadow(0px 1px 2px rgba(0, 0, 0, 0.3));\n",
              "      fill: #FFFFFF;\n",
              "    }\n",
              "  </style>\n",
              "\n",
              "      <script>\n",
              "        const buttonEl =\n",
              "          document.querySelector('#df-187e6105-561f-43ed-9836-094902bfecdf button.colab-df-convert');\n",
              "        buttonEl.style.display =\n",
              "          google.colab.kernel.accessAllowed ? 'block' : 'none';\n",
              "\n",
              "        async function convertToInteractive(key) {\n",
              "          const element = document.querySelector('#df-187e6105-561f-43ed-9836-094902bfecdf');\n",
              "          const dataTable =\n",
              "            await google.colab.kernel.invokeFunction('convertToInteractive',\n",
              "                                                     [key], {});\n",
              "          if (!dataTable) return;\n",
              "\n",
              "          const docLinkHtml = 'Like what you see? Visit the ' +\n",
              "            '<a target=\"_blank\" href=https://colab.research.google.com/notebooks/data_table.ipynb>data table notebook</a>'\n",
              "            + ' to learn more about interactive tables.';\n",
              "          element.innerHTML = '';\n",
              "          dataTable['output_type'] = 'display_data';\n",
              "          await google.colab.output.renderOutput(dataTable, element);\n",
              "          const docLink = document.createElement('div');\n",
              "          docLink.innerHTML = docLinkHtml;\n",
              "          element.appendChild(docLink);\n",
              "        }\n",
              "      </script>\n",
              "    </div>\n",
              "  </div>\n",
              "  "
            ]
          },
          "metadata": {},
          "execution_count": 97
        }
      ]
    },
    {
      "cell_type": "code",
      "source": [
        "df.dtypes"
      ],
      "metadata": {
        "colab": {
          "base_uri": "https://localhost:8080/"
        },
        "id": "r21Ek3KfYgmN",
        "outputId": "48f0c5fb-6e07-4ce1-951f-1886687a2b32"
      },
      "execution_count": 98,
      "outputs": [
        {
          "output_type": "execute_result",
          "data": {
            "text/plain": [
              "_id                              object\n",
              "listing_url                      object\n",
              "name                             object\n",
              "summary                          object\n",
              "space                            object\n",
              "description                      object\n",
              "neighborhood_overview            object\n",
              "notes                            object\n",
              "transit                          object\n",
              "access                           object\n",
              "interaction                      object\n",
              "house_rules                      object\n",
              "property_type                    object\n",
              "room_type                        object\n",
              "bed_type                         object\n",
              "minimum_nights                   object\n",
              "maximum_nights                   object\n",
              "cancellation_policy              object\n",
              "last_scraped             datetime64[ns]\n",
              "calendar_last_scraped    datetime64[ns]\n",
              "first_review             datetime64[ns]\n",
              "last_review              datetime64[ns]\n",
              "accommodates                      int64\n",
              "bedrooms                        float64\n",
              "beds                            float64\n",
              "number_of_reviews                 int64\n",
              "bathrooms                        object\n",
              "amenities                        object\n",
              "price                            object\n",
              "security_deposit                 object\n",
              "cleaning_fee                     object\n",
              "extra_people                     object\n",
              "guests_included                  object\n",
              "images                           object\n",
              "host                             object\n",
              "address                          object\n",
              "availability                     object\n",
              "review_scores                    object\n",
              "reviews                          object\n",
              "weekly_price                     object\n",
              "monthly_price                    object\n",
              "reviews_per_month               float64\n",
              "dtype: object"
            ]
          },
          "metadata": {},
          "execution_count": 98
        }
      ]
    },
    {
      "cell_type": "markdown",
      "source": [
        "#Carregando DataFrame no MongoDB"
      ],
      "metadata": {
        "id": "3IwTus-LXRF0"
      }
    },
    {
      "cell_type": "markdown",
      "source": [
        "***Carregando um DataFrame do colab para um Dataset do MongoDB utilizando a biblioteca pandas.***"
      ],
      "metadata": {
        "id": "MKW5AFstXX5B"
      }
    },
    {
      "cell_type": "markdown",
      "source": [
        "## Tratamento"
      ],
      "metadata": {
        "id": "JIGoN1FEYqA_"
      }
    },
    {
      "cell_type": "markdown",
      "source": [
        "***Pequeno tratamento para carregar o df2 em um novo Dataset do MongoDB***"
      ],
      "metadata": {
        "id": "SkI2EKLcYr4B"
      }
    },
    {
      "cell_type": "code",
      "source": [
        "#Importando o numpy para tatramento de nulos\n",
        "\n",
        "import numpy as np"
      ],
      "metadata": {
        "id": "GqyVSZtCbHI-"
      },
      "execution_count": 103,
      "outputs": []
    },
    {
      "cell_type": "code",
      "source": [
        "df2 = pd.read_csv('https://storage.googleapis.com/bc26-bucket/ocorrencia.csv',sep=';',encoding = 'ISO-8859-1',parse_dates=['ocorrencia_dia'],dayfirst=True)"
      ],
      "metadata": {
        "id": "wz12NeiBYrMW"
      },
      "execution_count": 99,
      "outputs": []
    },
    {
      "cell_type": "code",
      "source": [
        "#Renomear as colunas\n",
        "df2.rename(columns={'codigo_ocorrencia':'ocorrencia','ocorrencia_classificacao':'classificacao','ocorrencia_cidade':'cidade','ocorrencia_uf':'uf','ocorrencia_pais':'pais','ocorrencia_aerodromo':'aerodromo'},inplace=True)\n",
        "df2.rename(columns={'ocorrencia_dia':'dia','ocorrencia_hora':'horario','total_recomendacoes':'recomendacoes','total_aeronaves_envolvidas':'n_aeronaves','ocorrencia_saida_pista':'saida_pista'},inplace=True)"
      ],
      "metadata": {
        "id": "Kjdd4kD3aThi"
      },
      "execution_count": 100,
      "outputs": []
    },
    {
      "cell_type": "code",
      "source": [
        "#Dropagem das colunas que tinham dados repetidos\n",
        "df2.drop(['codigo_ocorrencia1','codigo_ocorrencia2','codigo_ocorrencia3','codigo_ocorrencia4'],axis=1,inplace=True)\n",
        "#Drop de colunas que não serão utilizadas\n",
        "df2.drop(['ocorrencia_latitude','ocorrencia_longitude','investigacao_aeronave_liberada','investigacao_status','divulgacao_relatorio_numero','divulgacao_relatorio_publicado','divulgacao_dia_publicacao'],axis=1,inplace=True)"
      ],
      "metadata": {
        "id": "FmwdzIC_aMmZ"
      },
      "execution_count": 101,
      "outputs": []
    },
    {
      "cell_type": "code",
      "source": [
        "df2.replace(['***','**NI'],np.NaN,inplace=True)"
      ],
      "metadata": {
        "id": "7t9t0r3haOmg"
      },
      "execution_count": 104,
      "outputs": []
    },
    {
      "cell_type": "markdown",
      "source": [
        "##Carregamento"
      ],
      "metadata": {
        "id": "oRoj9E9wZNM_"
      }
    },
    {
      "cell_type": "code",
      "source": [
        "colecao_teste = client['db_test']['collection_test']\n",
        "\n",
        "df2_dict = df2.to_dict('records') \n",
        "\n",
        "colecao_teste.insert_many(df2_dict)"
      ],
      "metadata": {
        "id": "2iZ5gwh8XW6i"
      },
      "execution_count": null,
      "outputs": []
    },
    {
      "cell_type": "code",
      "source": [
        "#Verificando se foi carregado\n",
        "colecao_teste.count_documents({})"
      ],
      "metadata": {
        "colab": {
          "base_uri": "https://localhost:8080/"
        },
        "id": "ycwK2OyZcuvu",
        "outputId": "cc179bf4-a7d5-4af0-bbcb-7bb9c36d87f3"
      },
      "execution_count": 111,
      "outputs": [
        {
          "output_type": "execute_result",
          "data": {
            "text/plain": [
              "6769"
            ]
          },
          "metadata": {},
          "execution_count": 111
        }
      ]
    }
  ]
}