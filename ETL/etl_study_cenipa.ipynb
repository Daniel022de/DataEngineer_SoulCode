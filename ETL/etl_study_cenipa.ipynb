{
  "nbformat": 4,
  "nbformat_minor": 0,
  "metadata": {
    "colab": {
      "provenance": [],
      "authorship_tag": "ABX9TyNC+gtj8CSOBVw1z26iab5w",
      "include_colab_link": true
    },
    "kernelspec": {
      "name": "python3",
      "display_name": "Python 3"
    },
    "language_info": {
      "name": "python"
    }
  },
  "cells": [
    {
      "cell_type": "markdown",
      "metadata": {
        "id": "view-in-github",
        "colab_type": "text"
      },
      "source": [
        "<a href=\"https://colab.research.google.com/github/Daniel022de/Bootcamp_SoulCode_EngenhariaDados/blob/main/ETL/etl_study_cenipa.ipynb\" target=\"_parent\"><img src=\"https://colab.research.google.com/assets/colab-badge.svg\" alt=\"Open In Colab\"/></a>"
      ]
    },
    {
      "cell_type": "markdown",
      "source": [
        "#Extração,transformação e carregamento de dados\n",
        "\n",
        "Esse Notebook é referente as instruções feitas pelo professor **Igor Gondim** no bootcamp **engenharia de dados** da **SoulCode** nas aulas sobre o processo de extração,transformação,carregamento de dados e análise introdutória. Foi utilizado um dataset do Centro de Investigação e Prevenção de Acidentes Aeronáuticos (CENIPA) disponível no meu [Bucket Google Cloud](https://storage.googleapis.com/bucket-pratica-s3/ocorrencia%20(1).csv) para consolidar os conhecimentos.\n",
        "\n",
        "\n",
        "\n",
        "\n",
        "\n",
        "\n",
        "\n",
        "! **Você pode encontrar esse notebook no meu repositório** [GitHub](https://github.com/Daniel022de/Bootcamp_SoulCode_EngenhariaDados)\n",
        "\n",
        "! **Você pode entrar em contato comigo através do meu email** ddololiveira.pessoal@gmail.com ***e*** [Linkedin](https://www.linkedin.com/in/daniel-oliveira-503b0323b/).\n",
        "\n",
        "! **Toda dúvida,recomendações e feedbacks serão bem-vindas.**\n",
        "\n"
      ],
      "metadata": {
        "id": "w0BBHrtZf78D"
      }
    },
    {
      "cell_type": "markdown",
      "source": [
        "#Instalação de biblioteca"
      ],
      "metadata": {
        "id": "jSkLco8IvxNc"
      }
    },
    {
      "cell_type": "code",
      "execution_count": 41,
      "metadata": {
        "colab": {
          "base_uri": "https://localhost:8080/"
        },
        "id": "eCjmGyvmvqqo",
        "outputId": "489906a2-d25a-4bc8-e403-df4557c3204b"
      },
      "outputs": [
        {
          "output_type": "stream",
          "name": "stdout",
          "text": [
            "Looking in indexes: https://pypi.org/simple, https://us-python.pkg.dev/colab-wheels/public/simple/\n",
            "Requirement already satisfied: pandera in /usr/local/lib/python3.8/dist-packages (0.13.4)\n",
            "Requirement already satisfied: packaging>=20.0 in /usr/local/lib/python3.8/dist-packages (from pandera) (21.3)\n",
            "Requirement already satisfied: typing-inspect>=0.6.0 in /usr/local/lib/python3.8/dist-packages (from pandera) (0.8.0)\n",
            "Requirement already satisfied: pandas>=1.2.0 in /usr/local/lib/python3.8/dist-packages (from pandera) (1.3.5)\n",
            "Requirement already satisfied: pydantic in /usr/local/lib/python3.8/dist-packages (from pandera) (1.10.2)\n",
            "Requirement already satisfied: numpy>=1.19.0 in /usr/local/lib/python3.8/dist-packages (from pandera) (1.21.6)\n",
            "Requirement already satisfied: wrapt in /usr/local/lib/python3.8/dist-packages (from pandera) (1.14.1)\n",
            "Requirement already satisfied: pyparsing!=3.0.5,>=2.0.2 in /usr/local/lib/python3.8/dist-packages (from packaging>=20.0->pandera) (3.0.9)\n",
            "Requirement already satisfied: python-dateutil>=2.7.3 in /usr/local/lib/python3.8/dist-packages (from pandas>=1.2.0->pandera) (2.8.2)\n",
            "Requirement already satisfied: pytz>=2017.3 in /usr/local/lib/python3.8/dist-packages (from pandas>=1.2.0->pandera) (2022.6)\n",
            "Requirement already satisfied: six>=1.5 in /usr/local/lib/python3.8/dist-packages (from python-dateutil>=2.7.3->pandas>=1.2.0->pandera) (1.15.0)\n",
            "Requirement already satisfied: mypy-extensions>=0.3.0 in /usr/local/lib/python3.8/dist-packages (from typing-inspect>=0.6.0->pandera) (0.4.3)\n",
            "Requirement already satisfied: typing-extensions>=3.7.4 in /usr/local/lib/python3.8/dist-packages (from typing-inspect>=0.6.0->pandera) (4.1.1)\n"
          ]
        }
      ],
      "source": [
        "pip install pandera"
      ]
    },
    {
      "cell_type": "markdown",
      "source": [
        "#Importaçao de Bibliotecas"
      ],
      "metadata": {
        "id": "aqRMgUxJv4-P"
      }
    },
    {
      "cell_type": "code",
      "source": [
        "import pandas as pd\n",
        "import pandera as pa\n",
        "import numpy as np"
      ],
      "metadata": {
        "id": "lmih74DSv62A"
      },
      "execution_count": 42,
      "outputs": []
    },
    {
      "cell_type": "markdown",
      "source": [
        "##Configurações do DataFrame"
      ],
      "metadata": {
        "id": "drWmAWLMv-1b"
      }
    },
    {
      "cell_type": "code",
      "source": [
        "pd.set_option('display.max_columns',100)"
      ],
      "metadata": {
        "id": "Ec2Zo6ynwAvf"
      },
      "execution_count": 43,
      "outputs": []
    },
    {
      "cell_type": "markdown",
      "source": [
        "#Extração do Dataset"
      ],
      "metadata": {
        "id": "1wT-CdcVwGac"
      }
    },
    {
      "cell_type": "code",
      "source": [
        "url = 'https://storage.googleapis.com/bucket-pratica-s3/ocorrencia%20(1).csv'\n",
        "df = pd.read_csv(url,sep=';',encoding='ISO-8859-1',parse_dates=['ocorrencia_dia'],dayfirst=True)"
      ],
      "metadata": {
        "id": "JDqWj_VowLb1"
      },
      "execution_count": 44,
      "outputs": []
    },
    {
      "cell_type": "markdown",
      "source": [
        "# Pré - análise"
      ],
      "metadata": {
        "id": "n6919ug_wPA4"
      }
    },
    {
      "cell_type": "markdown",
      "source": [
        "***Esse DataFrame contém informações sobre acidentes aeronáuticos***\n",
        "\n",
        "*Informações das colunas:*\n",
        "\n",
        "1. **\"codigo_ocorrencia\"** : código único para cada acidente;\n",
        "\n",
        "**observação:** \n",
        "\n",
        "Os **codigo_ocorrencia1, codigo_ocorrencia2, codigo_ocorrencia3 e  codigo_ocorrencia4** são chaves de outras tabelas que possuem informações detalhadas do acidente;\n",
        "2. **\"ocorrencia_latitude e ocorrencia_longitude\"** : informações geográficas do acidente;\n",
        "3. **\"ocorrencia_cidade\"**: cidade onde ocorreu o acidente;\n",
        "4. **\"ocorrencia_uf\"**: estado ondde ocorreu o acidente;\n",
        "5. **\"ocorrencia_pais\"**: pais onde ocorreu o acidente;\n",
        "6. **\"ocorrencia_cidade\"**: aerodromo onde ocorreu o acidente;\n",
        "7. **\"ocorrencia dia e ocorrencia hora\"**: informações do time que ocorreu o acidente;\n",
        "8. **\"investigacao_aeronave_liberada,\n",
        "investigacao_status, divulgacao_relatorio_numero,\tdivulgacao_relatorio_publicado e divulgacao_dia_publicacao\"**: detalhes sobre a investigação do acidente.\n",
        "9. **\"total_recomendacoes**: recomendações do aerodromo;\n",
        "10. **\"total_aeronaves_envolvidas**: quantidade de aeronaves envolvidas no acidente;\n",
        "11. **\"ocorrencia_saida_pista**: Se as aeronaves chegaram a sair da pista \"SIM\" OU \"NÃO\n",
        "\n"
      ],
      "metadata": {
        "id": "CQ1dU0HKkqRl"
      }
    },
    {
      "cell_type": "code",
      "source": [
        "df.head()"
      ],
      "metadata": {
        "colab": {
          "base_uri": "https://localhost:8080/",
          "height": 270
        },
        "id": "zPTb3RMAwH3y",
        "outputId": "5664ab6e-4ec8-4802-f318-12b2c4f9a259"
      },
      "execution_count": 45,
      "outputs": [
        {
          "output_type": "execute_result",
          "data": {
            "text/plain": [
              "   codigo_ocorrencia  codigo_ocorrencia1  codigo_ocorrencia2  \\\n",
              "0              81027               81027               81027   \n",
              "1              81030               81030               81030   \n",
              "2              81023               81023               81023   \n",
              "3              81029               81029               81029   \n",
              "4              81025               81025               81025   \n",
              "\n",
              "   codigo_ocorrencia3  codigo_ocorrencia4 ocorrencia_classificacao  \\\n",
              "0               81027               81027          INCIDENTE GRAVE   \n",
              "1               81030               81030                INCIDENTE   \n",
              "2               81023               81023          INCIDENTE GRAVE   \n",
              "3               81029               81029                INCIDENTE   \n",
              "4               81025               81025                INCIDENTE   \n",
              "\n",
              "  ocorrencia_latitude ocorrencia_longitude ocorrencia_cidade ocorrencia_uf  \\\n",
              "0                 NaN                  NaN         SÃO PAULO            SP   \n",
              "1                 NaN                  NaN           VITÓRIA            ES   \n",
              "2                 NaN                  NaN         AMERICANA            SP   \n",
              "3                 NaN                  NaN    BELO HORIZONTE            MG   \n",
              "4                 NaN                  NaN            MANAUS            AM   \n",
              "\n",
              "  ocorrencia_pais ocorrencia_aerodromo ocorrencia_dia ocorrencia_hora  \\\n",
              "0          BRASIL                 SBSP     2022-10-09        16:30:00   \n",
              "1          BRASIL                 SBVT     2022-10-09        16:20:00   \n",
              "2          BRASIL                 SDAI     2022-10-06        15:30:00   \n",
              "3          BRASIL                 SBBH     2022-10-06        00:44:00   \n",
              "4          BRASIL                 SBEG     2022-10-05        20:56:00   \n",
              "\n",
              "  investigacao_aeronave_liberada investigacao_status  \\\n",
              "0                            SIM               ATIVA   \n",
              "1                            SIM               ATIVA   \n",
              "2                            SIM          FINALIZADA   \n",
              "3                            SIM          FINALIZADA   \n",
              "4                            SIM          FINALIZADA   \n",
              "\n",
              "  divulgacao_relatorio_numero divulgacao_relatorio_publicado  \\\n",
              "0                   A DEFINIR                            NÃO   \n",
              "1                   A DEFINIR                            NÃO   \n",
              "2                         ***                            NÃO   \n",
              "3                         ***                            NÃO   \n",
              "4                         ***                            NÃO   \n",
              "\n",
              "  divulgacao_dia_publicacao  total_recomendacoes  total_aeronaves_envolvidas  \\\n",
              "0                       NaN                    0                           1   \n",
              "1                       NaN                    0                           1   \n",
              "2                       NaN                    0                           1   \n",
              "3                       NaN                    0                           1   \n",
              "4                       NaN                    0                           1   \n",
              "\n",
              "  ocorrencia_saida_pista  \n",
              "0                    SIM  \n",
              "1                    NÃO  \n",
              "2                    SIM  \n",
              "3                    NÃO  \n",
              "4                    NÃO  "
            ],
            "text/html": [
              "\n",
              "  <div id=\"df-7ef78119-3939-4ce8-a199-322b01eb4f7b\">\n",
              "    <div class=\"colab-df-container\">\n",
              "      <div>\n",
              "<style scoped>\n",
              "    .dataframe tbody tr th:only-of-type {\n",
              "        vertical-align: middle;\n",
              "    }\n",
              "\n",
              "    .dataframe tbody tr th {\n",
              "        vertical-align: top;\n",
              "    }\n",
              "\n",
              "    .dataframe thead th {\n",
              "        text-align: right;\n",
              "    }\n",
              "</style>\n",
              "<table border=\"1\" class=\"dataframe\">\n",
              "  <thead>\n",
              "    <tr style=\"text-align: right;\">\n",
              "      <th></th>\n",
              "      <th>codigo_ocorrencia</th>\n",
              "      <th>codigo_ocorrencia1</th>\n",
              "      <th>codigo_ocorrencia2</th>\n",
              "      <th>codigo_ocorrencia3</th>\n",
              "      <th>codigo_ocorrencia4</th>\n",
              "      <th>ocorrencia_classificacao</th>\n",
              "      <th>ocorrencia_latitude</th>\n",
              "      <th>ocorrencia_longitude</th>\n",
              "      <th>ocorrencia_cidade</th>\n",
              "      <th>ocorrencia_uf</th>\n",
              "      <th>ocorrencia_pais</th>\n",
              "      <th>ocorrencia_aerodromo</th>\n",
              "      <th>ocorrencia_dia</th>\n",
              "      <th>ocorrencia_hora</th>\n",
              "      <th>investigacao_aeronave_liberada</th>\n",
              "      <th>investigacao_status</th>\n",
              "      <th>divulgacao_relatorio_numero</th>\n",
              "      <th>divulgacao_relatorio_publicado</th>\n",
              "      <th>divulgacao_dia_publicacao</th>\n",
              "      <th>total_recomendacoes</th>\n",
              "      <th>total_aeronaves_envolvidas</th>\n",
              "      <th>ocorrencia_saida_pista</th>\n",
              "    </tr>\n",
              "  </thead>\n",
              "  <tbody>\n",
              "    <tr>\n",
              "      <th>0</th>\n",
              "      <td>81027</td>\n",
              "      <td>81027</td>\n",
              "      <td>81027</td>\n",
              "      <td>81027</td>\n",
              "      <td>81027</td>\n",
              "      <td>INCIDENTE GRAVE</td>\n",
              "      <td>NaN</td>\n",
              "      <td>NaN</td>\n",
              "      <td>SÃO PAULO</td>\n",
              "      <td>SP</td>\n",
              "      <td>BRASIL</td>\n",
              "      <td>SBSP</td>\n",
              "      <td>2022-10-09</td>\n",
              "      <td>16:30:00</td>\n",
              "      <td>SIM</td>\n",
              "      <td>ATIVA</td>\n",
              "      <td>A DEFINIR</td>\n",
              "      <td>NÃO</td>\n",
              "      <td>NaN</td>\n",
              "      <td>0</td>\n",
              "      <td>1</td>\n",
              "      <td>SIM</td>\n",
              "    </tr>\n",
              "    <tr>\n",
              "      <th>1</th>\n",
              "      <td>81030</td>\n",
              "      <td>81030</td>\n",
              "      <td>81030</td>\n",
              "      <td>81030</td>\n",
              "      <td>81030</td>\n",
              "      <td>INCIDENTE</td>\n",
              "      <td>NaN</td>\n",
              "      <td>NaN</td>\n",
              "      <td>VITÓRIA</td>\n",
              "      <td>ES</td>\n",
              "      <td>BRASIL</td>\n",
              "      <td>SBVT</td>\n",
              "      <td>2022-10-09</td>\n",
              "      <td>16:20:00</td>\n",
              "      <td>SIM</td>\n",
              "      <td>ATIVA</td>\n",
              "      <td>A DEFINIR</td>\n",
              "      <td>NÃO</td>\n",
              "      <td>NaN</td>\n",
              "      <td>0</td>\n",
              "      <td>1</td>\n",
              "      <td>NÃO</td>\n",
              "    </tr>\n",
              "    <tr>\n",
              "      <th>2</th>\n",
              "      <td>81023</td>\n",
              "      <td>81023</td>\n",
              "      <td>81023</td>\n",
              "      <td>81023</td>\n",
              "      <td>81023</td>\n",
              "      <td>INCIDENTE GRAVE</td>\n",
              "      <td>NaN</td>\n",
              "      <td>NaN</td>\n",
              "      <td>AMERICANA</td>\n",
              "      <td>SP</td>\n",
              "      <td>BRASIL</td>\n",
              "      <td>SDAI</td>\n",
              "      <td>2022-10-06</td>\n",
              "      <td>15:30:00</td>\n",
              "      <td>SIM</td>\n",
              "      <td>FINALIZADA</td>\n",
              "      <td>***</td>\n",
              "      <td>NÃO</td>\n",
              "      <td>NaN</td>\n",
              "      <td>0</td>\n",
              "      <td>1</td>\n",
              "      <td>SIM</td>\n",
              "    </tr>\n",
              "    <tr>\n",
              "      <th>3</th>\n",
              "      <td>81029</td>\n",
              "      <td>81029</td>\n",
              "      <td>81029</td>\n",
              "      <td>81029</td>\n",
              "      <td>81029</td>\n",
              "      <td>INCIDENTE</td>\n",
              "      <td>NaN</td>\n",
              "      <td>NaN</td>\n",
              "      <td>BELO HORIZONTE</td>\n",
              "      <td>MG</td>\n",
              "      <td>BRASIL</td>\n",
              "      <td>SBBH</td>\n",
              "      <td>2022-10-06</td>\n",
              "      <td>00:44:00</td>\n",
              "      <td>SIM</td>\n",
              "      <td>FINALIZADA</td>\n",
              "      <td>***</td>\n",
              "      <td>NÃO</td>\n",
              "      <td>NaN</td>\n",
              "      <td>0</td>\n",
              "      <td>1</td>\n",
              "      <td>NÃO</td>\n",
              "    </tr>\n",
              "    <tr>\n",
              "      <th>4</th>\n",
              "      <td>81025</td>\n",
              "      <td>81025</td>\n",
              "      <td>81025</td>\n",
              "      <td>81025</td>\n",
              "      <td>81025</td>\n",
              "      <td>INCIDENTE</td>\n",
              "      <td>NaN</td>\n",
              "      <td>NaN</td>\n",
              "      <td>MANAUS</td>\n",
              "      <td>AM</td>\n",
              "      <td>BRASIL</td>\n",
              "      <td>SBEG</td>\n",
              "      <td>2022-10-05</td>\n",
              "      <td>20:56:00</td>\n",
              "      <td>SIM</td>\n",
              "      <td>FINALIZADA</td>\n",
              "      <td>***</td>\n",
              "      <td>NÃO</td>\n",
              "      <td>NaN</td>\n",
              "      <td>0</td>\n",
              "      <td>1</td>\n",
              "      <td>NÃO</td>\n",
              "    </tr>\n",
              "  </tbody>\n",
              "</table>\n",
              "</div>\n",
              "      <button class=\"colab-df-convert\" onclick=\"convertToInteractive('df-7ef78119-3939-4ce8-a199-322b01eb4f7b')\"\n",
              "              title=\"Convert this dataframe to an interactive table.\"\n",
              "              style=\"display:none;\">\n",
              "        \n",
              "  <svg xmlns=\"http://www.w3.org/2000/svg\" height=\"24px\"viewBox=\"0 0 24 24\"\n",
              "       width=\"24px\">\n",
              "    <path d=\"M0 0h24v24H0V0z\" fill=\"none\"/>\n",
              "    <path d=\"M18.56 5.44l.94 2.06.94-2.06 2.06-.94-2.06-.94-.94-2.06-.94 2.06-2.06.94zm-11 1L8.5 8.5l.94-2.06 2.06-.94-2.06-.94L8.5 2.5l-.94 2.06-2.06.94zm10 10l.94 2.06.94-2.06 2.06-.94-2.06-.94-.94-2.06-.94 2.06-2.06.94z\"/><path d=\"M17.41 7.96l-1.37-1.37c-.4-.4-.92-.59-1.43-.59-.52 0-1.04.2-1.43.59L10.3 9.45l-7.72 7.72c-.78.78-.78 2.05 0 2.83L4 21.41c.39.39.9.59 1.41.59.51 0 1.02-.2 1.41-.59l7.78-7.78 2.81-2.81c.8-.78.8-2.07 0-2.86zM5.41 20L4 18.59l7.72-7.72 1.47 1.35L5.41 20z\"/>\n",
              "  </svg>\n",
              "      </button>\n",
              "      \n",
              "  <style>\n",
              "    .colab-df-container {\n",
              "      display:flex;\n",
              "      flex-wrap:wrap;\n",
              "      gap: 12px;\n",
              "    }\n",
              "\n",
              "    .colab-df-convert {\n",
              "      background-color: #E8F0FE;\n",
              "      border: none;\n",
              "      border-radius: 50%;\n",
              "      cursor: pointer;\n",
              "      display: none;\n",
              "      fill: #1967D2;\n",
              "      height: 32px;\n",
              "      padding: 0 0 0 0;\n",
              "      width: 32px;\n",
              "    }\n",
              "\n",
              "    .colab-df-convert:hover {\n",
              "      background-color: #E2EBFA;\n",
              "      box-shadow: 0px 1px 2px rgba(60, 64, 67, 0.3), 0px 1px 3px 1px rgba(60, 64, 67, 0.15);\n",
              "      fill: #174EA6;\n",
              "    }\n",
              "\n",
              "    [theme=dark] .colab-df-convert {\n",
              "      background-color: #3B4455;\n",
              "      fill: #D2E3FC;\n",
              "    }\n",
              "\n",
              "    [theme=dark] .colab-df-convert:hover {\n",
              "      background-color: #434B5C;\n",
              "      box-shadow: 0px 1px 3px 1px rgba(0, 0, 0, 0.15);\n",
              "      filter: drop-shadow(0px 1px 2px rgba(0, 0, 0, 0.3));\n",
              "      fill: #FFFFFF;\n",
              "    }\n",
              "  </style>\n",
              "\n",
              "      <script>\n",
              "        const buttonEl =\n",
              "          document.querySelector('#df-7ef78119-3939-4ce8-a199-322b01eb4f7b button.colab-df-convert');\n",
              "        buttonEl.style.display =\n",
              "          google.colab.kernel.accessAllowed ? 'block' : 'none';\n",
              "\n",
              "        async function convertToInteractive(key) {\n",
              "          const element = document.querySelector('#df-7ef78119-3939-4ce8-a199-322b01eb4f7b');\n",
              "          const dataTable =\n",
              "            await google.colab.kernel.invokeFunction('convertToInteractive',\n",
              "                                                     [key], {});\n",
              "          if (!dataTable) return;\n",
              "\n",
              "          const docLinkHtml = 'Like what you see? Visit the ' +\n",
              "            '<a target=\"_blank\" href=https://colab.research.google.com/notebooks/data_table.ipynb>data table notebook</a>'\n",
              "            + ' to learn more about interactive tables.';\n",
              "          element.innerHTML = '';\n",
              "          dataTable['output_type'] = 'display_data';\n",
              "          await google.colab.output.renderOutput(dataTable, element);\n",
              "          const docLink = document.createElement('div');\n",
              "          docLink.innerHTML = docLinkHtml;\n",
              "          element.appendChild(docLink);\n",
              "        }\n",
              "      </script>\n",
              "    </div>\n",
              "  </div>\n",
              "  "
            ]
          },
          "metadata": {},
          "execution_count": 45
        }
      ]
    },
    {
      "cell_type": "markdown",
      "source": [
        "## Tipo dos dados"
      ],
      "metadata": {
        "id": "MLrR_ve4n3gg"
      }
    },
    {
      "cell_type": "code",
      "source": [
        "df.dtypes"
      ],
      "metadata": {
        "colab": {
          "base_uri": "https://localhost:8080/"
        },
        "id": "N77x1ldEwWqc",
        "outputId": "6c592a61-298f-4af7-e610-cac75d03047e"
      },
      "execution_count": 46,
      "outputs": [
        {
          "output_type": "execute_result",
          "data": {
            "text/plain": [
              "codigo_ocorrencia                          int64\n",
              "codigo_ocorrencia1                         int64\n",
              "codigo_ocorrencia2                         int64\n",
              "codigo_ocorrencia3                         int64\n",
              "codigo_ocorrencia4                         int64\n",
              "ocorrencia_classificacao                  object\n",
              "ocorrencia_latitude                       object\n",
              "ocorrencia_longitude                      object\n",
              "ocorrencia_cidade                         object\n",
              "ocorrencia_uf                             object\n",
              "ocorrencia_pais                           object\n",
              "ocorrencia_aerodromo                      object\n",
              "ocorrencia_dia                    datetime64[ns]\n",
              "ocorrencia_hora                           object\n",
              "investigacao_aeronave_liberada            object\n",
              "investigacao_status                       object\n",
              "divulgacao_relatorio_numero               object\n",
              "divulgacao_relatorio_publicado            object\n",
              "divulgacao_dia_publicacao                 object\n",
              "total_recomendacoes                        int64\n",
              "total_aeronaves_envolvidas                 int64\n",
              "ocorrencia_saida_pista                    object\n",
              "dtype: object"
            ]
          },
          "metadata": {},
          "execution_count": 46
        }
      ]
    },
    {
      "cell_type": "markdown",
      "source": [
        "## Verificando os dados por coluna"
      ],
      "metadata": {
        "id": "ezUKl3sIoJ6p"
      }
    },
    {
      "cell_type": "markdown",
      "source": [
        "Inconsistências encontradas:\n",
        "1. Muitos dados nulos; **|>**\n",
        "2. *'***'*,'**NI'   na coluna 'ocorrencia_aerodromo' |>\n",
        "\n",
        "Solução: converter todos eles para nulo numpy **OK**"
      ],
      "metadata": {
        "id": "1Qoi178GodQQ"
      }
    },
    {
      "cell_type": "code",
      "source": [
        "#Verificando quantidade dados preenchidos\n",
        "\n",
        "df.count()"
      ],
      "metadata": {
        "colab": {
          "base_uri": "https://localhost:8080/"
        },
        "id": "GTU39P_KoLtR",
        "outputId": "e5d48d11-2190-42ca-f285-37f0294b2c70"
      },
      "execution_count": 47,
      "outputs": [
        {
          "output_type": "execute_result",
          "data": {
            "text/plain": [
              "codigo_ocorrencia                 6769\n",
              "codigo_ocorrencia1                6769\n",
              "codigo_ocorrencia2                6769\n",
              "codigo_ocorrencia3                6769\n",
              "codigo_ocorrencia4                6769\n",
              "ocorrencia_classificacao          6769\n",
              "ocorrencia_latitude               5135\n",
              "ocorrencia_longitude              5135\n",
              "ocorrencia_cidade                 6769\n",
              "ocorrencia_uf                     6769\n",
              "ocorrencia_pais                   6769\n",
              "ocorrencia_aerodromo              6769\n",
              "ocorrencia_dia                    6769\n",
              "ocorrencia_hora                   6767\n",
              "investigacao_aeronave_liberada    6531\n",
              "investigacao_status               6428\n",
              "divulgacao_relatorio_numero       5987\n",
              "divulgacao_relatorio_publicado    6769\n",
              "divulgacao_dia_publicacao         1781\n",
              "total_recomendacoes               6769\n",
              "total_aeronaves_envolvidas        6769\n",
              "ocorrencia_saida_pista            6769\n",
              "dtype: int64"
            ]
          },
          "metadata": {},
          "execution_count": 47
        }
      ]
    },
    {
      "cell_type": "code",
      "source": [
        "#verificando quantidade dados nulos\n",
        "\n",
        "df.isna().sum()"
      ],
      "metadata": {
        "colab": {
          "base_uri": "https://localhost:8080/"
        },
        "id": "J8fMB-mFoRyk",
        "outputId": "d865e574-d10a-45c9-d585-451441d30c11"
      },
      "execution_count": 48,
      "outputs": [
        {
          "output_type": "execute_result",
          "data": {
            "text/plain": [
              "codigo_ocorrencia                    0\n",
              "codigo_ocorrencia1                   0\n",
              "codigo_ocorrencia2                   0\n",
              "codigo_ocorrencia3                   0\n",
              "codigo_ocorrencia4                   0\n",
              "ocorrencia_classificacao             0\n",
              "ocorrencia_latitude               1634\n",
              "ocorrencia_longitude              1634\n",
              "ocorrencia_cidade                    0\n",
              "ocorrencia_uf                        0\n",
              "ocorrencia_pais                      0\n",
              "ocorrencia_aerodromo                 0\n",
              "ocorrencia_dia                       0\n",
              "ocorrencia_hora                      2\n",
              "investigacao_aeronave_liberada     238\n",
              "investigacao_status                341\n",
              "divulgacao_relatorio_numero        782\n",
              "divulgacao_relatorio_publicado       0\n",
              "divulgacao_dia_publicacao         4988\n",
              "total_recomendacoes                  0\n",
              "total_aeronaves_envolvidas           0\n",
              "ocorrencia_saida_pista               0\n",
              "dtype: int64"
            ]
          },
          "metadata": {},
          "execution_count": 48
        }
      ]
    },
    {
      "cell_type": "code",
      "source": [
        "#Agrupando os dados para observar inconsistências\n",
        "\n",
        "df.groupby(['ocorrencia_aerodromo'],dropna=False).size()"
      ],
      "metadata": {
        "colab": {
          "base_uri": "https://localhost:8080/"
        },
        "id": "iFshHZbMoWAc",
        "outputId": "abc0a056-3bca-4630-8f06-9ef88294df6f"
      },
      "execution_count": 49,
      "outputs": [
        {
          "output_type": "execute_result",
          "data": {
            "text/plain": [
              "ocorrencia_aerodromo\n",
              "***     2417\n",
              "**NI     201\n",
              "5JTI       1\n",
              "9PAA       3\n",
              "9PBS       1\n",
              "        ... \n",
              "SWVZ       1\n",
              "SWXQ       2\n",
              "SWXV       2\n",
              "SWYH       1\n",
              "SWYV       1\n",
              "Length: 575, dtype: int64"
            ]
          },
          "metadata": {},
          "execution_count": 49
        }
      ]
    },
    {
      "cell_type": "markdown",
      "source": [
        "# Tratamento"
      ],
      "metadata": {
        "id": "9CPLJJNgwjtO"
      }
    },
    {
      "cell_type": "markdown",
      "source": [
        "## Backup do DataFrame"
      ],
      "metadata": {
        "id": "VVGwMebuhqjm"
      }
    },
    {
      "cell_type": "code",
      "source": [
        "df_backup = df.copy()"
      ],
      "metadata": {
        "id": "JqfErNRvwmTq"
      },
      "execution_count": 50,
      "outputs": []
    },
    {
      "cell_type": "markdown",
      "source": [
        "## Renomeando colunas"
      ],
      "metadata": {
        "id": "cGXCaCUohuAE"
      }
    },
    {
      "cell_type": "code",
      "source": [
        "df.rename(columns = {\n",
        "  'codigo_ocorrencia':'ocorrencia',\n",
        "  'ocorrencia_classificacao':'classificacao',\n",
        "  'ocorrencia_cidade':'cidade',\n",
        "  'ocorrencia_uf':'uf',\n",
        "  'ocorrencia_pais':'pais',\n",
        "  'ocorrencia_aerodromo':'aerodromo',\n",
        "  'ocorrencia_dia':'dia',\n",
        "  'ocorrencia_hora':'horario',\n",
        "  'total_recomendacoes':'recomendacoes',\n",
        "  'total_aeronaves_envolvidas':'n_aeronaves',\n",
        "  'ocorrencia_saida_pista':'saida_pista'\n",
        "  },inplace=True)"
      ],
      "metadata": {
        "id": "GwSiF1F-ws8t"
      },
      "execution_count": 51,
      "outputs": []
    },
    {
      "cell_type": "markdown",
      "source": [
        "## Unindo coluna dia e hora"
      ],
      "metadata": {
        "id": "qHd07n1lh0oA"
      }
    },
    {
      "cell_type": "code",
      "source": [
        "df['dia'] = df['dia'].astype(str)\n",
        "df['data'] = pd.to_datetime((df['dia'] + ' ' + df['horario']))"
      ],
      "metadata": {
        "id": "shCFJcitxJqm"
      },
      "execution_count": 52,
      "outputs": []
    },
    {
      "cell_type": "code",
      "source": [
        "#Organizando as colunas do DataFrame\n",
        "\n",
        "df = df[['ocorrencia','classificacao','cidade','uf','pais','aerodromo','data','recomendacoes','n_aeronaves','saida_pista','codigo_ocorrencia1','codigo_ocorrencia2','codigo_ocorrencia3','codigo_ocorrencia4',\n",
        "         'ocorrencia_latitude','ocorrencia_longitude','investigacao_aeronave_liberada','investigacao_status',\n",
        "         'divulgacao_relatorio_numero','divulgacao_relatorio_publicado','divulgacao_dia_publicacao']]"
      ],
      "metadata": {
        "id": "kO6ghvgYxdk5"
      },
      "execution_count": 53,
      "outputs": []
    },
    {
      "cell_type": "markdown",
      "source": [
        "##Limpeza"
      ],
      "metadata": {
        "id": "-n5iv_0qx7Cs"
      }
    },
    {
      "cell_type": "markdown",
      "source": [
        "### Dropando colunas"
      ],
      "metadata": {
        "id": "_RwLnboBiH1L"
      }
    },
    {
      "cell_type": "markdown",
      "source": [
        "***As colunas foram dropadas pois apresentam dados duplicados de outra coluna existente ou foram descartadas pelas diretrizes do negócio passada em aula.***"
      ],
      "metadata": {
        "id": "s8oSSNaTiOz1"
      }
    },
    {
      "cell_type": "code",
      "source": [
        "df.drop(['codigo_ocorrencia1','codigo_ocorrencia2','codigo_ocorrencia3','codigo_ocorrencia4','pais'],axis=1,inplace=True)\n",
        "df.drop(['ocorrencia_latitude','ocorrencia_longitude','investigacao_aeronave_liberada','investigacao_status',\n",
        "         'divulgacao_relatorio_numero','divulgacao_relatorio_publicado','divulgacao_dia_publicacao'],axis=1,inplace=True)"
      ],
      "metadata": {
        "id": "I_Lv0T5qx4w_"
      },
      "execution_count": 54,
      "outputs": []
    },
    {
      "cell_type": "markdown",
      "source": [
        "### Dados inconsistentes "
      ],
      "metadata": {
        "id": "1UFssSI5je2j"
      }
    },
    {
      "cell_type": "code",
      "source": [
        "df.replace(['***','**NI','NaN'],np.NaN,inplace=True)"
      ],
      "metadata": {
        "id": "C9JT4yLcyY08"
      },
      "execution_count": 55,
      "outputs": []
    },
    {
      "cell_type": "markdown",
      "source": [
        "#Validação "
      ],
      "metadata": {
        "id": "m6ZUE9Chy6ki"
      }
    },
    {
      "cell_type": "code",
      "source": [
        "schema = pa.DataFrameSchema(\n",
        "    columns = {\n",
        "        'ocorrencia':pa.Column(pa.Int),\n",
        "        'classificacao':pa.Column(pa.String),\n",
        "        'cidade':pa.Column(pa.String),\n",
        "        'uf':pa.Column(pa.String,pa.Check.str_length(2,2),nullable=True),\n",
        "        'aerodromo':pa.Column(pa.String,pa.Check.str_length(4,4),nullable=True),\n",
        "        'data':pa.Column(pa.DateTime,nullable=True),\n",
        "        'recomendacoes':pa.Column(pa.Int),\n",
        "        'n_aeronaves':pa.Column(pa.Int),\n",
        "        'saida_pista':pa.Column(pa.String,pa.Check.str_length(3,3))\n",
        "}\n",
        ")"
      ],
      "metadata": {
        "id": "0W55RkDLy6B6"
      },
      "execution_count": 56,
      "outputs": []
    },
    {
      "cell_type": "code",
      "source": [
        "schema.validate(df)"
      ],
      "metadata": {
        "colab": {
          "base_uri": "https://localhost:8080/",
          "height": 424
        },
        "id": "oGaigS6TzEhq",
        "outputId": "ae9122f0-e03f-446e-fdcd-dab8356db58b"
      },
      "execution_count": 57,
      "outputs": [
        {
          "output_type": "execute_result",
          "data": {
            "text/plain": [
              "      ocorrencia    classificacao              cidade  uf aerodromo  \\\n",
              "0          81027  INCIDENTE GRAVE           SÃO PAULO  SP      SBSP   \n",
              "1          81030        INCIDENTE             VITÓRIA  ES      SBVT   \n",
              "2          81023  INCIDENTE GRAVE           AMERICANA  SP      SDAI   \n",
              "3          81029        INCIDENTE      BELO HORIZONTE  MG      SBBH   \n",
              "4          81025        INCIDENTE              MANAUS  AM      SBEG   \n",
              "...          ...              ...                 ...  ..       ...   \n",
              "6764       40324        INCIDENTE             PELOTAS  RS      SBPK   \n",
              "6765       39527         ACIDENTE  LUCAS DO RIO VERDE  MT       NaN   \n",
              "6766       40211        INCIDENTE      RIO DE JANEIRO  RJ       NaN   \n",
              "6767       40349        INCIDENTE               BELÉM  PA      SBBE   \n",
              "6768       40351        INCIDENTE      RIO DE JANEIRO  RJ      SBRJ   \n",
              "\n",
              "                    data  recomendacoes  n_aeronaves saida_pista  \n",
              "0    2022-10-09 16:30:00              0            1         SIM  \n",
              "1    2022-10-09 16:20:00              0            1         NÃO  \n",
              "2    2022-10-06 15:30:00              0            1         SIM  \n",
              "3    2022-10-06 00:44:00              0            1         NÃO  \n",
              "4    2022-10-05 20:56:00              0            1         NÃO  \n",
              "...                  ...            ...          ...         ...  \n",
              "6764 2010-01-05 19:25:00              0            1         NÃO  \n",
              "6765 2010-01-04 17:30:00              0            1         NÃO  \n",
              "6766 2010-01-03 12:00:00              0            1         NÃO  \n",
              "6767 2010-01-03 11:05:00              0            1         NÃO  \n",
              "6768 2010-01-03 03:00:00              0            1         NÃO  \n",
              "\n",
              "[6769 rows x 9 columns]"
            ],
            "text/html": [
              "\n",
              "  <div id=\"df-6ffd18f5-9b31-429d-98e9-d6d10ec421de\">\n",
              "    <div class=\"colab-df-container\">\n",
              "      <div>\n",
              "<style scoped>\n",
              "    .dataframe tbody tr th:only-of-type {\n",
              "        vertical-align: middle;\n",
              "    }\n",
              "\n",
              "    .dataframe tbody tr th {\n",
              "        vertical-align: top;\n",
              "    }\n",
              "\n",
              "    .dataframe thead th {\n",
              "        text-align: right;\n",
              "    }\n",
              "</style>\n",
              "<table border=\"1\" class=\"dataframe\">\n",
              "  <thead>\n",
              "    <tr style=\"text-align: right;\">\n",
              "      <th></th>\n",
              "      <th>ocorrencia</th>\n",
              "      <th>classificacao</th>\n",
              "      <th>cidade</th>\n",
              "      <th>uf</th>\n",
              "      <th>aerodromo</th>\n",
              "      <th>data</th>\n",
              "      <th>recomendacoes</th>\n",
              "      <th>n_aeronaves</th>\n",
              "      <th>saida_pista</th>\n",
              "    </tr>\n",
              "  </thead>\n",
              "  <tbody>\n",
              "    <tr>\n",
              "      <th>0</th>\n",
              "      <td>81027</td>\n",
              "      <td>INCIDENTE GRAVE</td>\n",
              "      <td>SÃO PAULO</td>\n",
              "      <td>SP</td>\n",
              "      <td>SBSP</td>\n",
              "      <td>2022-10-09 16:30:00</td>\n",
              "      <td>0</td>\n",
              "      <td>1</td>\n",
              "      <td>SIM</td>\n",
              "    </tr>\n",
              "    <tr>\n",
              "      <th>1</th>\n",
              "      <td>81030</td>\n",
              "      <td>INCIDENTE</td>\n",
              "      <td>VITÓRIA</td>\n",
              "      <td>ES</td>\n",
              "      <td>SBVT</td>\n",
              "      <td>2022-10-09 16:20:00</td>\n",
              "      <td>0</td>\n",
              "      <td>1</td>\n",
              "      <td>NÃO</td>\n",
              "    </tr>\n",
              "    <tr>\n",
              "      <th>2</th>\n",
              "      <td>81023</td>\n",
              "      <td>INCIDENTE GRAVE</td>\n",
              "      <td>AMERICANA</td>\n",
              "      <td>SP</td>\n",
              "      <td>SDAI</td>\n",
              "      <td>2022-10-06 15:30:00</td>\n",
              "      <td>0</td>\n",
              "      <td>1</td>\n",
              "      <td>SIM</td>\n",
              "    </tr>\n",
              "    <tr>\n",
              "      <th>3</th>\n",
              "      <td>81029</td>\n",
              "      <td>INCIDENTE</td>\n",
              "      <td>BELO HORIZONTE</td>\n",
              "      <td>MG</td>\n",
              "      <td>SBBH</td>\n",
              "      <td>2022-10-06 00:44:00</td>\n",
              "      <td>0</td>\n",
              "      <td>1</td>\n",
              "      <td>NÃO</td>\n",
              "    </tr>\n",
              "    <tr>\n",
              "      <th>4</th>\n",
              "      <td>81025</td>\n",
              "      <td>INCIDENTE</td>\n",
              "      <td>MANAUS</td>\n",
              "      <td>AM</td>\n",
              "      <td>SBEG</td>\n",
              "      <td>2022-10-05 20:56:00</td>\n",
              "      <td>0</td>\n",
              "      <td>1</td>\n",
              "      <td>NÃO</td>\n",
              "    </tr>\n",
              "    <tr>\n",
              "      <th>...</th>\n",
              "      <td>...</td>\n",
              "      <td>...</td>\n",
              "      <td>...</td>\n",
              "      <td>...</td>\n",
              "      <td>...</td>\n",
              "      <td>...</td>\n",
              "      <td>...</td>\n",
              "      <td>...</td>\n",
              "      <td>...</td>\n",
              "    </tr>\n",
              "    <tr>\n",
              "      <th>6764</th>\n",
              "      <td>40324</td>\n",
              "      <td>INCIDENTE</td>\n",
              "      <td>PELOTAS</td>\n",
              "      <td>RS</td>\n",
              "      <td>SBPK</td>\n",
              "      <td>2010-01-05 19:25:00</td>\n",
              "      <td>0</td>\n",
              "      <td>1</td>\n",
              "      <td>NÃO</td>\n",
              "    </tr>\n",
              "    <tr>\n",
              "      <th>6765</th>\n",
              "      <td>39527</td>\n",
              "      <td>ACIDENTE</td>\n",
              "      <td>LUCAS DO RIO VERDE</td>\n",
              "      <td>MT</td>\n",
              "      <td>NaN</td>\n",
              "      <td>2010-01-04 17:30:00</td>\n",
              "      <td>0</td>\n",
              "      <td>1</td>\n",
              "      <td>NÃO</td>\n",
              "    </tr>\n",
              "    <tr>\n",
              "      <th>6766</th>\n",
              "      <td>40211</td>\n",
              "      <td>INCIDENTE</td>\n",
              "      <td>RIO DE JANEIRO</td>\n",
              "      <td>RJ</td>\n",
              "      <td>NaN</td>\n",
              "      <td>2010-01-03 12:00:00</td>\n",
              "      <td>0</td>\n",
              "      <td>1</td>\n",
              "      <td>NÃO</td>\n",
              "    </tr>\n",
              "    <tr>\n",
              "      <th>6767</th>\n",
              "      <td>40349</td>\n",
              "      <td>INCIDENTE</td>\n",
              "      <td>BELÉM</td>\n",
              "      <td>PA</td>\n",
              "      <td>SBBE</td>\n",
              "      <td>2010-01-03 11:05:00</td>\n",
              "      <td>0</td>\n",
              "      <td>1</td>\n",
              "      <td>NÃO</td>\n",
              "    </tr>\n",
              "    <tr>\n",
              "      <th>6768</th>\n",
              "      <td>40351</td>\n",
              "      <td>INCIDENTE</td>\n",
              "      <td>RIO DE JANEIRO</td>\n",
              "      <td>RJ</td>\n",
              "      <td>SBRJ</td>\n",
              "      <td>2010-01-03 03:00:00</td>\n",
              "      <td>0</td>\n",
              "      <td>1</td>\n",
              "      <td>NÃO</td>\n",
              "    </tr>\n",
              "  </tbody>\n",
              "</table>\n",
              "<p>6769 rows × 9 columns</p>\n",
              "</div>\n",
              "      <button class=\"colab-df-convert\" onclick=\"convertToInteractive('df-6ffd18f5-9b31-429d-98e9-d6d10ec421de')\"\n",
              "              title=\"Convert this dataframe to an interactive table.\"\n",
              "              style=\"display:none;\">\n",
              "        \n",
              "  <svg xmlns=\"http://www.w3.org/2000/svg\" height=\"24px\"viewBox=\"0 0 24 24\"\n",
              "       width=\"24px\">\n",
              "    <path d=\"M0 0h24v24H0V0z\" fill=\"none\"/>\n",
              "    <path d=\"M18.56 5.44l.94 2.06.94-2.06 2.06-.94-2.06-.94-.94-2.06-.94 2.06-2.06.94zm-11 1L8.5 8.5l.94-2.06 2.06-.94-2.06-.94L8.5 2.5l-.94 2.06-2.06.94zm10 10l.94 2.06.94-2.06 2.06-.94-2.06-.94-.94-2.06-.94 2.06-2.06.94z\"/><path d=\"M17.41 7.96l-1.37-1.37c-.4-.4-.92-.59-1.43-.59-.52 0-1.04.2-1.43.59L10.3 9.45l-7.72 7.72c-.78.78-.78 2.05 0 2.83L4 21.41c.39.39.9.59 1.41.59.51 0 1.02-.2 1.41-.59l7.78-7.78 2.81-2.81c.8-.78.8-2.07 0-2.86zM5.41 20L4 18.59l7.72-7.72 1.47 1.35L5.41 20z\"/>\n",
              "  </svg>\n",
              "      </button>\n",
              "      \n",
              "  <style>\n",
              "    .colab-df-container {\n",
              "      display:flex;\n",
              "      flex-wrap:wrap;\n",
              "      gap: 12px;\n",
              "    }\n",
              "\n",
              "    .colab-df-convert {\n",
              "      background-color: #E8F0FE;\n",
              "      border: none;\n",
              "      border-radius: 50%;\n",
              "      cursor: pointer;\n",
              "      display: none;\n",
              "      fill: #1967D2;\n",
              "      height: 32px;\n",
              "      padding: 0 0 0 0;\n",
              "      width: 32px;\n",
              "    }\n",
              "\n",
              "    .colab-df-convert:hover {\n",
              "      background-color: #E2EBFA;\n",
              "      box-shadow: 0px 1px 2px rgba(60, 64, 67, 0.3), 0px 1px 3px 1px rgba(60, 64, 67, 0.15);\n",
              "      fill: #174EA6;\n",
              "    }\n",
              "\n",
              "    [theme=dark] .colab-df-convert {\n",
              "      background-color: #3B4455;\n",
              "      fill: #D2E3FC;\n",
              "    }\n",
              "\n",
              "    [theme=dark] .colab-df-convert:hover {\n",
              "      background-color: #434B5C;\n",
              "      box-shadow: 0px 1px 3px 1px rgba(0, 0, 0, 0.15);\n",
              "      filter: drop-shadow(0px 1px 2px rgba(0, 0, 0, 0.3));\n",
              "      fill: #FFFFFF;\n",
              "    }\n",
              "  </style>\n",
              "\n",
              "      <script>\n",
              "        const buttonEl =\n",
              "          document.querySelector('#df-6ffd18f5-9b31-429d-98e9-d6d10ec421de button.colab-df-convert');\n",
              "        buttonEl.style.display =\n",
              "          google.colab.kernel.accessAllowed ? 'block' : 'none';\n",
              "\n",
              "        async function convertToInteractive(key) {\n",
              "          const element = document.querySelector('#df-6ffd18f5-9b31-429d-98e9-d6d10ec421de');\n",
              "          const dataTable =\n",
              "            await google.colab.kernel.invokeFunction('convertToInteractive',\n",
              "                                                     [key], {});\n",
              "          if (!dataTable) return;\n",
              "\n",
              "          const docLinkHtml = 'Like what you see? Visit the ' +\n",
              "            '<a target=\"_blank\" href=https://colab.research.google.com/notebooks/data_table.ipynb>data table notebook</a>'\n",
              "            + ' to learn more about interactive tables.';\n",
              "          element.innerHTML = '';\n",
              "          dataTable['output_type'] = 'display_data';\n",
              "          await google.colab.output.renderOutput(dataTable, element);\n",
              "          const docLink = document.createElement('div');\n",
              "          docLink.innerHTML = docLinkHtml;\n",
              "          element.appendChild(docLink);\n",
              "        }\n",
              "      </script>\n",
              "    </div>\n",
              "  </div>\n",
              "  "
            ]
          },
          "metadata": {},
          "execution_count": 57
        }
      ]
    },
    {
      "cell_type": "markdown",
      "source": [
        "#Carregamento para csv "
      ],
      "metadata": {
        "id": "9mhoswAqzPXV"
      }
    },
    {
      "cell_type": "code",
      "source": [
        "df.to_csv('cenipa_final.csv',index=False)"
      ],
      "metadata": {
        "id": "Zf-JQ2YBzRc4"
      },
      "execution_count": 58,
      "outputs": []
    },
    {
      "cell_type": "markdown",
      "source": [
        "# Análise introdutória\n",
        "\n",
        "***Para treinar:***\n",
        "\n",
        "-Filtros\n",
        "\n",
        "-GroupBY\n",
        "\n",
        "-Plot (ter um insight do que está sendo passsado de dados)"
      ],
      "metadata": {
        "id": "atMl1OQlzfRu"
      }
    },
    {
      "cell_type": "code",
      "source": [
        "# Quantos acidentes e incidentes ocorreram no ano de 2021 em Sao Paulo\n",
        "\n",
        "filtro_uf = df.uf == 'SP'\n",
        "filtro_ano = df.data.dt.year == 2021\n",
        "filtro_class = df.classificacao.isin(['ACIDENTE','INCIDENTE']) \n",
        "df_sp = df.loc[filtro_uf & filtro_ano & filtro_class]\n",
        "df_sp['classificacao'].count()"
      ],
      "metadata": {
        "colab": {
          "base_uri": "https://localhost:8080/"
        },
        "id": "b8taEIdAzygK",
        "outputId": "8742c860-c0c4-4224-936a-01c125354656"
      },
      "execution_count": 59,
      "outputs": [
        {
          "output_type": "execute_result",
          "data": {
            "text/plain": [
              "125"
            ]
          },
          "metadata": {},
          "execution_count": 59
        }
      ]
    },
    {
      "cell_type": "code",
      "source": [
        "df_sp.groupby(['classificacao']).size().sort_values(ascending=False).plot.bar(figsize=(12,8),xlabel='Classificação',ylabel='Quantidade')"
      ],
      "metadata": {
        "colab": {
          "base_uri": "https://localhost:8080/",
          "height": 558
        },
        "id": "kFE7zVvg0KVd",
        "outputId": "cdb85783-7004-4ca5-842e-1b18127c9abf"
      },
      "execution_count": 60,
      "outputs": [
        {
          "output_type": "execute_result",
          "data": {
            "text/plain": [
              "<matplotlib.axes._subplots.AxesSubplot at 0x7f4cc3042340>"
            ]
          },
          "metadata": {},
          "execution_count": 60
        },
        {
          "output_type": "display_data",
          "data": {
            "text/plain": [
              "<Figure size 864x576 with 1 Axes>"
            ],
            "image/png": "[encoded data removed]"
          },
          "metadata": {
            "needs_background": "light"
          }
        }
      ]
    }
  ]
}