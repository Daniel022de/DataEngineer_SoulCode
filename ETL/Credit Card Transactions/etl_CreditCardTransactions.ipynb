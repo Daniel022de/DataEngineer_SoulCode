{
  "nbformat": 4,
  "nbformat_minor": 0,
  "metadata": {
    "colab": {
      "provenance": [],
      "authorship_tag": "ABX9TyMAffriXbk5gzw9xddA45TP",
      "include_colab_link": true
    },
    "kernelspec": {
      "name": "python3",
      "display_name": "Python 3"
    },
    "language_info": {
      "name": "python"
    }
  },
  "cells": [
    {
      "cell_type": "markdown",
      "metadata": {
        "id": "view-in-github",
        "colab_type": "text"
      },
      "source": [
        "<a href=\"https://colab.research.google.com/github/Daniel022de/DataEnginner_SoulCode/blob/main/ETL/Credit%20Card%20Transactions/etl_CreditCardTransactions.ipynb\" target=\"_parent\"><img src=\"https://colab.research.google.com/assets/colab-badge.svg\" alt=\"Open In Colab\"/></a>"
      ]
    },
    {
      "cell_type": "markdown",
      "source": [
        "#📗 **ETL Credit Card Transactions**\n",
        "\n",
        "Esse Notebook é referente a implementação de um processo ETL aplicado a um dataset público disponível no [kaggle.com](https://www.kaggle.com/datasets/thedevastator/analyzing-credit-card-spending-habits-in-india?resource=download) e carregado no meu Google Cloud Storage privado.\n",
        "\n",
        "\n",
        "\n",
        "! **Você pode encontrar esse notebook no meu repositório** [GitHub](https://github.com/Daniel022de/Bootcamp_SoulCode_EngenhariaDados)\n",
        "\n",
        "! **Você pode entrar em contato comigo através do meu email** ddololiveira.pessoal@gmail.com **e** [Linkedin](https://www.linkedin.com/in/daniel-oliveira-503b0323b/).\n",
        "\n",
        "! **Toda dúvida,recomendações e feedbacks serão bem-vindas.**\n",
        "\n"
      ],
      "metadata": {
        "id": "JLwkvmTtbSdK"
      }
    },
    {
      "cell_type": "markdown",
      "source": [
        "#▶ 1 Instalação"
      ],
      "metadata": {
        "id": "xLSpjLu4byGS"
      }
    },
    {
      "cell_type": "code",
      "source": [
        "#Instalando gcsfs para conexao ao Google Cloud Storage\n",
        "!pip install gcsfs"
      ],
      "metadata": {
        "id": "JO6oLQD2b9ff"
      },
      "execution_count": null,
      "outputs": []
    },
    {
      "cell_type": "code",
      "execution_count": null,
      "metadata": {
        "id": "2h5fDg58ajtT"
      },
      "outputs": [],
      "source": [
        "#Instalação PySpark\n",
        "!pip install pyspark"
      ]
    },
    {
      "cell_type": "code",
      "source": [
        "#Instalação pandera\n",
        "!pip install pandera"
      ],
      "metadata": {
        "id": "Da7gVFlL6-Jb"
      },
      "execution_count": null,
      "outputs": []
    },
    {
      "cell_type": "markdown",
      "source": [
        "#▶ 2 Importando bibliotecas"
      ],
      "metadata": {
        "id": "JbwyTPXTcbsC"
      }
    },
    {
      "cell_type": "code",
      "source": [
        "import pandas as pd\n",
        "import os\n",
        "import pyspark.sql.functions as F\n",
        "import pandera as pa\n",
        "from pyspark.sql.types import *\n",
        "from pyspark.sql import SparkSession\n",
        "from google.cloud import storage\n",
        "from google.colab import drive\n",
        "from datetime import datetime\n",
        "from pyspark.sql.functions import col, udf\n",
        "from pyspark.sql.types import DateType"
      ],
      "metadata": {
        "id": "A6SKn2Jbcgeu"
      },
      "execution_count": 116,
      "outputs": []
    },
    {
      "cell_type": "markdown",
      "source": [
        "#▶ 3  Conexão ao Google Drive"
      ],
      "metadata": {
        "id": "Pxs8cLakdBHP"
      }
    },
    {
      "cell_type": "markdown",
      "source": [
        "**Conexão utilizada para ter acesso a chave de acesso ao Google Cloud Storage**"
      ],
      "metadata": {
        "id": "fQV8HeNxdEZT"
      }
    },
    {
      "cell_type": "code",
      "source": [
        "from google.colab import drive\n",
        "drive.mount('/content/drive')"
      ],
      "metadata": {
        "id": "7VoqTPeYdEB6"
      },
      "execution_count": null,
      "outputs": []
    },
    {
      "cell_type": "markdown",
      "source": [
        "#▶ 4 Conexão Storage GCP"
      ],
      "metadata": {
        "id": "S3cBd97pc2Uo"
      }
    },
    {
      "cell_type": "markdown",
      "source": [
        "**Conexão feita com a finalidade de extração do DataSet.**"
      ],
      "metadata": {
        "id": "xYfaO_3LebZt"
      }
    },
    {
      "cell_type": "code",
      "source": [
        "ServiceAccount = '/content/drive/MyDrive/ACESSO A GCP/bc26-aulas-ae110e89e3a6.json'\n",
        "os.environ['GOOGLE_APPLICATION_CREDENTIALS'] = ServiceAccount"
      ],
      "metadata": {
        "id": "1Hh48Em6c53o"
      },
      "execution_count": 118,
      "outputs": []
    },
    {
      "cell_type": "markdown",
      "source": [
        "#▶ 5 Extração do DataSet"
      ],
      "metadata": {
        "id": "cOdTmNk1enCM"
      }
    },
    {
      "cell_type": "code",
      "source": [
        "storage.Client().get_bucket('ed7-datasets').blob('Credit card transactions - India - Simple.csv')\n",
        "path='gs://ed7-datasets/brutos/Credit card transactions - India - Simple.csv'"
      ],
      "metadata": {
        "id": "XkN0DTvde2PG"
      },
      "execution_count": 119,
      "outputs": []
    },
    {
      "cell_type": "markdown",
      "source": [
        "#▶ 6 Carregando - DataFrame - Pandas"
      ],
      "metadata": {
        "id": "KNQK41xSfeDX"
      }
    },
    {
      "cell_type": "code",
      "source": [
        "df = pd.read_csv(path)"
      ],
      "metadata": {
        "id": "d4_SBUBJfjmb"
      },
      "execution_count": 120,
      "outputs": []
    },
    {
      "cell_type": "markdown",
      "source": [
        "#▶ 7  Pré-análise do DataFrame"
      ],
      "metadata": {
        "id": "HaWA-iOpnpLL"
      }
    },
    {
      "cell_type": "markdown",
      "source": [
        "**Sobre o DataFrame**:\n",
        "\n",
        "Este DataFrame contém informações sobre transações de cartão de crédito feitas na Índia, **oferecendo uma visão abrangente dos hábitos de consumo dos indianos em todo o país**.\n",
        "\n",
        "**Colunas:**\n",
        "\n",
        "* City:  A cidade em que a transação ocorreu (String)\n",
        "\n",
        "* Date:  A data da transação. (Date)\n",
        "\n",
        "* Card Type: o tipo de cartão de crédito usado para a transação. (String)\n",
        "\n",
        "* Exp Type: O tipo de despesa associada à transação. (String)\n",
        "\n",
        "* Gender: o sexo do titular do cartão. (String)\n",
        "\n",
        "* Amount: o valor da transação. (Number)\n",
        "\n",
        "\n",
        "Fonte das informações [aqui.](https://www.kaggle.com/datasets/thedevastator/analyzing-credit-card-spending-habits-in-india?resource=download)"
      ],
      "metadata": {
        "id": "eO47WbvFnupO"
      }
    },
    {
      "cell_type": "markdown",
      "source": [
        "**LIMPEZAS | TRANSFORMAÇÕES | TRATAMENTOS**\n",
        "\n",
        "1. Dropar coluna 'index'\n",
        "2. Traduzir Dados\n",
        " "
      ],
      "metadata": {
        "id": "oPhnVHmjpSDk"
      }
    },
    {
      "cell_type": "code",
      "source": [
        "#Visualização geral do DataFrame\n",
        "df"
      ],
      "metadata": {
        "id": "PaUkFSO2nuBn",
        "colab": {
          "base_uri": "https://localhost:8080/",
          "height": 424
        },
        "outputId": "9150352d-22da-4826-c7c0-8ab090419eed"
      },
      "execution_count": 121,
      "outputs": [
        {
          "output_type": "execute_result",
          "data": {
            "text/plain": [
              "       index                   City       Date  Card Type Exp Type Gender  \\\n",
              "0          0           Delhi, India  29-Oct-14       Gold    Bills      F   \n",
              "1          1  Greater Mumbai, India  22-Aug-14   Platinum    Bills      F   \n",
              "2          2       Bengaluru, India  27-Aug-14     Silver    Bills      F   \n",
              "3          3  Greater Mumbai, India  12-Apr-14  Signature    Bills      F   \n",
              "4          4       Bengaluru, India   5-May-15       Gold    Bills      F   \n",
              "...      ...                    ...        ...        ...      ...    ...   \n",
              "26047  26047         Kolkata, India  22-Jun-14     Silver   Travel      F   \n",
              "26048  26048            Pune, India   3-Aug-14  Signature   Travel      M   \n",
              "26049  26049       Hyderabad, India  16-Jan-15     Silver   Travel      M   \n",
              "26050  26050          Kanpur, India  14-Sep-14     Silver   Travel      M   \n",
              "26051  26051       Hyderabad, India  19-Oct-13  Signature    Bills      M   \n",
              "\n",
              "       Amount  \n",
              "0       82475  \n",
              "1       32555  \n",
              "2      101738  \n",
              "3      123424  \n",
              "4      171574  \n",
              "...       ...  \n",
              "26047  128191  \n",
              "26048  246316  \n",
              "26049  265019  \n",
              "26050   88174  \n",
              "26051  184410  \n",
              "\n",
              "[26052 rows x 7 columns]"
            ],
            "text/html": [
              "\n",
              "  <div id=\"df-4fe54924-36d0-4dc7-87a8-10108584a70c\">\n",
              "    <div class=\"colab-df-container\">\n",
              "      <div>\n",
              "<style scoped>\n",
              "    .dataframe tbody tr th:only-of-type {\n",
              "        vertical-align: middle;\n",
              "    }\n",
              "\n",
              "    .dataframe tbody tr th {\n",
              "        vertical-align: top;\n",
              "    }\n",
              "\n",
              "    .dataframe thead th {\n",
              "        text-align: right;\n",
              "    }\n",
              "</style>\n",
              "<table border=\"1\" class=\"dataframe\">\n",
              "  <thead>\n",
              "    <tr style=\"text-align: right;\">\n",
              "      <th></th>\n",
              "      <th>index</th>\n",
              "      <th>City</th>\n",
              "      <th>Date</th>\n",
              "      <th>Card Type</th>\n",
              "      <th>Exp Type</th>\n",
              "      <th>Gender</th>\n",
              "      <th>Amount</th>\n",
              "    </tr>\n",
              "  </thead>\n",
              "  <tbody>\n",
              "    <tr>\n",
              "      <th>0</th>\n",
              "      <td>0</td>\n",
              "      <td>Delhi, India</td>\n",
              "      <td>29-Oct-14</td>\n",
              "      <td>Gold</td>\n",
              "      <td>Bills</td>\n",
              "      <td>F</td>\n",
              "      <td>82475</td>\n",
              "    </tr>\n",
              "    <tr>\n",
              "      <th>1</th>\n",
              "      <td>1</td>\n",
              "      <td>Greater Mumbai, India</td>\n",
              "      <td>22-Aug-14</td>\n",
              "      <td>Platinum</td>\n",
              "      <td>Bills</td>\n",
              "      <td>F</td>\n",
              "      <td>32555</td>\n",
              "    </tr>\n",
              "    <tr>\n",
              "      <th>2</th>\n",
              "      <td>2</td>\n",
              "      <td>Bengaluru, India</td>\n",
              "      <td>27-Aug-14</td>\n",
              "      <td>Silver</td>\n",
              "      <td>Bills</td>\n",
              "      <td>F</td>\n",
              "      <td>101738</td>\n",
              "    </tr>\n",
              "    <tr>\n",
              "      <th>3</th>\n",
              "      <td>3</td>\n",
              "      <td>Greater Mumbai, India</td>\n",
              "      <td>12-Apr-14</td>\n",
              "      <td>Signature</td>\n",
              "      <td>Bills</td>\n",
              "      <td>F</td>\n",
              "      <td>123424</td>\n",
              "    </tr>\n",
              "    <tr>\n",
              "      <th>4</th>\n",
              "      <td>4</td>\n",
              "      <td>Bengaluru, India</td>\n",
              "      <td>5-May-15</td>\n",
              "      <td>Gold</td>\n",
              "      <td>Bills</td>\n",
              "      <td>F</td>\n",
              "      <td>171574</td>\n",
              "    </tr>\n",
              "    <tr>\n",
              "      <th>...</th>\n",
              "      <td>...</td>\n",
              "      <td>...</td>\n",
              "      <td>...</td>\n",
              "      <td>...</td>\n",
              "      <td>...</td>\n",
              "      <td>...</td>\n",
              "      <td>...</td>\n",
              "    </tr>\n",
              "    <tr>\n",
              "      <th>26047</th>\n",
              "      <td>26047</td>\n",
              "      <td>Kolkata, India</td>\n",
              "      <td>22-Jun-14</td>\n",
              "      <td>Silver</td>\n",
              "      <td>Travel</td>\n",
              "      <td>F</td>\n",
              "      <td>128191</td>\n",
              "    </tr>\n",
              "    <tr>\n",
              "      <th>26048</th>\n",
              "      <td>26048</td>\n",
              "      <td>Pune, India</td>\n",
              "      <td>3-Aug-14</td>\n",
              "      <td>Signature</td>\n",
              "      <td>Travel</td>\n",
              "      <td>M</td>\n",
              "      <td>246316</td>\n",
              "    </tr>\n",
              "    <tr>\n",
              "      <th>26049</th>\n",
              "      <td>26049</td>\n",
              "      <td>Hyderabad, India</td>\n",
              "      <td>16-Jan-15</td>\n",
              "      <td>Silver</td>\n",
              "      <td>Travel</td>\n",
              "      <td>M</td>\n",
              "      <td>265019</td>\n",
              "    </tr>\n",
              "    <tr>\n",
              "      <th>26050</th>\n",
              "      <td>26050</td>\n",
              "      <td>Kanpur, India</td>\n",
              "      <td>14-Sep-14</td>\n",
              "      <td>Silver</td>\n",
              "      <td>Travel</td>\n",
              "      <td>M</td>\n",
              "      <td>88174</td>\n",
              "    </tr>\n",
              "    <tr>\n",
              "      <th>26051</th>\n",
              "      <td>26051</td>\n",
              "      <td>Hyderabad, India</td>\n",
              "      <td>19-Oct-13</td>\n",
              "      <td>Signature</td>\n",
              "      <td>Bills</td>\n",
              "      <td>M</td>\n",
              "      <td>184410</td>\n",
              "    </tr>\n",
              "  </tbody>\n",
              "</table>\n",
              "<p>26052 rows × 7 columns</p>\n",
              "</div>\n",
              "      <button class=\"colab-df-convert\" onclick=\"convertToInteractive('df-4fe54924-36d0-4dc7-87a8-10108584a70c')\"\n",
              "              title=\"Convert this dataframe to an interactive table.\"\n",
              "              style=\"display:none;\">\n",
              "        \n",
              "  <svg xmlns=\"http://www.w3.org/2000/svg\" height=\"24px\"viewBox=\"0 0 24 24\"\n",
              "       width=\"24px\">\n",
              "    <path d=\"M0 0h24v24H0V0z\" fill=\"none\"/>\n",
              "    <path d=\"M18.56 5.44l.94 2.06.94-2.06 2.06-.94-2.06-.94-.94-2.06-.94 2.06-2.06.94zm-11 1L8.5 8.5l.94-2.06 2.06-.94-2.06-.94L8.5 2.5l-.94 2.06-2.06.94zm10 10l.94 2.06.94-2.06 2.06-.94-2.06-.94-.94-2.06-.94 2.06-2.06.94z\"/><path d=\"M17.41 7.96l-1.37-1.37c-.4-.4-.92-.59-1.43-.59-.52 0-1.04.2-1.43.59L10.3 9.45l-7.72 7.72c-.78.78-.78 2.05 0 2.83L4 21.41c.39.39.9.59 1.41.59.51 0 1.02-.2 1.41-.59l7.78-7.78 2.81-2.81c.8-.78.8-2.07 0-2.86zM5.41 20L4 18.59l7.72-7.72 1.47 1.35L5.41 20z\"/>\n",
              "  </svg>\n",
              "      </button>\n",
              "      \n",
              "  <style>\n",
              "    .colab-df-container {\n",
              "      display:flex;\n",
              "      flex-wrap:wrap;\n",
              "      gap: 12px;\n",
              "    }\n",
              "\n",
              "    .colab-df-convert {\n",
              "      background-color: #E8F0FE;\n",
              "      border: none;\n",
              "      border-radius: 50%;\n",
              "      cursor: pointer;\n",
              "      display: none;\n",
              "      fill: #1967D2;\n",
              "      height: 32px;\n",
              "      padding: 0 0 0 0;\n",
              "      width: 32px;\n",
              "    }\n",
              "\n",
              "    .colab-df-convert:hover {\n",
              "      background-color: #E2EBFA;\n",
              "      box-shadow: 0px 1px 2px rgba(60, 64, 67, 0.3), 0px 1px 3px 1px rgba(60, 64, 67, 0.15);\n",
              "      fill: #174EA6;\n",
              "    }\n",
              "\n",
              "    [theme=dark] .colab-df-convert {\n",
              "      background-color: #3B4455;\n",
              "      fill: #D2E3FC;\n",
              "    }\n",
              "\n",
              "    [theme=dark] .colab-df-convert:hover {\n",
              "      background-color: #434B5C;\n",
              "      box-shadow: 0px 1px 3px 1px rgba(0, 0, 0, 0.15);\n",
              "      filter: drop-shadow(0px 1px 2px rgba(0, 0, 0, 0.3));\n",
              "      fill: #FFFFFF;\n",
              "    }\n",
              "  </style>\n",
              "\n",
              "      <script>\n",
              "        const buttonEl =\n",
              "          document.querySelector('#df-4fe54924-36d0-4dc7-87a8-10108584a70c button.colab-df-convert');\n",
              "        buttonEl.style.display =\n",
              "          google.colab.kernel.accessAllowed ? 'block' : 'none';\n",
              "\n",
              "        async function convertToInteractive(key) {\n",
              "          const element = document.querySelector('#df-4fe54924-36d0-4dc7-87a8-10108584a70c');\n",
              "          const dataTable =\n",
              "            await google.colab.kernel.invokeFunction('convertToInteractive',\n",
              "                                                     [key], {});\n",
              "          if (!dataTable) return;\n",
              "\n",
              "          const docLinkHtml = 'Like what you see? Visit the ' +\n",
              "            '<a target=\"_blank\" href=https://colab.research.google.com/notebooks/data_table.ipynb>data table notebook</a>'\n",
              "            + ' to learn more about interactive tables.';\n",
              "          element.innerHTML = '';\n",
              "          dataTable['output_type'] = 'display_data';\n",
              "          await google.colab.output.renderOutput(dataTable, element);\n",
              "          const docLink = document.createElement('div');\n",
              "          docLink.innerHTML = docLinkHtml;\n",
              "          element.appendChild(docLink);\n",
              "        }\n",
              "      </script>\n",
              "    </div>\n",
              "  </div>\n",
              "  "
            ]
          },
          "metadata": {},
          "execution_count": 121
        }
      ]
    },
    {
      "cell_type": "markdown",
      "source": [
        "##◼ 7.1 Verificando Dados"
      ],
      "metadata": {
        "id": "wRKTq9L-0nar"
      }
    },
    {
      "cell_type": "code",
      "source": [
        "#Verificando dados nulos\n",
        "\n",
        "df.isnull().sum()"
      ],
      "metadata": {
        "colab": {
          "base_uri": "https://localhost:8080/"
        },
        "id": "J-My9WZy01ju",
        "outputId": "b3ccc37e-b9fe-47c5-b84d-a1e57bf289da"
      },
      "execution_count": 122,
      "outputs": [
        {
          "output_type": "execute_result",
          "data": {
            "text/plain": [
              "index        0\n",
              "City         0\n",
              "Date         0\n",
              "Card Type    0\n",
              "Exp Type     0\n",
              "Gender       0\n",
              "Amount       0\n",
              "dtype: int64"
            ]
          },
          "metadata": {},
          "execution_count": 122
        }
      ]
    },
    {
      "cell_type": "code",
      "source": [
        "#Verificando dados duplicados\n",
        "\n",
        "df.duplicated().sum()"
      ],
      "metadata": {
        "colab": {
          "base_uri": "https://localhost:8080/"
        },
        "id": "W-LTEDFu0rlQ",
        "outputId": "051467eb-3a65-4a5f-817b-3f0b8de24a47"
      },
      "execution_count": 123,
      "outputs": [
        {
          "output_type": "execute_result",
          "data": {
            "text/plain": [
              "0"
            ]
          },
          "metadata": {},
          "execution_count": 123
        }
      ]
    },
    {
      "cell_type": "markdown",
      "source": [
        "## ◼  7.2 Tipo dos dados"
      ],
      "metadata": {
        "id": "mP-HVKvYpHzE"
      }
    },
    {
      "cell_type": "markdown",
      "source": [
        "**LIMPEZAS | TRANSFORMAÇÕES | TRATAMENTOS**\n",
        "\n",
        "3. Converter coluna de datas para Date"
      ],
      "metadata": {
        "id": "1UL4l6B4pjM9"
      }
    },
    {
      "cell_type": "code",
      "source": [
        "df.dtypes"
      ],
      "metadata": {
        "colab": {
          "base_uri": "https://localhost:8080/"
        },
        "id": "9S0nWkIbpNoo",
        "outputId": "46fdf74c-cf38-4c66-9747-a25278bc689e"
      },
      "execution_count": 124,
      "outputs": [
        {
          "output_type": "execute_result",
          "data": {
            "text/plain": [
              "index         int64\n",
              "City         object\n",
              "Date         object\n",
              "Card Type    object\n",
              "Exp Type     object\n",
              "Gender       object\n",
              "Amount        int64\n",
              "dtype: object"
            ]
          },
          "metadata": {},
          "execution_count": 124
        }
      ]
    },
    {
      "cell_type": "markdown",
      "source": [
        "##◼ 7.3  Analisando Colunas"
      ],
      "metadata": {
        "id": "g03KlyNXp3Te"
      }
    },
    {
      "cell_type": "code",
      "source": [
        "df.groupby(['Date'],dropna=False).size().sort_values()"
      ],
      "metadata": {
        "colab": {
          "base_uri": "https://localhost:8080/"
        },
        "id": "MUZoSSAnp9Pw",
        "outputId": "0d765720-76e3-403d-df3b-e7968ac70776"
      },
      "execution_count": 125,
      "outputs": [
        {
          "output_type": "execute_result",
          "data": {
            "text/plain": [
              "Date\n",
              "11-Apr-15    23\n",
              "30-Jul-14    24\n",
              "28-Feb-14    25\n",
              "9-May-14     26\n",
              "29-Aug-14    27\n",
              "             ..\n",
              "12-Jan-15    60\n",
              "15-Nov-14    61\n",
              "11-Aug-14    61\n",
              "21-Dec-13    61\n",
              "20-Sep-14    65\n",
              "Length: 600, dtype: int64"
            ]
          },
          "metadata": {},
          "execution_count": 125
        }
      ]
    },
    {
      "cell_type": "markdown",
      "source": [
        "#▶ 8 Tratamento | Limpeza Pandas"
      ],
      "metadata": {
        "id": "cQYeudvRc-MZ"
      }
    },
    {
      "cell_type": "markdown",
      "source": [
        "## ◼  8.1  backup"
      ],
      "metadata": {
        "id": "Ttojw9lOdMmo"
      }
    },
    {
      "cell_type": "code",
      "source": [
        "df_backup = df.copy()"
      ],
      "metadata": {
        "id": "pGTgRP0JdPJS"
      },
      "execution_count": 126,
      "outputs": []
    },
    {
      "cell_type": "markdown",
      "source": [
        "## ◼  8.2 Dropando coluna"
      ],
      "metadata": {
        "id": "1qRwCCYMdHW8"
      }
    },
    {
      "cell_type": "markdown",
      "source": [
        "**A coluna index é desnecessário e redundante com os labels do dataframe.**"
      ],
      "metadata": {
        "id": "b2d4G935ePk0"
      }
    },
    {
      "cell_type": "code",
      "source": [
        "df.drop(['index'],axis=1,inplace=True)"
      ],
      "metadata": {
        "id": "icQmQBCtdEK7"
      },
      "execution_count": 127,
      "outputs": []
    },
    {
      "cell_type": "markdown",
      "source": [
        "##◼  8.3  Traduzindo dados"
      ],
      "metadata": {
        "id": "DCalxvaVelB2"
      }
    },
    {
      "cell_type": "code",
      "source": [
        "#Traduzindo colunas\n",
        "\n",
        "df.rename(\n",
        "    columns = {\n",
        "        'City':'cidade_transacao',\n",
        "        'Date':'data_transacao',\n",
        "        'Card Type':'tipo_cartao',\n",
        "        'Exp Type':'tipo_despesa',\n",
        "        'Gender':'sexo_titular',\n",
        "        'Amount':'valor_transacao'\n",
        "\n",
        "    },inplace=True\n",
        ")"
      ],
      "metadata": {
        "id": "cWcWor0HercN"
      },
      "execution_count": 128,
      "outputs": []
    },
    {
      "cell_type": "code",
      "source": [
        "#Traduzindo dados das colunas\n",
        "\n",
        "df['tipo_despesa'].replace(['Travel','Grocery','Entertainment','Bills','Fuel','Food'],['Viagem','Supermercado','Entretenimento','Contas','Combustível','Comida'],inplace=True)"
      ],
      "metadata": {
        "id": "yxiE_Qlmft8N"
      },
      "execution_count": 129,
      "outputs": []
    },
    {
      "cell_type": "code",
      "source": [
        "df['sexo_titular'].replace(['F','M'],['Feminino','Masculino'],inplace=True)"
      ],
      "metadata": {
        "id": "7MV09Wt-wb8a"
      },
      "execution_count": 130,
      "outputs": []
    },
    {
      "cell_type": "markdown",
      "source": [
        "#▶ 9 Tratamento | Limpeza Pyspark"
      ],
      "metadata": {
        "id": "pw03xqMsg8cW"
      }
    },
    {
      "cell_type": "markdown",
      "source": [
        "##◼ 9.1 SparkSession - PySpark"
      ],
      "metadata": {
        "id": "31ODtESIibgW"
      }
    },
    {
      "cell_type": "code",
      "source": [
        "spark =  (\n",
        "    SparkSession.builder\n",
        "                .master('local')\n",
        "                .appName('gcsfs')\n",
        "                .config('spark.ui.port', '4050')\n",
        "                .config(\"spark.jars\", 'https://storage.googleapis.com/hadoop-lib/gcs/gcs-connector-hadoop2-latest.jar')\n",
        "                .getOrCreate()\n",
        ")"
      ],
      "metadata": {
        "id": "ptfL8UKjibN3"
      },
      "execution_count": 131,
      "outputs": []
    },
    {
      "cell_type": "markdown",
      "source": [
        "## ◼ 9.2  DataFrame Pandas > DataFrame Pyspark"
      ],
      "metadata": {
        "id": "Ds2HsQJ_hWTK"
      }
    },
    {
      "cell_type": "code",
      "source": [
        "df_pyspark = spark.createDataFrame(df)"
      ],
      "metadata": {
        "id": "YY59Q9_bhFdE"
      },
      "execution_count": 132,
      "outputs": []
    },
    {
      "cell_type": "code",
      "source": [
        "df_pyspark.show(truncate=False)"
      ],
      "metadata": {
        "colab": {
          "base_uri": "https://localhost:8080/"
        },
        "id": "YZc3jUGohlJN",
        "outputId": "88243b84-9ca1-484a-a746-20e418a2f399"
      },
      "execution_count": 133,
      "outputs": [
        {
          "output_type": "stream",
          "name": "stdout",
          "text": [
            "+---------------------+--------------+-----------+------------+------------+---------------+\n",
            "|cidade_transacao     |data_transacao|tipo_cartao|tipo_despesa|sexo_titular|valor_transacao|\n",
            "+---------------------+--------------+-----------+------------+------------+---------------+\n",
            "|Delhi, India         |29-Oct-14     |Gold       |Contas      |Feminino    |82475          |\n",
            "|Greater Mumbai, India|22-Aug-14     |Platinum   |Contas      |Feminino    |32555          |\n",
            "|Bengaluru, India     |27-Aug-14     |Silver     |Contas      |Feminino    |101738         |\n",
            "|Greater Mumbai, India|12-Apr-14     |Signature  |Contas      |Feminino    |123424         |\n",
            "|Bengaluru, India     |5-May-15      |Gold       |Contas      |Feminino    |171574         |\n",
            "|Delhi, India         |8-Sep-14      |Silver     |Contas      |Feminino    |100036         |\n",
            "|Delhi, India         |24-Feb-15     |Gold       |Contas      |Feminino    |143250         |\n",
            "|Greater Mumbai, India|26-Jun-14     |Platinum   |Contas      |Feminino    |150980         |\n",
            "|Delhi, India         |28-Mar-14     |Silver     |Contas      |Feminino    |192247         |\n",
            "|Delhi, India         |1-Sep-14      |Platinum   |Contas      |Feminino    |67932          |\n",
            "|Delhi, India         |22-Jun-14     |Platinum   |Contas      |Feminino    |280061         |\n",
            "|Greater Mumbai, India|7-Dec-13      |Signature  |Contas      |Feminino    |278036         |\n",
            "|Greater Mumbai, India|7-Aug-14      |Gold       |Contas      |Feminino    |19226          |\n",
            "|Delhi, India         |27-Apr-14     |Signature  |Contas      |Feminino    |254359         |\n",
            "|Greater Mumbai, India|15-Aug-14     |Signature  |Contas      |Feminino    |302834         |\n",
            "|Greater Mumbai, India|28-Nov-14     |Platinum   |Contas      |Feminino    |647116         |\n",
            "|Greater Mumbai, India|14-Jun-14     |Signature  |Contas      |Feminino    |421878         |\n",
            "|Greater Mumbai, India|30-Mar-15     |Gold       |Contas      |Feminino    |986379         |\n",
            "|Greater Mumbai, India|15-Mar-14     |Platinum   |Contas      |Feminino    |213047         |\n",
            "|Greater Mumbai, India|9-Nov-13      |Platinum   |Contas      |Feminino    |735566         |\n",
            "+---------------------+--------------+-----------+------------+------------+---------------+\n",
            "only showing top 20 rows\n",
            "\n"
          ]
        }
      ]
    },
    {
      "cell_type": "markdown",
      "source": [
        "## ◼ 9.3  Verificando tamanho dos dados"
      ],
      "metadata": {
        "id": "nao5UJax1tyu"
      }
    },
    {
      "cell_type": "code",
      "source": [
        "#Total de linhas\n",
        "\n",
        "df_pyspark.count()"
      ],
      "metadata": {
        "colab": {
          "base_uri": "https://localhost:8080/"
        },
        "id": "XySdrAEM19Di",
        "outputId": "c524bea4-dfdc-40ce-cafc-e49a4c5b701f"
      },
      "execution_count": 134,
      "outputs": [
        {
          "output_type": "execute_result",
          "data": {
            "text/plain": [
              "26052"
            ]
          },
          "metadata": {},
          "execution_count": 134
        }
      ]
    },
    {
      "cell_type": "code",
      "source": [
        "#Linhas distintas\n",
        "\n",
        "df_pyspark.distinct().count()"
      ],
      "metadata": {
        "colab": {
          "base_uri": "https://localhost:8080/"
        },
        "id": "xu1onxfT2D_Q",
        "outputId": "e17f0dbc-5d0c-46f9-bee1-c631d5ff7e6d"
      },
      "execution_count": 135,
      "outputs": [
        {
          "output_type": "execute_result",
          "data": {
            "text/plain": [
              "26052"
            ]
          },
          "metadata": {},
          "execution_count": 135
        }
      ]
    },
    {
      "cell_type": "markdown",
      "source": [
        "##◼ 9.4  Coluna cidade_trasacao"
      ],
      "metadata": {
        "id": "vH25kOgjhvAM"
      }
    },
    {
      "cell_type": "markdown",
      "source": [
        "**Retirar India, pois todas as transições ocorreram neste País. Portanto é desnecessário manter esse dado.**"
      ],
      "metadata": {
        "id": "nJ-aWlgnhzCj"
      }
    },
    {
      "cell_type": "code",
      "source": [
        "df_pyspark = df_pyspark.withColumn('cidade_transacao',F.regexp_replace('cidade_transacao',', India',''))"
      ],
      "metadata": {
        "id": "eVvXGe-Rhygz"
      },
      "execution_count": 136,
      "outputs": []
    },
    {
      "cell_type": "markdown",
      "source": [
        "##◼  9.5  Coluna data_trasacao"
      ],
      "metadata": {
        "id": "YE5ziVYrjiFr"
      }
    },
    {
      "cell_type": "code",
      "source": [
        "# Tratando os meses\n",
        "\n",
        "df_pyspark = (df_pyspark.withColumn('data_transacao',F.regexp_replace('data_transacao','Jan','01'))\n",
        "                        .withColumn('data_transacao',F.regexp_replace('data_transacao','Feb','02'))\n",
        "                        .withColumn('data_transacao',F.regexp_replace('data_transacao','Mar','03'))\n",
        "                        .withColumn('data_transacao',F.regexp_replace('data_transacao','Apr','04'))\n",
        "                        .withColumn('data_transacao',F.regexp_replace('data_transacao','May','05'))\n",
        "                        .withColumn('data_transacao',F.regexp_replace('data_transacao','Jun','06'))\n",
        "                        .withColumn('data_transacao',F.regexp_replace('data_transacao','Jul','07'))\n",
        "                        .withColumn('data_transacao',F.regexp_replace('data_transacao','Aug','08'))\n",
        "                        .withColumn('data_transacao',F.regexp_replace('data_transacao','Sep','09'))\n",
        "                        .withColumn('data_transacao',F.regexp_replace('data_transacao','Oct','10'))\n",
        "                        .withColumn('data_transacao',F.regexp_replace('data_transacao','Nov','11'))\n",
        "                        .withColumn('data_transacao',F.regexp_replace('data_transacao','Dec','12')) \n",
        ")\n",
        "                        "
      ],
      "metadata": {
        "id": "T8IT-Y2ajmQK"
      },
      "execution_count": 137,
      "outputs": []
    },
    {
      "cell_type": "markdown",
      "source": [
        "**O levantamento dos dados foi feito entre o ano de 2013 e 2015.**"
      ],
      "metadata": {
        "id": "ywX0y3HLmPTm"
      }
    },
    {
      "cell_type": "code",
      "source": [
        "# Tratando os anos\n",
        "\n",
        "df_pyspark = (df_pyspark.withColumn('data_transacao',F.regexp_replace('data_transacao','-13','-2013'))\n",
        "                        .withColumn('data_transacao',F.regexp_replace('data_transacao','-14','-2014'))\n",
        "                        .withColumn('data_transacao',F.regexp_replace('data_transacao','-15','-2015')))"
      ],
      "metadata": {
        "id": "5xbHlCD6mD2h"
      },
      "execution_count": 138,
      "outputs": []
    },
    {
      "cell_type": "markdown",
      "source": [
        "**Para converter a coluna 'data_trasacao' para DateType precisei antes realizar um tratamento nos meses e anos. Tive problema para tratar os dias no intervalo [1,9], mas utilizando a função func abaixo esse tratamento foi dispensado.**"
      ],
      "metadata": {
        "id": "z0szGgTn43N3"
      }
    },
    {
      "cell_type": "code",
      "source": [
        "# Esta função converte os dados String da coluna para DateType\n",
        "\n",
        "func =  udf (lambda x: datetime.strptime(x, '%d-%m-%Y'), DateType())\n",
        "\n",
        "df_pyspark = df_pyspark.withColumn('data_transacao', func(col('data_transacao')))\n"
      ],
      "metadata": {
        "id": "RWSp1_v327kz"
      },
      "execution_count": 139,
      "outputs": []
    },
    {
      "cell_type": "markdown",
      "source": [
        "#▶ 10 Validação - Pandera"
      ],
      "metadata": {
        "id": "SnTaf5kz6yP0"
      }
    },
    {
      "cell_type": "code",
      "source": [
        "#Convertendo pra DataFrame Pandas\n",
        "df_pandas_tratado = df_pyspark.toPandas()"
      ],
      "metadata": {
        "id": "bgWm5slTvhnG"
      },
      "execution_count": 140,
      "outputs": []
    },
    {
      "cell_type": "code",
      "source": [
        "df_pandas_tratado.head(1)"
      ],
      "metadata": {
        "colab": {
          "base_uri": "https://localhost:8080/",
          "height": 81
        },
        "id": "iVLxQ8lJ7Pja",
        "outputId": "d06e0b0e-848b-4344-a65b-cd61298f9113"
      },
      "execution_count": 141,
      "outputs": [
        {
          "output_type": "execute_result",
          "data": {
            "text/plain": [
              "  cidade_transacao data_transacao tipo_cartao tipo_despesa sexo_titular  \\\n",
              "0            Delhi     2014-10-29        Gold       Contas     Feminino   \n",
              "\n",
              "   valor_transacao  \n",
              "0            82475  "
            ],
            "text/html": [
              "\n",
              "  <div id=\"df-51084ea1-a0fd-4773-be33-e6a79dc49294\">\n",
              "    <div class=\"colab-df-container\">\n",
              "      <div>\n",
              "<style scoped>\n",
              "    .dataframe tbody tr th:only-of-type {\n",
              "        vertical-align: middle;\n",
              "    }\n",
              "\n",
              "    .dataframe tbody tr th {\n",
              "        vertical-align: top;\n",
              "    }\n",
              "\n",
              "    .dataframe thead th {\n",
              "        text-align: right;\n",
              "    }\n",
              "</style>\n",
              "<table border=\"1\" class=\"dataframe\">\n",
              "  <thead>\n",
              "    <tr style=\"text-align: right;\">\n",
              "      <th></th>\n",
              "      <th>cidade_transacao</th>\n",
              "      <th>data_transacao</th>\n",
              "      <th>tipo_cartao</th>\n",
              "      <th>tipo_despesa</th>\n",
              "      <th>sexo_titular</th>\n",
              "      <th>valor_transacao</th>\n",
              "    </tr>\n",
              "  </thead>\n",
              "  <tbody>\n",
              "    <tr>\n",
              "      <th>0</th>\n",
              "      <td>Delhi</td>\n",
              "      <td>2014-10-29</td>\n",
              "      <td>Gold</td>\n",
              "      <td>Contas</td>\n",
              "      <td>Feminino</td>\n",
              "      <td>82475</td>\n",
              "    </tr>\n",
              "  </tbody>\n",
              "</table>\n",
              "</div>\n",
              "      <button class=\"colab-df-convert\" onclick=\"convertToInteractive('df-51084ea1-a0fd-4773-be33-e6a79dc49294')\"\n",
              "              title=\"Convert this dataframe to an interactive table.\"\n",
              "              style=\"display:none;\">\n",
              "        \n",
              "  <svg xmlns=\"http://www.w3.org/2000/svg\" height=\"24px\"viewBox=\"0 0 24 24\"\n",
              "       width=\"24px\">\n",
              "    <path d=\"M0 0h24v24H0V0z\" fill=\"none\"/>\n",
              "    <path d=\"M18.56 5.44l.94 2.06.94-2.06 2.06-.94-2.06-.94-.94-2.06-.94 2.06-2.06.94zm-11 1L8.5 8.5l.94-2.06 2.06-.94-2.06-.94L8.5 2.5l-.94 2.06-2.06.94zm10 10l.94 2.06.94-2.06 2.06-.94-2.06-.94-.94-2.06-.94 2.06-2.06.94z\"/><path d=\"M17.41 7.96l-1.37-1.37c-.4-.4-.92-.59-1.43-.59-.52 0-1.04.2-1.43.59L10.3 9.45l-7.72 7.72c-.78.78-.78 2.05 0 2.83L4 21.41c.39.39.9.59 1.41.59.51 0 1.02-.2 1.41-.59l7.78-7.78 2.81-2.81c.8-.78.8-2.07 0-2.86zM5.41 20L4 18.59l7.72-7.72 1.47 1.35L5.41 20z\"/>\n",
              "  </svg>\n",
              "      </button>\n",
              "      \n",
              "  <style>\n",
              "    .colab-df-container {\n",
              "      display:flex;\n",
              "      flex-wrap:wrap;\n",
              "      gap: 12px;\n",
              "    }\n",
              "\n",
              "    .colab-df-convert {\n",
              "      background-color: #E8F0FE;\n",
              "      border: none;\n",
              "      border-radius: 50%;\n",
              "      cursor: pointer;\n",
              "      display: none;\n",
              "      fill: #1967D2;\n",
              "      height: 32px;\n",
              "      padding: 0 0 0 0;\n",
              "      width: 32px;\n",
              "    }\n",
              "\n",
              "    .colab-df-convert:hover {\n",
              "      background-color: #E2EBFA;\n",
              "      box-shadow: 0px 1px 2px rgba(60, 64, 67, 0.3), 0px 1px 3px 1px rgba(60, 64, 67, 0.15);\n",
              "      fill: #174EA6;\n",
              "    }\n",
              "\n",
              "    [theme=dark] .colab-df-convert {\n",
              "      background-color: #3B4455;\n",
              "      fill: #D2E3FC;\n",
              "    }\n",
              "\n",
              "    [theme=dark] .colab-df-convert:hover {\n",
              "      background-color: #434B5C;\n",
              "      box-shadow: 0px 1px 3px 1px rgba(0, 0, 0, 0.15);\n",
              "      filter: drop-shadow(0px 1px 2px rgba(0, 0, 0, 0.3));\n",
              "      fill: #FFFFFF;\n",
              "    }\n",
              "  </style>\n",
              "\n",
              "      <script>\n",
              "        const buttonEl =\n",
              "          document.querySelector('#df-51084ea1-a0fd-4773-be33-e6a79dc49294 button.colab-df-convert');\n",
              "        buttonEl.style.display =\n",
              "          google.colab.kernel.accessAllowed ? 'block' : 'none';\n",
              "\n",
              "        async function convertToInteractive(key) {\n",
              "          const element = document.querySelector('#df-51084ea1-a0fd-4773-be33-e6a79dc49294');\n",
              "          const dataTable =\n",
              "            await google.colab.kernel.invokeFunction('convertToInteractive',\n",
              "                                                     [key], {});\n",
              "          if (!dataTable) return;\n",
              "\n",
              "          const docLinkHtml = 'Like what you see? Visit the ' +\n",
              "            '<a target=\"_blank\" href=https://colab.research.google.com/notebooks/data_table.ipynb>data table notebook</a>'\n",
              "            + ' to learn more about interactive tables.';\n",
              "          element.innerHTML = '';\n",
              "          dataTable['output_type'] = 'display_data';\n",
              "          await google.colab.output.renderOutput(dataTable, element);\n",
              "          const docLink = document.createElement('div');\n",
              "          docLink.innerHTML = docLinkHtml;\n",
              "          element.appendChild(docLink);\n",
              "        }\n",
              "      </script>\n",
              "    </div>\n",
              "  </div>\n",
              "  "
            ]
          },
          "metadata": {},
          "execution_count": 141
        }
      ]
    },
    {
      "cell_type": "code",
      "source": [
        "#Validação\n",
        "schema = pa.DataFrameSchema(\n",
        "    columns = {\n",
        "        'cidade_transacao':pa.Column(pa.String),\n",
        "        'data_transacao':pa.Column(pa.Date),\n",
        "        'tipo_cartao':pa.Column(pa.String),\n",
        "        'tipo_despesa':pa.Column(pa.String),\n",
        "        'sexo_titular':pa.Column(pa.String),\n",
        "        'valor_transacao':pa.Column(pa.Int)\n",
        "        \n",
        "}\n",
        ")"
      ],
      "metadata": {
        "id": "RLXeRieZ7Lxa"
      },
      "execution_count": 142,
      "outputs": []
    },
    {
      "cell_type": "code",
      "source": [
        "schema.validate(df_pandas_tratado)"
      ],
      "metadata": {
        "colab": {
          "base_uri": "https://localhost:8080/",
          "height": 424
        },
        "id": "RzJfyLLf84hl",
        "outputId": "74b1420e-4ebd-4dcc-ae5d-145cd5415a9b"
      },
      "execution_count": 143,
      "outputs": [
        {
          "output_type": "execute_result",
          "data": {
            "text/plain": [
              "      cidade_transacao data_transacao tipo_cartao tipo_despesa sexo_titular  \\\n",
              "0                Delhi     2014-10-29        Gold       Contas     Feminino   \n",
              "1       Greater Mumbai     2014-08-22    Platinum       Contas     Feminino   \n",
              "2            Bengaluru     2014-08-27      Silver       Contas     Feminino   \n",
              "3       Greater Mumbai     2014-04-12   Signature       Contas     Feminino   \n",
              "4            Bengaluru     2015-05-05        Gold       Contas     Feminino   \n",
              "...                ...            ...         ...          ...          ...   \n",
              "26047          Kolkata     2014-06-22      Silver       Viagem     Feminino   \n",
              "26048             Pune     2014-08-03   Signature       Viagem    Masculino   \n",
              "26049        Hyderabad     2015-01-16      Silver       Viagem    Masculino   \n",
              "26050           Kanpur     2014-09-14      Silver       Viagem    Masculino   \n",
              "26051        Hyderabad     2013-10-19   Signature       Contas    Masculino   \n",
              "\n",
              "       valor_transacao  \n",
              "0                82475  \n",
              "1                32555  \n",
              "2               101738  \n",
              "3               123424  \n",
              "4               171574  \n",
              "...                ...  \n",
              "26047           128191  \n",
              "26048           246316  \n",
              "26049           265019  \n",
              "26050            88174  \n",
              "26051           184410  \n",
              "\n",
              "[26052 rows x 6 columns]"
            ],
            "text/html": [
              "\n",
              "  <div id=\"df-ef2ed432-8791-4178-ab13-22d92c41870b\">\n",
              "    <div class=\"colab-df-container\">\n",
              "      <div>\n",
              "<style scoped>\n",
              "    .dataframe tbody tr th:only-of-type {\n",
              "        vertical-align: middle;\n",
              "    }\n",
              "\n",
              "    .dataframe tbody tr th {\n",
              "        vertical-align: top;\n",
              "    }\n",
              "\n",
              "    .dataframe thead th {\n",
              "        text-align: right;\n",
              "    }\n",
              "</style>\n",
              "<table border=\"1\" class=\"dataframe\">\n",
              "  <thead>\n",
              "    <tr style=\"text-align: right;\">\n",
              "      <th></th>\n",
              "      <th>cidade_transacao</th>\n",
              "      <th>data_transacao</th>\n",
              "      <th>tipo_cartao</th>\n",
              "      <th>tipo_despesa</th>\n",
              "      <th>sexo_titular</th>\n",
              "      <th>valor_transacao</th>\n",
              "    </tr>\n",
              "  </thead>\n",
              "  <tbody>\n",
              "    <tr>\n",
              "      <th>0</th>\n",
              "      <td>Delhi</td>\n",
              "      <td>2014-10-29</td>\n",
              "      <td>Gold</td>\n",
              "      <td>Contas</td>\n",
              "      <td>Feminino</td>\n",
              "      <td>82475</td>\n",
              "    </tr>\n",
              "    <tr>\n",
              "      <th>1</th>\n",
              "      <td>Greater Mumbai</td>\n",
              "      <td>2014-08-22</td>\n",
              "      <td>Platinum</td>\n",
              "      <td>Contas</td>\n",
              "      <td>Feminino</td>\n",
              "      <td>32555</td>\n",
              "    </tr>\n",
              "    <tr>\n",
              "      <th>2</th>\n",
              "      <td>Bengaluru</td>\n",
              "      <td>2014-08-27</td>\n",
              "      <td>Silver</td>\n",
              "      <td>Contas</td>\n",
              "      <td>Feminino</td>\n",
              "      <td>101738</td>\n",
              "    </tr>\n",
              "    <tr>\n",
              "      <th>3</th>\n",
              "      <td>Greater Mumbai</td>\n",
              "      <td>2014-04-12</td>\n",
              "      <td>Signature</td>\n",
              "      <td>Contas</td>\n",
              "      <td>Feminino</td>\n",
              "      <td>123424</td>\n",
              "    </tr>\n",
              "    <tr>\n",
              "      <th>4</th>\n",
              "      <td>Bengaluru</td>\n",
              "      <td>2015-05-05</td>\n",
              "      <td>Gold</td>\n",
              "      <td>Contas</td>\n",
              "      <td>Feminino</td>\n",
              "      <td>171574</td>\n",
              "    </tr>\n",
              "    <tr>\n",
              "      <th>...</th>\n",
              "      <td>...</td>\n",
              "      <td>...</td>\n",
              "      <td>...</td>\n",
              "      <td>...</td>\n",
              "      <td>...</td>\n",
              "      <td>...</td>\n",
              "    </tr>\n",
              "    <tr>\n",
              "      <th>26047</th>\n",
              "      <td>Kolkata</td>\n",
              "      <td>2014-06-22</td>\n",
              "      <td>Silver</td>\n",
              "      <td>Viagem</td>\n",
              "      <td>Feminino</td>\n",
              "      <td>128191</td>\n",
              "    </tr>\n",
              "    <tr>\n",
              "      <th>26048</th>\n",
              "      <td>Pune</td>\n",
              "      <td>2014-08-03</td>\n",
              "      <td>Signature</td>\n",
              "      <td>Viagem</td>\n",
              "      <td>Masculino</td>\n",
              "      <td>246316</td>\n",
              "    </tr>\n",
              "    <tr>\n",
              "      <th>26049</th>\n",
              "      <td>Hyderabad</td>\n",
              "      <td>2015-01-16</td>\n",
              "      <td>Silver</td>\n",
              "      <td>Viagem</td>\n",
              "      <td>Masculino</td>\n",
              "      <td>265019</td>\n",
              "    </tr>\n",
              "    <tr>\n",
              "      <th>26050</th>\n",
              "      <td>Kanpur</td>\n",
              "      <td>2014-09-14</td>\n",
              "      <td>Silver</td>\n",
              "      <td>Viagem</td>\n",
              "      <td>Masculino</td>\n",
              "      <td>88174</td>\n",
              "    </tr>\n",
              "    <tr>\n",
              "      <th>26051</th>\n",
              "      <td>Hyderabad</td>\n",
              "      <td>2013-10-19</td>\n",
              "      <td>Signature</td>\n",
              "      <td>Contas</td>\n",
              "      <td>Masculino</td>\n",
              "      <td>184410</td>\n",
              "    </tr>\n",
              "  </tbody>\n",
              "</table>\n",
              "<p>26052 rows × 6 columns</p>\n",
              "</div>\n",
              "      <button class=\"colab-df-convert\" onclick=\"convertToInteractive('df-ef2ed432-8791-4178-ab13-22d92c41870b')\"\n",
              "              title=\"Convert this dataframe to an interactive table.\"\n",
              "              style=\"display:none;\">\n",
              "        \n",
              "  <svg xmlns=\"http://www.w3.org/2000/svg\" height=\"24px\"viewBox=\"0 0 24 24\"\n",
              "       width=\"24px\">\n",
              "    <path d=\"M0 0h24v24H0V0z\" fill=\"none\"/>\n",
              "    <path d=\"M18.56 5.44l.94 2.06.94-2.06 2.06-.94-2.06-.94-.94-2.06-.94 2.06-2.06.94zm-11 1L8.5 8.5l.94-2.06 2.06-.94-2.06-.94L8.5 2.5l-.94 2.06-2.06.94zm10 10l.94 2.06.94-2.06 2.06-.94-2.06-.94-.94-2.06-.94 2.06-2.06.94z\"/><path d=\"M17.41 7.96l-1.37-1.37c-.4-.4-.92-.59-1.43-.59-.52 0-1.04.2-1.43.59L10.3 9.45l-7.72 7.72c-.78.78-.78 2.05 0 2.83L4 21.41c.39.39.9.59 1.41.59.51 0 1.02-.2 1.41-.59l7.78-7.78 2.81-2.81c.8-.78.8-2.07 0-2.86zM5.41 20L4 18.59l7.72-7.72 1.47 1.35L5.41 20z\"/>\n",
              "  </svg>\n",
              "      </button>\n",
              "      \n",
              "  <style>\n",
              "    .colab-df-container {\n",
              "      display:flex;\n",
              "      flex-wrap:wrap;\n",
              "      gap: 12px;\n",
              "    }\n",
              "\n",
              "    .colab-df-convert {\n",
              "      background-color: #E8F0FE;\n",
              "      border: none;\n",
              "      border-radius: 50%;\n",
              "      cursor: pointer;\n",
              "      display: none;\n",
              "      fill: #1967D2;\n",
              "      height: 32px;\n",
              "      padding: 0 0 0 0;\n",
              "      width: 32px;\n",
              "    }\n",
              "\n",
              "    .colab-df-convert:hover {\n",
              "      background-color: #E2EBFA;\n",
              "      box-shadow: 0px 1px 2px rgba(60, 64, 67, 0.3), 0px 1px 3px 1px rgba(60, 64, 67, 0.15);\n",
              "      fill: #174EA6;\n",
              "    }\n",
              "\n",
              "    [theme=dark] .colab-df-convert {\n",
              "      background-color: #3B4455;\n",
              "      fill: #D2E3FC;\n",
              "    }\n",
              "\n",
              "    [theme=dark] .colab-df-convert:hover {\n",
              "      background-color: #434B5C;\n",
              "      box-shadow: 0px 1px 3px 1px rgba(0, 0, 0, 0.15);\n",
              "      filter: drop-shadow(0px 1px 2px rgba(0, 0, 0, 0.3));\n",
              "      fill: #FFFFFF;\n",
              "    }\n",
              "  </style>\n",
              "\n",
              "      <script>\n",
              "        const buttonEl =\n",
              "          document.querySelector('#df-ef2ed432-8791-4178-ab13-22d92c41870b button.colab-df-convert');\n",
              "        buttonEl.style.display =\n",
              "          google.colab.kernel.accessAllowed ? 'block' : 'none';\n",
              "\n",
              "        async function convertToInteractive(key) {\n",
              "          const element = document.querySelector('#df-ef2ed432-8791-4178-ab13-22d92c41870b');\n",
              "          const dataTable =\n",
              "            await google.colab.kernel.invokeFunction('convertToInteractive',\n",
              "                                                     [key], {});\n",
              "          if (!dataTable) return;\n",
              "\n",
              "          const docLinkHtml = 'Like what you see? Visit the ' +\n",
              "            '<a target=\"_blank\" href=https://colab.research.google.com/notebooks/data_table.ipynb>data table notebook</a>'\n",
              "            + ' to learn more about interactive tables.';\n",
              "          element.innerHTML = '';\n",
              "          dataTable['output_type'] = 'display_data';\n",
              "          await google.colab.output.renderOutput(dataTable, element);\n",
              "          const docLink = document.createElement('div');\n",
              "          docLink.innerHTML = docLinkHtml;\n",
              "          element.appendChild(docLink);\n",
              "        }\n",
              "      </script>\n",
              "    </div>\n",
              "  </div>\n",
              "  "
            ]
          },
          "metadata": {},
          "execution_count": 143
        }
      ]
    },
    {
      "cell_type": "markdown",
      "source": [
        "#▶ 11 Carregando no bucket"
      ],
      "metadata": {
        "id": "tRw_vwbPueDO"
      }
    },
    {
      "cell_type": "code",
      "source": [
        "df_pandas_tratado.to_csv('gs://ed7-datasets/tratados/CreditCardTransactions_tratado.csv',storage_options={'token':'/content/drive/MyDrive/ACESSO A GCP/bc26-aulas-ae110e89e3a6.json'})"
      ],
      "metadata": {
        "id": "nvrTzJx2ucpB"
      },
      "execution_count": 144,
      "outputs": []
    }
  ]
}