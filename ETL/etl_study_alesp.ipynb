{
  "nbformat": 4,
  "nbformat_minor": 0,
  "metadata": {
    "colab": {
      "provenance": [],
      "collapsed_sections": [
        "QF6O-863XQy7"
      ],
      "authorship_tag": "ABX9TyN7ezIE5zjfIQ+XQu0Mc83g",
      "include_colab_link": true
    },
    "kernelspec": {
      "name": "python3",
      "display_name": "Python 3"
    },
    "language_info": {
      "name": "python"
    }
  },
  "cells": [
    {
      "cell_type": "markdown",
      "metadata": {
        "id": "view-in-github",
        "colab_type": "text"
      },
      "source": [
        "<a href=\"https://colab.research.google.com/github/Daniel022de/Bootcamp_SoulCode_EngenhariaDados/blob/main/ETL/etl_study_alesp.ipynb\" target=\"_parent\"><img src=\"https://colab.research.google.com/assets/colab-badge.svg\" alt=\"Open In Colab\"/></a>"
      ]
    },
    {
      "cell_type": "markdown",
      "source": [
        "#Extração,transformação e carregamento de dados\n",
        "\n",
        "Esse Notebook é referente as instruções feitas pelo professor **Igor Gondim** no bootcamp **engenharia de dados** da **SoulCode** nas aulas sobre o processo de extração,transformação,carregamento de dados e análise introdutória. Foi utilizado um dataset da Assembleia Legislativa de São Paulo **(ALESP)** disponível no Portal dos dados abertos e carregado no meu [Bucket Google Cloud](https://storage.googleapis.com/bucket-pratica-s3/ocorrencia%20(1).csv) para consolidar os conhecimentos.\n",
        "\n",
        "\n",
        "\n",
        "\n",
        "\n",
        "\n",
        "\n",
        "! **Você pode encontrar esse notebook no meu repositório** [GitHub](https://github.com/Daniel022de/Bootcamp_SoulCode_EngenhariaDados)\n",
        "\n",
        "! **Você pode entrar em contato comigo através do meu email** ddololiveira.pessoal@gmail.com **e** [Linkedin](https://www.linkedin.com/in/daniel-oliveira-503b0323b/).\n",
        "\n",
        "! **Toda dúvida,recomendações e feedbacks serão bem-vindas.**\n",
        "\n"
      ],
      "metadata": {
        "id": "mKdvOXW9hUmO"
      }
    },
    {
      "cell_type": "markdown",
      "source": [
        "# **Instalações**"
      ],
      "metadata": {
        "id": "w6dusiLaL4lF"
      }
    },
    {
      "cell_type": "code",
      "execution_count": null,
      "metadata": {
        "id": "Qt4yoyghLy0i"
      },
      "outputs": [],
      "source": [
        "pip install pandera"
      ]
    },
    {
      "cell_type": "markdown",
      "source": [
        "#**Bibliotecas**"
      ],
      "metadata": {
        "id": "9Ps5TDxKL_LE"
      }
    },
    {
      "cell_type": "code",
      "source": [
        "import pandas as pd\n",
        "import pandera as pa\n",
        "import numpy as np"
      ],
      "metadata": {
        "id": "MNwKsjxQMAgj"
      },
      "execution_count": 2,
      "outputs": []
    },
    {
      "cell_type": "markdown",
      "source": [
        "##**Set_Option**"
      ],
      "metadata": {
        "id": "NrusOH0rMLpX"
      }
    },
    {
      "cell_type": "code",
      "source": [
        "pd.set_option('Display.max_columns',100)"
      ],
      "metadata": {
        "id": "DcAjO02AMNZG"
      },
      "execution_count": 3,
      "outputs": []
    },
    {
      "cell_type": "markdown",
      "source": [
        "#**Extração**"
      ],
      "metadata": {
        "id": "SXouZo8rMHVH"
      }
    },
    {
      "cell_type": "code",
      "source": [
        "df_desp = pd.read_csv(\"https://storage.googleapis.com/bucket-pratica-s3/alesp_desp.csv\")"
      ],
      "metadata": {
        "id": "WfYBz79DMI21"
      },
      "execution_count": null,
      "outputs": []
    },
    {
      "cell_type": "markdown",
      "source": [
        "#**Pré-análise**"
      ],
      "metadata": {
        "id": "o0aH_zgIMYUy"
      }
    },
    {
      "cell_type": "markdown",
      "source": [
        "**Esse DataFrame contém despesas reembolsadas, agrupadas por tipo, por ano e por mês de despesa, e com os dados (nome e CNPJ) do fornecedor/favorecido.** \n",
        "\n",
        "**Ele reflete todos os gastos feitos pelos deputados na data de sua geração, podendo sofrer alterações no decorrer do ano fiscal vigente.**\n",
        "\n",
        "\n",
        "Informações encontradas [aqui](https://www.al.sp.gov.br/dados-abertos/busca/despesa;jsessionid=2B5A10DA2A5AEF562870C8E5E3B87D10)."
      ],
      "metadata": {
        "id": "0CwLafB7iYWI"
      }
    },
    {
      "cell_type": "markdown",
      "source": [
        "\n",
        "*situações verificadas na pré-análise:*\n",
        "\n",
        "1.  **Unnamed: 0 - Dropar essa coluna. Diretriz passada em aula |>** OK\n",
        "2.   **Posso unir as colunas 'ano' e 'mes' em uma só chamada 'data' |>** OK\n",
        "\n"
      ],
      "metadata": {
        "id": "3jJ5Mgb5Miba"
      }
    },
    {
      "cell_type": "code",
      "source": [
        "df_desp.head(1)"
      ],
      "metadata": {
        "colab": {
          "base_uri": "https://localhost:8080/",
          "height": 125
        },
        "id": "QEPZH9FXMbDy",
        "outputId": "a3005794-5e35-48d0-bf6c-4bcda1fd8626"
      },
      "execution_count": 5,
      "outputs": [
        {
          "output_type": "execute_result",
          "data": {
            "text/plain": [
              "   Unnamed: 0   Ano  Matricula  Mes  Valor            CNPJ  \\\n",
              "0           0  2015     300257    3  200.0  71806251000106   \n",
              "\n",
              "             Deputado                              Tipo  \\\n",
              "0  ABELARDO CAMARINHA  A - COMBUSTÍVEIS E LUBRIFICANTES   \n",
              "\n",
              "                         Fornecedor  \n",
              "0  AUTO POSTO DE SERVIÇOS MARV LTDA  "
            ],
            "text/html": [
              "\n",
              "  <div id=\"df-94326f0c-df19-4004-9b9b-d3e7a7892334\">\n",
              "    <div class=\"colab-df-container\">\n",
              "      <div>\n",
              "<style scoped>\n",
              "    .dataframe tbody tr th:only-of-type {\n",
              "        vertical-align: middle;\n",
              "    }\n",
              "\n",
              "    .dataframe tbody tr th {\n",
              "        vertical-align: top;\n",
              "    }\n",
              "\n",
              "    .dataframe thead th {\n",
              "        text-align: right;\n",
              "    }\n",
              "</style>\n",
              "<table border=\"1\" class=\"dataframe\">\n",
              "  <thead>\n",
              "    <tr style=\"text-align: right;\">\n",
              "      <th></th>\n",
              "      <th>Unnamed: 0</th>\n",
              "      <th>Ano</th>\n",
              "      <th>Matricula</th>\n",
              "      <th>Mes</th>\n",
              "      <th>Valor</th>\n",
              "      <th>CNPJ</th>\n",
              "      <th>Deputado</th>\n",
              "      <th>Tipo</th>\n",
              "      <th>Fornecedor</th>\n",
              "    </tr>\n",
              "  </thead>\n",
              "  <tbody>\n",
              "    <tr>\n",
              "      <th>0</th>\n",
              "      <td>0</td>\n",
              "      <td>2015</td>\n",
              "      <td>300257</td>\n",
              "      <td>3</td>\n",
              "      <td>200.0</td>\n",
              "      <td>71806251000106</td>\n",
              "      <td>ABELARDO CAMARINHA</td>\n",
              "      <td>A - COMBUSTÍVEIS E LUBRIFICANTES</td>\n",
              "      <td>AUTO POSTO DE SERVIÇOS MARV LTDA</td>\n",
              "    </tr>\n",
              "  </tbody>\n",
              "</table>\n",
              "</div>\n",
              "      <button class=\"colab-df-convert\" onclick=\"convertToInteractive('df-94326f0c-df19-4004-9b9b-d3e7a7892334')\"\n",
              "              title=\"Convert this dataframe to an interactive table.\"\n",
              "              style=\"display:none;\">\n",
              "        \n",
              "  <svg xmlns=\"http://www.w3.org/2000/svg\" height=\"24px\"viewBox=\"0 0 24 24\"\n",
              "       width=\"24px\">\n",
              "    <path d=\"M0 0h24v24H0V0z\" fill=\"none\"/>\n",
              "    <path d=\"M18.56 5.44l.94 2.06.94-2.06 2.06-.94-2.06-.94-.94-2.06-.94 2.06-2.06.94zm-11 1L8.5 8.5l.94-2.06 2.06-.94-2.06-.94L8.5 2.5l-.94 2.06-2.06.94zm10 10l.94 2.06.94-2.06 2.06-.94-2.06-.94-.94-2.06-.94 2.06-2.06.94z\"/><path d=\"M17.41 7.96l-1.37-1.37c-.4-.4-.92-.59-1.43-.59-.52 0-1.04.2-1.43.59L10.3 9.45l-7.72 7.72c-.78.78-.78 2.05 0 2.83L4 21.41c.39.39.9.59 1.41.59.51 0 1.02-.2 1.41-.59l7.78-7.78 2.81-2.81c.8-.78.8-2.07 0-2.86zM5.41 20L4 18.59l7.72-7.72 1.47 1.35L5.41 20z\"/>\n",
              "  </svg>\n",
              "      </button>\n",
              "      \n",
              "  <style>\n",
              "    .colab-df-container {\n",
              "      display:flex;\n",
              "      flex-wrap:wrap;\n",
              "      gap: 12px;\n",
              "    }\n",
              "\n",
              "    .colab-df-convert {\n",
              "      background-color: #E8F0FE;\n",
              "      border: none;\n",
              "      border-radius: 50%;\n",
              "      cursor: pointer;\n",
              "      display: none;\n",
              "      fill: #1967D2;\n",
              "      height: 32px;\n",
              "      padding: 0 0 0 0;\n",
              "      width: 32px;\n",
              "    }\n",
              "\n",
              "    .colab-df-convert:hover {\n",
              "      background-color: #E2EBFA;\n",
              "      box-shadow: 0px 1px 2px rgba(60, 64, 67, 0.3), 0px 1px 3px 1px rgba(60, 64, 67, 0.15);\n",
              "      fill: #174EA6;\n",
              "    }\n",
              "\n",
              "    [theme=dark] .colab-df-convert {\n",
              "      background-color: #3B4455;\n",
              "      fill: #D2E3FC;\n",
              "    }\n",
              "\n",
              "    [theme=dark] .colab-df-convert:hover {\n",
              "      background-color: #434B5C;\n",
              "      box-shadow: 0px 1px 3px 1px rgba(0, 0, 0, 0.15);\n",
              "      filter: drop-shadow(0px 1px 2px rgba(0, 0, 0, 0.3));\n",
              "      fill: #FFFFFF;\n",
              "    }\n",
              "  </style>\n",
              "\n",
              "      <script>\n",
              "        const buttonEl =\n",
              "          document.querySelector('#df-94326f0c-df19-4004-9b9b-d3e7a7892334 button.colab-df-convert');\n",
              "        buttonEl.style.display =\n",
              "          google.colab.kernel.accessAllowed ? 'block' : 'none';\n",
              "\n",
              "        async function convertToInteractive(key) {\n",
              "          const element = document.querySelector('#df-94326f0c-df19-4004-9b9b-d3e7a7892334');\n",
              "          const dataTable =\n",
              "            await google.colab.kernel.invokeFunction('convertToInteractive',\n",
              "                                                     [key], {});\n",
              "          if (!dataTable) return;\n",
              "\n",
              "          const docLinkHtml = 'Like what you see? Visit the ' +\n",
              "            '<a target=\"_blank\" href=https://colab.research.google.com/notebooks/data_table.ipynb>data table notebook</a>'\n",
              "            + ' to learn more about interactive tables.';\n",
              "          element.innerHTML = '';\n",
              "          dataTable['output_type'] = 'display_data';\n",
              "          await google.colab.output.renderOutput(dataTable, element);\n",
              "          const docLink = document.createElement('div');\n",
              "          docLink.innerHTML = docLinkHtml;\n",
              "          element.appendChild(docLink);\n",
              "        }\n",
              "      </script>\n",
              "    </div>\n",
              "  </div>\n",
              "  "
            ]
          },
          "metadata": {},
          "execution_count": 5
        }
      ]
    },
    {
      "cell_type": "markdown",
      "source": [
        "## Tipo das colunas"
      ],
      "metadata": {
        "id": "zDSCsufIjKe0"
      }
    },
    {
      "cell_type": "markdown",
      "source": [
        "\n",
        "\n",
        "1.   **CNPJ precisa ser numérico!** **|>** OK\n",
        "\n",
        "      Em cima de CNPJ não há cálculo a não ser validação,\n",
        "      por isso dependendo do caso é melhor deixar object como está.\n",
        "      Mas corrigido óbvio.\n",
        "2.   \n",
        "\n"
      ],
      "metadata": {
        "id": "g1-M5IhYM0p_"
      }
    },
    {
      "cell_type": "code",
      "source": [
        "df_desp.dtypes"
      ],
      "metadata": {
        "colab": {
          "base_uri": "https://localhost:8080/"
        },
        "id": "wriWgAeDMywt",
        "outputId": "d0fbcf62-6aee-4f3a-d246-bb33cbe6375b"
      },
      "execution_count": 6,
      "outputs": [
        {
          "output_type": "execute_result",
          "data": {
            "text/plain": [
              "Unnamed: 0      int64\n",
              "Ano             int64\n",
              "Matricula       int64\n",
              "Mes             int64\n",
              "Valor         float64\n",
              "CNPJ           object\n",
              "Deputado       object\n",
              "Tipo           object\n",
              "Fornecedor     object\n",
              "dtype: object"
            ]
          },
          "metadata": {},
          "execution_count": 6
        }
      ]
    },
    {
      "cell_type": "markdown",
      "source": [
        "#**Tratamento | Limpeza de dados**"
      ],
      "metadata": {
        "id": "sjutNBwNM-ck"
      }
    },
    {
      "cell_type": "markdown",
      "source": [
        "##Backup"
      ],
      "metadata": {
        "id": "8Qz5jmikNGOl"
      }
    },
    {
      "cell_type": "code",
      "source": [
        "dfback_desp = df_desp.copy()"
      ],
      "metadata": {
        "id": "UYnW5xbLM_4V"
      },
      "execution_count": 7,
      "outputs": []
    },
    {
      "cell_type": "markdown",
      "source": [
        "##Renomeando colunas"
      ],
      "metadata": {
        "id": "J4YLMx3oNegc"
      }
    },
    {
      "cell_type": "code",
      "source": [
        "df_desp.rename(columns= {'Ano':'ano','Matricula':'matricula','Mes':'mes','Valor':'valor','CNPJ':'cnpj','Deputado':'deputado','Tipo':'tipo','Fornecedor':'fornecedor'},inplace=True)"
      ],
      "metadata": {
        "id": "IwYo7Mp9Nd1O"
      },
      "execution_count": 8,
      "outputs": []
    },
    {
      "cell_type": "markdown",
      "source": [
        "## Dropando coluna Unnamed: 0"
      ],
      "metadata": {
        "id": "VFbr_Bs6TrW0"
      }
    },
    {
      "cell_type": "code",
      "source": [
        "df_desp.drop(['Unnamed: 0'],axis=1,inplace=True)"
      ],
      "metadata": {
        "id": "47qVqcGETwCo"
      },
      "execution_count": 9,
      "outputs": []
    },
    {
      "cell_type": "markdown",
      "source": [
        "##Unindo colunas"
      ],
      "metadata": {
        "id": "1jaZWesrN6rA"
      }
    },
    {
      "cell_type": "markdown",
      "source": [
        "\n",
        "\n",
        "*   As colunas 'ano' e 'mes' serão unidas.\n",
        "*   \n",
        "\n"
      ],
      "metadata": {
        "id": "lVCCGNaNOILE"
      }
    },
    {
      "cell_type": "code",
      "source": [
        "#Convertendo colunas para mesmo tipo\n",
        "\n",
        "df_desp['ano'] = df_desp['ano'].astype(str)\n",
        "df_desp['mes'] = df_desp['mes'].astype(str)"
      ],
      "metadata": {
        "id": "i0-TmICwOUSg"
      },
      "execution_count": 10,
      "outputs": []
    },
    {
      "cell_type": "code",
      "source": [
        "#Criando a coluna 'data'\n",
        "\n",
        "df_desp['data'] = pd.to_datetime(df_desp['ano']+'-'+df_desp['mes']+'-'+'1')"
      ],
      "metadata": {
        "id": "ift8fpacODfI"
      },
      "execution_count": 11,
      "outputs": []
    },
    {
      "cell_type": "markdown",
      "source": [
        "## Dropando colunas 'ano' e 'mes'"
      ],
      "metadata": {
        "id": "0V2iIRNvW26k"
      }
    },
    {
      "cell_type": "code",
      "source": [
        "df_desp.drop(['ano','mes'],axis=1,inplace=True)"
      ],
      "metadata": {
        "id": "j8NnneLQW7B9"
      },
      "execution_count": 12,
      "outputs": []
    },
    {
      "cell_type": "markdown",
      "source": [
        "## Coluna cnpj"
      ],
      "metadata": {
        "id": "LAw9f8LHOzw5"
      }
    },
    {
      "cell_type": "markdown",
      "source": [
        "* A coluna cnpj deve ser numérica. Há alguma inconsistência nos dados,pois \n",
        "a coluna está constando como object. Para desvendar o caso, vou realizar um teste de verificação e descobrir onde está as inconsistências.\n",
        "\n",
        "* A coluna tem muito na. Então vou precisar fazer a verificação em cima de um DataFrame com os valores únicos da coluna cnpj."
      ],
      "metadata": {
        "id": "PGMRT5pcPP9w"
      }
    },
    {
      "cell_type": "code",
      "source": [
        "# Verificando quantidade de nulos\n",
        "\n",
        "df_desp.isna().sum()"
      ],
      "metadata": {
        "colab": {
          "base_uri": "https://localhost:8080/"
        },
        "id": "aeYzvOq3QJ6m",
        "outputId": "668b2fb2-af08-4415-ee28-b3e0d639a718"
      },
      "execution_count": 13,
      "outputs": [
        {
          "output_type": "execute_result",
          "data": {
            "text/plain": [
              "matricula         0\n",
              "valor             0\n",
              "cnpj          10892\n",
              "deputado          0\n",
              "tipo              0\n",
              "fornecedor        0\n",
              "data              0\n",
              "dtype: int64"
            ]
          },
          "metadata": {},
          "execution_count": 13
        }
      ]
    },
    {
      "cell_type": "code",
      "source": [
        "# DataFrame somente com valores únicos da coluna cnpj\n",
        "dfu = pd.DataFrame(df_desp.cnpj.unique(),columns = ['cnpj'])"
      ],
      "metadata": {
        "id": "aYfl6kkdQrKP"
      },
      "execution_count": 14,
      "outputs": []
    },
    {
      "cell_type": "code",
      "source": [
        "dfu"
      ],
      "metadata": {
        "colab": {
          "base_uri": "https://localhost:8080/",
          "height": 424
        },
        "id": "RlOpOLDpSK9x",
        "outputId": "5e7d74ee-1b83-4e05-a912-635048965254"
      },
      "execution_count": 15,
      "outputs": [
        {
          "output_type": "execute_result",
          "data": {
            "text/plain": [
              "                   cnpj\n",
              "0        71806251000106\n",
              "1        68064740000125\n",
              "2           22145388877\n",
              "3        10915883000113\n",
              "4        06222505000187\n",
              "...                 ...\n",
              "60228  43517978000138.0\n",
              "60229  51667335000280.0\n",
              "60230     50323741991.0\n",
              "60231   6878968000100.0\n",
              "60232   5591224000139.0\n",
              "\n",
              "[60233 rows x 1 columns]"
            ],
            "text/html": [
              "\n",
              "  <div id=\"df-ed157bbe-5c33-4c56-9b04-bdf089e4929e\">\n",
              "    <div class=\"colab-df-container\">\n",
              "      <div>\n",
              "<style scoped>\n",
              "    .dataframe tbody tr th:only-of-type {\n",
              "        vertical-align: middle;\n",
              "    }\n",
              "\n",
              "    .dataframe tbody tr th {\n",
              "        vertical-align: top;\n",
              "    }\n",
              "\n",
              "    .dataframe thead th {\n",
              "        text-align: right;\n",
              "    }\n",
              "</style>\n",
              "<table border=\"1\" class=\"dataframe\">\n",
              "  <thead>\n",
              "    <tr style=\"text-align: right;\">\n",
              "      <th></th>\n",
              "      <th>cnpj</th>\n",
              "    </tr>\n",
              "  </thead>\n",
              "  <tbody>\n",
              "    <tr>\n",
              "      <th>0</th>\n",
              "      <td>71806251000106</td>\n",
              "    </tr>\n",
              "    <tr>\n",
              "      <th>1</th>\n",
              "      <td>68064740000125</td>\n",
              "    </tr>\n",
              "    <tr>\n",
              "      <th>2</th>\n",
              "      <td>22145388877</td>\n",
              "    </tr>\n",
              "    <tr>\n",
              "      <th>3</th>\n",
              "      <td>10915883000113</td>\n",
              "    </tr>\n",
              "    <tr>\n",
              "      <th>4</th>\n",
              "      <td>06222505000187</td>\n",
              "    </tr>\n",
              "    <tr>\n",
              "      <th>...</th>\n",
              "      <td>...</td>\n",
              "    </tr>\n",
              "    <tr>\n",
              "      <th>60228</th>\n",
              "      <td>43517978000138.0</td>\n",
              "    </tr>\n",
              "    <tr>\n",
              "      <th>60229</th>\n",
              "      <td>51667335000280.0</td>\n",
              "    </tr>\n",
              "    <tr>\n",
              "      <th>60230</th>\n",
              "      <td>50323741991.0</td>\n",
              "    </tr>\n",
              "    <tr>\n",
              "      <th>60231</th>\n",
              "      <td>6878968000100.0</td>\n",
              "    </tr>\n",
              "    <tr>\n",
              "      <th>60232</th>\n",
              "      <td>5591224000139.0</td>\n",
              "    </tr>\n",
              "  </tbody>\n",
              "</table>\n",
              "<p>60233 rows × 1 columns</p>\n",
              "</div>\n",
              "      <button class=\"colab-df-convert\" onclick=\"convertToInteractive('df-ed157bbe-5c33-4c56-9b04-bdf089e4929e')\"\n",
              "              title=\"Convert this dataframe to an interactive table.\"\n",
              "              style=\"display:none;\">\n",
              "        \n",
              "  <svg xmlns=\"http://www.w3.org/2000/svg\" height=\"24px\"viewBox=\"0 0 24 24\"\n",
              "       width=\"24px\">\n",
              "    <path d=\"M0 0h24v24H0V0z\" fill=\"none\"/>\n",
              "    <path d=\"M18.56 5.44l.94 2.06.94-2.06 2.06-.94-2.06-.94-.94-2.06-.94 2.06-2.06.94zm-11 1L8.5 8.5l.94-2.06 2.06-.94-2.06-.94L8.5 2.5l-.94 2.06-2.06.94zm10 10l.94 2.06.94-2.06 2.06-.94-2.06-.94-.94-2.06-.94 2.06-2.06.94z\"/><path d=\"M17.41 7.96l-1.37-1.37c-.4-.4-.92-.59-1.43-.59-.52 0-1.04.2-1.43.59L10.3 9.45l-7.72 7.72c-.78.78-.78 2.05 0 2.83L4 21.41c.39.39.9.59 1.41.59.51 0 1.02-.2 1.41-.59l7.78-7.78 2.81-2.81c.8-.78.8-2.07 0-2.86zM5.41 20L4 18.59l7.72-7.72 1.47 1.35L5.41 20z\"/>\n",
              "  </svg>\n",
              "      </button>\n",
              "      \n",
              "  <style>\n",
              "    .colab-df-container {\n",
              "      display:flex;\n",
              "      flex-wrap:wrap;\n",
              "      gap: 12px;\n",
              "    }\n",
              "\n",
              "    .colab-df-convert {\n",
              "      background-color: #E8F0FE;\n",
              "      border: none;\n",
              "      border-radius: 50%;\n",
              "      cursor: pointer;\n",
              "      display: none;\n",
              "      fill: #1967D2;\n",
              "      height: 32px;\n",
              "      padding: 0 0 0 0;\n",
              "      width: 32px;\n",
              "    }\n",
              "\n",
              "    .colab-df-convert:hover {\n",
              "      background-color: #E2EBFA;\n",
              "      box-shadow: 0px 1px 2px rgba(60, 64, 67, 0.3), 0px 1px 3px 1px rgba(60, 64, 67, 0.15);\n",
              "      fill: #174EA6;\n",
              "    }\n",
              "\n",
              "    [theme=dark] .colab-df-convert {\n",
              "      background-color: #3B4455;\n",
              "      fill: #D2E3FC;\n",
              "    }\n",
              "\n",
              "    [theme=dark] .colab-df-convert:hover {\n",
              "      background-color: #434B5C;\n",
              "      box-shadow: 0px 1px 3px 1px rgba(0, 0, 0, 0.15);\n",
              "      filter: drop-shadow(0px 1px 2px rgba(0, 0, 0, 0.3));\n",
              "      fill: #FFFFFF;\n",
              "    }\n",
              "  </style>\n",
              "\n",
              "      <script>\n",
              "        const buttonEl =\n",
              "          document.querySelector('#df-ed157bbe-5c33-4c56-9b04-bdf089e4929e button.colab-df-convert');\n",
              "        buttonEl.style.display =\n",
              "          google.colab.kernel.accessAllowed ? 'block' : 'none';\n",
              "\n",
              "        async function convertToInteractive(key) {\n",
              "          const element = document.querySelector('#df-ed157bbe-5c33-4c56-9b04-bdf089e4929e');\n",
              "          const dataTable =\n",
              "            await google.colab.kernel.invokeFunction('convertToInteractive',\n",
              "                                                     [key], {});\n",
              "          if (!dataTable) return;\n",
              "\n",
              "          const docLinkHtml = 'Like what you see? Visit the ' +\n",
              "            '<a target=\"_blank\" href=https://colab.research.google.com/notebooks/data_table.ipynb>data table notebook</a>'\n",
              "            + ' to learn more about interactive tables.';\n",
              "          element.innerHTML = '';\n",
              "          dataTable['output_type'] = 'display_data';\n",
              "          await google.colab.output.renderOutput(dataTable, element);\n",
              "          const docLink = document.createElement('div');\n",
              "          docLink.innerHTML = docLinkHtml;\n",
              "          element.appendChild(docLink);\n",
              "        }\n",
              "      </script>\n",
              "    </div>\n",
              "  </div>\n",
              "  "
            ]
          },
          "metadata": {},
          "execution_count": 15
        }
      ]
    },
    {
      "cell_type": "code",
      "source": [
        "#Verificação\n",
        "lista_estranhos = []\n",
        "for i in range(len(dfu)):\n",
        "  try:\n",
        "    int(dfu.loc[i,'cnpj'])\n",
        "  except Exception:\n",
        "    lista_estranhos.append(dfu.loc[i,'cnpj'])\n",
        "print('Dados inconsistentes: ')\n",
        "print(lista_estranhos)"
      ],
      "metadata": {
        "colab": {
          "base_uri": "https://localhost:8080/"
        },
        "id": "nB8qOIccPOTO",
        "outputId": "9477ba9a-3fa0-42b3-f47b-6676281e2f85"
      },
      "execution_count": 16,
      "outputs": [
        {
          "output_type": "stream",
          "name": "stdout",
          "text": [
            "Dados inconsistentes: \n",
            "[nan, 'O4689799000126', 'O4040553000129', 'O2358317000120', 'O1520430000105', '00O21449000136', 'O7482309000104']\n"
          ]
        }
      ]
    },
    {
      "cell_type": "markdown",
      "source": [
        "\n",
        "\n",
        "*   Inconsistências encontradas:\n",
        "\n",
        "\n",
        "\n",
        "\n",
        "1.   **Valores nan |>**\n",
        "2.   **O no lugar de zero |>**\n",
        "\n",
        "\n",
        "\n",
        "\n",
        "\n"
      ],
      "metadata": {
        "id": "-B6ms6aTSgG5"
      }
    },
    {
      "cell_type": "code",
      "source": [
        "# Descobrindo os labels das inconsistências\n",
        "filtro_i = df_desp.cnpj.isin(['O4689799000126', 'O4040553000129', 'O2358317000120', 'O1520430000105', '00O21449000136', 'O7482309000104'])\n",
        "df_cnpj_i = df_desp.loc[filtro_i]\n",
        "df_cnpj_i"
      ],
      "metadata": {
        "colab": {
          "base_uri": "https://localhost:8080/",
          "height": 629
        },
        "id": "8CRuQO1kO6b8",
        "outputId": "d31adad9-e16f-4535-b44d-acb0fc7e9322"
      },
      "execution_count": 17,
      "outputs": [
        {
          "output_type": "execute_result",
          "data": {
            "text/plain": [
              "        matricula    valor            cnpj        deputado  \\\n",
              "55891      300482    76.78  O4689799000126  ANTÔNIO CARLOS   \n",
              "55964      300482    70.02  O4040553000129  ANTÔNIO CARLOS   \n",
              "55998      300482    50.00  O4040553000129  ANTÔNIO CARLOS   \n",
              "316251     300455    40.00  O2358317000120  MARCOS MARTINS   \n",
              "365639     300468   504.12  O1520430000105   OLÍMPIO GOMES   \n",
              "389510     300379   786.55  00O21449000136      PEDRO YVES   \n",
              "389553     300379   915.76  00O21449000136      PEDRO YVES   \n",
              "389565     300379   802.69  00O21449000136      PEDRO YVES   \n",
              "389578     300379  3101.63  00O21449000136      PEDRO YVES   \n",
              "389582     300379  5472.30  00O21449000136      PEDRO YVES   \n",
              "395189     300344   173.00  O7482309000104    RAFAEL SILVA   \n",
              "\n",
              "                                                     tipo  \\\n",
              "55891   I - HOSPEDAGEM, ALIMENTAÇÃO E DESPESAS DE LOCO...   \n",
              "55964                    A - COMBUSTÍVEIS E LUBRIFICANTES   \n",
              "55998                    A - COMBUSTÍVEIS E LUBRIFICANTES   \n",
              "316251  G - ASSINATURAS DE PERIÓDICOS, PUBLICAÇÕES, IN...   \n",
              "365639  I - HOSPEDAGEM, ALIMENTAÇÃO E DESPESAS DE LOCO...   \n",
              "389510                   A - COMBUSTÍVEIS E LUBRIFICANTES   \n",
              "389553                   A - COMBUSTÍVEIS E LUBRIFICANTES   \n",
              "389565                   A - COMBUSTÍVEIS E LUBRIFICANTES   \n",
              "389578                   A - COMBUSTÍVEIS E LUBRIFICANTES   \n",
              "389582                   A - COMBUSTÍVEIS E LUBRIFICANTES   \n",
              "395189  I - HOSPEDAGEM, ALIMENTAÇÃO E DESPESAS DE LOCO...   \n",
              "\n",
              "                                               fornecedor       data  \n",
              "55891                                 VIA BARBARESCO LTDA 2007-11-01  \n",
              "55964                             AUTO POSTO AUSTRIA LTDA 2008-02-01  \n",
              "55998                             AUTO POSTO AUSTRIA LTDA 2008-03-01  \n",
              "316251                           BASENET INFORMATICA LTDA 2007-09-01  \n",
              "365639  PICANHARIA DO GAUCHO/ JOCELI NARDI CHURRASCARI... 2007-12-01  \n",
              "389510                    AUTO POSTO BOSQUE SATÉLITE LTDA 2002-05-01  \n",
              "389553                    AUTO POSTO BOSQUE SATÉLITE LTDA 2002-09-01  \n",
              "389565                    AUTO POSTO BOSQUE SATÉLITE LTDA 2002-10-01  \n",
              "389578                    AUTO POSTO BOSQUE SATÉLITE LTDA 2002-12-01  \n",
              "389582                    AUTO POSTO BOSQUE SATÉLITE LTDA 2003-01-01  \n",
              "395189            JOÃO BATISTA DA SILVA CHURRASCARIA - ME 2007-06-01  "
            ],
            "text/html": [
              "\n",
              "  <div id=\"df-6accd49b-9c4f-488e-a07e-b2f7964bd854\">\n",
              "    <div class=\"colab-df-container\">\n",
              "      <div>\n",
              "<style scoped>\n",
              "    .dataframe tbody tr th:only-of-type {\n",
              "        vertical-align: middle;\n",
              "    }\n",
              "\n",
              "    .dataframe tbody tr th {\n",
              "        vertical-align: top;\n",
              "    }\n",
              "\n",
              "    .dataframe thead th {\n",
              "        text-align: right;\n",
              "    }\n",
              "</style>\n",
              "<table border=\"1\" class=\"dataframe\">\n",
              "  <thead>\n",
              "    <tr style=\"text-align: right;\">\n",
              "      <th></th>\n",
              "      <th>matricula</th>\n",
              "      <th>valor</th>\n",
              "      <th>cnpj</th>\n",
              "      <th>deputado</th>\n",
              "      <th>tipo</th>\n",
              "      <th>fornecedor</th>\n",
              "      <th>data</th>\n",
              "    </tr>\n",
              "  </thead>\n",
              "  <tbody>\n",
              "    <tr>\n",
              "      <th>55891</th>\n",
              "      <td>300482</td>\n",
              "      <td>76.78</td>\n",
              "      <td>O4689799000126</td>\n",
              "      <td>ANTÔNIO CARLOS</td>\n",
              "      <td>I - HOSPEDAGEM, ALIMENTAÇÃO E DESPESAS DE LOCO...</td>\n",
              "      <td>VIA BARBARESCO LTDA</td>\n",
              "      <td>2007-11-01</td>\n",
              "    </tr>\n",
              "    <tr>\n",
              "      <th>55964</th>\n",
              "      <td>300482</td>\n",
              "      <td>70.02</td>\n",
              "      <td>O4040553000129</td>\n",
              "      <td>ANTÔNIO CARLOS</td>\n",
              "      <td>A - COMBUSTÍVEIS E LUBRIFICANTES</td>\n",
              "      <td>AUTO POSTO AUSTRIA LTDA</td>\n",
              "      <td>2008-02-01</td>\n",
              "    </tr>\n",
              "    <tr>\n",
              "      <th>55998</th>\n",
              "      <td>300482</td>\n",
              "      <td>50.00</td>\n",
              "      <td>O4040553000129</td>\n",
              "      <td>ANTÔNIO CARLOS</td>\n",
              "      <td>A - COMBUSTÍVEIS E LUBRIFICANTES</td>\n",
              "      <td>AUTO POSTO AUSTRIA LTDA</td>\n",
              "      <td>2008-03-01</td>\n",
              "    </tr>\n",
              "    <tr>\n",
              "      <th>316251</th>\n",
              "      <td>300455</td>\n",
              "      <td>40.00</td>\n",
              "      <td>O2358317000120</td>\n",
              "      <td>MARCOS MARTINS</td>\n",
              "      <td>G - ASSINATURAS DE PERIÓDICOS, PUBLICAÇÕES, IN...</td>\n",
              "      <td>BASENET INFORMATICA LTDA</td>\n",
              "      <td>2007-09-01</td>\n",
              "    </tr>\n",
              "    <tr>\n",
              "      <th>365639</th>\n",
              "      <td>300468</td>\n",
              "      <td>504.12</td>\n",
              "      <td>O1520430000105</td>\n",
              "      <td>OLÍMPIO GOMES</td>\n",
              "      <td>I - HOSPEDAGEM, ALIMENTAÇÃO E DESPESAS DE LOCO...</td>\n",
              "      <td>PICANHARIA DO GAUCHO/ JOCELI NARDI CHURRASCARI...</td>\n",
              "      <td>2007-12-01</td>\n",
              "    </tr>\n",
              "    <tr>\n",
              "      <th>389510</th>\n",
              "      <td>300379</td>\n",
              "      <td>786.55</td>\n",
              "      <td>00O21449000136</td>\n",
              "      <td>PEDRO YVES</td>\n",
              "      <td>A - COMBUSTÍVEIS E LUBRIFICANTES</td>\n",
              "      <td>AUTO POSTO BOSQUE SATÉLITE LTDA</td>\n",
              "      <td>2002-05-01</td>\n",
              "    </tr>\n",
              "    <tr>\n",
              "      <th>389553</th>\n",
              "      <td>300379</td>\n",
              "      <td>915.76</td>\n",
              "      <td>00O21449000136</td>\n",
              "      <td>PEDRO YVES</td>\n",
              "      <td>A - COMBUSTÍVEIS E LUBRIFICANTES</td>\n",
              "      <td>AUTO POSTO BOSQUE SATÉLITE LTDA</td>\n",
              "      <td>2002-09-01</td>\n",
              "    </tr>\n",
              "    <tr>\n",
              "      <th>389565</th>\n",
              "      <td>300379</td>\n",
              "      <td>802.69</td>\n",
              "      <td>00O21449000136</td>\n",
              "      <td>PEDRO YVES</td>\n",
              "      <td>A - COMBUSTÍVEIS E LUBRIFICANTES</td>\n",
              "      <td>AUTO POSTO BOSQUE SATÉLITE LTDA</td>\n",
              "      <td>2002-10-01</td>\n",
              "    </tr>\n",
              "    <tr>\n",
              "      <th>389578</th>\n",
              "      <td>300379</td>\n",
              "      <td>3101.63</td>\n",
              "      <td>00O21449000136</td>\n",
              "      <td>PEDRO YVES</td>\n",
              "      <td>A - COMBUSTÍVEIS E LUBRIFICANTES</td>\n",
              "      <td>AUTO POSTO BOSQUE SATÉLITE LTDA</td>\n",
              "      <td>2002-12-01</td>\n",
              "    </tr>\n",
              "    <tr>\n",
              "      <th>389582</th>\n",
              "      <td>300379</td>\n",
              "      <td>5472.30</td>\n",
              "      <td>00O21449000136</td>\n",
              "      <td>PEDRO YVES</td>\n",
              "      <td>A - COMBUSTÍVEIS E LUBRIFICANTES</td>\n",
              "      <td>AUTO POSTO BOSQUE SATÉLITE LTDA</td>\n",
              "      <td>2003-01-01</td>\n",
              "    </tr>\n",
              "    <tr>\n",
              "      <th>395189</th>\n",
              "      <td>300344</td>\n",
              "      <td>173.00</td>\n",
              "      <td>O7482309000104</td>\n",
              "      <td>RAFAEL SILVA</td>\n",
              "      <td>I - HOSPEDAGEM, ALIMENTAÇÃO E DESPESAS DE LOCO...</td>\n",
              "      <td>JOÃO BATISTA DA SILVA CHURRASCARIA - ME</td>\n",
              "      <td>2007-06-01</td>\n",
              "    </tr>\n",
              "  </tbody>\n",
              "</table>\n",
              "</div>\n",
              "      <button class=\"colab-df-convert\" onclick=\"convertToInteractive('df-6accd49b-9c4f-488e-a07e-b2f7964bd854')\"\n",
              "              title=\"Convert this dataframe to an interactive table.\"\n",
              "              style=\"display:none;\">\n",
              "        \n",
              "  <svg xmlns=\"http://www.w3.org/2000/svg\" height=\"24px\"viewBox=\"0 0 24 24\"\n",
              "       width=\"24px\">\n",
              "    <path d=\"M0 0h24v24H0V0z\" fill=\"none\"/>\n",
              "    <path d=\"M18.56 5.44l.94 2.06.94-2.06 2.06-.94-2.06-.94-.94-2.06-.94 2.06-2.06.94zm-11 1L8.5 8.5l.94-2.06 2.06-.94-2.06-.94L8.5 2.5l-.94 2.06-2.06.94zm10 10l.94 2.06.94-2.06 2.06-.94-2.06-.94-.94-2.06-.94 2.06-2.06.94z\"/><path d=\"M17.41 7.96l-1.37-1.37c-.4-.4-.92-.59-1.43-.59-.52 0-1.04.2-1.43.59L10.3 9.45l-7.72 7.72c-.78.78-.78 2.05 0 2.83L4 21.41c.39.39.9.59 1.41.59.51 0 1.02-.2 1.41-.59l7.78-7.78 2.81-2.81c.8-.78.8-2.07 0-2.86zM5.41 20L4 18.59l7.72-7.72 1.47 1.35L5.41 20z\"/>\n",
              "  </svg>\n",
              "      </button>\n",
              "      \n",
              "  <style>\n",
              "    .colab-df-container {\n",
              "      display:flex;\n",
              "      flex-wrap:wrap;\n",
              "      gap: 12px;\n",
              "    }\n",
              "\n",
              "    .colab-df-convert {\n",
              "      background-color: #E8F0FE;\n",
              "      border: none;\n",
              "      border-radius: 50%;\n",
              "      cursor: pointer;\n",
              "      display: none;\n",
              "      fill: #1967D2;\n",
              "      height: 32px;\n",
              "      padding: 0 0 0 0;\n",
              "      width: 32px;\n",
              "    }\n",
              "\n",
              "    .colab-df-convert:hover {\n",
              "      background-color: #E2EBFA;\n",
              "      box-shadow: 0px 1px 2px rgba(60, 64, 67, 0.3), 0px 1px 3px 1px rgba(60, 64, 67, 0.15);\n",
              "      fill: #174EA6;\n",
              "    }\n",
              "\n",
              "    [theme=dark] .colab-df-convert {\n",
              "      background-color: #3B4455;\n",
              "      fill: #D2E3FC;\n",
              "    }\n",
              "\n",
              "    [theme=dark] .colab-df-convert:hover {\n",
              "      background-color: #434B5C;\n",
              "      box-shadow: 0px 1px 3px 1px rgba(0, 0, 0, 0.15);\n",
              "      filter: drop-shadow(0px 1px 2px rgba(0, 0, 0, 0.3));\n",
              "      fill: #FFFFFF;\n",
              "    }\n",
              "  </style>\n",
              "\n",
              "      <script>\n",
              "        const buttonEl =\n",
              "          document.querySelector('#df-6accd49b-9c4f-488e-a07e-b2f7964bd854 button.colab-df-convert');\n",
              "        buttonEl.style.display =\n",
              "          google.colab.kernel.accessAllowed ? 'block' : 'none';\n",
              "\n",
              "        async function convertToInteractive(key) {\n",
              "          const element = document.querySelector('#df-6accd49b-9c4f-488e-a07e-b2f7964bd854');\n",
              "          const dataTable =\n",
              "            await google.colab.kernel.invokeFunction('convertToInteractive',\n",
              "                                                     [key], {});\n",
              "          if (!dataTable) return;\n",
              "\n",
              "          const docLinkHtml = 'Like what you see? Visit the ' +\n",
              "            '<a target=\"_blank\" href=https://colab.research.google.com/notebooks/data_table.ipynb>data table notebook</a>'\n",
              "            + ' to learn more about interactive tables.';\n",
              "          element.innerHTML = '';\n",
              "          dataTable['output_type'] = 'display_data';\n",
              "          await google.colab.output.renderOutput(dataTable, element);\n",
              "          const docLink = document.createElement('div');\n",
              "          docLink.innerHTML = docLinkHtml;\n",
              "          element.appendChild(docLink);\n",
              "        }\n",
              "      </script>\n",
              "    </div>\n",
              "  </div>\n",
              "  "
            ]
          },
          "metadata": {},
          "execution_count": 17
        }
      ]
    },
    {
      "cell_type": "code",
      "source": [
        "# Replace nas inconsistências\n",
        "df_desp.cnpj.replace('O','0',regex=True,inplace=True)"
      ],
      "metadata": {
        "id": "d-FKSKGrUR2I"
      },
      "execution_count": 18,
      "outputs": []
    },
    {
      "cell_type": "code",
      "source": [
        "df_desp.loc[389510,'cnpj']"
      ],
      "metadata": {
        "colab": {
          "base_uri": "https://localhost:8080/",
          "height": 35
        },
        "id": "2z--nsjHUsBM",
        "outputId": "5bc6f97b-c2fa-460a-c4fd-d9ca07b7a7c8"
      },
      "execution_count": 19,
      "outputs": [
        {
          "output_type": "execute_result",
          "data": {
            "text/plain": [
              "'00021449000136'"
            ],
            "application/vnd.google.colaboratory.intrinsic+json": {
              "type": "string"
            }
          },
          "metadata": {},
          "execution_count": 19
        }
      ]
    },
    {
      "cell_type": "markdown",
      "source": [
        "**Observação:**\n",
        "\n",
        "Não é necessário converter a coluna 'cnpj' para int ou float. Por isso,corrigido as inconsistências, vou deixá-la como object para melhor manipulação dos dados."
      ],
      "metadata": {
        "id": "RQZ2QwwvVMSL"
      }
    },
    {
      "cell_type": "code",
      "source": [],
      "metadata": {
        "id": "SPztHxumVZ9P"
      },
      "execution_count": 19,
      "outputs": []
    },
    {
      "cell_type": "markdown",
      "source": [
        "###Filtros | Análises coluna cnpj"
      ],
      "metadata": {
        "id": "RXMYR0e9V36c"
      }
    },
    {
      "cell_type": "code",
      "source": [
        "#Dados faltantes\n",
        "ftnulos = df_desp.cnpj.isna()\n",
        "dfnulo = df_desp.loc[ftnulos]\n",
        "dfnulo"
      ],
      "metadata": {
        "colab": {
          "base_uri": "https://localhost:8080/",
          "height": 424
        },
        "id": "I8GAVADzV7e1",
        "outputId": "a5f1a554-a4fd-4a31-d7fe-d9c946faf661"
      },
      "execution_count": 20,
      "outputs": [
        {
          "output_type": "execute_result",
          "data": {
            "text/plain": [
              "        matricula  valor cnpj         deputado  \\\n",
              "787        300439  192.6  NaN  ADILSON BARROSO   \n",
              "814        300439  104.8  NaN  ADILSON BARROSO   \n",
              "852        300439  154.8  NaN  ADILSON BARROSO   \n",
              "877        300439   40.0  NaN  ADILSON BARROSO   \n",
              "892        300439   12.2  NaN  ADILSON BARROSO   \n",
              "...           ...    ...  ...              ...   \n",
              "536396     300441   80.6  NaN    ÍTALO CARDOSO   \n",
              "536435     300441   19.7  NaN    ÍTALO CARDOSO   \n",
              "536472     300441   63.2  NaN    ÍTALO CARDOSO   \n",
              "536499     300441   14.6  NaN    ÍTALO CARDOSO   \n",
              "536553     300441   12.7  NaN    ÍTALO CARDOSO   \n",
              "\n",
              "                                                     tipo fornecedor  \\\n",
              "787     C - MATERIAIS E SERVIÇOS DE MANUT E CONSERV DE...    PEDÁGIO   \n",
              "814     C - MATERIAIS E SERVIÇOS DE MANUT E CONSERV DE...    PEDÁGIO   \n",
              "852     C - MATERIAIS E SERVIÇOS DE MANUT E CONSERV DE...    PEDÁGIO   \n",
              "877                            K - LOCAÇÃO DE BENS MÓVEIS       TAXI   \n",
              "892     C - MATERIAIS E SERVIÇOS DE MANUT E CONSERV DE...    PEDÁGIO   \n",
              "...                                                   ...        ...   \n",
              "536396  C - MATERIAIS E SERVIÇOS DE MANUT E CONSERV DE...    PEDÁGIO   \n",
              "536435  C - MATERIAIS E SERVIÇOS DE MANUT E CONSERV DE...    PEDÁGIO   \n",
              "536472  C - MATERIAIS E SERVIÇOS DE MANUT E CONSERV DE...    PEDÁGIO   \n",
              "536499  C - MATERIAIS E SERVIÇOS DE MANUT E CONSERV DE...    PEDÁGIO   \n",
              "536553  C - MATERIAIS E SERVIÇOS DE MANUT E CONSERV DE...    PEDÁGIO   \n",
              "\n",
              "             data  \n",
              "787    2003-03-01  \n",
              "814    2003-04-01  \n",
              "852    2003-05-01  \n",
              "877    2003-05-01  \n",
              "892    2003-06-01  \n",
              "...           ...  \n",
              "536396 2006-10-01  \n",
              "536435 2006-11-01  \n",
              "536472 2006-12-01  \n",
              "536499 2007-01-01  \n",
              "536553 2007-03-01  \n",
              "\n",
              "[10892 rows x 7 columns]"
            ],
            "text/html": [
              "\n",
              "  <div id=\"df-ee0fb2bf-b997-46a7-a6ab-674e00decebf\">\n",
              "    <div class=\"colab-df-container\">\n",
              "      <div>\n",
              "<style scoped>\n",
              "    .dataframe tbody tr th:only-of-type {\n",
              "        vertical-align: middle;\n",
              "    }\n",
              "\n",
              "    .dataframe tbody tr th {\n",
              "        vertical-align: top;\n",
              "    }\n",
              "\n",
              "    .dataframe thead th {\n",
              "        text-align: right;\n",
              "    }\n",
              "</style>\n",
              "<table border=\"1\" class=\"dataframe\">\n",
              "  <thead>\n",
              "    <tr style=\"text-align: right;\">\n",
              "      <th></th>\n",
              "      <th>matricula</th>\n",
              "      <th>valor</th>\n",
              "      <th>cnpj</th>\n",
              "      <th>deputado</th>\n",
              "      <th>tipo</th>\n",
              "      <th>fornecedor</th>\n",
              "      <th>data</th>\n",
              "    </tr>\n",
              "  </thead>\n",
              "  <tbody>\n",
              "    <tr>\n",
              "      <th>787</th>\n",
              "      <td>300439</td>\n",
              "      <td>192.6</td>\n",
              "      <td>NaN</td>\n",
              "      <td>ADILSON BARROSO</td>\n",
              "      <td>C - MATERIAIS E SERVIÇOS DE MANUT E CONSERV DE...</td>\n",
              "      <td>PEDÁGIO</td>\n",
              "      <td>2003-03-01</td>\n",
              "    </tr>\n",
              "    <tr>\n",
              "      <th>814</th>\n",
              "      <td>300439</td>\n",
              "      <td>104.8</td>\n",
              "      <td>NaN</td>\n",
              "      <td>ADILSON BARROSO</td>\n",
              "      <td>C - MATERIAIS E SERVIÇOS DE MANUT E CONSERV DE...</td>\n",
              "      <td>PEDÁGIO</td>\n",
              "      <td>2003-04-01</td>\n",
              "    </tr>\n",
              "    <tr>\n",
              "      <th>852</th>\n",
              "      <td>300439</td>\n",
              "      <td>154.8</td>\n",
              "      <td>NaN</td>\n",
              "      <td>ADILSON BARROSO</td>\n",
              "      <td>C - MATERIAIS E SERVIÇOS DE MANUT E CONSERV DE...</td>\n",
              "      <td>PEDÁGIO</td>\n",
              "      <td>2003-05-01</td>\n",
              "    </tr>\n",
              "    <tr>\n",
              "      <th>877</th>\n",
              "      <td>300439</td>\n",
              "      <td>40.0</td>\n",
              "      <td>NaN</td>\n",
              "      <td>ADILSON BARROSO</td>\n",
              "      <td>K - LOCAÇÃO DE BENS MÓVEIS</td>\n",
              "      <td>TAXI</td>\n",
              "      <td>2003-05-01</td>\n",
              "    </tr>\n",
              "    <tr>\n",
              "      <th>892</th>\n",
              "      <td>300439</td>\n",
              "      <td>12.2</td>\n",
              "      <td>NaN</td>\n",
              "      <td>ADILSON BARROSO</td>\n",
              "      <td>C - MATERIAIS E SERVIÇOS DE MANUT E CONSERV DE...</td>\n",
              "      <td>PEDÁGIO</td>\n",
              "      <td>2003-06-01</td>\n",
              "    </tr>\n",
              "    <tr>\n",
              "      <th>...</th>\n",
              "      <td>...</td>\n",
              "      <td>...</td>\n",
              "      <td>...</td>\n",
              "      <td>...</td>\n",
              "      <td>...</td>\n",
              "      <td>...</td>\n",
              "      <td>...</td>\n",
              "    </tr>\n",
              "    <tr>\n",
              "      <th>536396</th>\n",
              "      <td>300441</td>\n",
              "      <td>80.6</td>\n",
              "      <td>NaN</td>\n",
              "      <td>ÍTALO CARDOSO</td>\n",
              "      <td>C - MATERIAIS E SERVIÇOS DE MANUT E CONSERV DE...</td>\n",
              "      <td>PEDÁGIO</td>\n",
              "      <td>2006-10-01</td>\n",
              "    </tr>\n",
              "    <tr>\n",
              "      <th>536435</th>\n",
              "      <td>300441</td>\n",
              "      <td>19.7</td>\n",
              "      <td>NaN</td>\n",
              "      <td>ÍTALO CARDOSO</td>\n",
              "      <td>C - MATERIAIS E SERVIÇOS DE MANUT E CONSERV DE...</td>\n",
              "      <td>PEDÁGIO</td>\n",
              "      <td>2006-11-01</td>\n",
              "    </tr>\n",
              "    <tr>\n",
              "      <th>536472</th>\n",
              "      <td>300441</td>\n",
              "      <td>63.2</td>\n",
              "      <td>NaN</td>\n",
              "      <td>ÍTALO CARDOSO</td>\n",
              "      <td>C - MATERIAIS E SERVIÇOS DE MANUT E CONSERV DE...</td>\n",
              "      <td>PEDÁGIO</td>\n",
              "      <td>2006-12-01</td>\n",
              "    </tr>\n",
              "    <tr>\n",
              "      <th>536499</th>\n",
              "      <td>300441</td>\n",
              "      <td>14.6</td>\n",
              "      <td>NaN</td>\n",
              "      <td>ÍTALO CARDOSO</td>\n",
              "      <td>C - MATERIAIS E SERVIÇOS DE MANUT E CONSERV DE...</td>\n",
              "      <td>PEDÁGIO</td>\n",
              "      <td>2007-01-01</td>\n",
              "    </tr>\n",
              "    <tr>\n",
              "      <th>536553</th>\n",
              "      <td>300441</td>\n",
              "      <td>12.7</td>\n",
              "      <td>NaN</td>\n",
              "      <td>ÍTALO CARDOSO</td>\n",
              "      <td>C - MATERIAIS E SERVIÇOS DE MANUT E CONSERV DE...</td>\n",
              "      <td>PEDÁGIO</td>\n",
              "      <td>2007-03-01</td>\n",
              "    </tr>\n",
              "  </tbody>\n",
              "</table>\n",
              "<p>10892 rows × 7 columns</p>\n",
              "</div>\n",
              "      <button class=\"colab-df-convert\" onclick=\"convertToInteractive('df-ee0fb2bf-b997-46a7-a6ab-674e00decebf')\"\n",
              "              title=\"Convert this dataframe to an interactive table.\"\n",
              "              style=\"display:none;\">\n",
              "        \n",
              "  <svg xmlns=\"http://www.w3.org/2000/svg\" height=\"24px\"viewBox=\"0 0 24 24\"\n",
              "       width=\"24px\">\n",
              "    <path d=\"M0 0h24v24H0V0z\" fill=\"none\"/>\n",
              "    <path d=\"M18.56 5.44l.94 2.06.94-2.06 2.06-.94-2.06-.94-.94-2.06-.94 2.06-2.06.94zm-11 1L8.5 8.5l.94-2.06 2.06-.94-2.06-.94L8.5 2.5l-.94 2.06-2.06.94zm10 10l.94 2.06.94-2.06 2.06-.94-2.06-.94-.94-2.06-.94 2.06-2.06.94z\"/><path d=\"M17.41 7.96l-1.37-1.37c-.4-.4-.92-.59-1.43-.59-.52 0-1.04.2-1.43.59L10.3 9.45l-7.72 7.72c-.78.78-.78 2.05 0 2.83L4 21.41c.39.39.9.59 1.41.59.51 0 1.02-.2 1.41-.59l7.78-7.78 2.81-2.81c.8-.78.8-2.07 0-2.86zM5.41 20L4 18.59l7.72-7.72 1.47 1.35L5.41 20z\"/>\n",
              "  </svg>\n",
              "      </button>\n",
              "      \n",
              "  <style>\n",
              "    .colab-df-container {\n",
              "      display:flex;\n",
              "      flex-wrap:wrap;\n",
              "      gap: 12px;\n",
              "    }\n",
              "\n",
              "    .colab-df-convert {\n",
              "      background-color: #E8F0FE;\n",
              "      border: none;\n",
              "      border-radius: 50%;\n",
              "      cursor: pointer;\n",
              "      display: none;\n",
              "      fill: #1967D2;\n",
              "      height: 32px;\n",
              "      padding: 0 0 0 0;\n",
              "      width: 32px;\n",
              "    }\n",
              "\n",
              "    .colab-df-convert:hover {\n",
              "      background-color: #E2EBFA;\n",
              "      box-shadow: 0px 1px 2px rgba(60, 64, 67, 0.3), 0px 1px 3px 1px rgba(60, 64, 67, 0.15);\n",
              "      fill: #174EA6;\n",
              "    }\n",
              "\n",
              "    [theme=dark] .colab-df-convert {\n",
              "      background-color: #3B4455;\n",
              "      fill: #D2E3FC;\n",
              "    }\n",
              "\n",
              "    [theme=dark] .colab-df-convert:hover {\n",
              "      background-color: #434B5C;\n",
              "      box-shadow: 0px 1px 3px 1px rgba(0, 0, 0, 0.15);\n",
              "      filter: drop-shadow(0px 1px 2px rgba(0, 0, 0, 0.3));\n",
              "      fill: #FFFFFF;\n",
              "    }\n",
              "  </style>\n",
              "\n",
              "      <script>\n",
              "        const buttonEl =\n",
              "          document.querySelector('#df-ee0fb2bf-b997-46a7-a6ab-674e00decebf button.colab-df-convert');\n",
              "        buttonEl.style.display =\n",
              "          google.colab.kernel.accessAllowed ? 'block' : 'none';\n",
              "\n",
              "        async function convertToInteractive(key) {\n",
              "          const element = document.querySelector('#df-ee0fb2bf-b997-46a7-a6ab-674e00decebf');\n",
              "          const dataTable =\n",
              "            await google.colab.kernel.invokeFunction('convertToInteractive',\n",
              "                                                     [key], {});\n",
              "          if (!dataTable) return;\n",
              "\n",
              "          const docLinkHtml = 'Like what you see? Visit the ' +\n",
              "            '<a target=\"_blank\" href=https://colab.research.google.com/notebooks/data_table.ipynb>data table notebook</a>'\n",
              "            + ' to learn more about interactive tables.';\n",
              "          element.innerHTML = '';\n",
              "          dataTable['output_type'] = 'display_data';\n",
              "          await google.colab.output.renderOutput(dataTable, element);\n",
              "          const docLink = document.createElement('div');\n",
              "          docLink.innerHTML = docLinkHtml;\n",
              "          element.appendChild(docLink);\n",
              "        }\n",
              "      </script>\n",
              "    </div>\n",
              "  </div>\n",
              "  "
            ]
          },
          "metadata": {},
          "execution_count": 20
        }
      ]
    },
    {
      "cell_type": "markdown",
      "source": [
        "####Deputados com mais cnpj nulos"
      ],
      "metadata": {
        "id": "QF6O-863XQy7"
      }
    },
    {
      "cell_type": "code",
      "source": [
        "dfnulo.groupby(['deputado']).size().sort_values(ascending=False).head(10).plot.bar(figsize=(12,8),xlabel='DEP.',ylabel='OCORRÊNCIAS',rot=90)"
      ],
      "metadata": {
        "colab": {
          "base_uri": "https://localhost:8080/",
          "height": 614
        },
        "id": "K09Rii3EXX7J",
        "outputId": "00263ba6-1b78-42fa-b592-e93ad8385910"
      },
      "execution_count": 21,
      "outputs": [
        {
          "output_type": "execute_result",
          "data": {
            "text/plain": [
              "<matplotlib.axes._subplots.AxesSubplot at 0x7f1da35bfd60>"
            ]
          },
          "metadata": {},
          "execution_count": 21
        },
        {
          "output_type": "display_data",
          "data": {
            "text/plain": [
              "<Figure size 864x576 with 1 Axes>"
            ],
            "image/png": "[encoded data removed]"
          },
          "metadata": {
            "needs_background": "light"
          }
        }
      ]
    },
    {
      "cell_type": "code",
      "source": [
        "# Quantas vezes foi e o que foi que mais aparece cnpj nulo\n",
        "\n",
        "dfnulo.groupby(['fornecedor']).size().sort_values(ascending=False)"
      ],
      "metadata": {
        "colab": {
          "base_uri": "https://localhost:8080/"
        },
        "id": "IeGHxGdrXNPo",
        "outputId": "eccfa0cb-1383-4fb4-f650-a98e9727aca9"
      },
      "execution_count": 22,
      "outputs": [
        {
          "output_type": "execute_result",
          "data": {
            "text/plain": [
              "fornecedor\n",
              "PEDÁGIO                                           7476\n",
              "TAXI                                              3385\n",
              "PEDAGIO                                             11\n",
              "ADOBE SYSTEMS SOFTWARE IRELAND LTDA                  5\n",
              "PEDÁGIOS                                             2\n",
              "GOOGLE ONE                                           2\n",
              "ELOY DE PAULA JUNIOR                                 1\n",
              "FLICKR, INC                                          1\n",
              "DROPBOX INTERNACIONAL UNLIMETED COMPANY              1\n",
              "GOOGLE STORAGE - GOOGLE ONE                          1\n",
              "LEANDRO MATOS NICOLELA                               1\n",
              "DELTA RADIO TAXI                                     1\n",
              "PEDAGIOS                                             1\n",
              "CUPONS DE PEDÁGIO                                    1\n",
              "CONCESSIONARIA RODOVIA OESTE DE SAO PAULO S.A.       1\n",
              "PEGAGIO                                              1\n",
              "ADOBE SYSTEMS SOFTWARE IRELAND LTD                   1\n",
              "dtype: int64"
            ]
          },
          "metadata": {},
          "execution_count": 22
        }
      ]
    },
    {
      "cell_type": "code",
      "source": [
        "# Quanto está sendo gasto em reais com cada 'produto'\n",
        "valor = dfnulo.groupby('fornecedor').sum()\n",
        "valor.head(2)"
      ],
      "metadata": {
        "colab": {
          "base_uri": "https://localhost:8080/",
          "height": 143
        },
        "id": "P3Ps0evhaLBI",
        "outputId": "c6b296bc-078e-433e-abb4-ae883fdbc0a0"
      },
      "execution_count": 23,
      "outputs": [
        {
          "output_type": "execute_result",
          "data": {
            "text/plain": [
              "                                     matricula  valor\n",
              "fornecedor                                           \n",
              "ADOBE SYSTEMS SOFTWARE IRELAND LTD      300470  124.0\n",
              "ADOBE SYSTEMS SOFTWARE IRELAND LTDA    1502350  620.0"
            ],
            "text/html": [
              "\n",
              "  <div id=\"df-03dcb64c-1fd9-49fe-beab-7136a70de4ec\">\n",
              "    <div class=\"colab-df-container\">\n",
              "      <div>\n",
              "<style scoped>\n",
              "    .dataframe tbody tr th:only-of-type {\n",
              "        vertical-align: middle;\n",
              "    }\n",
              "\n",
              "    .dataframe tbody tr th {\n",
              "        vertical-align: top;\n",
              "    }\n",
              "\n",
              "    .dataframe thead th {\n",
              "        text-align: right;\n",
              "    }\n",
              "</style>\n",
              "<table border=\"1\" class=\"dataframe\">\n",
              "  <thead>\n",
              "    <tr style=\"text-align: right;\">\n",
              "      <th></th>\n",
              "      <th>matricula</th>\n",
              "      <th>valor</th>\n",
              "    </tr>\n",
              "    <tr>\n",
              "      <th>fornecedor</th>\n",
              "      <th></th>\n",
              "      <th></th>\n",
              "    </tr>\n",
              "  </thead>\n",
              "  <tbody>\n",
              "    <tr>\n",
              "      <th>ADOBE SYSTEMS SOFTWARE IRELAND LTD</th>\n",
              "      <td>300470</td>\n",
              "      <td>124.0</td>\n",
              "    </tr>\n",
              "    <tr>\n",
              "      <th>ADOBE SYSTEMS SOFTWARE IRELAND LTDA</th>\n",
              "      <td>1502350</td>\n",
              "      <td>620.0</td>\n",
              "    </tr>\n",
              "  </tbody>\n",
              "</table>\n",
              "</div>\n",
              "      <button class=\"colab-df-convert\" onclick=\"convertToInteractive('df-03dcb64c-1fd9-49fe-beab-7136a70de4ec')\"\n",
              "              title=\"Convert this dataframe to an interactive table.\"\n",
              "              style=\"display:none;\">\n",
              "        \n",
              "  <svg xmlns=\"http://www.w3.org/2000/svg\" height=\"24px\"viewBox=\"0 0 24 24\"\n",
              "       width=\"24px\">\n",
              "    <path d=\"M0 0h24v24H0V0z\" fill=\"none\"/>\n",
              "    <path d=\"M18.56 5.44l.94 2.06.94-2.06 2.06-.94-2.06-.94-.94-2.06-.94 2.06-2.06.94zm-11 1L8.5 8.5l.94-2.06 2.06-.94-2.06-.94L8.5 2.5l-.94 2.06-2.06.94zm10 10l.94 2.06.94-2.06 2.06-.94-2.06-.94-.94-2.06-.94 2.06-2.06.94z\"/><path d=\"M17.41 7.96l-1.37-1.37c-.4-.4-.92-.59-1.43-.59-.52 0-1.04.2-1.43.59L10.3 9.45l-7.72 7.72c-.78.78-.78 2.05 0 2.83L4 21.41c.39.39.9.59 1.41.59.51 0 1.02-.2 1.41-.59l7.78-7.78 2.81-2.81c.8-.78.8-2.07 0-2.86zM5.41 20L4 18.59l7.72-7.72 1.47 1.35L5.41 20z\"/>\n",
              "  </svg>\n",
              "      </button>\n",
              "      \n",
              "  <style>\n",
              "    .colab-df-container {\n",
              "      display:flex;\n",
              "      flex-wrap:wrap;\n",
              "      gap: 12px;\n",
              "    }\n",
              "\n",
              "    .colab-df-convert {\n",
              "      background-color: #E8F0FE;\n",
              "      border: none;\n",
              "      border-radius: 50%;\n",
              "      cursor: pointer;\n",
              "      display: none;\n",
              "      fill: #1967D2;\n",
              "      height: 32px;\n",
              "      padding: 0 0 0 0;\n",
              "      width: 32px;\n",
              "    }\n",
              "\n",
              "    .colab-df-convert:hover {\n",
              "      background-color: #E2EBFA;\n",
              "      box-shadow: 0px 1px 2px rgba(60, 64, 67, 0.3), 0px 1px 3px 1px rgba(60, 64, 67, 0.15);\n",
              "      fill: #174EA6;\n",
              "    }\n",
              "\n",
              "    [theme=dark] .colab-df-convert {\n",
              "      background-color: #3B4455;\n",
              "      fill: #D2E3FC;\n",
              "    }\n",
              "\n",
              "    [theme=dark] .colab-df-convert:hover {\n",
              "      background-color: #434B5C;\n",
              "      box-shadow: 0px 1px 3px 1px rgba(0, 0, 0, 0.15);\n",
              "      filter: drop-shadow(0px 1px 2px rgba(0, 0, 0, 0.3));\n",
              "      fill: #FFFFFF;\n",
              "    }\n",
              "  </style>\n",
              "\n",
              "      <script>\n",
              "        const buttonEl =\n",
              "          document.querySelector('#df-03dcb64c-1fd9-49fe-beab-7136a70de4ec button.colab-df-convert');\n",
              "        buttonEl.style.display =\n",
              "          google.colab.kernel.accessAllowed ? 'block' : 'none';\n",
              "\n",
              "        async function convertToInteractive(key) {\n",
              "          const element = document.querySelector('#df-03dcb64c-1fd9-49fe-beab-7136a70de4ec');\n",
              "          const dataTable =\n",
              "            await google.colab.kernel.invokeFunction('convertToInteractive',\n",
              "                                                     [key], {});\n",
              "          if (!dataTable) return;\n",
              "\n",
              "          const docLinkHtml = 'Like what you see? Visit the ' +\n",
              "            '<a target=\"_blank\" href=https://colab.research.google.com/notebooks/data_table.ipynb>data table notebook</a>'\n",
              "            + ' to learn more about interactive tables.';\n",
              "          element.innerHTML = '';\n",
              "          dataTable['output_type'] = 'display_data';\n",
              "          await google.colab.output.renderOutput(dataTable, element);\n",
              "          const docLink = document.createElement('div');\n",
              "          docLink.innerHTML = docLinkHtml;\n",
              "          element.appendChild(docLink);\n",
              "        }\n",
              "      </script>\n",
              "    </div>\n",
              "  </div>\n",
              "  "
            ]
          },
          "metadata": {},
          "execution_count": 23
        }
      ]
    },
    {
      "cell_type": "code",
      "source": [
        "valor.valor.sort_values(ascending=False)"
      ],
      "metadata": {
        "colab": {
          "base_uri": "https://localhost:8080/"
        },
        "id": "2hYFM-X5c1PT",
        "outputId": "b126f724-39b3-4384-e9b9-485abc9acde1"
      },
      "execution_count": 24,
      "outputs": [
        {
          "output_type": "execute_result",
          "data": {
            "text/plain": [
              "fornecedor\n",
              "PEDÁGIO                                           1463663.60\n",
              "TAXI                                               509931.22\n",
              "ADOBE SYSTEMS SOFTWARE IRELAND LTDA                   620.00\n",
              "PEDAGIO                                               539.10\n",
              "DROPBOX INTERNACIONAL UNLIMETED COMPANY               495.42\n",
              "GOOGLE ONE                                            349.98\n",
              "FLICKR, INC                                           267.50\n",
              "GOOGLE STORAGE - GOOGLE ONE                           174.99\n",
              "CUPONS DE PEDÁGIO                                     125.20\n",
              "ADOBE SYSTEMS SOFTWARE IRELAND LTD                    124.00\n",
              "PEDÁGIOS                                               73.40\n",
              "CONCESSIONARIA RODOVIA OESTE DE SAO PAULO S.A.         65.20\n",
              "PEDAGIOS                                               64.20\n",
              "ELOY DE PAULA JUNIOR                                   62.00\n",
              "LEANDRO MATOS NICOLELA                                 43.86\n",
              "DELTA RADIO TAXI                                       42.00\n",
              "PEGAGIO                                                24.20\n",
              "Name: valor, dtype: float64"
            ]
          },
          "metadata": {},
          "execution_count": 24
        }
      ]
    },
    {
      "cell_type": "code",
      "source": [
        "# Quanto foi gasto no total em relação a cnpj nulos\n",
        "valor.valor.sum()"
      ],
      "metadata": {
        "id": "6qvn4-p7cVkz",
        "colab": {
          "base_uri": "https://localhost:8080/"
        },
        "outputId": "9509c892-588f-47a4-d747-59369a71f9a2"
      },
      "execution_count": 25,
      "outputs": [
        {
          "output_type": "execute_result",
          "data": {
            "text/plain": [
              "1976665.87"
            ]
          },
          "metadata": {},
          "execution_count": 25
        }
      ]
    },
    {
      "cell_type": "markdown",
      "source": [
        "## Dados Pedágio"
      ],
      "metadata": {
        "id": "zxQcxWdOe2Hi"
      }
    },
    {
      "cell_type": "markdown",
      "source": [
        "\n",
        "\n",
        "1.   **Inconsistência na palavra PEDÁGIO,PEDAGIO observada a partir de filtros realizados em cima do tipo C (MATERIAIS E SERVIÇOS DE MANUT E CONSERV DE VEÍCULOS ; PEDÁGIOS)  |>** OK\n",
        "\n",
        "**observação:** Essa inconsistência na palavra foi sinalizada em aula pelo professor, o desafio era encontrá-la e corrigir através de filtros.\n",
        "\n",
        "\n"
      ],
      "metadata": {
        "id": "I43AzK80d7C_"
      }
    },
    {
      "cell_type": "code",
      "source": [
        "df_desp.groupby(['tipo']).size()"
      ],
      "metadata": {
        "colab": {
          "base_uri": "https://localhost:8080/"
        },
        "id": "pemzKTPiUsqF",
        "outputId": "9b679137-f705-4bd7-a44e-000585f86ff7"
      },
      "execution_count": 26,
      "outputs": [
        {
          "output_type": "execute_result",
          "data": {
            "text/plain": [
              "tipo\n",
              "A - COMBUSTÍVEIS E LUBRIFICANTES                                      142552\n",
              "B - LOCAÇÃO E MANUT DE BENS MÓVEIS E IMÓVEIS, CONDOMÍNIOS E OUTROS     13685\n",
              "C - MATERIAIS E SERVIÇOS DE MANUT E CONSERV DE VEÍCULOS ; PEDÁGIOS     21168\n",
              "D - MATERIAIS E SERVIÇOS GRÁFICOS, DE CÓPIAS  E REPRODUÇÃO DE DOCS     25679\n",
              "E - MATERIAIS DE ESCRITÓRIO E OUTROS MATERIAIS DE CONSUMO              50366\n",
              "F - SERVIÇOS TÉCNICOS PROFISSIONAIS (CONSULTORIA, PESQUISAS ETC)       18190\n",
              "G - ASSINATURAS DE PERIÓDICOS, PUBLICAÇÕES, INTERNET E SOFTWARES       27025\n",
              "H - SERV.UTIL.PÚBLICA (TELEF.MÓVEL/FIXA, ENERGIA, ÁGUA, GÁS ETC)       66606\n",
              "I - HOSPEDAGEM, ALIMENTAÇÃO E DESPESAS DE LOCOMOÇÃO                   107173\n",
              "J - SERVIÇOS DE COMUNICAÇÃO                                            14194\n",
              "K - LOCAÇÃO DE BENS MÓVEIS                                             12286\n",
              "L - LOCAÇÃO DE BENS IMÓVEIS                                            14883\n",
              "M - MANUTENÇÃO DE BENS MÓVEIS,  IMÓVEIS, CONDOMÍNIOS E OUTROS          17545\n",
              "N - MORADIA                                                             2016\n",
              "O - LOCAÇÃO DE VEÍCULO                                                  2900\n",
              "P - DIVULGAÇÃO DA ATIVIDADE PARLAMENTAR                                  300\n",
              "dtype: int64"
            ]
          },
          "metadata": {},
          "execution_count": 26
        }
      ]
    },
    {
      "cell_type": "code",
      "source": [
        "filtro_ped = df_desp.tipo == 'C - MATERIAIS E SERVIÇOS DE MANUT E CONSERV DE VEÍCULOS ; PEDÁGIOS'\n",
        "dfped = df_desp.loc[filtro_ped]\n",
        "dfped"
      ],
      "metadata": {
        "id": "HcuWwo_Be0lw",
        "colab": {
          "base_uri": "https://localhost:8080/",
          "height": 641
        },
        "outputId": "b69c2627-f9dd-42e6-f712-128414b6e837"
      },
      "execution_count": 27,
      "outputs": [
        {
          "output_type": "execute_result",
          "data": {
            "text/plain": [
              "        matricula    valor             cnpj            deputado  \\\n",
              "42         300257  3243.72   61488904000364  ABELARDO CAMARINHA   \n",
              "66         300257  3148.71   61488904000364  ABELARDO CAMARINHA   \n",
              "105        300257  2454.56   61488904000364  ABELARDO CAMARINHA   \n",
              "119        300257  1374.00   61488904000364  ABELARDO CAMARINHA   \n",
              "134        300257   634.00   61488904000364  ABELARDO CAMARINHA   \n",
              "...           ...      ...              ...                 ...   \n",
              "536472     300441    63.20              NaN       ÍTALO CARDOSO   \n",
              "536499     300441    14.60              NaN       ÍTALO CARDOSO   \n",
              "536529     300441   800.00    50323741991.0       ÍTALO CARDOSO   \n",
              "536552     300441   892.00  7052735000108.0       ÍTALO CARDOSO   \n",
              "536553     300441    12.70              NaN       ÍTALO CARDOSO   \n",
              "\n",
              "                                                     tipo  \\\n",
              "42      C - MATERIAIS E SERVIÇOS DE MANUT E CONSERV DE...   \n",
              "66      C - MATERIAIS E SERVIÇOS DE MANUT E CONSERV DE...   \n",
              "105     C - MATERIAIS E SERVIÇOS DE MANUT E CONSERV DE...   \n",
              "119     C - MATERIAIS E SERVIÇOS DE MANUT E CONSERV DE...   \n",
              "134     C - MATERIAIS E SERVIÇOS DE MANUT E CONSERV DE...   \n",
              "...                                                   ...   \n",
              "536472  C - MATERIAIS E SERVIÇOS DE MANUT E CONSERV DE...   \n",
              "536499  C - MATERIAIS E SERVIÇOS DE MANUT E CONSERV DE...   \n",
              "536529  C - MATERIAIS E SERVIÇOS DE MANUT E CONSERV DE...   \n",
              "536552  C - MATERIAIS E SERVIÇOS DE MANUT E CONSERV DE...   \n",
              "536553  C - MATERIAIS E SERVIÇOS DE MANUT E CONSERV DE...   \n",
              "\n",
              "                                       fornecedor       data  \n",
              "42                  ITORORO VEÍCULOS E PEÇAS LTDA 2015-09-01  \n",
              "66                  ITORORO VEÍCULOS E PEÇAS LTDA 2016-03-01  \n",
              "105                 ITORORO VEÍCULOS E PEÇAS LTDA 2016-08-01  \n",
              "119                 ITORORO VEÍCULOS E PEÇAS LTDA 2016-10-01  \n",
              "134                 ITORORO VEÍCULOS E PEÇAS LTDA 2016-12-01  \n",
              "...                                           ...        ...  \n",
              "536472                                    PEDÁGIO 2006-12-01  \n",
              "536499                                    PEDÁGIO 2007-01-01  \n",
              "536529        MILTON MULLER - FUNILARIA E PINTURA 2007-02-01  \n",
              "536552  WASHINGTON DA SILVA MARIANO MECANICA - ME 2007-03-01  \n",
              "536553                                    PEDÁGIO 2007-03-01  \n",
              "\n",
              "[21168 rows x 7 columns]"
            ],
            "text/html": [
              "\n",
              "  <div id=\"df-4aafaa36-5dac-4b60-b520-84f02e103ced\">\n",
              "    <div class=\"colab-df-container\">\n",
              "      <div>\n",
              "<style scoped>\n",
              "    .dataframe tbody tr th:only-of-type {\n",
              "        vertical-align: middle;\n",
              "    }\n",
              "\n",
              "    .dataframe tbody tr th {\n",
              "        vertical-align: top;\n",
              "    }\n",
              "\n",
              "    .dataframe thead th {\n",
              "        text-align: right;\n",
              "    }\n",
              "</style>\n",
              "<table border=\"1\" class=\"dataframe\">\n",
              "  <thead>\n",
              "    <tr style=\"text-align: right;\">\n",
              "      <th></th>\n",
              "      <th>matricula</th>\n",
              "      <th>valor</th>\n",
              "      <th>cnpj</th>\n",
              "      <th>deputado</th>\n",
              "      <th>tipo</th>\n",
              "      <th>fornecedor</th>\n",
              "      <th>data</th>\n",
              "    </tr>\n",
              "  </thead>\n",
              "  <tbody>\n",
              "    <tr>\n",
              "      <th>42</th>\n",
              "      <td>300257</td>\n",
              "      <td>3243.72</td>\n",
              "      <td>61488904000364</td>\n",
              "      <td>ABELARDO CAMARINHA</td>\n",
              "      <td>C - MATERIAIS E SERVIÇOS DE MANUT E CONSERV DE...</td>\n",
              "      <td>ITORORO VEÍCULOS E PEÇAS LTDA</td>\n",
              "      <td>2015-09-01</td>\n",
              "    </tr>\n",
              "    <tr>\n",
              "      <th>66</th>\n",
              "      <td>300257</td>\n",
              "      <td>3148.71</td>\n",
              "      <td>61488904000364</td>\n",
              "      <td>ABELARDO CAMARINHA</td>\n",
              "      <td>C - MATERIAIS E SERVIÇOS DE MANUT E CONSERV DE...</td>\n",
              "      <td>ITORORO VEÍCULOS E PEÇAS LTDA</td>\n",
              "      <td>2016-03-01</td>\n",
              "    </tr>\n",
              "    <tr>\n",
              "      <th>105</th>\n",
              "      <td>300257</td>\n",
              "      <td>2454.56</td>\n",
              "      <td>61488904000364</td>\n",
              "      <td>ABELARDO CAMARINHA</td>\n",
              "      <td>C - MATERIAIS E SERVIÇOS DE MANUT E CONSERV DE...</td>\n",
              "      <td>ITORORO VEÍCULOS E PEÇAS LTDA</td>\n",
              "      <td>2016-08-01</td>\n",
              "    </tr>\n",
              "    <tr>\n",
              "      <th>119</th>\n",
              "      <td>300257</td>\n",
              "      <td>1374.00</td>\n",
              "      <td>61488904000364</td>\n",
              "      <td>ABELARDO CAMARINHA</td>\n",
              "      <td>C - MATERIAIS E SERVIÇOS DE MANUT E CONSERV DE...</td>\n",
              "      <td>ITORORO VEÍCULOS E PEÇAS LTDA</td>\n",
              "      <td>2016-10-01</td>\n",
              "    </tr>\n",
              "    <tr>\n",
              "      <th>134</th>\n",
              "      <td>300257</td>\n",
              "      <td>634.00</td>\n",
              "      <td>61488904000364</td>\n",
              "      <td>ABELARDO CAMARINHA</td>\n",
              "      <td>C - MATERIAIS E SERVIÇOS DE MANUT E CONSERV DE...</td>\n",
              "      <td>ITORORO VEÍCULOS E PEÇAS LTDA</td>\n",
              "      <td>2016-12-01</td>\n",
              "    </tr>\n",
              "    <tr>\n",
              "      <th>...</th>\n",
              "      <td>...</td>\n",
              "      <td>...</td>\n",
              "      <td>...</td>\n",
              "      <td>...</td>\n",
              "      <td>...</td>\n",
              "      <td>...</td>\n",
              "      <td>...</td>\n",
              "    </tr>\n",
              "    <tr>\n",
              "      <th>536472</th>\n",
              "      <td>300441</td>\n",
              "      <td>63.20</td>\n",
              "      <td>NaN</td>\n",
              "      <td>ÍTALO CARDOSO</td>\n",
              "      <td>C - MATERIAIS E SERVIÇOS DE MANUT E CONSERV DE...</td>\n",
              "      <td>PEDÁGIO</td>\n",
              "      <td>2006-12-01</td>\n",
              "    </tr>\n",
              "    <tr>\n",
              "      <th>536499</th>\n",
              "      <td>300441</td>\n",
              "      <td>14.60</td>\n",
              "      <td>NaN</td>\n",
              "      <td>ÍTALO CARDOSO</td>\n",
              "      <td>C - MATERIAIS E SERVIÇOS DE MANUT E CONSERV DE...</td>\n",
              "      <td>PEDÁGIO</td>\n",
              "      <td>2007-01-01</td>\n",
              "    </tr>\n",
              "    <tr>\n",
              "      <th>536529</th>\n",
              "      <td>300441</td>\n",
              "      <td>800.00</td>\n",
              "      <td>50323741991.0</td>\n",
              "      <td>ÍTALO CARDOSO</td>\n",
              "      <td>C - MATERIAIS E SERVIÇOS DE MANUT E CONSERV DE...</td>\n",
              "      <td>MILTON MULLER - FUNILARIA E PINTURA</td>\n",
              "      <td>2007-02-01</td>\n",
              "    </tr>\n",
              "    <tr>\n",
              "      <th>536552</th>\n",
              "      <td>300441</td>\n",
              "      <td>892.00</td>\n",
              "      <td>7052735000108.0</td>\n",
              "      <td>ÍTALO CARDOSO</td>\n",
              "      <td>C - MATERIAIS E SERVIÇOS DE MANUT E CONSERV DE...</td>\n",
              "      <td>WASHINGTON DA SILVA MARIANO MECANICA - ME</td>\n",
              "      <td>2007-03-01</td>\n",
              "    </tr>\n",
              "    <tr>\n",
              "      <th>536553</th>\n",
              "      <td>300441</td>\n",
              "      <td>12.70</td>\n",
              "      <td>NaN</td>\n",
              "      <td>ÍTALO CARDOSO</td>\n",
              "      <td>C - MATERIAIS E SERVIÇOS DE MANUT E CONSERV DE...</td>\n",
              "      <td>PEDÁGIO</td>\n",
              "      <td>2007-03-01</td>\n",
              "    </tr>\n",
              "  </tbody>\n",
              "</table>\n",
              "<p>21168 rows × 7 columns</p>\n",
              "</div>\n",
              "      <button class=\"colab-df-convert\" onclick=\"convertToInteractive('df-4aafaa36-5dac-4b60-b520-84f02e103ced')\"\n",
              "              title=\"Convert this dataframe to an interactive table.\"\n",
              "              style=\"display:none;\">\n",
              "        \n",
              "  <svg xmlns=\"http://www.w3.org/2000/svg\" height=\"24px\"viewBox=\"0 0 24 24\"\n",
              "       width=\"24px\">\n",
              "    <path d=\"M0 0h24v24H0V0z\" fill=\"none\"/>\n",
              "    <path d=\"M18.56 5.44l.94 2.06.94-2.06 2.06-.94-2.06-.94-.94-2.06-.94 2.06-2.06.94zm-11 1L8.5 8.5l.94-2.06 2.06-.94-2.06-.94L8.5 2.5l-.94 2.06-2.06.94zm10 10l.94 2.06.94-2.06 2.06-.94-2.06-.94-.94-2.06-.94 2.06-2.06.94z\"/><path d=\"M17.41 7.96l-1.37-1.37c-.4-.4-.92-.59-1.43-.59-.52 0-1.04.2-1.43.59L10.3 9.45l-7.72 7.72c-.78.78-.78 2.05 0 2.83L4 21.41c.39.39.9.59 1.41.59.51 0 1.02-.2 1.41-.59l7.78-7.78 2.81-2.81c.8-.78.8-2.07 0-2.86zM5.41 20L4 18.59l7.72-7.72 1.47 1.35L5.41 20z\"/>\n",
              "  </svg>\n",
              "      </button>\n",
              "      \n",
              "  <style>\n",
              "    .colab-df-container {\n",
              "      display:flex;\n",
              "      flex-wrap:wrap;\n",
              "      gap: 12px;\n",
              "    }\n",
              "\n",
              "    .colab-df-convert {\n",
              "      background-color: #E8F0FE;\n",
              "      border: none;\n",
              "      border-radius: 50%;\n",
              "      cursor: pointer;\n",
              "      display: none;\n",
              "      fill: #1967D2;\n",
              "      height: 32px;\n",
              "      padding: 0 0 0 0;\n",
              "      width: 32px;\n",
              "    }\n",
              "\n",
              "    .colab-df-convert:hover {\n",
              "      background-color: #E2EBFA;\n",
              "      box-shadow: 0px 1px 2px rgba(60, 64, 67, 0.3), 0px 1px 3px 1px rgba(60, 64, 67, 0.15);\n",
              "      fill: #174EA6;\n",
              "    }\n",
              "\n",
              "    [theme=dark] .colab-df-convert {\n",
              "      background-color: #3B4455;\n",
              "      fill: #D2E3FC;\n",
              "    }\n",
              "\n",
              "    [theme=dark] .colab-df-convert:hover {\n",
              "      background-color: #434B5C;\n",
              "      box-shadow: 0px 1px 3px 1px rgba(0, 0, 0, 0.15);\n",
              "      filter: drop-shadow(0px 1px 2px rgba(0, 0, 0, 0.3));\n",
              "      fill: #FFFFFF;\n",
              "    }\n",
              "  </style>\n",
              "\n",
              "      <script>\n",
              "        const buttonEl =\n",
              "          document.querySelector('#df-4aafaa36-5dac-4b60-b520-84f02e103ced button.colab-df-convert');\n",
              "        buttonEl.style.display =\n",
              "          google.colab.kernel.accessAllowed ? 'block' : 'none';\n",
              "\n",
              "        async function convertToInteractive(key) {\n",
              "          const element = document.querySelector('#df-4aafaa36-5dac-4b60-b520-84f02e103ced');\n",
              "          const dataTable =\n",
              "            await google.colab.kernel.invokeFunction('convertToInteractive',\n",
              "                                                     [key], {});\n",
              "          if (!dataTable) return;\n",
              "\n",
              "          const docLinkHtml = 'Like what you see? Visit the ' +\n",
              "            '<a target=\"_blank\" href=https://colab.research.google.com/notebooks/data_table.ipynb>data table notebook</a>'\n",
              "            + ' to learn more about interactive tables.';\n",
              "          element.innerHTML = '';\n",
              "          dataTable['output_type'] = 'display_data';\n",
              "          await google.colab.output.renderOutput(dataTable, element);\n",
              "          const docLink = document.createElement('div');\n",
              "          docLink.innerHTML = docLinkHtml;\n",
              "          element.appendChild(docLink);\n",
              "        }\n",
              "      </script>\n",
              "    </div>\n",
              "  </div>\n",
              "  "
            ]
          },
          "metadata": {},
          "execution_count": 27
        }
      ]
    },
    {
      "cell_type": "code",
      "source": [
        "filtro_ped2 = dfped.fornecedor.str[0:3] == 'PED'\n",
        "filtro_ped3 = dfped.fornecedor.str[0:3] == 'PEG'\n",
        "dfped2 = dfped.loc[filtro_ped2 | filtro_ped3]"
      ],
      "metadata": {
        "id": "eUkt8fquVELn"
      },
      "execution_count": 28,
      "outputs": []
    },
    {
      "cell_type": "code",
      "source": [
        "pd.unique(dfped2['fornecedor'])"
      ],
      "metadata": {
        "colab": {
          "base_uri": "https://localhost:8080/"
        },
        "id": "q8KNxfcRVgn1",
        "outputId": "4978ffdb-b86f-44f8-ec44-d3b05903ea75"
      },
      "execution_count": 29,
      "outputs": [
        {
          "output_type": "execute_result",
          "data": {
            "text/plain": [
              "array(['PEDÁGIO', 'PEDAGIO', 'PEDRO F. RIBEIRO & CIA LTDA EPP',\n",
              "       'PEDÁGIOS', 'PEDRO HENRIQUE DE SOUZA PEREIRA-ME',\n",
              "       'PEDAGIO SEM PARAR', 'PEDAGIO DE ELISIARIO', 'PEDAGIOS',\n",
              "       'PEDRO ROBERTO BARONI E CIA LTDA- ME',\n",
              "       'PEDAGIO DE BUENO DE ANDRADA', 'PEDAGIO DI BROA P01', 'PEGAGIO',\n",
              "       'PEDRO GAMA'], dtype=object)"
            ]
          },
          "metadata": {},
          "execution_count": 29
        }
      ]
    },
    {
      "cell_type": "code",
      "source": [
        "df_desp.replace(['PEDÁGIO', 'PEDAGIO', \n",
        "       'PEDÁGIOS' 'PEDAGIO SEM PARAR', 'PEDAGIO DE ELISIARIO', 'PEDAGIOS',\n",
        "       'PEDAGIO DE BUENO DE ANDRADA', 'PEDAGIO DI BROA P01', 'PEGAGIO',],'PEDAGIO',inplace=True)"
      ],
      "metadata": {
        "id": "E06-7tCzZSNH"
      },
      "execution_count": 30,
      "outputs": []
    }
  ]
}