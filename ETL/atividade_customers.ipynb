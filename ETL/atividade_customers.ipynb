{
  "nbformat": 4,
  "nbformat_minor": 0,
  "metadata": {
    "colab": {
      "provenance": [],
      "collapsed_sections": [
        "ZP0cgcfpquCf"
      ],
      "mount_file_id": "1g-Sh0BBGGNfKgbr55asTGri6YNxKrz7q",
      "authorship_tag": "ABX9TyMq6EhOnpSa5BcDL3dO3CHq",
      "include_colab_link": true
    },
    "kernelspec": {
      "name": "python3",
      "display_name": "Python 3"
    },
    "language_info": {
      "name": "python"
    }
  },
  "cells": [
    {
      "cell_type": "markdown",
      "metadata": {
        "id": "view-in-github",
        "colab_type": "text"
      },
      "source": [
        "<a href=\"https://colab.research.google.com/github/Daniel022de/Bootcamp_SoulCode_EngenhariaDados/blob/main/ETL/atividade_customers.ipynb\" target=\"_parent\"><img src=\"https://colab.research.google.com/assets/colab-badge.svg\" alt=\"Open In Colab\"/></a>"
      ]
    },
    {
      "cell_type": "markdown",
      "source": [
        "#ETL collections do MongoDB\n",
        "\n",
        "Esse Notebook é referente a uma atividade proposta pelo professor **Igor Gondim** no bootcamp **engenharia de dados** da SoulCode de extração, tratamento, limpeza e carregamento do customers collection, uma coleção de um Dataset público do MongoDB (Sample Analytics Dataset).\n",
        "\n",
        " **A proposta foi a seguinte:**\n",
        "\n",
        "* Conecte ao DataSet MongoDB, extraia a collection para o colab;\n",
        "* Trate,limpe e normalize os dados.\n",
        "\n",
        "\n",
        "! **Você pode encontrar esse notebook no meu repositório** [GitHub](https://github.com/Daniel022de/Bootcamp_SoulCode_EngenhariaDados)\n",
        "\n",
        "! **Você pode entrar em contato comigo através do meu email** ddololiveira.pessoal@gmail.com **e** [Linkedin](https://www.linkedin.com/in/daniel-oliveira-503b0323b/).\n",
        "\n",
        "! **Toda dúvida,recomendações e feedbacks serão bem-vindas.**\n"
      ],
      "metadata": {
        "id": "G1uVMIXT5Bh-"
      }
    },
    {
      "cell_type": "markdown",
      "source": [
        "#Instalação"
      ],
      "metadata": {
        "id": "oqJBPcx_rAqW"
      }
    },
    {
      "cell_type": "code",
      "source": [
        "pip install pandera"
      ],
      "metadata": {
        "id": "VEnlSLdUrCtZ"
      },
      "execution_count": null,
      "outputs": []
    },
    {
      "cell_type": "markdown",
      "source": [
        "#Importação bibliotecas"
      ],
      "metadata": {
        "id": "ZP0cgcfpquCf"
      }
    },
    {
      "cell_type": "code",
      "execution_count": 48,
      "metadata": {
        "id": "CbBtNTixovGI"
      },
      "outputs": [],
      "source": [
        "import pandas as pd\n",
        "import pandera as pa\n",
        "import numpy as np\n",
        "from pymongo import MongoClient"
      ]
    },
    {
      "cell_type": "markdown",
      "source": [],
      "metadata": {
        "id": "SF-WkiLhrSxT"
      }
    },
    {
      "cell_type": "markdown",
      "source": [
        "#Conexão MongoDB"
      ],
      "metadata": {
        "id": "fp8XkaVWrUCP"
      }
    },
    {
      "cell_type": "code",
      "source": [
        "uri = \"mongodb+srv://daniel-soulcode.v9iencb.mongodb.net/?authSource=%24external&authMechanism=MONGODB-X509&retryWrites=true&w=majority\"\n",
        "client = MongoClient(uri,tls=True,tlsCertificateKeyFile='/content/drive/MyDrive/Colab Notebooks/X509-cert-1388842986422460516.pem')\n"
      ],
      "metadata": {
        "id": "gSZxH7WNrWoy"
      },
      "execution_count": 49,
      "outputs": []
    },
    {
      "cell_type": "markdown",
      "source": [
        "#Extração"
      ],
      "metadata": {
        "id": "R7eUbJgVsM31"
      }
    },
    {
      "cell_type": "code",
      "source": [
        "cursor = client['sample_analytics']['customers'].find()\n",
        "df_customers = pd.DataFrame(list(cursor))"
      ],
      "metadata": {
        "id": "j2nxR-bCsPCj"
      },
      "execution_count": 50,
      "outputs": []
    },
    {
      "cell_type": "markdown",
      "source": [
        "#Pré-análise"
      ],
      "metadata": {
        "id": "RSK2wsC9tRGw"
      }
    },
    {
      "cell_type": "markdown",
      "source": [
        "***Esse DataFrame contém informações sobre clientes de um aplicativo de serviços financeiros.***\n",
        "\n",
        "*Informações das colunas:*\n",
        "\n",
        "1. **\"username\"** : usuário do cliente;\n",
        "2. **\"name\"** : nome;\n",
        "3. **\"address\"**: endereço;\n",
        "4. **\"birthdate\"**: data de nascimento;\n",
        "5. **\"email\"**: email;\n",
        "6. **\"Active\"**: Coluna relacionada a status de atividade (TRUE | FALSE);\n",
        "7. **\"accounts\"**: uma lista das contas mantidas pelo cliente;\n",
        "8. **\"tier_and_details\"**: detalhes sobre os benefícios que o cliente tem direito.\n",
        "\n",
        "***->*** *Essas informações foram encontradas* [aqui](https://www.mongodb.com/docs/atlas/sample-data/sample-analytics/)"
      ],
      "metadata": {
        "id": "fQJ-C4PPuL33"
      }
    },
    {
      "cell_type": "code",
      "source": [
        "df_customers.head(1)"
      ],
      "metadata": {
        "colab": {
          "base_uri": "https://localhost:8080/",
          "height": 212
        },
        "id": "5v65fyP1tTbP",
        "outputId": "feb135f7-d860-4f2f-9675-f48ec90c6204"
      },
      "execution_count": 51,
      "outputs": [
        {
          "output_type": "execute_result",
          "data": {
            "text/plain": [
              "                        _id username           name  \\\n",
              "0  5ca4bbcea2dd94ee58162a68  fmiller  Elizabeth Ray   \n",
              "\n",
              "                                     address           birthdate  \\\n",
              "0  9286 Bethany Glens\\nVasqueztown, CO 22939 1977-03-02 02:20:31   \n",
              "\n",
              "                    email active  \\\n",
              "0  arroyocolton@gmail.com   True   \n",
              "\n",
              "                                           accounts  \\\n",
              "0  [371138, 324287, 276528, 332179, 422649, 387979]   \n",
              "\n",
              "                                    tier_and_details  \n",
              "0  {'0df078f33aa74a2e9696e0520c1a828a': {'tier': ...  "
            ],
            "text/html": [
              "\n",
              "  <div id=\"df-a6bd0f6b-7601-4ff9-b471-473b253c6e20\">\n",
              "    <div class=\"colab-df-container\">\n",
              "      <div>\n",
              "<style scoped>\n",
              "    .dataframe tbody tr th:only-of-type {\n",
              "        vertical-align: middle;\n",
              "    }\n",
              "\n",
              "    .dataframe tbody tr th {\n",
              "        vertical-align: top;\n",
              "    }\n",
              "\n",
              "    .dataframe thead th {\n",
              "        text-align: right;\n",
              "    }\n",
              "</style>\n",
              "<table border=\"1\" class=\"dataframe\">\n",
              "  <thead>\n",
              "    <tr style=\"text-align: right;\">\n",
              "      <th></th>\n",
              "      <th>_id</th>\n",
              "      <th>username</th>\n",
              "      <th>name</th>\n",
              "      <th>address</th>\n",
              "      <th>birthdate</th>\n",
              "      <th>email</th>\n",
              "      <th>active</th>\n",
              "      <th>accounts</th>\n",
              "      <th>tier_and_details</th>\n",
              "    </tr>\n",
              "  </thead>\n",
              "  <tbody>\n",
              "    <tr>\n",
              "      <th>0</th>\n",
              "      <td>5ca4bbcea2dd94ee58162a68</td>\n",
              "      <td>fmiller</td>\n",
              "      <td>Elizabeth Ray</td>\n",
              "      <td>9286 Bethany Glens\\nVasqueztown, CO 22939</td>\n",
              "      <td>1977-03-02 02:20:31</td>\n",
              "      <td>arroyocolton@gmail.com</td>\n",
              "      <td>True</td>\n",
              "      <td>[371138, 324287, 276528, 332179, 422649, 387979]</td>\n",
              "      <td>{'0df078f33aa74a2e9696e0520c1a828a': {'tier': ...</td>\n",
              "    </tr>\n",
              "  </tbody>\n",
              "</table>\n",
              "</div>\n",
              "      <button class=\"colab-df-convert\" onclick=\"convertToInteractive('df-a6bd0f6b-7601-4ff9-b471-473b253c6e20')\"\n",
              "              title=\"Convert this dataframe to an interactive table.\"\n",
              "              style=\"display:none;\">\n",
              "        \n",
              "  <svg xmlns=\"http://www.w3.org/2000/svg\" height=\"24px\"viewBox=\"0 0 24 24\"\n",
              "       width=\"24px\">\n",
              "    <path d=\"M0 0h24v24H0V0z\" fill=\"none\"/>\n",
              "    <path d=\"M18.56 5.44l.94 2.06.94-2.06 2.06-.94-2.06-.94-.94-2.06-.94 2.06-2.06.94zm-11 1L8.5 8.5l.94-2.06 2.06-.94-2.06-.94L8.5 2.5l-.94 2.06-2.06.94zm10 10l.94 2.06.94-2.06 2.06-.94-2.06-.94-.94-2.06-.94 2.06-2.06.94z\"/><path d=\"M17.41 7.96l-1.37-1.37c-.4-.4-.92-.59-1.43-.59-.52 0-1.04.2-1.43.59L10.3 9.45l-7.72 7.72c-.78.78-.78 2.05 0 2.83L4 21.41c.39.39.9.59 1.41.59.51 0 1.02-.2 1.41-.59l7.78-7.78 2.81-2.81c.8-.78.8-2.07 0-2.86zM5.41 20L4 18.59l7.72-7.72 1.47 1.35L5.41 20z\"/>\n",
              "  </svg>\n",
              "      </button>\n",
              "      \n",
              "  <style>\n",
              "    .colab-df-container {\n",
              "      display:flex;\n",
              "      flex-wrap:wrap;\n",
              "      gap: 12px;\n",
              "    }\n",
              "\n",
              "    .colab-df-convert {\n",
              "      background-color: #E8F0FE;\n",
              "      border: none;\n",
              "      border-radius: 50%;\n",
              "      cursor: pointer;\n",
              "      display: none;\n",
              "      fill: #1967D2;\n",
              "      height: 32px;\n",
              "      padding: 0 0 0 0;\n",
              "      width: 32px;\n",
              "    }\n",
              "\n",
              "    .colab-df-convert:hover {\n",
              "      background-color: #E2EBFA;\n",
              "      box-shadow: 0px 1px 2px rgba(60, 64, 67, 0.3), 0px 1px 3px 1px rgba(60, 64, 67, 0.15);\n",
              "      fill: #174EA6;\n",
              "    }\n",
              "\n",
              "    [theme=dark] .colab-df-convert {\n",
              "      background-color: #3B4455;\n",
              "      fill: #D2E3FC;\n",
              "    }\n",
              "\n",
              "    [theme=dark] .colab-df-convert:hover {\n",
              "      background-color: #434B5C;\n",
              "      box-shadow: 0px 1px 3px 1px rgba(0, 0, 0, 0.15);\n",
              "      filter: drop-shadow(0px 1px 2px rgba(0, 0, 0, 0.3));\n",
              "      fill: #FFFFFF;\n",
              "    }\n",
              "  </style>\n",
              "\n",
              "      <script>\n",
              "        const buttonEl =\n",
              "          document.querySelector('#df-a6bd0f6b-7601-4ff9-b471-473b253c6e20 button.colab-df-convert');\n",
              "        buttonEl.style.display =\n",
              "          google.colab.kernel.accessAllowed ? 'block' : 'none';\n",
              "\n",
              "        async function convertToInteractive(key) {\n",
              "          const element = document.querySelector('#df-a6bd0f6b-7601-4ff9-b471-473b253c6e20');\n",
              "          const dataTable =\n",
              "            await google.colab.kernel.invokeFunction('convertToInteractive',\n",
              "                                                     [key], {});\n",
              "          if (!dataTable) return;\n",
              "\n",
              "          const docLinkHtml = 'Like what you see? Visit the ' +\n",
              "            '<a target=\"_blank\" href=https://colab.research.google.com/notebooks/data_table.ipynb>data table notebook</a>'\n",
              "            + ' to learn more about interactive tables.';\n",
              "          element.innerHTML = '';\n",
              "          dataTable['output_type'] = 'display_data';\n",
              "          await google.colab.output.renderOutput(dataTable, element);\n",
              "          const docLink = document.createElement('div');\n",
              "          docLink.innerHTML = docLinkHtml;\n",
              "          element.appendChild(docLink);\n",
              "        }\n",
              "      </script>\n",
              "    </div>\n",
              "  </div>\n",
              "  "
            ]
          },
          "metadata": {},
          "execution_count": 51
        }
      ]
    },
    {
      "cell_type": "markdown",
      "source": [
        "## Tipo dos dados"
      ],
      "metadata": {
        "id": "zUsSpgK6wbU1"
      }
    },
    {
      "cell_type": "markdown",
      "source": [
        "\n",
        "\n",
        "1. A coluna '_id' legada do MongoDB pode ser dropada **OK**\n",
        "2.  Tipologia das colunas **OK**\n",
        "\n"
      ],
      "metadata": {
        "id": "3202M9g0wja6"
      }
    },
    {
      "cell_type": "code",
      "source": [
        "df_customers.dtypes"
      ],
      "metadata": {
        "id": "AKJm65Mltg1w",
        "colab": {
          "base_uri": "https://localhost:8080/"
        },
        "outputId": "9431abbd-1e7b-41f4-f6f2-2717fe2958fa"
      },
      "execution_count": 52,
      "outputs": [
        {
          "output_type": "execute_result",
          "data": {
            "text/plain": [
              "_id                         object\n",
              "username                    object\n",
              "name                        object\n",
              "address                     object\n",
              "birthdate           datetime64[ns]\n",
              "email                       object\n",
              "active                      object\n",
              "accounts                    object\n",
              "tier_and_details            object\n",
              "dtype: object"
            ]
          },
          "metadata": {},
          "execution_count": 52
        }
      ]
    },
    {
      "cell_type": "markdown",
      "source": [
        "## Verificando os dados por coluna"
      ],
      "metadata": {
        "id": "hpqYAWWIw_MA"
      }
    },
    {
      "cell_type": "markdown",
      "source": [
        "1. Coluna 'active' com 99% dos seus dados NaN. **|>**\n",
        "\n",
        "  **Duas opções**: Dropar a coluna toda ou Deixar com os dados Nulos \n",
        "\n",
        "  **Escolha**: Vou preservar essa coluna com os dados nulos,porque esse status pode ser alterado ao longo do tempo.\n",
        "  **OK** \n",
        "\n",
        "2. Muitos dicionários vazios na coluna 'tier_and_details' **|>**\n",
        "\n",
        "    **opção**: Vou converter esses dicionários vazios pra nulos numpy.  **OK**\n"
      ],
      "metadata": {
        "id": "bEBJAao3yXlu"
      }
    },
    {
      "cell_type": "code",
      "source": [
        "#Verificando quantidade dados preenchidos\n",
        "\n",
        "df_customers.count()"
      ],
      "metadata": {
        "colab": {
          "base_uri": "https://localhost:8080/"
        },
        "id": "wsOxeSW3yfTv",
        "outputId": "422366ae-91d3-4395-dd56-fdecf03f012e"
      },
      "execution_count": 53,
      "outputs": [
        {
          "output_type": "execute_result",
          "data": {
            "text/plain": [
              "_id                 500\n",
              "username            500\n",
              "name                500\n",
              "address             500\n",
              "birthdate           500\n",
              "email               500\n",
              "active                1\n",
              "accounts            500\n",
              "tier_and_details    500\n",
              "dtype: int64"
            ]
          },
          "metadata": {},
          "execution_count": 53
        }
      ]
    },
    {
      "cell_type": "code",
      "source": [
        "#verificando quantidade dados nulos\n",
        "\n",
        "df_customers.isna().sum()"
      ],
      "metadata": {
        "id": "IBy4UIp7ziop",
        "colab": {
          "base_uri": "https://localhost:8080/"
        },
        "outputId": "d8188646-a7cc-40d3-ada5-247c56d153bc"
      },
      "execution_count": 54,
      "outputs": [
        {
          "output_type": "execute_result",
          "data": {
            "text/plain": [
              "_id                   0\n",
              "username              0\n",
              "name                  0\n",
              "address               0\n",
              "birthdate             0\n",
              "email                 0\n",
              "active              499\n",
              "accounts              0\n",
              "tier_and_details      0\n",
              "dtype: int64"
            ]
          },
          "metadata": {},
          "execution_count": 54
        }
      ]
    },
    {
      "cell_type": "code",
      "source": [
        "#Agrupando os dados para observar inconsistências\n",
        "\n",
        "df_customers.groupby(['email'],dropna=False).size()"
      ],
      "metadata": {
        "id": "B1wpD3kdxHpH",
        "colab": {
          "base_uri": "https://localhost:8080/"
        },
        "outputId": "202ceea7-7779-4359-f180-0aaae7e3da37"
      },
      "execution_count": 55,
      "outputs": [
        {
          "output_type": "execute_result",
          "data": {
            "text/plain": [
              "email\n",
              "aacosta@yahoo.com         1\n",
              "aadkins@hotmail.com       1\n",
              "aaron15@yahoo.com         1\n",
              "aaron99@yahoo.com         1\n",
              "aarongreer@hotmail.com    1\n",
              "                         ..\n",
              "zamoragary@gmail.com      1\n",
              "zanderson@hotmail.com     1\n",
              "zhines@yahoo.com          1\n",
              "zmelton@gmail.com         1\n",
              "zyoung@gmail.com          1\n",
              "Length: 499, dtype: int64"
            ]
          },
          "metadata": {},
          "execution_count": 55
        }
      ]
    },
    {
      "cell_type": "code",
      "source": [
        "#Verificando dados de accounts\n",
        "for i in df_customers.accounts:\n",
        "  print(i)"
      ],
      "metadata": {
        "id": "g4R8lHXD0T7g"
      },
      "execution_count": null,
      "outputs": []
    },
    {
      "cell_type": "code",
      "source": [
        "#Verifcando dados de tier_and_details\n",
        "dicionario = df_customers.tier_and_details \n",
        "for k,v in dicionario.items():\n",
        "  print(f'{k} : {v}')"
      ],
      "metadata": {
        "id": "nLqFr-FL0tmu"
      },
      "execution_count": null,
      "outputs": []
    },
    {
      "cell_type": "markdown",
      "source": [
        "#Tratamento | Limpeza dos dados"
      ],
      "metadata": {
        "id": "CLMhlyE_7SFK"
      }
    },
    {
      "cell_type": "markdown",
      "source": [
        "## Drop coluna '_id'"
      ],
      "metadata": {
        "id": "pa8MduyR-Czc"
      }
    },
    {
      "cell_type": "code",
      "source": [
        "df_customers.drop(['_id'],axis=1,inplace=True)"
      ],
      "metadata": {
        "id": "6W8FL3wl-G8c"
      },
      "execution_count": 58,
      "outputs": []
    },
    {
      "cell_type": "markdown",
      "source": [
        "## Convertendo dados nulos para nulo numpy"
      ],
      "metadata": {
        "id": "f51umber-oTW"
      }
    },
    {
      "cell_type": "code",
      "source": [
        "df_customers.replace(['NaN'],np.NAN,inplace=True)"
      ],
      "metadata": {
        "id": "coYnPnfB-tT_"
      },
      "execution_count": 59,
      "outputs": []
    },
    {
      "cell_type": "markdown",
      "source": [
        "##tier_and_details"
      ],
      "metadata": {
        "id": "5-YsmisM_Wq4"
      }
    },
    {
      "cell_type": "markdown",
      "source": [
        "* Transformando os dicionários vazios da coluna 'tier_and_details' para nulo"
      ],
      "metadata": {
        "id": "TmNpGuhT_bwK"
      }
    },
    {
      "cell_type": "code",
      "source": [
        "for i in range(len(df_customers)):\n",
        "  if df_customers.loc[i,'tier_and_details'] == {}:\n",
        "    df_customers.loc[i,'tier_and_details'] = np.NAN"
      ],
      "metadata": {
        "id": "3dKRqv95_bQR"
      },
      "execution_count": 60,
      "outputs": []
    },
    {
      "cell_type": "code",
      "source": [
        "#Verificando se a alteração foi feita\n",
        "dicionario = df_customers.tier_and_details \n",
        "for k,v in dicionario.items():\n",
        "  print(f'{k} : {v}')"
      ],
      "metadata": {
        "id": "25qdwKNBBUY5"
      },
      "execution_count": null,
      "outputs": []
    },
    {
      "cell_type": "markdown",
      "source": [
        "## Tradução das colunas\n"
      ],
      "metadata": {
        "id": "_dcf5GcL05Au"
      }
    },
    {
      "cell_type": "code",
      "source": [
        "df_customers.rename(columns={\n",
        "    'username':'usuario',\n",
        "    'name':'nome',\n",
        "    'address':'endereco',\n",
        "    'birthdate':'dt_nascimento',\n",
        "    'accounts':'contas',\n",
        "    'tier_and_details':'beneficios'\n",
        "\n",
        "},inplace=True)"
      ],
      "metadata": {
        "id": "vRhSkjBz07UK"
      },
      "execution_count": 62,
      "outputs": []
    },
    {
      "cell_type": "markdown",
      "source": [
        "#Validação"
      ],
      "metadata": {
        "id": "aIng2JBC0udm"
      }
    },
    {
      "cell_type": "code",
      "source": [
        "#Schema de validação\n",
        "\n",
        "schema = pa.DataFrameSchema(\n",
        "    columns = {\n",
        "        'usuario':pa.Column(pa.String),\n",
        "        'nome':pa.Column(pa.String),\n",
        "        'endereco':pa.Column(pa.String),\n",
        "        'dt_nascimento':pa.Column(pa.DateTime),\n",
        "        'email':pa.Column(pa.String),\n",
        "        'active':pa.Column(pa.String,nullable=True),\n",
        "        'contas':pa.Column(pa.String),\n",
        "        'beneficios':pa.Column(pa.String,nullable=True),\n",
        "    })"
      ],
      "metadata": {
        "id": "zdtH2tOE2GcG"
      },
      "execution_count": 63,
      "outputs": []
    },
    {
      "cell_type": "code",
      "source": [
        "schema.validate(df_customers)"
      ],
      "metadata": {
        "colab": {
          "base_uri": "https://localhost:8080/",
          "height": 780
        },
        "id": "82mSEDRn2zel",
        "outputId": "4a04d9f5-723f-469a-9083-3036dec6d969"
      },
      "execution_count": 64,
      "outputs": [
        {
          "output_type": "execute_result",
          "data": {
            "text/plain": [
              "               usuario                  nome  \\\n",
              "0              fmiller         Elizabeth Ray   \n",
              "1     valenciajennifer         Lindsay Cowan   \n",
              "2           hillrachel       Katherine David   \n",
              "3         serranobrian       Leslie Martinez   \n",
              "4        charleshudson         Brad Cardenas   \n",
              "..                 ...                   ...   \n",
              "495     amandawilliams          Brandy Huang   \n",
              "496  stricklandjeffery          Xavier Myers   \n",
              "497          smcintyre  Christopher Lawrence   \n",
              "498            qknight        Gabriel Romero   \n",
              "499             ecasey     Brandon Contreras   \n",
              "\n",
              "                                              endereco       dt_nascimento  \\\n",
              "0            9286 Bethany Glens\\nVasqueztown, CO 22939 1977-03-02 02:20:31   \n",
              "1                     Unit 1047 Box 4089\\nDPO AA 57348 1994-02-19 23:46:27   \n",
              "2    55711 Janet Plaza Apt. 865\\nChristinachester, ... 1988-06-20 22:15:34   \n",
              "3                     Unit 2676 Box 9352\\nDPO AA 38560 1974-11-26 14:30:20   \n",
              "4            2765 Powers Meadow\\nHeatherfurt, CT 53165 1977-05-06 21:57:35   \n",
              "..                                                 ...                 ...   \n",
              "495   9505 Melissa Streets\\nSouth Frankville, NJ 91189 1975-09-22 14:21:58   \n",
              "496  499 Jonathan Streets Apt. 890\\nEast Ashley, MD... 1987-10-24 19:05:15   \n",
              "497             00881 West Flat\\nNorth Emily, IL 32130 1997-03-05 18:20:57   \n",
              "498        79375 David Neck\\nWest Matthewton, NJ 92863 1971-05-04 21:20:10   \n",
              "499         6942 Connie Skyway\\nPatrickville, WA 16551 1973-10-23 23:52:10   \n",
              "\n",
              "                        email active  \\\n",
              "0      arroyocolton@gmail.com   True   \n",
              "1    cooperalexis@hotmail.com    NaN   \n",
              "2       timothy78@hotmail.com    NaN   \n",
              "3         tcrawford@gmail.com    NaN   \n",
              "4          dustin37@yahoo.com    NaN   \n",
              "..                        ...    ...   \n",
              "495   scottjonathan@yahoo.com    NaN   \n",
              "496       fredsmith@yahoo.com    NaN   \n",
              "497          vkeith@yahoo.com    NaN   \n",
              "498         erica98@gmail.com    NaN   \n",
              "499       amber97@hotmail.com    NaN   \n",
              "\n",
              "                                               contas  \\\n",
              "0    [371138, 324287, 276528, 332179, 422649, 387979]   \n",
              "1                                            [116508]   \n",
              "2            [462501, 228290, 968786, 515844, 377292]   \n",
              "3                                    [170945, 951849]   \n",
              "4             [721914, 817222, 973067, 260799, 87389]   \n",
              "..                                                ...   \n",
              "495           [650729, 991663, 144876, 912504, 88163]   \n",
              "496          [285957, 875868, 138703, 122908, 370468]   \n",
              "497          [551774, 264502, 599670, 193228, 397774]   \n",
              "498   [568852, 351063, 635650, 229182, 732327, 89698]   \n",
              "499                                  [896364, 450464]   \n",
              "\n",
              "                                            beneficios  \n",
              "0    {'0df078f33aa74a2e9696e0520c1a828a': {'tier': ...  \n",
              "1    {'c06d340a4bad42c59e3b6665571d2907': {'tier': ...  \n",
              "2                                                  NaN  \n",
              "3    {'a15baf69a759423297f11ce6c7b0bc9a': {'tier': ...  \n",
              "4                                                  NaN  \n",
              "..                                                 ...  \n",
              "495                                                NaN  \n",
              "496                                                NaN  \n",
              "497                                                NaN  \n",
              "498                                                NaN  \n",
              "499  {'f4cebafe5530421b991303dff297643d': {'tier': ...  \n",
              "\n",
              "[500 rows x 8 columns]"
            ],
            "text/html": [
              "\n",
              "  <div id=\"df-89eee6b1-0545-4699-ab1e-384057eda730\">\n",
              "    <div class=\"colab-df-container\">\n",
              "      <div>\n",
              "<style scoped>\n",
              "    .dataframe tbody tr th:only-of-type {\n",
              "        vertical-align: middle;\n",
              "    }\n",
              "\n",
              "    .dataframe tbody tr th {\n",
              "        vertical-align: top;\n",
              "    }\n",
              "\n",
              "    .dataframe thead th {\n",
              "        text-align: right;\n",
              "    }\n",
              "</style>\n",
              "<table border=\"1\" class=\"dataframe\">\n",
              "  <thead>\n",
              "    <tr style=\"text-align: right;\">\n",
              "      <th></th>\n",
              "      <th>usuario</th>\n",
              "      <th>nome</th>\n",
              "      <th>endereco</th>\n",
              "      <th>dt_nascimento</th>\n",
              "      <th>email</th>\n",
              "      <th>active</th>\n",
              "      <th>contas</th>\n",
              "      <th>beneficios</th>\n",
              "    </tr>\n",
              "  </thead>\n",
              "  <tbody>\n",
              "    <tr>\n",
              "      <th>0</th>\n",
              "      <td>fmiller</td>\n",
              "      <td>Elizabeth Ray</td>\n",
              "      <td>9286 Bethany Glens\\nVasqueztown, CO 22939</td>\n",
              "      <td>1977-03-02 02:20:31</td>\n",
              "      <td>arroyocolton@gmail.com</td>\n",
              "      <td>True</td>\n",
              "      <td>[371138, 324287, 276528, 332179, 422649, 387979]</td>\n",
              "      <td>{'0df078f33aa74a2e9696e0520c1a828a': {'tier': ...</td>\n",
              "    </tr>\n",
              "    <tr>\n",
              "      <th>1</th>\n",
              "      <td>valenciajennifer</td>\n",
              "      <td>Lindsay Cowan</td>\n",
              "      <td>Unit 1047 Box 4089\\nDPO AA 57348</td>\n",
              "      <td>1994-02-19 23:46:27</td>\n",
              "      <td>cooperalexis@hotmail.com</td>\n",
              "      <td>NaN</td>\n",
              "      <td>[116508]</td>\n",
              "      <td>{'c06d340a4bad42c59e3b6665571d2907': {'tier': ...</td>\n",
              "    </tr>\n",
              "    <tr>\n",
              "      <th>2</th>\n",
              "      <td>hillrachel</td>\n",
              "      <td>Katherine David</td>\n",
              "      <td>55711 Janet Plaza Apt. 865\\nChristinachester, ...</td>\n",
              "      <td>1988-06-20 22:15:34</td>\n",
              "      <td>timothy78@hotmail.com</td>\n",
              "      <td>NaN</td>\n",
              "      <td>[462501, 228290, 968786, 515844, 377292]</td>\n",
              "      <td>NaN</td>\n",
              "    </tr>\n",
              "    <tr>\n",
              "      <th>3</th>\n",
              "      <td>serranobrian</td>\n",
              "      <td>Leslie Martinez</td>\n",
              "      <td>Unit 2676 Box 9352\\nDPO AA 38560</td>\n",
              "      <td>1974-11-26 14:30:20</td>\n",
              "      <td>tcrawford@gmail.com</td>\n",
              "      <td>NaN</td>\n",
              "      <td>[170945, 951849]</td>\n",
              "      <td>{'a15baf69a759423297f11ce6c7b0bc9a': {'tier': ...</td>\n",
              "    </tr>\n",
              "    <tr>\n",
              "      <th>4</th>\n",
              "      <td>charleshudson</td>\n",
              "      <td>Brad Cardenas</td>\n",
              "      <td>2765 Powers Meadow\\nHeatherfurt, CT 53165</td>\n",
              "      <td>1977-05-06 21:57:35</td>\n",
              "      <td>dustin37@yahoo.com</td>\n",
              "      <td>NaN</td>\n",
              "      <td>[721914, 817222, 973067, 260799, 87389]</td>\n",
              "      <td>NaN</td>\n",
              "    </tr>\n",
              "    <tr>\n",
              "      <th>...</th>\n",
              "      <td>...</td>\n",
              "      <td>...</td>\n",
              "      <td>...</td>\n",
              "      <td>...</td>\n",
              "      <td>...</td>\n",
              "      <td>...</td>\n",
              "      <td>...</td>\n",
              "      <td>...</td>\n",
              "    </tr>\n",
              "    <tr>\n",
              "      <th>495</th>\n",
              "      <td>amandawilliams</td>\n",
              "      <td>Brandy Huang</td>\n",
              "      <td>9505 Melissa Streets\\nSouth Frankville, NJ 91189</td>\n",
              "      <td>1975-09-22 14:21:58</td>\n",
              "      <td>scottjonathan@yahoo.com</td>\n",
              "      <td>NaN</td>\n",
              "      <td>[650729, 991663, 144876, 912504, 88163]</td>\n",
              "      <td>NaN</td>\n",
              "    </tr>\n",
              "    <tr>\n",
              "      <th>496</th>\n",
              "      <td>stricklandjeffery</td>\n",
              "      <td>Xavier Myers</td>\n",
              "      <td>499 Jonathan Streets Apt. 890\\nEast Ashley, MD...</td>\n",
              "      <td>1987-10-24 19:05:15</td>\n",
              "      <td>fredsmith@yahoo.com</td>\n",
              "      <td>NaN</td>\n",
              "      <td>[285957, 875868, 138703, 122908, 370468]</td>\n",
              "      <td>NaN</td>\n",
              "    </tr>\n",
              "    <tr>\n",
              "      <th>497</th>\n",
              "      <td>smcintyre</td>\n",
              "      <td>Christopher Lawrence</td>\n",
              "      <td>00881 West Flat\\nNorth Emily, IL 32130</td>\n",
              "      <td>1997-03-05 18:20:57</td>\n",
              "      <td>vkeith@yahoo.com</td>\n",
              "      <td>NaN</td>\n",
              "      <td>[551774, 264502, 599670, 193228, 397774]</td>\n",
              "      <td>NaN</td>\n",
              "    </tr>\n",
              "    <tr>\n",
              "      <th>498</th>\n",
              "      <td>qknight</td>\n",
              "      <td>Gabriel Romero</td>\n",
              "      <td>79375 David Neck\\nWest Matthewton, NJ 92863</td>\n",
              "      <td>1971-05-04 21:20:10</td>\n",
              "      <td>erica98@gmail.com</td>\n",
              "      <td>NaN</td>\n",
              "      <td>[568852, 351063, 635650, 229182, 732327, 89698]</td>\n",
              "      <td>NaN</td>\n",
              "    </tr>\n",
              "    <tr>\n",
              "      <th>499</th>\n",
              "      <td>ecasey</td>\n",
              "      <td>Brandon Contreras</td>\n",
              "      <td>6942 Connie Skyway\\nPatrickville, WA 16551</td>\n",
              "      <td>1973-10-23 23:52:10</td>\n",
              "      <td>amber97@hotmail.com</td>\n",
              "      <td>NaN</td>\n",
              "      <td>[896364, 450464]</td>\n",
              "      <td>{'f4cebafe5530421b991303dff297643d': {'tier': ...</td>\n",
              "    </tr>\n",
              "  </tbody>\n",
              "</table>\n",
              "<p>500 rows × 8 columns</p>\n",
              "</div>\n",
              "      <button class=\"colab-df-convert\" onclick=\"convertToInteractive('df-89eee6b1-0545-4699-ab1e-384057eda730')\"\n",
              "              title=\"Convert this dataframe to an interactive table.\"\n",
              "              style=\"display:none;\">\n",
              "        \n",
              "  <svg xmlns=\"http://www.w3.org/2000/svg\" height=\"24px\"viewBox=\"0 0 24 24\"\n",
              "       width=\"24px\">\n",
              "    <path d=\"M0 0h24v24H0V0z\" fill=\"none\"/>\n",
              "    <path d=\"M18.56 5.44l.94 2.06.94-2.06 2.06-.94-2.06-.94-.94-2.06-.94 2.06-2.06.94zm-11 1L8.5 8.5l.94-2.06 2.06-.94-2.06-.94L8.5 2.5l-.94 2.06-2.06.94zm10 10l.94 2.06.94-2.06 2.06-.94-2.06-.94-.94-2.06-.94 2.06-2.06.94z\"/><path d=\"M17.41 7.96l-1.37-1.37c-.4-.4-.92-.59-1.43-.59-.52 0-1.04.2-1.43.59L10.3 9.45l-7.72 7.72c-.78.78-.78 2.05 0 2.83L4 21.41c.39.39.9.59 1.41.59.51 0 1.02-.2 1.41-.59l7.78-7.78 2.81-2.81c.8-.78.8-2.07 0-2.86zM5.41 20L4 18.59l7.72-7.72 1.47 1.35L5.41 20z\"/>\n",
              "  </svg>\n",
              "      </button>\n",
              "      \n",
              "  <style>\n",
              "    .colab-df-container {\n",
              "      display:flex;\n",
              "      flex-wrap:wrap;\n",
              "      gap: 12px;\n",
              "    }\n",
              "\n",
              "    .colab-df-convert {\n",
              "      background-color: #E8F0FE;\n",
              "      border: none;\n",
              "      border-radius: 50%;\n",
              "      cursor: pointer;\n",
              "      display: none;\n",
              "      fill: #1967D2;\n",
              "      height: 32px;\n",
              "      padding: 0 0 0 0;\n",
              "      width: 32px;\n",
              "    }\n",
              "\n",
              "    .colab-df-convert:hover {\n",
              "      background-color: #E2EBFA;\n",
              "      box-shadow: 0px 1px 2px rgba(60, 64, 67, 0.3), 0px 1px 3px 1px rgba(60, 64, 67, 0.15);\n",
              "      fill: #174EA6;\n",
              "    }\n",
              "\n",
              "    [theme=dark] .colab-df-convert {\n",
              "      background-color: #3B4455;\n",
              "      fill: #D2E3FC;\n",
              "    }\n",
              "\n",
              "    [theme=dark] .colab-df-convert:hover {\n",
              "      background-color: #434B5C;\n",
              "      box-shadow: 0px 1px 3px 1px rgba(0, 0, 0, 0.15);\n",
              "      filter: drop-shadow(0px 1px 2px rgba(0, 0, 0, 0.3));\n",
              "      fill: #FFFFFF;\n",
              "    }\n",
              "  </style>\n",
              "\n",
              "      <script>\n",
              "        const buttonEl =\n",
              "          document.querySelector('#df-89eee6b1-0545-4699-ab1e-384057eda730 button.colab-df-convert');\n",
              "        buttonEl.style.display =\n",
              "          google.colab.kernel.accessAllowed ? 'block' : 'none';\n",
              "\n",
              "        async function convertToInteractive(key) {\n",
              "          const element = document.querySelector('#df-89eee6b1-0545-4699-ab1e-384057eda730');\n",
              "          const dataTable =\n",
              "            await google.colab.kernel.invokeFunction('convertToInteractive',\n",
              "                                                     [key], {});\n",
              "          if (!dataTable) return;\n",
              "\n",
              "          const docLinkHtml = 'Like what you see? Visit the ' +\n",
              "            '<a target=\"_blank\" href=https://colab.research.google.com/notebooks/data_table.ipynb>data table notebook</a>'\n",
              "            + ' to learn more about interactive tables.';\n",
              "          element.innerHTML = '';\n",
              "          dataTable['output_type'] = 'display_data';\n",
              "          await google.colab.output.renderOutput(dataTable, element);\n",
              "          const docLink = document.createElement('div');\n",
              "          docLink.innerHTML = docLinkHtml;\n",
              "          element.appendChild(docLink);\n",
              "        }\n",
              "      </script>\n",
              "    </div>\n",
              "  </div>\n",
              "  "
            ]
          },
          "metadata": {},
          "execution_count": 64
        }
      ]
    },
    {
      "cell_type": "markdown",
      "source": [
        "#Carregando "
      ],
      "metadata": {
        "id": "Vke99k-y3IBm"
      }
    },
    {
      "cell_type": "markdown",
      "source": [
        "***Vou carregar esse DataFrame em uma nova data base e collection do MongoDB***"
      ],
      "metadata": {
        "id": "0iXgoybf3O1S"
      }
    },
    {
      "cell_type": "code",
      "source": [
        "colecao_customers = client['sample_analytics_tratado']['customers_tratado']"
      ],
      "metadata": {
        "id": "mb05caVU3lpb"
      },
      "execution_count": 65,
      "outputs": []
    },
    {
      "cell_type": "code",
      "source": [
        "df_customers_dict = df_customers.to_dict('records')"
      ],
      "metadata": {
        "id": "PlxoYLzp3WIL"
      },
      "execution_count": 66,
      "outputs": []
    },
    {
      "cell_type": "code",
      "source": [
        "colecao_customers.insert_many(df_customers_dict)"
      ],
      "metadata": {
        "colab": {
          "base_uri": "https://localhost:8080/"
        },
        "id": "uoHzDiLQ3ODD",
        "outputId": "90c987ff-0ce7-44a1-ed48-e462246ae1d5"
      },
      "execution_count": 67,
      "outputs": [
        {
          "output_type": "execute_result",
          "data": {
            "text/plain": [
              "<pymongo.results.InsertManyResult at 0x7f857d123520>"
            ]
          },
          "metadata": {},
          "execution_count": 67
        }
      ]
    }
  ]
}