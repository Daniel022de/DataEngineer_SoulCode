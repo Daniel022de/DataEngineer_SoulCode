{
  "nbformat": 4,
  "nbformat_minor": 0,
  "metadata": {
    "colab": {
      "provenance": [],
      "authorship_tag": "ABX9TyPVlkuhXz68gKDlaCwkah9B",
      "include_colab_link": true
    },
    "kernelspec": {
      "name": "python3",
      "display_name": "Python 3"
    },
    "language_info": {
      "name": "python"
    }
  },
  "cells": [
    {
      "cell_type": "markdown",
      "metadata": {
        "id": "view-in-github",
        "colab_type": "text"
      },
      "source": [
        "<a href=\"https://colab.research.google.com/github/Daniel022de/Bootcamp_SoulCode_EngenhariaDados/blob/main/Python/Aulas_atv_01_python_SoulCode.ipynb\" target=\"_parent\"><img src=\"https://colab.research.google.com/assets/colab-badge.svg\" alt=\"Open In Colab\"/></a>"
      ]
    },
    {
      "cell_type": "code",
      "execution_count": null,
      "metadata": {
        "id": "a7pmgbzyx_29"
      },
      "outputs": [],
      "source": [
        "      #Questão 1\n",
        "\n",
        "#Solução 1\n",
        "#Entrada de dados com o comando INPUT\n",
        "\n",
        "nome = input(\"Digite seu nome: \")\n",
        "n1 = float(input(\"Digite o 1º número: \"))\n",
        "n2 = float (input(\"Digite o 2º número: \"))\n",
        "\n",
        "#Printando a solução\n",
        "\n",
        "print(f'O nome é {nome} e a soma dos números é {n1+n2}')\n",
        "\n",
        "#Solução 2\n",
        "''' nome = input(\"Digite seu nome: \")\n",
        "n = {}\n",
        "for i in range(1,3):\n",
        "  n[i] = float(input(f\"Digite o {i}º número: \"))\n",
        "\n",
        "print(f'O nome é {nome} e a soma dos números é {n[1]+n[2]} ') '''"
      ]
    },
    {
      "cell_type": "code",
      "source": [
        "# Questão 2\n",
        "\n",
        "n1 = float(input(\"Digite o 1º número: \"))\n",
        "n2 = float (input(\"Digite o 2º número: \"))\n",
        "\n",
        "print(f'a multiplicação dos números é {n1*n2}')"
      ],
      "metadata": {
        "id": "yB6ziFyq_YUi"
      },
      "execution_count": null,
      "outputs": []
    },
    {
      "cell_type": "code",
      "source": [
        "# Questão 3\n",
        "\n",
        "n = float(input(\"Digite um número: \"))\n",
        "\n",
        "if n == 10:\n",
        "  print(f\"O {n} é igual a 10\")\n",
        "elif n > 10:\n",
        "  print(f\"O {n} é maior que 10\")\n",
        "elif n < 10:\n",
        "  print(f\"O {n} é menor que 10\")"
      ],
      "metadata": {
        "id": "bDUkbUgTSOD-"
      },
      "execution_count": null,
      "outputs": []
    },
    {
      "cell_type": "code",
      "source": [
        "# Questão 4\n",
        "\n",
        "n1 = float(input(\"Digite o 1º número: \"))\n",
        "n2 = float (input(\"Digite o 2º número: \"))\n",
        "\n",
        "if n1>n2:\n",
        "  print(f\"{n1} é o maior número digitado\")\n",
        "else:\n",
        "  print(f\"{n2} é maior número digitado\")"
      ],
      "metadata": {
        "id": "STQluGOzbzyl"
      },
      "execution_count": null,
      "outputs": []
    },
    {
      "cell_type": "code",
      "source": [
        "# Questão 5\n",
        "while True:\n",
        "  n1 = float(input(\"Digite o 1º número: \"))\n",
        "  n2 = float (input(\"Digite o 2º número: \"))\n",
        "  if n1==n2:\n",
        "    print(\"Digite números diferentes\")\n",
        "  if n1==0 or n2==0:\n",
        "    print(\"DIgite números diferentes de zero\")\n",
        "  else:\n",
        "    break\n",
        "\n",
        "if n1>n2:\n",
        "  sub = n1 - n2\n",
        "  div = n1/n2\n",
        "else:\n",
        "  sub = n2-n1\n",
        "  div = n2/n1\n",
        "  \n",
        "print(f\"A soma dos números é {n1+n2}\")\n",
        "print(f\"A multiplicação dos números é {n1*n2}\")\n",
        "print(f\"A subtração dos números é {sub}\")\n",
        "print(f\"A divisão dos números é {div}\")"
      ],
      "metadata": {
        "id": "U-8hR5QRdzbt"
      },
      "execution_count": null,
      "outputs": []
    },
    {
      "cell_type": "code",
      "source": [
        "# Questão 6\n",
        "n = int(input(\"Digite um número inteiro: \"))\n",
        "\n",
        "if n % 2 == 0:\n",
        "  print(f\"{n} é par\")\n",
        "else:\n",
        "  print(f\"{n} é impar\")"
      ],
      "metadata": {
        "id": "zeapeKd-e7xN"
      },
      "execution_count": null,
      "outputs": []
    }
  ]
}
