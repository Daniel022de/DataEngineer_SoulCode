{
  "nbformat": 4,
  "nbformat_minor": 0,
  "metadata": {
    "colab": {
      "provenance": [],
      "authorship_tag": "ABX9TyPA9fKmt3aCxIjV6ZX46P+1",
      "include_colab_link": true
    },
    "kernelspec": {
      "name": "python3",
      "display_name": "Python 3"
    },
    "language_info": {
      "name": "python"
    }
  },
  "cells": [
    {
      "cell_type": "markdown",
      "metadata": {
        "id": "view-in-github",
        "colab_type": "text"
      },
      "source": [
        "<a href=\"https://colab.research.google.com/github/Daniel022de/Bootcamp_SoulCode_EngenhariaDados/blob/main/Python/Atividade_While_SoulCode.ipynb\" target=\"_parent\"><img src=\"https://colab.research.google.com/assets/colab-badge.svg\" alt=\"Open In Colab\"/></a>"
      ]
    },
    {
      "cell_type": "code",
      "execution_count": null,
      "metadata": {
        "id": "AChwHDh5gd0X"
      },
      "outputs": [],
      "source": [
        "i = 0\n",
        "while i<=500:\n",
        "  print(f\"{i}\",end = \" -> \")\n",
        "  i += 1\n"
      ]
    },
    {
      "cell_type": "code",
      "source": [
        "i = 300\n",
        "while i >= 100:\n",
        "  print(f\"{i}\", end = \" -> \")\n",
        "  i -= 1"
      ],
      "metadata": {
        "id": "vAoCvJNxxl0r"
      },
      "execution_count": null,
      "outputs": []
    },
    {
      "cell_type": "code",
      "source": [
        "#Q4\n",
        "\n",
        "i = 300\n",
        "while i >= 100:\n",
        "  if i % 4 == 0:\n",
        "    print(f\"{i}\", end = \"->\")\n",
        "  i -= 1\n"
      ],
      "metadata": {
        "id": "VarzaFll45NB"
      },
      "execution_count": null,
      "outputs": []
    },
    {
      "cell_type": "code",
      "source": [
        "#Q1\n",
        "\n",
        "i = 2 \n",
        "while i<= 20:\n",
        "  print(i, end = '->')\n",
        "  i += 2\n",
        "print(\"FIM\")\n",
        "\n",
        "#Segunda forma de fazer\n",
        "\n",
        "i=2\n",
        "while i<=20:\n",
        "  if i % 2 == 0:\n",
        "    print(i, end = '->')\n",
        "  i += 1\n",
        "print(\"FIM\")"
      ],
      "metadata": {
        "id": "JFdrXBz4ZBd8"
      },
      "execution_count": null,
      "outputs": []
    },
    {
      "cell_type": "code",
      "source": [
        "#Q2\n",
        "n = 0\n",
        "while n >= -10:\n",
        "  print(f\"{n}\", end = ' -> ')\n",
        "  n -= 1\n",
        "print(\"FIM\")"
      ],
      "metadata": {
        "id": "abob_Sss5ej5"
      },
      "execution_count": null,
      "outputs": []
    },
    {
      "cell_type": "code",
      "source": [
        "#Q3\n",
        "i = 1\n",
        "n = int(input(\"Digite um número positivo: \"))\n",
        "while n <= 0:\n",
        "  n = int(input(f\"{n} não é positivo! Digite um número positivo: \"))\n",
        "print(f\"Os divisores de {n} são\\n\")\n",
        "while i <= n:\n",
        "  if n % i == 0:\n",
        "    print(f\"{i}\" , end = \" -> \")\n",
        "  i += 1\n",
        "\n",
        "print(\"FIM\")"
      ],
      "metadata": {
        "id": "0zIefKDl6KzJ"
      },
      "execution_count": null,
      "outputs": []
    },
    {
      "cell_type": "code",
      "source": [
        "#Q4\n",
        "i = 1\n",
        "sum = 0\n",
        "q = int(input(\"Olá! Quantas notas você deseja ler: \"))\n",
        "\n",
        "while q <= 0 :\n",
        "  q = int(input(f\"{q} não é válido! Digite um número inteiro e positivo: \"))\n",
        "\n",
        "while i <= q :\n",
        "  n = float(input(f\"Digite a {i}ª nota: \"))\n",
        "  while n<0 or n>10 :\n",
        "    n = float(input(f\"Nota inválida! Digite uma {i}ª nota válida:  \"))\n",
        "  sum += n\n",
        "  i += 1\n",
        "\n",
        "med = sum/q\n",
        "print(f\"Foram digitadas {q} notas e a média do aluno foi {med:.2f} \")\n"
      ],
      "metadata": {
        "id": "Iq5Heu9I7MPm"
      },
      "execution_count": null,
      "outputs": []
    },
    {
      "cell_type": "code",
      "source": [
        "#Q5\n",
        "i = 1\n",
        "a = int(input(\"Digite um valor inicial: \"))\n",
        "r = int(input(\"Digite uma razão para PA: \"))\n",
        "\n",
        "print(f\"Os 10 primeiros termos de uma PA com termo inicial {a} e razão {r} são:\\n\")\n",
        "while i <= 10:\n",
        "  print(f\"{a}\" , end = \" \")\n",
        "  a += r\n",
        "  i += 1\n",
        "  \n"
      ],
      "metadata": {
        "id": "h34MFoO2895P"
      },
      "execution_count": null,
      "outputs": []
    },
    {
      "cell_type": "code",
      "source": [
        "#Q6\n",
        "i = 100\n",
        "while i <= 200:\n",
        "  if i % 2 != 0:\n",
        "    print(f\"{i}\",end = \"->\")\n",
        "  i += 1\n",
        "\n",
        "print(\" FIM\")"
      ],
      "metadata": {
        "id": "Gcxj_X2z90ey"
      },
      "execution_count": null,
      "outputs": []
    },
    {
      "cell_type": "code",
      "source": [
        "#Q7\n",
        "\"\"\"\n",
        "i = 0\n",
        "n = int(input(\"Você deseja fazer a tabuada de qual número: \"))\n",
        "while i <= 10:\n",
        "  print(f\"{n} X {i} = {n*i}\")\n",
        "  i += 1 \n",
        "\"\"\"\n",
        "i = 1\n",
        "j = 0\n",
        "\n",
        "while i<11:\n",
        "  while j<11:\n",
        "    print(f\"{i} X {j} = {i*j}\")\n",
        "    j += 1\n",
        "  i += 1\n",
        "  j = 0\n",
        "  print('-'*10)"
      ],
      "metadata": {
        "id": "EQTzJIlB-YCs"
      },
      "execution_count": null,
      "outputs": []
    },
    {
      "cell_type": "code",
      "source": [
        "#Q8\n",
        "i = 1\n",
        "sum = 0\n",
        "q_positivo = 0\n",
        "q_negativo = 0\n",
        "\n",
        "while True:\n",
        "  n = float(input(f\"Digite o {i}ª valor ou [0 para parar]: \"))\n",
        "  if n == 0:\n",
        "    break\n",
        "  else:\n",
        "    pass\n",
        "  if n > 0:\n",
        "    q_positivo += 1\n",
        "  elif n < 0:\n",
        "    q_negativo += 1\n",
        "  sum += n\n",
        "  i += 1\n",
        "\n",
        "print(f\"Foram digitadas {q} valores e a média dos valores foi {((sum)/(q_negativo+q_positivo)):.2f}\\n\")\n",
        "print(f\"Foram digitados {q_positivo} números positivos que representam {(100*q_positivo)/q}% do total\")\n",
        "print(f\"Foram digitados {q_negativo} números negativos que representam {(100*q_negativo)/q}% do total\")\n"
      ],
      "metadata": {
        "id": "GLbuDNSA-8w_",
        "colab": {
          "base_uri": "https://localhost:8080/"
        },
        "outputId": "06803aa0-f56b-4b73-b146-2b11265481e7"
      },
      "execution_count": null,
      "outputs": [
        {
          "output_type": "stream",
          "name": "stdout",
          "text": [
            "Digite o 1ª valor ou [0 para parar]: 10\n",
            "Digite o 2ª valor ou [0 para parar]: -5\n",
            "Digite o 3ª valor ou [0 para parar]: 8\n",
            "Digite o 4ª valor ou [0 para parar]: -3\n",
            "Digite o 5ª valor ou [0 para parar]: 0\n",
            "Foram digitadas 4 valores e a média dos valores foi 2.50\n",
            "\n",
            "Foram digitados 2 números positivos que representam 50.0% do total\n",
            "Foram digitados 2 números negativos que representam 50.0% do total\n"
          ]
        }
      ]
    },
    {
      "cell_type": "code",
      "source": [
        "#Q9 \n",
        "q1 = q2 = q3 = q4= 0\n",
        "while True:\n",
        "   n = int(input(\"Digite um número inteiro positivo ou [um negativo para parar]:  \"))\n",
        "   if n < 0:\n",
        "     break\n",
        "   else:\n",
        "     pass\n",
        "   if  76 <= n <= 100:\n",
        "     q1 += 1\n",
        "   elif  51 <= n <= 75:\n",
        "     q2 += 1  \n",
        "   elif  26 <= n <= 50:\n",
        "     q3 += 1 \n",
        "   elif  0 <= n <= 25:\n",
        "     q4 += 1 \n",
        "print(f\"Existem {q1} número no intervalo [76-100]\\nExistem {q2} número no intervalo [51-75]\\nExistem {q3} número no intervalo [26-50]\\nExistem {q4} número no intervalo [0-25]\")"
      ],
      "metadata": {
        "id": "1BmN6N5MA3w-"
      },
      "execution_count": null,
      "outputs": []
    },
    {
      "cell_type": "code",
      "source": [
        "#Q10\n",
        "n = int(input(\"digite um número: \"))\n",
        "i = n\n",
        "p = n\n",
        "\n",
        "if n<2:\n",
        "  print(f\"O fatorial de {n} é = 1\")\n",
        "else:\n",
        "  print(f\"{n}! = \",end='')\n",
        "  while i <= n and i != 0:\n",
        "    if i != 1:\n",
        "      print(f\"{i} X \", end =' ')\n",
        "    if i == 1:\n",
        "      print(f\"{i}\", end =' ')\n",
        "    i -= 1\n",
        "    if i != 0:\n",
        "      p = p * i\n",
        "  print(f\" = {p}\")"
      ],
      "metadata": {
        "id": "uOGybqC1D-BV"
      },
      "execution_count": null,
      "outputs": []
    }
  ]
}