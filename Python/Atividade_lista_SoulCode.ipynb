{
  "nbformat": 4,
  "nbformat_minor": 0,
  "metadata": {
    "colab": {
      "provenance": [],
      "authorship_tag": "ABX9TyOTViUqdimjaKch/apdqkZx",
      "include_colab_link": true
    },
    "kernelspec": {
      "name": "python3",
      "display_name": "Python 3"
    },
    "language_info": {
      "name": "python"
    }
  },
  "cells": [
    {
      "cell_type": "markdown",
      "metadata": {
        "id": "view-in-github",
        "colab_type": "text"
      },
      "source": [
        "<a href=\"https://colab.research.google.com/github/Daniel022de/Bootcamp_SoulCode_EngenhariaDados/blob/main/Python/Atividade_lista_SoulCode.ipynb\" target=\"_parent\"><img src=\"https://colab.research.google.com/assets/colab-badge.svg\" alt=\"Open In Colab\"/></a>"
      ]
    },
    {
      "cell_type": "code",
      "execution_count": null,
      "metadata": {
        "id": "p-w-2DUCQEQv"
      },
      "outputs": [],
      "source": [
        "#1 Faça um Programa que leia uma lista de 5 números inteiros e mostre-os.\n",
        "list1 = []\n",
        "for i in range(5):\n",
        "  list1.append(int(input(f\"Digite o {i+1}º número: \")))\n",
        "\n",
        "for i in list1:\n",
        "  print(i,end=' ')"
      ]
    },
    {
      "cell_type": "code",
      "source": [
        "#2 Faça um Programa que leia uma lista de 10 números reais e mostre-os na ordem inversa.\n",
        "listr = []\n",
        "for i in range(10):\n",
        "  listr.append(float(input(f\"Digite o {i+1}º número: \")))\n",
        "\n",
        "listr.reverse() # O .sort(reverse = True) -> Ordena de forma decrescente e não de maneira reversa!\n",
        "for i in listr:\n",
        "  print(i, end = \" \") \n",
        "\n"
      ],
      "metadata": {
        "id": "PfFgebXwv56A"
      },
      "execution_count": null,
      "outputs": []
    },
    {
      "cell_type": "code",
      "source": [
        "#3 Faça um Programa que leia 4 notas de aluno e armazene-as dentro de uma lista. Em seguida mostre as notas e a média das notas na tela.\n",
        "notas = []\n",
        "for i in range(4):\n",
        "  while True:\n",
        "    num = float(input(f\"Digite a {i+1}ª nota do aluno: \"))\n",
        "    if 0 <= num <= 10:\n",
        "      break\n",
        "  notas.append(num)\n",
        "\n",
        "print(f\"As notas do aluno foram {notas}\\nA sua média foi {sum(notas)/4:.2f}\")"
      ],
      "metadata": {
        "id": "syMx87qPxgin"
      },
      "execution_count": null,
      "outputs": []
    },
    {
      "cell_type": "code",
      "source": [
        "#4 Faça um Programa que leia 20 números inteiros e armazene-os numa lista. \n",
        "#  Em seguida, crie mais 2 listas, uma para armazenar os números pares e outra para armazenar os números impares. \n",
        "#  Ao final, Imprima as três listas.\n",
        "\n",
        "lista_num = []\n",
        "lista_pares = []\n",
        "lista_impares = []\n",
        "\n",
        "for i in range(20):\n",
        "  lista_num.append(int(input(f\"Digite a {i+1}ª nota: \")))\n",
        "  if lista_num[i] % 2 == 0:\n",
        "    lista_pares.append(lista_num[i])\n",
        "  else:\n",
        "    lista_impares.append(lista_num[i])\n",
        "\n",
        "print(f\"Notas do aluno -> {lista_num}\\nNotas pares -> {lista_pares}\\nNotas impares -> {lista_impares}\")"
      ],
      "metadata": {
        "id": "rw756UCEyYWH"
      },
      "execution_count": null,
      "outputs": []
    },
    {
      "cell_type": "code",
      "source": [
        "#5 Faça um Programa que peça as quatro notas de 10 alunos junto com o seu nome. \n",
        "#  Calcule e armazene numa lista a média de cada aluno, bem como em outra lista armazene o nome do aluno. \n",
        "#  Ao final imprima o número de alunos com média maior ou igual a 7.0 junto com o seu nome e a média.\n",
        "\n",
        "nomes = []\n",
        "notas = []\n",
        "medias = []\n",
        "quant = 0\n",
        "\n",
        "for j in range(10):\n",
        "  nomes.append(input(f\"Nome do {j+1}º aluno: \"))\n",
        "  for i in range(1,5):\n",
        "    while True:\n",
        "      nota = float(input(f\"Digite sua {i}ª nota {nomes[j]}: \"))\n",
        "      if 0 <= nota <= 10:\n",
        "        break\n",
        "    notas.append(nota)\n",
        "  media = sum(notas)/len(notas)\n",
        "  medias.append(media)\n",
        "  notas.clear()\n",
        "  print(\"-\"*40)\n",
        "  \n",
        "print(f\"Os seguintes alunos ficaram com média maior ou igual a 7.0:\")\n",
        "for i in range(len(nomes)):\n",
        "  if medias[i] >= 7:\n",
        "    print(f\" {nomes[i]} -> {medias[i]} \")\n",
        "    quant += 1\n",
        " \n",
        "print(f\"No total foram {quant} alunos\")\n",
        "  \n"
      ],
      "metadata": {
        "id": "kiXrRZd80UOG"
      },
      "execution_count": null,
      "outputs": []
    },
    {
      "cell_type": "code",
      "source": [
        "#6 Faça um Programa que leia uma lista de 5 números inteiros. Após, percorra a lista e calcule a soma e a multiplicação dos números. \n",
        "# Ao final, mostre os números lidos, a soma dos números e a multiplicação entre eles.\n",
        "mult = 1\n",
        "lista = []\n",
        "for i in range(5):\n",
        "  num = int(input(f\"Digite o {i+1}º número: \"))\n",
        "  lista.append(num)\n",
        "\n",
        "for i in lista:\n",
        "  mult *= i\n",
        "\n",
        "print(f\"Os números lidos foram : {lista}\\nA soma dos números é {sum(lista)}\\nA multiplicação dos números é {mult}\")\n"
      ],
      "metadata": {
        "id": "8E4P8eYT0rwG"
      },
      "execution_count": null,
      "outputs": []
    },
    {
      "cell_type": "code",
      "source": [
        "#7 Faça um Programa que leia uma lista A com 10 números inteiros, calcule e mostre a soma dos quadrados dos elementos da lista.\n",
        "sum_quadrado = 0\n",
        "lista = []\n",
        "for i in range(10):\n",
        "  num = int(input(f\"Digite o {i+1}º número: \"))\n",
        "  lista.append(num)\n",
        "\n",
        "for i in lista:\n",
        "  sum_quadrado += (i**2)\n",
        "\n",
        "print(f\"A lista é {lista}\")\n",
        "print(f\"A soma dos quadrados dos elementos da lista é {sum_quadrado}\")\n",
        "\n"
      ],
      "metadata": {
        "id": "l8sedMW82L4e"
      },
      "execution_count": null,
      "outputs": []
    },
    {
      "cell_type": "code",
      "source": [
        "#8 Faça um programa que leia o nome, a idade e a altura de 10 alunos da SoulCode. \n",
        "# Em seguida determine quantos alunos com mais de 13 anos possuem altura inferior à média de altura desses alunos. \n",
        "\n",
        "nomes = []\n",
        "idades = []\n",
        "alturas = []\n",
        "quant = 0\n",
        "\n",
        "for i in range(10):\n",
        "  nome = input(\"Seu nome: \")\n",
        "  nomes.append(nome)\n",
        "\n",
        "  idade = int(input(f\"Digite sua idade {nome}: \"))\n",
        "  idades.append(idade)\n",
        "\n",
        "  alt = float(input(f\"Digite sua altura {nome}: \"))\n",
        "  alturas.append(alt)\n",
        "  print(\"-\"*40)\n",
        "\n",
        "media = sum(alturas)/10\n",
        "\n",
        "print(f\"Os seguintes alunos possuem mais de 13 anos e altura inferior à media dos alunos {media:.2f}:\")\n",
        "\n",
        "for i in range(10):\n",
        "  if idades[i] > 13 and alturas[i] < media:\n",
        "    quant += 1\n",
        "    print(f\"{nomes[i]}\", end=\" \")\n",
        "\n",
        "print('')\n",
        "print(f'{quant} Alunos no total')"
      ],
      "metadata": {
        "id": "LdVdEBZI3Ru_"
      },
      "execution_count": null,
      "outputs": []
    }
  ]
}