{
  "nbformat": 4,
  "nbformat_minor": 0,
  "metadata": {
    "colab": {
      "provenance": [],
      "authorship_tag": "ABX9TyNzNHXhy2y6y2OxCs2ZM9M8",
      "include_colab_link": true
    },
    "kernelspec": {
      "name": "python3",
      "display_name": "Python 3"
    },
    "language_info": {
      "name": "python"
    }
  },
  "cells": [
    {
      "cell_type": "markdown",
      "metadata": {
        "id": "view-in-github",
        "colab_type": "text"
      },
      "source": [
        "<a href=\"https://colab.research.google.com/github/Daniel022de/Bootcamp_SoulCode_EngenhariaDados/blob/main/Python/Atividade_Dicion%C3%A1rios_SoulCode.ipynb\" target=\"_parent\"><img src=\"https://colab.research.google.com/assets/colab-badge.svg\" alt=\"Open In Colab\"/></a>"
      ]
    },
    {
      "cell_type": "code",
      "source": [
        "pessoas = {'nome': 'João', 'idade': 26, 'cursos': ['Python', 'Java', 'HTML'], 'altura': 1.78}\n",
        "\n",
        "# for i in pessoas.keys():\n",
        "#   print(i,end =\" | \")\n",
        "\n",
        "# for j in pessoas.values():\n",
        "#   print(j,end=\"  \")\n",
        "\n",
        "for k,v in pessoas.items():\n",
        "  print(f\"{k} = {v}\")"
      ],
      "metadata": {
        "colab": {
          "base_uri": "https://localhost:8080/"
        },
        "id": "cKZup4bW5unQ",
        "outputId": "5f686887-e1d8-4233-e6e5-4197cb98a07b"
      },
      "execution_count": null,
      "outputs": [
        {
          "output_type": "stream",
          "name": "stdout",
          "text": [
            "nome = João\n",
            "idade = 26\n",
            "cursos = ['Python', 'Java', 'HTML']\n",
            "altura = 1.78\n"
          ]
        }
      ]
    },
    {
      "cell_type": "code",
      "source": [
        "#Criar um dicionário carros onde o usuário digite nome, modelo, fabricante, cor e qtd de portas\n",
        "carros = {}\n",
        "\n",
        "# nome = input(\"Digite o nome do carro: \")\n",
        "# modelo = input(\"Digite o modelo do carro: \")\n",
        "# fabricante = input(\"Digite a fabricante do carro: \")\n",
        "# cor = input(\"Digite a cor do carro: \")\n",
        "# qtd = int(input(\"Digite a quantidade de portas do carro: \"))\n",
        "\n",
        "carros.update({\n",
        "    \"nome\":input(\"Digite o nome do carro: \"),\n",
        "    \"modelo\":input(\"Digite o modelo do carro: \"),\n",
        "    \"fabricante\":input(\"Digite a fabricante do carro: \"),\n",
        "    \"cor\":input(\"Digite a cor do carro: \"),\n",
        "    \"qtd_portas\":int(input(\"Digite a quantidade de portas do carro: \"))\n",
        "    })\n",
        "\n",
        "print(carros)"
      ],
      "metadata": {
        "id": "W_mR--LTXNDa"
      },
      "execution_count": null,
      "outputs": []
    },
    {
      "cell_type": "code",
      "source": [
        "#Criar o mesmo esquema anterior, só que para N carros\n",
        "\n",
        "carros = {}\n",
        "i = 0\n",
        "while True:\n",
        "  nome = input(\"Digite o nome do carro ou [S] pra sair: \")\n",
        "  i += 1\n",
        "  if nome in \"Ss\":\n",
        "    break\n",
        "  carros.update( { f\"Carro {i}\":{\n",
        "    \"nome\":nome,\n",
        "    \"modelo\":input(\"Digite o modelo do carro: \"),\n",
        "    \"fabricante\":input(\"Digite a fabricante do carro: \"),\n",
        "    \"cor\":input(\"Digite a cor do carro: \"),\n",
        "    \"qtd_portas\":int(input(\"Digite a quantidade de portas do carro: \"))\n",
        "    }})\n",
        "  \n",
        "for k,v in carros.items():\n",
        "  print(f\"{k} : {v}\")"
      ],
      "metadata": {
        "id": "6k7uJwPjd7Mz"
      },
      "execution_count": null,
      "outputs": []
    }
  ]
}