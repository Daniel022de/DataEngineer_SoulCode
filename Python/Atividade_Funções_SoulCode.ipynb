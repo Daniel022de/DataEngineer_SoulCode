{
  "nbformat": 4,
  "nbformat_minor": 0,
  "metadata": {
    "colab": {
      "provenance": [],
      "authorship_tag": "ABX9TyMvtTmNiHDtHu0oX9nceN4j",
      "include_colab_link": true
    },
    "kernelspec": {
      "name": "python3",
      "display_name": "Python 3"
    },
    "language_info": {
      "name": "python"
    }
  },
  "cells": [
    {
      "cell_type": "markdown",
      "metadata": {
        "id": "view-in-github",
        "colab_type": "text"
      },
      "source": [
        "<a href=\"https://colab.research.google.com/github/Daniel022de/Bootcamp_SoulCode_EngenhariaDados/blob/main/Python/Atividade_Fun%C3%A7%C3%B5es_SoulCode.ipynb\" target=\"_parent\"><img src=\"https://colab.research.google.com/assets/colab-badge.svg\" alt=\"Open In Colab\"/></a>"
      ]
    },
    {
      "cell_type": "code",
      "execution_count": null,
      "metadata": {
        "id": "wNwNApx89Tf6"
      },
      "outputs": [],
      "source": [
        "#1) Faça um programa, com uma função que necessite de três argumentos, e que forneça a multiplicação desses três argumentos.\n",
        "def mult (num1,num2,num3):\n",
        "  return num1*num2*num3\n",
        "\n",
        "mult(1,2,3)"
      ]
    },
    {
      "cell_type": "code",
      "source": [
        "#2) Faça um programa que tenha uma função que necessite de \n",
        "# um argumento que receba um número inteiro e imprima na tela a lista de divisores desse número.\n",
        "\n",
        "def divisores (num):\n",
        "  print(f\"Lista de divisores de {num}\")\n",
        "  for i in range(1,num+1):\n",
        "    if num % i == 0:\n",
        "      print(i, end = \" \")\n",
        "\n",
        "divisores(int(input(\"Digite um número inteiro: \")))"
      ],
      "metadata": {
        "id": "3ra4eVjQQMMi"
      },
      "execution_count": null,
      "outputs": []
    },
    {
      "cell_type": "code",
      "source": [
        "#3) Faça um programa que receba 3 notas por parâmetros, calcule a media e retorne o valor da média para o programa principal. \n",
        "#   Em seguida, verifique se o aluno foi aprovado por média. (Média >= 7)\n",
        "\n",
        "def calcula_media(nota1,nota2,nota3):\n",
        "  media =(nota1+nota2+nota3)/3\n",
        "  return media\n",
        "\n",
        "media = calcula_media(int(input(\"Digite o primeiro número: \")),int(input(\"Digite o segundo número: \")),int(input(\"Digite o terceiro número: \")))\n",
        "\n",
        "if media >= 7:\n",
        "  print(f\"O aluno está aprovado com media {media:.2f}\")\n",
        "else:\n",
        "  print(f\"O aluno está reprovado com media {media:.2f}\")"
      ],
      "metadata": {
        "id": "GpoYhDAKQ8tT"
      },
      "execution_count": null,
      "outputs": []
    },
    {
      "cell_type": "code",
      "source": [
        "#4 Faça uma função que recebe, por parâmetro, a altura (alt) e o sexo de uma pessoa e retorna o seu peso ideal. \n",
        "#  Para homens, calcular o peso ideal usando a fórmula peso ideal = 72.7 x alt - 58 e, para mulheres, peso ideal = 62.1 x alt - 44.7.\n",
        "\n",
        "def peso_ideal(alt,sexo):\n",
        "  if sexo[0].lower() == \"h\":\n",
        "     print(f\"O seu peso ideal é {72.7*alt-58:.1f}\")\n",
        "  else:\n",
        "    print(f\"O seu peso ideal é {62.1*alt-44.7:.1f}\")\n",
        "\n",
        "peso_ideal(float(input(\"Digite sua altura: \")),input(\"Seu sexo: \"))"
      ],
      "metadata": {
        "id": "l3sBkD6USJpg"
      },
      "execution_count": null,
      "outputs": []
    },
    {
      "cell_type": "code",
      "source": [
        "# 5 \n",
        "def leia_numero(n):\n",
        "  for i in range(1,n+1):\n",
        "    c = str(i)\n",
        "    print( i*f'{c}')\n",
        "\n",
        "leia_numero(5)\n",
        "\n",
        "# def imprime_sequencia(n):\n",
        "#   for i in range(1, n + 1):\n",
        "#     for j in range(i):\n",
        "#       print(i, end=' ')\n",
        "#     print('')\n",
        "\n",
        "# n = int(input('Digite um número: '))\n",
        "# imprime_sequencia(n)"
      ],
      "metadata": {
        "id": "DMtepPTnTdyZ"
      },
      "execution_count": null,
      "outputs": []
    },
    {
      "cell_type": "code",
      "source": [
        "#6 1 1 2 1 2 3 1 2 3 4 1 2 3 4 5 \n",
        "\n",
        "def leia_num(n):\n",
        "  a = '1'\n",
        "  for i in range(1,n+1):\n",
        "    c = str(i)\n",
        "    if i == 1:\n",
        "      print(f\"{c}{c}\", end = ' ')\n",
        "    else:  \n",
        "      print( f\" {a}{c} \",end =' ')\n",
        "      a = a + c\n",
        "\n",
        "leia_num(5)\n",
        "\n",
        "\n",
        "# def imprime_sequencia(n):\n",
        "#   for i in range(1, n + 1):\n",
        "#     for j in range(1, i+1):\n",
        "#       print(j, end=' ')\n",
        "#     print('')\n",
        "\n",
        "# n = int(input('Digite um número: '))\n",
        "# imprime_sequencia(n)"
      ],
      "metadata": {
        "id": "j5ViMc3tVrdz"
      },
      "execution_count": null,
      "outputs": []
    },
    {
      "cell_type": "code",
      "source": [
        "#7 \n",
        "\n",
        "def valor_pagamento():\n",
        "  quant = 0\n",
        "  sum_prestacao = 0\n",
        "  while True:\n",
        "    valor = float(input(\"Qual é o valor da prestação [0 PARA!]: \"))\n",
        "    if valor == 0:\n",
        "      break\n",
        "    else:\n",
        "      pass\n",
        "    quant += 1\n",
        "    dias = int(input(\"Quantos dias está em atraso: \"))\n",
        "    if dias == 0:\n",
        "      valor_total = valor\n",
        "      sum_prestacao += valor\n",
        "      print(f\"Você irá pagar R$ {valor:.2f}\")\n",
        "    else:\n",
        "      juros = 0.001*dias + 1.03\n",
        "      valor_total = juros*valor\n",
        "      sum_prestacao += valor_total\n",
        "      print(f\"Você irá pagar R$ {valor_total:.2f}\")\n",
        "\n",
        "  print(f\"Relatório do dia:\\n{quant} parcelas pagas\\nUm total de {sum_prestacao:.2f}\")\n",
        "\n",
        "valor_pagamento()"
      ],
      "metadata": {
        "id": "v_TlrmVrZSSt"
      },
      "execution_count": null,
      "outputs": []
    },
    {
      "cell_type": "code",
      "source": [
        "# PARTE 2\n",
        "\n",
        "# 1) As maçãs custam R 0,30cada se forem compradas menos do que uma dúzia,e R 0,25 se forem compradas pelo menos doze.\n",
        "# Escreva um programa que leia o número de maçãs compradas, calcule e escreva o valor total da compra.\n",
        "\n",
        "def calcula_preco(quant):\n",
        "  if quant >= 12:\n",
        "    return f'Valor total = R${quant*0.25}'\n",
        "  else:\n",
        "    return f'Valor total = R${quant*0.3}'\n",
        "\n",
        "while True:\n",
        "  quant = int(input(\"Quantidade de maças compradas [Inteiro e maior que 1]: \"))\n",
        "  if quant >= 1:\n",
        "    break\n",
        "  \n",
        "\n",
        "preco = calcula_preco(quant)\n",
        "print(preco)"
      ],
      "metadata": {
        "id": "_FvkeU7VniDt"
      },
      "execution_count": null,
      "outputs": []
    },
    {
      "cell_type": "code",
      "source": [
        "#2) Escreva um programa para ler 3 valores inteiros (considere que não serão lidos valores iguais) e escrevê-los em ordem crescente.\n",
        "list_num = []\n",
        "for i in range(1,4):\n",
        "  num = int(input(f\"Digite o {i} número: \"))\n",
        "  list_num.append(num)\n",
        "\n",
        "list_num.sort()\n",
        "print(\"Os números digitados em ordem crescente são:\")\n",
        "for x in list_num:\n",
        "  print(x, end =\" \")"
      ],
      "metadata": {
        "id": "pr2l2QY_qL-n"
      },
      "execution_count": null,
      "outputs": []
    },
    {
      "cell_type": "code",
      "source": [
        "#3) Escreva um programa para ler 20 valores inteiros e escrever o maior deles. \n",
        "#   Considere que o usuário não informará valores iguais.\n",
        "\n",
        "lista = []\n",
        "for i in range(5):\n",
        "  num = int(input(f\"Digite o {i+1}º valor: \"))\n",
        "  lista.append(num)\n",
        "  if i == 0:\n",
        "    maior = lista[i]\n",
        "  elif lista[i] > maior:\n",
        "    maior = lista[i]\n",
        "\n",
        "print(f\"Foram digitados os seguintes números: {lista}\\nO maior valor lido foi {maior}\")"
      ],
      "metadata": {
        "id": "UuikpKS6rT6v"
      },
      "execution_count": null,
      "outputs": []
    },
    {
      "cell_type": "code",
      "source": [
        "#4)Faça um programa que peça ao usuário um número entre 12 e 20. Se a pessoa digitar um número diferente, mostrar a mensagem \"entrada inválida\" e solicitar o número novamente.\n",
        "#  Se digitar correto mostrar o número digitado.\n",
        "\n",
        "while True:\n",
        "  n = int(input(\"Digite um número no intervalo [12:20]: \"))\n",
        "  if n<12 or n>20:\n",
        "    n = int(input(\"ENTRADA INVÁLIDA!Digite um número no intervalo [12:20]: \"))\n",
        "  else:\n",
        "    print(f\"O número digitado foi {n}\")\n",
        "    break\n"
      ],
      "metadata": {
        "id": "H2ePytJ4spau"
      },
      "execution_count": null,
      "outputs": []
    },
    {
      "cell_type": "code",
      "source": [
        "#5)Crie um programa que leia um número do teclado até que encontre um número igual a zero. No final, mostre a soma dos números digitados\n",
        "soma = 0\n",
        "while True:\n",
        "  n = float(input(\"Digite um número [0 para!]: \"))\n",
        "  soma += n\n",
        "  if n == 0:\n",
        "    print(f\"A soma dos números digitados foi {soma}\")\n",
        "    break"
      ],
      "metadata": {
        "id": "WtZKZ6OQvuc_"
      },
      "execution_count": null,
      "outputs": []
    },
    {
      "cell_type": "code",
      "source": [
        "#6) Faça um programa que receba dois números inteiros e gere os números inteiros que estão no intervalo compreendido por eles.\n",
        "lista = []\n",
        "\n",
        "for i in range(2):\n",
        "  n = int(input(f\"Digite o {i+1}º número: \"))\n",
        "  lista.append(n)\n",
        "\n",
        "print(f\"Os números que estão no intervalo {lista[0]},{lista[1]} são:\")\n",
        "for num in range(lista[0]+1,lista[1]):\n",
        "  print(num, end=' ')"
      ],
      "metadata": {
        "id": "DiGJ2rXWwS9J"
      },
      "execution_count": null,
      "outputs": []
    },
    {
      "cell_type": "code",
      "source": [
        "#7) ) Foi feita uma pesquisa entre os habitantes de uma região. Foram coletados os dados de idade, sexo (M/F) e salário. \n",
        "# Faça um programa que calcule e mostre:\n",
        "#       a) A média dos salários do grupo; b) A maior e a menor idade do grupo; \n",
        "#  c) A quantidade de mulheres na região; d) A idade e o sexo da pessoa que possui o menor salário;\n",
        "#      Finalize a entrada de dados ao ser digitada uma idade negativa.\n",
        "soma = quant_mulheres =  0\n",
        "i = 0\n",
        "salarios = []\n",
        "idades = []\n",
        "sexos = []\n",
        "\n",
        "while True:\n",
        "  idade = int(input(f\"Idade da {i+1}ª pessoa ou [NEGATIVO] pra sair: \"))\n",
        "  if idade < 0:\n",
        "    break\n",
        "  idades.append(idade)\n",
        "  if i == 0:\n",
        "    maior_idade = idades[i]\n",
        "    menor_idade = idades[i]\n",
        "  elif idades[i] > maior_idade:\n",
        "    maior_idade = idades[i]\n",
        "  elif idades[i] < menor_idade:\n",
        "    menor_idade = idades[i]\n",
        "  sexo = input(f\"Sexo da {i+1}ª pessoa [Masculino/Feminino]: \")\n",
        "  sexos.append(sexo)\n",
        "  if sexo.lower() == \"feminino\":\n",
        "      quant_mulheres += 1\n",
        "  salario = int(input(f\"Salario da {i+1}ª pessoa: \"))\n",
        "  salarios.append(salario)\n",
        "  if i == 0:\n",
        "    menor_salario = salarios[i]\n",
        "    idade_menor = idades[i]\n",
        "    sexo_menor = sexos[i]\n",
        "  elif salarios[i] < menor_salario:\n",
        "    menor_salario = salarios[i]\n",
        "    idade_menor = idades[i]\n",
        "    sexo_menor = sexos[i] \n",
        "\n",
        "  i += 1\n",
        "  print(30*\"-\")\n",
        "\n",
        "print(f\"A média do salário do grupo é R$ {sum(salarios)/len(salarios):.2f}\")\n",
        "print(f\"A maior idade do grupo é {maior_idade} anos e a menor é {menor_idade} anos\")\n",
        "print(f\"Nessa região tem {quant_mulheres} mulheres\")\n",
        "print(f\"A pessoa com o menor salário de R$ {menor_salario} tem {idade_menor} anos e é do sexo {sexo_menor}\")"
      ],
      "metadata": {
        "id": "KZD4DkQhxdbh"
      },
      "execution_count": null,
      "outputs": []
    },
    {
      "cell_type": "code",
      "source": [
        "#8) Faça um programa que peça para n pessoas a sua idade, \n",
        "# ao final o programa deverá verificar se a média de idade da turma varia entre 0 e 25,26 e 60 e maior que 60;\n",
        "# e então, dizer se a turma é jovem, adulta ou idosa, conforme a média calculada\n",
        "\n",
        "i = 1\n",
        "quant= soma = 0\n",
        "while True:\n",
        "  idade = int(input(f\"Digite a idade da {i}ª pessoa [ou 0 para parar]: \"))\n",
        "  if idade == 0:\n",
        "    break\n",
        "  soma += idade\n",
        "  quant += 1\n",
        "  i += 1\n",
        "media = soma/quant\n",
        "if media > 60:\n",
        "  print(f\"A turma tem uma média de {media} anos e é idosa\")\n",
        "elif 26 <= media <= 60:\n",
        "  print(f\"A turma tem uma média de {media} anos e é adulta\")\n",
        "elif media <= 25:\n",
        "  print(f\"A turma tem uma média de {media} anos e é jovem\")\n",
        "\n"
      ],
      "metadata": {
        "id": "1xRPTx770Yfn"
      },
      "execution_count": null,
      "outputs": []
    },
    {
      "cell_type": "code",
      "source": [
        "#9)Faça um Programa que leia uma lista de 10 caracteres, e diga quantas consoantes foram lidas. Imprima as consoantes.\n",
        "#\"b,c,d,f,g,h,j,k,l,m,n,p,q,r,s,t,v,x,y,w,z\"\n",
        "\n",
        "lista = []\n",
        "lista_consoantes = [\"b\",\"c\",\"d\",\"f\",\"g\",\"h\",\"j\",\"k\",\"l\",\"m\",\"n\",\"p\",\"q\",\"r\",\"s\",\"t\",\"v\",\"x\",\"y\",\"w\",\"z\"]\n",
        "quant = 0\n",
        "for i in range(10):\n",
        "  carac = input(f\"Digite o {i+1}º caracter: \")\n",
        "  lista.append(carac)\n",
        "  if carac.lower() in lista_consoantes: \n",
        "    quant += 1\n",
        "\n",
        "print(f\"Foram lidas {quant} consoantes que foram: \")\n",
        "\n",
        "for c in lista:\n",
        "  if c in lista_consoantes:\n",
        "    print(c,end=\" \")"
      ],
      "metadata": {
        "id": "HDxo3g7q5Ufe"
      },
      "execution_count": null,
      "outputs": []
    },
    {
      "cell_type": "code",
      "source": [
        "#10) Faça um Programa que leia duas listas com 10 elementos cada. \n",
        "# Gere um terceiro lista de 20 elementos, cujos valores deverão ser compostos pelos elementos intercalados das duas outras listas.\n",
        "\n",
        "lista1 = []\n",
        "lista2 = [] \n",
        "lista3 = []\n",
        "for j in range(1,3):\n",
        "  for i in range(1,11):\n",
        "    element = input(f\"Digite o {i}º elemento da lista {j}: \")\n",
        "    if j == 1:\n",
        "      lista1.append(element)\n",
        "    elif j == 2:\n",
        "      lista2.append(element)\n",
        "  j += 1\n",
        "\n",
        "for k in range(10):\n",
        "  lista3.append(lista1[k])\n",
        "  lista3.append(lista2[k])\n",
        "\n",
        "\n",
        "\n",
        "print(lista1)\n",
        "print(lista2)\n",
        "print(lista3)"
      ],
      "metadata": {
        "id": "URcoRhBJ7uQG"
      },
      "execution_count": null,
      "outputs": []
    }
  ]
}