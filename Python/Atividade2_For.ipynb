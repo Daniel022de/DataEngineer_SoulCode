{
  "nbformat": 4,
  "nbformat_minor": 0,
  "metadata": {
    "colab": {
      "provenance": [],
      "authorship_tag": "ABX9TyPwnmK8BkKW3Lam/akhhDE3",
      "include_colab_link": true
    },
    "kernelspec": {
      "name": "python3",
      "display_name": "Python 3"
    },
    "language_info": {
      "name": "python"
    }
  },
  "cells": [
    {
      "cell_type": "markdown",
      "metadata": {
        "id": "view-in-github",
        "colab_type": "text"
      },
      "source": [
        "<a href=\"https://colab.research.google.com/github/Daniel022de/Bootcamp_SoulCode_EngenhariaDados/blob/main/Python/Atividade2_For.ipynb\" target=\"_parent\"><img src=\"https://colab.research.google.com/assets/colab-badge.svg\" alt=\"Open In Colab\"/></a>"
      ]
    },
    {
      "cell_type": "code",
      "execution_count": null,
      "metadata": {
        "id": "5OhyvvsZgDZB"
      },
      "outputs": [],
      "source": [
        "#1 Escreva um programa que mostre todos os números entre 5 e 100 que são divisíveis por 7, mas não são múltiplos de 5.\n",
        " #Os números obtidos devem ser impressos em sequência.\n",
        "\n",
        "for i in range(5,101):\n",
        "  if i % 7 == 0 and i % 5 != 0:\n",
        "    print(i, end = ' ')"
      ]
    },
    {
      "cell_type": "code",
      "source": [
        "#2 Crie um programa que leia 20 números e informe na tela o maior e o menor número lido.\n",
        "\n",
        "for i in range(20):\n",
        "  n = float(input(f\"Digite o {i+1}º número: \"))\n",
        "  if i == 0:\n",
        "    maior = n\n",
        "    menor = n\n",
        "  elif n > maior:\n",
        "    maior = n\n",
        "  elif n < menor:\n",
        "    menor = n\n",
        "\n",
        "print(f\"O maior número lido foi {maior} e o menor foi {menor}\")"
      ],
      "metadata": {
        "id": "PK-MM1Hkg0Zc"
      },
      "execution_count": null,
      "outputs": []
    },
    {
      "cell_type": "code",
      "source": [
        "#3 Escreva um programa em python que gera números entre 1000 e 1999 e mostra aqueles que\n",
        "#divididos por 11 dão resto 5.\n",
        "\n",
        "for i in range(1000,2000):\n",
        "  if i % 11 == 5:\n",
        "    print(i, end = ' ')"
      ],
      "metadata": {
        "id": "VkypvyYfh2Op"
      },
      "execution_count": null,
      "outputs": []
    },
    {
      "cell_type": "code",
      "source": [
        "#4 Digitados dois números (base e expoente ), calcule o resultado  da potência utilizando apenas operadores básicos\n",
        "#da matemática(soma, subtração, multiplicação ou divisão) e o comando FOR\n",
        "\n",
        "b = int(input(\"Digite uma base para potência: \"))\n",
        "e = int(input(\"Digite um expoente para potência: \"))\n",
        "res = 1\n",
        "for i in range(e):\n",
        "  res *= b\n",
        "\n",
        "print(f\" {b}^{e} = {res}\")"
      ],
      "metadata": {
        "id": "ZX-DLF5ziTqS"
      },
      "execution_count": null,
      "outputs": []
    },
    {
      "cell_type": "code",
      "source": [
        "#5  Faça um programa que receba um número positivo digitado pelo usuário e calcule a soma de todos os números\n",
        "# de 1 até ao número digitado. Por exemplo, se o usuário inseriu 4, a saída deve ser 10 (1+2+3+4=10)\n",
        "while True:\n",
        "  n = int(input(\"Digite um número [POSITIVO]: \"))\n",
        "  if n > 0:\n",
        "    break\n",
        "sum = n\n",
        "print(\"(\",end='')\n",
        "for i in range(1,n):\n",
        "  if i == n-1:\n",
        "    print(f\"{i}\",end='')\n",
        "  else:\n",
        "    print(f\"{i}\",end='+')\n",
        "  sum += i\n",
        "\n",
        "print(f'+{n})= {sum}')"
      ],
      "metadata": {
        "id": "zr7q7vUijoHH",
        "colab": {
          "base_uri": "https://localhost:8080/"
        },
        "outputId": "f7e5091f-4021-4c2c-f6c9-ae52b5a47d73"
      },
      "execution_count": null,
      "outputs": [
        {
          "output_type": "stream",
          "name": "stdout",
          "text": [
            "Digite um número [POSITIVO]: 5\n",
            "(1+2+3+4+5)= 15\n"
          ]
        }
      ]
    },
    {
      "cell_type": "code",
      "source": [
        "#6 Faça um programa que leia 10 números inteiros positivos e mostre, no final, a soma dos\n",
        "# números pares e a soma dos números ímpares.\n",
        "sum_par = sum_imp = 0\n",
        "for i in range(1,11):\n",
        "  while True:\n",
        "    n = int(input(f\"Digite o {i}º número [POSITIVO]:  \"))\n",
        "    if n > 0:\n",
        "      break\n",
        "  if n % 2 == 0:\n",
        "    sum_par += n\n",
        "  else:\n",
        "    sum_imp += n\n",
        "\n",
        "print(f\"A soma dos números pares é = {sum_par}\\nA soma dos números ímpares é = {sum_imp}\")"
      ],
      "metadata": {
        "id": "85N9emGGlbAG"
      },
      "execution_count": null,
      "outputs": []
    },
    {
      "cell_type": "code",
      "source": [
        "#7 Dado um número n inteiro e positivo, dizemos que n é perfeito se n for igual à soma de\n",
        "# seus divisores positivos diferentes de n. Construa um programa em python que verifica se um\n",
        "# dado número é perfeito. Ex: 6 é perfeito, pois 1+2+3 = 6\n",
        "while True:\n",
        "  n = int(input(\"Digite um número [INTEIRO POSITVO]: \"))\n",
        "  if n > 0:\n",
        "    break\n",
        "sum=0\n",
        "for i in range(1,n):\n",
        "  if n % i == 0:\n",
        "    sum += i\n",
        "\n",
        "if n == sum:\n",
        "  print(f\"{n} é um número perfeito\")\n",
        "else:\n",
        "  print(f\"{n} NÃO É um número perfeito\")"
      ],
      "metadata": {
        "id": "-ljjJMP7ms4k"
      },
      "execution_count": null,
      "outputs": []
    },
    {
      "cell_type": "code",
      "source": [
        "#8 Escreva um programa que leia um valor correspondente ao número de jogadores de um time de vôlei.\n",
        "# O programa deverá ler uma altura para cada um dos jogadores e, ao final, informar a altura média do time.\n",
        "while True:\n",
        "  quant = int(input(\"Quantos jogadores tem esse time de vôlei? \"))\n",
        "  if quant > 0:\n",
        "    break\n",
        "sum_alt = 0\n",
        "for i in range(quant):\n",
        "  alt = float(input(f\"Altura do {i+1}º jogador: \"))\n",
        "  while alt <= 0 or alt >= 3:\n",
        "    alt = float(input(f\"ALTURA INVÁLIDA! Altura do {i+1}º jogador: \"))\n",
        "  sum_alt += alt\n",
        "\n",
        "print(f\"A altura média do time é = {sum_alt/quant:.2f}\") "
      ],
      "metadata": {
        "id": "Iky_4dQrnpBS"
      },
      "execution_count": null,
      "outputs": []
    },
    {
      "cell_type": "code",
      "source": [
        "#9 Escreva um programa em Python que leia um número inteiro positivo e diga se o número informado é primo\n",
        "n = int(input(\"Digite um número inteiro [POSITIVO]: \"))\n",
        "while True:\n",
        "  if n > 0:\n",
        "    break\n",
        "  elif n <= 0:\n",
        "    n = int(input(\"NÚMERO INVÁLIDO! Digite um número inteiro [POSITIVO]: \"))\n",
        "  \n",
        "quant_div = 0\n",
        "\n",
        "for i in range(1,n+1):\n",
        "  if n % i == 0:\n",
        "    quant_div += 1\n",
        "\n",
        "if quant_div == 2:\n",
        "  print(f\" {n} é primo\")\n",
        "else:\n",
        "  print(f\" {n} NÃO É primo\")"
      ],
      "metadata": {
        "id": "udBcTcBsos0q"
      },
      "execution_count": null,
      "outputs": []
    },
    {
      "cell_type": "code",
      "source": [
        "# 10 Escreva um algoritmo em python que leia um número N e informe os N primeiros números da sequência de Fibonacci\n",
        "# A sequência é a seguinte: 1 1 2 3 5 8 13 21 34 55 89 …\n",
        "\n",
        "n = int(input(\"Digite um número para printar os N primeiros números da sequência de Fibonacci : \"))\n",
        "print(f\" 1 -> 1\",end = ' -> ')\n",
        "a = 1\n",
        "b = 1\n",
        "c = 2\n",
        "for i in range(2,n):\n",
        "  if i == n-1:\n",
        "    print(f\"{c}\" ,end = '...')\n",
        "  else:\n",
        "    print(f\"{c}\" ,end = ' -> ')\n",
        "  \n",
        "  a = b\n",
        "  b = c\n",
        "  c = a+b"
      ],
      "metadata": {
        "id": "VS0EmMwTqWL3"
      },
      "execution_count": null,
      "outputs": []
    }
  ]
}