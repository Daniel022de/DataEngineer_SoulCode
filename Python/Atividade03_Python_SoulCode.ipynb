{
  "nbformat": 4,
  "nbformat_minor": 0,
  "metadata": {
    "colab": {
      "provenance": [],
      "authorship_tag": "ABX9TyOFYR028ipE99OH4lv5sp6s",
      "include_colab_link": true
    },
    "kernelspec": {
      "name": "python3",
      "display_name": "Python 3"
    },
    "language_info": {
      "name": "python"
    }
  },
  "cells": [
    {
      "cell_type": "markdown",
      "metadata": {
        "id": "view-in-github",
        "colab_type": "text"
      },
      "source": [
        "<a href=\"https://colab.research.google.com/github/Daniel022de/Bootcamp_SoulCode_EngenhariaDados/blob/main/Python/Atividade03_Python_SoulCode.ipynb\" target=\"_parent\"><img src=\"https://colab.research.google.com/assets/colab-badge.svg\" alt=\"Open In Colab\"/></a>"
      ]
    },
    {
      "cell_type": "code",
      "source": [
        "#Questão 1\n",
        "\n",
        "p1 = input(\"Digite uma palavra: \").upper().strip()\n",
        "p2 = input(\"Digite outra: \").upper().strip()\n",
        "\n",
        "if p1 == p2:\n",
        "  print(\"As palavras são iguais\")\n",
        "else:\n",
        "  print(\"As palavras são diferentes\")"
      ],
      "metadata": {
        "id": "gVwUMk4SrN0o"
      },
      "execution_count": null,
      "outputs": []
    },
    {
      "cell_type": "code",
      "source": [
        "#Questão 2 \n",
        "nome = input(\"Digite seu nome completo: \").upper().strip()\n",
        "print(f\"As quatros letras inicias de seu nome são:\\n{nome[:4]}\")\n"
      ],
      "metadata": {
        "id": "IbGyH_gE0NTc"
      },
      "execution_count": null,
      "outputs": []
    },
    {
      "cell_type": "code",
      "source": [
        "#Questão 3\n",
        "nome = input(\"Digite seu nome completo: \").strip()\n",
        "print(f\"Seu nome tem {len(nome.replace(' ',''))} letras\")"
      ],
      "metadata": {
        "id": "sEW7Iogb0tcx"
      },
      "execution_count": null,
      "outputs": []
    },
    {
      "cell_type": "code",
      "source": [
        "#Questão 4\n",
        "fras = input(\"Digite uma frase qualquer: \").lower()\n",
        "\n",
        "if \"cachorro\" in fras:\n",
        "  print(\"Há a palavra 'cachorro' na frase\")\n",
        "else:\n",
        "  print(\"NÃO HÁ a palavra 'cachorro' na frase\")\n",
        "\n"
      ],
      "metadata": {
        "id": "DvHZDXXb1KfV"
      },
      "execution_count": null,
      "outputs": []
    },
    {
      "cell_type": "code",
      "source": [
        "#Questão 5\n",
        "palavr = input(\"Digite uma palavra qualquer: \") \n",
        "\n",
        "palavr[-1:-7:-1]"
      ],
      "metadata": {
        "id": "c42wJSua1tF2"
      },
      "execution_count": null,
      "outputs": []
    },
    {
      "cell_type": "code",
      "source": [
        "#Questão 6\n",
        "num = input(\"Digite um número binário: \")\n",
        "print(f\"O número binário tem {num.count('1')} 1's digitados \")"
      ],
      "metadata": {
        "id": "Jism-7Se2ide"
      },
      "execution_count": null,
      "outputs": []
    },
    {
      "cell_type": "code",
      "source": [
        "#Questão 7\n",
        "num = input(\"Digite um número que tenha ZERO(0): \")\n",
        "num1 = num.replace('0','1')\n",
        "print(f\"O número digitado foi {num}\\nSubstituindo os 0's por 1's temos {num1} \")"
      ],
      "metadata": {
        "id": "HsUXPVNe3RnO"
      },
      "execution_count": null,
      "outputs": []
    },
    {
      "cell_type": "code",
      "source": [
        "#Questão 8\n",
        "fras = input(\"Digite uma string qualquer: \").upper()\n",
        "l1 = input(\"Qual letra você deseja substituir? \").upper()\n",
        "l2 = input(\"Substituir por qual letra? \").upper()\n",
        "fras2 = fras.replace(l1,l2)\n",
        "print(f\"Foi digitado {fras}\\nSubstituindo '{l1}' por '{l2}' temos {fras2} \")"
      ],
      "metadata": {
        "id": "_isy3eS84BL0"
      },
      "execution_count": null,
      "outputs": []
    },
    {
      "cell_type": "code",
      "source": [
        "#Questão 9\n",
        "fras = input(\"Digite uma frase qualquer: \").upper()\n",
        "fras2 = input(\"Digite outra frase: \").upper()\n",
        "\n",
        "print(f\"A frase digitada foi {fras}\\nRealizando a transformação temos {fras[::-1].replace('A','*')}\")\n",
        "print(f\"A frase digitada foi {fras2}\\nRealizando a transformação temos  {fras2[::-1].replace('A','*')}\")"
      ],
      "metadata": {
        "id": "cJoSKaSK40RH"
      },
      "execution_count": null,
      "outputs": []
    }
  ]
}