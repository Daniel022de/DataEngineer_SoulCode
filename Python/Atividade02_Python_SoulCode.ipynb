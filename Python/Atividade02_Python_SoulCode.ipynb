{
  "nbformat": 4,
  "nbformat_minor": 0,
  "metadata": {
    "colab": {
      "provenance": [],
      "authorship_tag": "ABX9TyOkDPGOZ7graLdXy9rKskoh",
      "include_colab_link": true
    },
    "kernelspec": {
      "name": "python3",
      "display_name": "Python 3"
    },
    "language_info": {
      "name": "python"
    }
  },
  "cells": [
    {
      "cell_type": "markdown",
      "metadata": {
        "id": "view-in-github",
        "colab_type": "text"
      },
      "source": [
        "<a href=\"https://colab.research.google.com/github/Daniel022de/Bootcamp_SoulCode_EngenhariaDados/blob/main/Python/Atividade02_Python_SoulCode.ipynb\" target=\"_parent\"><img src=\"https://colab.research.google.com/assets/colab-badge.svg\" alt=\"Open In Colab\"/></a>"
      ]
    },
    {
      "cell_type": "code",
      "execution_count": null,
      "metadata": {
        "id": "M8-KT9sWLuKz"
      },
      "outputs": [],
      "source": [
        "#Questão 0\n",
        "\n",
        "n = int(input(\"Digite um número inteiro: \"))\n",
        "\n",
        "if n > 0:\n",
        "  print(f'{n} é positivo')\n",
        "elif n < 0:\n",
        "  print(f'{n} é negativo')\n",
        "else:\n",
        "  print(f'{n} é igual a zero')"
      ]
    },
    {
      "cell_type": "code",
      "source": [
        "# Questão 1\n",
        "\n",
        "a = int(input(\"Digite um número inteiro: \"))\n",
        "b = int(input(\"Digite um outro número inteiro: \"))\n",
        "print(f\"Número digitados A = {a} e B = {b}\")\n",
        "c = b\n",
        "b = a\n",
        "a = c\n",
        "\n",
        "print(f'Números invertidos A = {a} e B = {b}')\n",
        "\n"
      ],
      "metadata": {
        "id": "15GKeQJCZODW"
      },
      "execution_count": null,
      "outputs": []
    },
    {
      "cell_type": "code",
      "source": [
        "# Questão 2\n",
        "\n",
        "nota1 = float(input(\"Digite sua primeira nota: \"))\n",
        "nota2 = float(input(\"Digite sua segunda nota: \"))\n",
        "med = (nota1+nota2)/2\n",
        "\n",
        "if med >= 7:\n",
        "  print(f\"O aluno está aprovado com média {med:.2f}\")\n",
        "else:\n",
        "  print(f\"O aluno está de recuperação com média {med:.2f}\")"
      ],
      "metadata": {
        "id": "5TIrRPo6ak3L"
      },
      "execution_count": null,
      "outputs": []
    },
    {
      "cell_type": "code",
      "source": [
        "#Questão 3\n",
        "\n",
        "nota1 = float(input(\"Digite sua primeira nota: \"))\n",
        "nota2 = float(input(\"Digite sua segunda nota: \"))\n",
        "med = (nota1+nota2)/2\n",
        "\n",
        "if 9 < med <= 10:\n",
        "  conceito = \"A\"\n",
        "elif 7.5 < med <= 9:\n",
        "  conceito = \"B\"\n",
        "elif 6 < med <= 7.5:\n",
        "  conceito = \"C\"\n",
        "elif 4 < med <= 6:\n",
        "  conceito = \"D\"\n",
        "elif med  <= 4:\n",
        "  conceito = \"E\"\n",
        "\n",
        "print(f\"NOTAS -> {nota1:.2f} e {nota2:.2f} \")\n",
        "print(f\"MÉDIA -> {med}\")\n",
        "print(f\"CONCEITO -> {conceito}\")\n",
        "\n",
        "if conceito in \"ABC\":\n",
        "  print(\"APROVADO\")\n",
        "else:\n",
        "  print(\"REPROVADO\")\n"
      ],
      "metadata": {
        "id": "zCsra516bzYa"
      },
      "execution_count": null,
      "outputs": []
    },
    {
      "cell_type": "code",
      "source": [
        "# Questão 4\n",
        "\n",
        "maior = 0\n",
        "for i in range(1,5):\n",
        "  n = int(input(f\"Digite o {i}º número inteiro: \"))\n",
        "  if i == 1 or n > maior:\n",
        "    maior = n\n",
        "\n",
        "print(f\"O maior número digitado foi {maior}\")\n",
        "  \n",
        "  #Segunda solução\n",
        "'''  n1 = int(input(\"Digite um número: \"))\n",
        "n2 = int(input(\"Digite um número: \"))\n",
        "n3 = int(input(\"Digite um número: \"))\n",
        "n4 = int(input(\"Digite um número: \"))\n",
        "\n",
        "maior = n1\n",
        "\n",
        "if n2 > maior:\n",
        "  maior = n2\n",
        "if n3 > maior:\n",
        "  maior = n3\n",
        "   ... '''"
      ],
      "metadata": {
        "id": "NJb-aeD9eM_h"
      },
      "execution_count": null,
      "outputs": []
    },
    {
      "cell_type": "code",
      "source": [
        "#Questão 5\n",
        "\n",
        "print(\"Olá, seja bem vindo!\")\n",
        "t = input(\"Em que turno você estuda? M-matutino ou V-Vespertino ou N- Noturno:  \")\n",
        "\n",
        "if t in \"Mm\":\n",
        "  print(\"BOM DIA :D\")\n",
        "elif t in \"Vv\":\n",
        "  print(\"BOA TARDE :D\")\n",
        "elif t in \"Nn\":\n",
        "  print(\"BOA NOITE :D\")\n",
        "else:\n",
        "  print(\"Valor inválido\")"
      ],
      "metadata": {
        "id": "v4BzZpREgKYi"
      },
      "execution_count": null,
      "outputs": []
    },
    {
      "cell_type": "code",
      "source": [
        "# Questão 6\n",
        "\n",
        "a = int(input(\"Digite o ANO: \"))\n",
        "\n",
        "if a % 4 == 0 and a % 100 != 0 or a % 400 == 0:\n",
        "  print(\"O ano é BISSEXTO!\")\n",
        "else:\n",
        "  print(\"O ano NÃO É bissexto!\")"
      ],
      "metadata": {
        "id": "tKzYYItZhbtA"
      },
      "execution_count": null,
      "outputs": []
    },
    {
      "cell_type": "code",
      "source": [
        "# Questão 7\n",
        "\n",
        "t = input(\"Digite o tipo de combustível. A -> Alcool ou G -> Gasolina: \")\n",
        "l = float(input(\"Quantos litros? \"))\n",
        "s = \"GASOLINA\"\n",
        "if t == \"A\":\n",
        "  preco = l*3.9\n",
        "  s = \"ALCOOL\"\n",
        "  if l <= 20:\n",
        "    desconto = 1 - (3/100)\n",
        "    valor_final = preco * desconto\n",
        "  else:\n",
        "    desconto = 1 - (5/100)\n",
        "    valor_final = preco * desconto\n",
        "elif t == \"G\":\n",
        "  preco = l*5.5\n",
        "  if l <= 20:\n",
        "    desconto = 1 - (4/100)\n",
        "    valor_final = preco * desconto\n",
        "  else:\n",
        "    desconto = 1- (6/100)\n",
        "    valor_final = preco * desconto\n",
        "else:\n",
        "  print(\"Opção inexistente\")\n",
        "\n",
        "print(f\"Você comprou {l} litros de {s}. O Preço foi R${preco:.2f} e o valor final com desconto é R${valor_final:.2f} \")"
      ],
      "metadata": {
        "id": "vdOVNRZ8iVvy"
      },
      "execution_count": null,
      "outputs": []
    }
  ]
}