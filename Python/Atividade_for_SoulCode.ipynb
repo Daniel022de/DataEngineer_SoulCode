{
  "nbformat": 4,
  "nbformat_minor": 0,
  "metadata": {
    "colab": {
      "provenance": [],
      "authorship_tag": "ABX9TyNTyV2NpGM6zMdgPasokuF4",
      "include_colab_link": true
    },
    "kernelspec": {
      "name": "python3",
      "display_name": "Python 3"
    },
    "language_info": {
      "name": "python"
    }
  },
  "cells": [
    {
      "cell_type": "markdown",
      "metadata": {
        "id": "view-in-github",
        "colab_type": "text"
      },
      "source": [
        "<a href=\"https://colab.research.google.com/github/Daniel022de/Bootcamp_SoulCode_EngenhariaDados/blob/main/Python/Atividade_for_SoulCode.ipynb\" target=\"_parent\"><img src=\"https://colab.research.google.com/assets/colab-badge.svg\" alt=\"Open In Colab\"/></a>"
      ]
    },
    {
      "cell_type": "code",
      "execution_count": null,
      "metadata": {
        "id": "exJ7xdmmlwne"
      },
      "outputs": [],
      "source": [
        "#1\n",
        "\n",
        "for i in range(250,119,-1):\n",
        "  print(i, end = ' ')"
      ]
    },
    {
      "cell_type": "code",
      "source": [
        "#2\n",
        "for i in range(1000,1501):\n",
        "  print(i, end = ' ')"
      ],
      "metadata": {
        "id": "G9qtIM1Cr05x"
      },
      "execution_count": null,
      "outputs": []
    },
    {
      "cell_type": "code",
      "source": [
        "#3\n",
        "for i in range(150,1001,3):\n",
        "  #if i % 3 == 0:\n",
        "  print(i, end = ' ')\n"
      ],
      "metadata": {
        "id": "bBeI_5gWr7eX"
      },
      "execution_count": null,
      "outputs": []
    },
    {
      "cell_type": "code",
      "source": [
        "#4\n",
        "while True:\n",
        "  N = int(input(\"Digite um número N [Maior que 10]: \"))\n",
        "  if N > 10:\n",
        "    break\n",
        "for i in range(10,N+1):\n",
        "  if i % 4 == 0:\n",
        "    print(i, end = ' ')\n",
        "\n",
        "if N == 11:\n",
        "  print(f\"No intervalo [10:{N}] não existem números múltiplos de 3!\")\n",
        "\n",
        "  "
      ],
      "metadata": {
        "id": "GnFuHHA8wuNH"
      },
      "execution_count": null,
      "outputs": []
    },
    {
      "cell_type": "code",
      "source": [
        "#3\n",
        "i = 1\n",
        "sum1 = sum2 = sum3 = sum4 = sum5 = sum6 = sum7 = sum8 = sum9 = sum10= 0\n",
        "print('-'*50)\n",
        "print(f\"               SISTEMA DE NOTAS              \")\n",
        "print('-'*50)\n",
        "while i <= 10:\n",
        "  for nota in range (1,3):\n",
        "    n = float(input(f\"Digite a {nota}ª NOTA do ALUNO {i}: \"))\n",
        "    if i == 1:\n",
        "      sum1 += n\n",
        "    elif i == 2:\n",
        "      sum2 += n\n",
        "    elif i == 3:\n",
        "      sum3 += n\n",
        "    elif i == 4:\n",
        "      sum4 += n\n",
        "    elif i == 5:\n",
        "      sum5 += n\n",
        "    elif i == 6:\n",
        "      sum6 += n\n",
        "    elif i == 7:\n",
        "      sum7 += n\n",
        "    elif i == 8:\n",
        "      sum8 += n\n",
        "    elif i == 9:\n",
        "      sum9 += n\n",
        "    else:\n",
        "      sum10 += n\n",
        "  print('-'*50)\n",
        "  i += 1\n",
        "  nota = 0\n",
        "\n",
        "print(f\" MÉDIA DOS ALUNOS:\\nALUNO 1 = {sum1/2}\\nALUNO 2 = {sum2/2}\\nALUNO 3 = {sum3/2}\\nALUNO 4 = {sum4/2}\\nALUNO 5 = {sum5/2}\\nALUNO 6 = {sum6/2}\\nALUNO 7 = {sum7/2}\\nALUNO 8 = {sum8/2}\\nALUNO 9 = {sum9/2}\\nALUNO 10= {sum10/2}\")\n",
        "\n",
        "\n"
      ],
      "metadata": {
        "id": "G2EFey4rzcHK"
      },
      "execution_count": null,
      "outputs": []
    },
    {
      "cell_type": "code",
      "source": [
        "#6\n",
        "q = qi = 0\n",
        "for i in range(1,11):\n",
        "  n = int(input(f\"Digite o {i}º número: \"))\n",
        "  if 10 <= n <= 20:\n",
        "    qi += 1\n",
        "  else:\n",
        "    q += 1\n",
        "  \n",
        "print(f\"Foram digitados {qi} números no intervalo [10:20] e {q} fora desse intervalo\")"
      ],
      "metadata": {
        "id": "qt1JI3IizxTN"
      },
      "execution_count": null,
      "outputs": []
    },
    {
      "cell_type": "code",
      "source": [
        "#7\n",
        "q = int(input(\"Quantos números deseja digitar? \"))\n",
        "sum = 0\n",
        "for i in range(1,q+1):\n",
        "  n = float(input(f\"Digite o {i}º número: \"))\n",
        "  sum += n\n",
        "\n",
        "print(f\"A soma dos números digitados foi {sum}\")"
      ],
      "metadata": {
        "id": "HITaOZf60ooS"
      },
      "execution_count": null,
      "outputs": []
    },
    {
      "cell_type": "code",
      "source": [
        "#Q3 - OUTRA FORMA DE FAZER\n",
        "print('-'*50)\n",
        "print(f\"               SISTEMA DE NOTAS              \")\n",
        "print('-'*50)\n",
        "sum = 0\n",
        "for i in range(1,11):\n",
        "  print(f\"ALUNO {i}\")\n",
        "  for nota in range (1,3):\n",
        "    n = float(input(f\"Digite a {nota}ªNOTA do ALUNO: \"))\n",
        "    while n<0 or n>10:\n",
        "      n = float(input(f\"NOTA INVÁLIDA!Digite a {nota}ª NOTA do ALUNO: \"))\n",
        "    sum += n\n",
        "  print(f\"Média = {sum/2} \")\n",
        "  print('-'*50)\n",
        "  nota = 0\n",
        "  sum = 0\n",
        "  \n"
      ],
      "metadata": {
        "id": "8DZBxXev-iDv"
      },
      "execution_count": null,
      "outputs": []
    }
  ]
}